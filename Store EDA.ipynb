{
 "cells": [
  {
   "cell_type": "markdown",
   "id": "251b892c",
   "metadata": {
    "papermill": {
     "duration": 0.009111,
     "end_time": "2024-09-23T22:31:08.664099",
     "exception": false,
     "start_time": "2024-09-23T22:31:08.654988",
     "status": "completed"
    },
    "tags": []
   },
   "source": [
    "-------\n",
    "<h2> Table of Contents </h2>\n",
    "    \n",
    "<ol style= \"color:brown;\n",
    "            font-size:20px;\">\n",
    "    <li> Import Libraries</li>\n",
    "    <li> Read Data</li>\n",
    "    <li> Get some information about the data</li>\n",
    "    <li> Data Cleaning</li>\n",
    "    <li> Data Visualization & Getting Analysis </li>\n",
    "    <li> Insights </li>\n",
    "\n",
    "</ol>\n",
    "\n",
    "\n"
   ]
  },
  {
   "cell_type": "markdown",
   "id": "23c4b4f4",
   "metadata": {
    "papermill": {
     "duration": 0.00797,
     "end_time": "2024-09-23T22:31:08.681141",
     "exception": false,
     "start_time": "2024-09-23T22:31:08.673171",
     "status": "completed"
    },
    "tags": []
   },
   "source": [
    "----\n",
    "## Import Libraries\n"
   ]
  },
  {
   "cell_type": "code",
   "execution_count": 1,
   "id": "ac257b86",
   "metadata": {
    "execution": {
     "iopub.execute_input": "2024-09-23T22:31:08.699845Z",
     "iopub.status.busy": "2024-09-23T22:31:08.699273Z",
     "iopub.status.idle": "2024-09-23T22:31:11.402011Z",
     "shell.execute_reply": "2024-09-23T22:31:11.400819Z"
    },
    "papermill": {
     "duration": 2.71548,
     "end_time": "2024-09-23T22:31:11.404853",
     "exception": false,
     "start_time": "2024-09-23T22:31:08.689373",
     "status": "completed"
    },
    "tags": []
   },
   "outputs": [],
   "source": [
    "import numpy as np\n",
    "import pandas as pd\n",
    "import matplotlib.pyplot as plt\n",
    "import seaborn as sns\n",
    "import plotly.express as px\n",
    "\n",
    "import warnings\n",
    "warnings.filterwarnings('ignore')"
   ]
  },
  {
   "cell_type": "markdown",
   "id": "33a90c57",
   "metadata": {
    "papermill": {
     "duration": 0.008141,
     "end_time": "2024-09-23T22:31:11.421488",
     "exception": false,
     "start_time": "2024-09-23T22:31:11.413347",
     "status": "completed"
    },
    "tags": []
   },
   "source": [
    "-----\n",
    "## Read Data"
   ]
  },
  {
   "cell_type": "code",
   "execution_count": 2,
   "id": "1a7b81e9",
   "metadata": {
    "execution": {
     "iopub.execute_input": "2024-09-23T22:31:11.440818Z",
     "iopub.status.busy": "2024-09-23T22:31:11.439540Z",
     "iopub.status.idle": "2024-09-23T22:31:11.570674Z",
     "shell.execute_reply": "2024-09-23T22:31:11.569369Z"
    },
    "papermill": {
     "duration": 0.1437,
     "end_time": "2024-09-23T22:31:11.573372",
     "exception": false,
     "start_time": "2024-09-23T22:31:11.429672",
     "status": "completed"
    },
    "tags": []
   },
   "outputs": [],
   "source": [
    "df=pd.read_csv('/kaggle/input/sales-forecasting/train.csv')"
   ]
  },
  {
   "cell_type": "markdown",
   "id": "4535a26b",
   "metadata": {
    "papermill": {
     "duration": 0.008226,
     "end_time": "2024-09-23T22:31:11.590047",
     "exception": false,
     "start_time": "2024-09-23T22:31:11.581821",
     "status": "completed"
    },
    "tags": []
   },
   "source": [
    "----\n",
    "## Get some information about the data"
   ]
  },
  {
   "cell_type": "code",
   "execution_count": 3,
   "id": "60720a31",
   "metadata": {
    "execution": {
     "iopub.execute_input": "2024-09-23T22:31:11.608181Z",
     "iopub.status.busy": "2024-09-23T22:31:11.607794Z",
     "iopub.status.idle": "2024-09-23T22:31:11.639956Z",
     "shell.execute_reply": "2024-09-23T22:31:11.638724Z"
    },
    "papermill": {
     "duration": 0.044345,
     "end_time": "2024-09-23T22:31:11.642505",
     "exception": false,
     "start_time": "2024-09-23T22:31:11.598160",
     "status": "completed"
    },
    "tags": []
   },
   "outputs": [
    {
     "data": {
      "text/html": [
       "<div>\n",
       "<style scoped>\n",
       "    .dataframe tbody tr th:only-of-type {\n",
       "        vertical-align: middle;\n",
       "    }\n",
       "\n",
       "    .dataframe tbody tr th {\n",
       "        vertical-align: top;\n",
       "    }\n",
       "\n",
       "    .dataframe thead th {\n",
       "        text-align: right;\n",
       "    }\n",
       "</style>\n",
       "<table border=\"1\" class=\"dataframe\">\n",
       "  <thead>\n",
       "    <tr style=\"text-align: right;\">\n",
       "      <th></th>\n",
       "      <th>Row ID</th>\n",
       "      <th>Order ID</th>\n",
       "      <th>Order Date</th>\n",
       "      <th>Ship Date</th>\n",
       "      <th>Ship Mode</th>\n",
       "      <th>Customer ID</th>\n",
       "      <th>Customer Name</th>\n",
       "      <th>Segment</th>\n",
       "      <th>Country</th>\n",
       "      <th>City</th>\n",
       "      <th>State</th>\n",
       "      <th>Postal Code</th>\n",
       "      <th>Region</th>\n",
       "      <th>Product ID</th>\n",
       "      <th>Category</th>\n",
       "      <th>Sub-Category</th>\n",
       "      <th>Product Name</th>\n",
       "      <th>Sales</th>\n",
       "    </tr>\n",
       "  </thead>\n",
       "  <tbody>\n",
       "    <tr>\n",
       "      <th>0</th>\n",
       "      <td>1</td>\n",
       "      <td>CA-2017-152156</td>\n",
       "      <td>08/11/2017</td>\n",
       "      <td>11/11/2017</td>\n",
       "      <td>Second Class</td>\n",
       "      <td>CG-12520</td>\n",
       "      <td>Claire Gute</td>\n",
       "      <td>Consumer</td>\n",
       "      <td>United States</td>\n",
       "      <td>Henderson</td>\n",
       "      <td>Kentucky</td>\n",
       "      <td>42420.0</td>\n",
       "      <td>South</td>\n",
       "      <td>FUR-BO-10001798</td>\n",
       "      <td>Furniture</td>\n",
       "      <td>Bookcases</td>\n",
       "      <td>Bush Somerset Collection Bookcase</td>\n",
       "      <td>261.9600</td>\n",
       "    </tr>\n",
       "    <tr>\n",
       "      <th>1</th>\n",
       "      <td>2</td>\n",
       "      <td>CA-2017-152156</td>\n",
       "      <td>08/11/2017</td>\n",
       "      <td>11/11/2017</td>\n",
       "      <td>Second Class</td>\n",
       "      <td>CG-12520</td>\n",
       "      <td>Claire Gute</td>\n",
       "      <td>Consumer</td>\n",
       "      <td>United States</td>\n",
       "      <td>Henderson</td>\n",
       "      <td>Kentucky</td>\n",
       "      <td>42420.0</td>\n",
       "      <td>South</td>\n",
       "      <td>FUR-CH-10000454</td>\n",
       "      <td>Furniture</td>\n",
       "      <td>Chairs</td>\n",
       "      <td>Hon Deluxe Fabric Upholstered Stacking Chairs,...</td>\n",
       "      <td>731.9400</td>\n",
       "    </tr>\n",
       "    <tr>\n",
       "      <th>2</th>\n",
       "      <td>3</td>\n",
       "      <td>CA-2017-138688</td>\n",
       "      <td>12/06/2017</td>\n",
       "      <td>16/06/2017</td>\n",
       "      <td>Second Class</td>\n",
       "      <td>DV-13045</td>\n",
       "      <td>Darrin Van Huff</td>\n",
       "      <td>Corporate</td>\n",
       "      <td>United States</td>\n",
       "      <td>Los Angeles</td>\n",
       "      <td>California</td>\n",
       "      <td>90036.0</td>\n",
       "      <td>West</td>\n",
       "      <td>OFF-LA-10000240</td>\n",
       "      <td>Office Supplies</td>\n",
       "      <td>Labels</td>\n",
       "      <td>Self-Adhesive Address Labels for Typewriters b...</td>\n",
       "      <td>14.6200</td>\n",
       "    </tr>\n",
       "    <tr>\n",
       "      <th>3</th>\n",
       "      <td>4</td>\n",
       "      <td>US-2016-108966</td>\n",
       "      <td>11/10/2016</td>\n",
       "      <td>18/10/2016</td>\n",
       "      <td>Standard Class</td>\n",
       "      <td>SO-20335</td>\n",
       "      <td>Sean O'Donnell</td>\n",
       "      <td>Consumer</td>\n",
       "      <td>United States</td>\n",
       "      <td>Fort Lauderdale</td>\n",
       "      <td>Florida</td>\n",
       "      <td>33311.0</td>\n",
       "      <td>South</td>\n",
       "      <td>FUR-TA-10000577</td>\n",
       "      <td>Furniture</td>\n",
       "      <td>Tables</td>\n",
       "      <td>Bretford CR4500 Series Slim Rectangular Table</td>\n",
       "      <td>957.5775</td>\n",
       "    </tr>\n",
       "    <tr>\n",
       "      <th>4</th>\n",
       "      <td>5</td>\n",
       "      <td>US-2016-108966</td>\n",
       "      <td>11/10/2016</td>\n",
       "      <td>18/10/2016</td>\n",
       "      <td>Standard Class</td>\n",
       "      <td>SO-20335</td>\n",
       "      <td>Sean O'Donnell</td>\n",
       "      <td>Consumer</td>\n",
       "      <td>United States</td>\n",
       "      <td>Fort Lauderdale</td>\n",
       "      <td>Florida</td>\n",
       "      <td>33311.0</td>\n",
       "      <td>South</td>\n",
       "      <td>OFF-ST-10000760</td>\n",
       "      <td>Office Supplies</td>\n",
       "      <td>Storage</td>\n",
       "      <td>Eldon Fold 'N Roll Cart System</td>\n",
       "      <td>22.3680</td>\n",
       "    </tr>\n",
       "  </tbody>\n",
       "</table>\n",
       "</div>"
      ],
      "text/plain": [
       "   Row ID        Order ID  Order Date   Ship Date       Ship Mode Customer ID  \\\n",
       "0       1  CA-2017-152156  08/11/2017  11/11/2017    Second Class    CG-12520   \n",
       "1       2  CA-2017-152156  08/11/2017  11/11/2017    Second Class    CG-12520   \n",
       "2       3  CA-2017-138688  12/06/2017  16/06/2017    Second Class    DV-13045   \n",
       "3       4  US-2016-108966  11/10/2016  18/10/2016  Standard Class    SO-20335   \n",
       "4       5  US-2016-108966  11/10/2016  18/10/2016  Standard Class    SO-20335   \n",
       "\n",
       "     Customer Name    Segment        Country             City       State  \\\n",
       "0      Claire Gute   Consumer  United States        Henderson    Kentucky   \n",
       "1      Claire Gute   Consumer  United States        Henderson    Kentucky   \n",
       "2  Darrin Van Huff  Corporate  United States      Los Angeles  California   \n",
       "3   Sean O'Donnell   Consumer  United States  Fort Lauderdale     Florida   \n",
       "4   Sean O'Donnell   Consumer  United States  Fort Lauderdale     Florida   \n",
       "\n",
       "   Postal Code Region       Product ID         Category Sub-Category  \\\n",
       "0      42420.0  South  FUR-BO-10001798        Furniture    Bookcases   \n",
       "1      42420.0  South  FUR-CH-10000454        Furniture       Chairs   \n",
       "2      90036.0   West  OFF-LA-10000240  Office Supplies       Labels   \n",
       "3      33311.0  South  FUR-TA-10000577        Furniture       Tables   \n",
       "4      33311.0  South  OFF-ST-10000760  Office Supplies      Storage   \n",
       "\n",
       "                                        Product Name     Sales  \n",
       "0                  Bush Somerset Collection Bookcase  261.9600  \n",
       "1  Hon Deluxe Fabric Upholstered Stacking Chairs,...  731.9400  \n",
       "2  Self-Adhesive Address Labels for Typewriters b...   14.6200  \n",
       "3      Bretford CR4500 Series Slim Rectangular Table  957.5775  \n",
       "4                     Eldon Fold 'N Roll Cart System   22.3680  "
      ]
     },
     "execution_count": 3,
     "metadata": {},
     "output_type": "execute_result"
    }
   ],
   "source": [
    "df.head()"
   ]
  },
  {
   "cell_type": "code",
   "execution_count": 4,
   "id": "455cee3c",
   "metadata": {
    "execution": {
     "iopub.execute_input": "2024-09-23T22:31:11.661935Z",
     "iopub.status.busy": "2024-09-23T22:31:11.661532Z",
     "iopub.status.idle": "2024-09-23T22:31:11.692908Z",
     "shell.execute_reply": "2024-09-23T22:31:11.691727Z"
    },
    "papermill": {
     "duration": 0.043786,
     "end_time": "2024-09-23T22:31:11.695009",
     "exception": false,
     "start_time": "2024-09-23T22:31:11.651223",
     "status": "completed"
    },
    "tags": []
   },
   "outputs": [
    {
     "data": {
      "text/html": [
       "<div>\n",
       "<style scoped>\n",
       "    .dataframe tbody tr th:only-of-type {\n",
       "        vertical-align: middle;\n",
       "    }\n",
       "\n",
       "    .dataframe tbody tr th {\n",
       "        vertical-align: top;\n",
       "    }\n",
       "\n",
       "    .dataframe thead th {\n",
       "        text-align: right;\n",
       "    }\n",
       "</style>\n",
       "<table border=\"1\" class=\"dataframe\">\n",
       "  <thead>\n",
       "    <tr style=\"text-align: right;\">\n",
       "      <th></th>\n",
       "      <th>Row ID</th>\n",
       "      <th>Order ID</th>\n",
       "      <th>Order Date</th>\n",
       "      <th>Ship Date</th>\n",
       "      <th>Ship Mode</th>\n",
       "      <th>Customer ID</th>\n",
       "      <th>Customer Name</th>\n",
       "      <th>Segment</th>\n",
       "      <th>Country</th>\n",
       "      <th>City</th>\n",
       "      <th>State</th>\n",
       "      <th>Postal Code</th>\n",
       "      <th>Region</th>\n",
       "      <th>Product ID</th>\n",
       "      <th>Category</th>\n",
       "      <th>Sub-Category</th>\n",
       "      <th>Product Name</th>\n",
       "      <th>Sales</th>\n",
       "    </tr>\n",
       "  </thead>\n",
       "  <tbody>\n",
       "    <tr>\n",
       "      <th>4339</th>\n",
       "      <td>4340</td>\n",
       "      <td>CA-2018-133501</td>\n",
       "      <td>27/08/2018</td>\n",
       "      <td>01/09/2018</td>\n",
       "      <td>Standard Class</td>\n",
       "      <td>DK-12895</td>\n",
       "      <td>Dana Kaydos</td>\n",
       "      <td>Consumer</td>\n",
       "      <td>United States</td>\n",
       "      <td>Franklin</td>\n",
       "      <td>Tennessee</td>\n",
       "      <td>37064.0</td>\n",
       "      <td>South</td>\n",
       "      <td>OFF-PA-10004888</td>\n",
       "      <td>Office Supplies</td>\n",
       "      <td>Paper</td>\n",
       "      <td>Xerox 217</td>\n",
       "      <td>5.184</td>\n",
       "    </tr>\n",
       "    <tr>\n",
       "      <th>3812</th>\n",
       "      <td>3813</td>\n",
       "      <td>CA-2018-147753</td>\n",
       "      <td>05/03/2018</td>\n",
       "      <td>05/03/2018</td>\n",
       "      <td>Same Day</td>\n",
       "      <td>PK-19075</td>\n",
       "      <td>Pete Kriz</td>\n",
       "      <td>Consumer</td>\n",
       "      <td>United States</td>\n",
       "      <td>Milwaukee</td>\n",
       "      <td>Wisconsin</td>\n",
       "      <td>53209.0</td>\n",
       "      <td>Central</td>\n",
       "      <td>OFF-LA-10003537</td>\n",
       "      <td>Office Supplies</td>\n",
       "      <td>Labels</td>\n",
       "      <td>Avery 515</td>\n",
       "      <td>25.060</td>\n",
       "    </tr>\n",
       "    <tr>\n",
       "      <th>4179</th>\n",
       "      <td>4180</td>\n",
       "      <td>US-2018-119039</td>\n",
       "      <td>06/03/2018</td>\n",
       "      <td>10/03/2018</td>\n",
       "      <td>Standard Class</td>\n",
       "      <td>BF-11170</td>\n",
       "      <td>Ben Ferrer</td>\n",
       "      <td>Home Office</td>\n",
       "      <td>United States</td>\n",
       "      <td>San Francisco</td>\n",
       "      <td>California</td>\n",
       "      <td>94109.0</td>\n",
       "      <td>West</td>\n",
       "      <td>OFF-BI-10004182</td>\n",
       "      <td>Office Supplies</td>\n",
       "      <td>Binders</td>\n",
       "      <td>Economy Binders</td>\n",
       "      <td>14.976</td>\n",
       "    </tr>\n",
       "    <tr>\n",
       "      <th>6616</th>\n",
       "      <td>6617</td>\n",
       "      <td>CA-2017-123512</td>\n",
       "      <td>17/06/2017</td>\n",
       "      <td>19/06/2017</td>\n",
       "      <td>First Class</td>\n",
       "      <td>MV-18190</td>\n",
       "      <td>Mike Vittorini</td>\n",
       "      <td>Consumer</td>\n",
       "      <td>United States</td>\n",
       "      <td>Los Angeles</td>\n",
       "      <td>California</td>\n",
       "      <td>90045.0</td>\n",
       "      <td>West</td>\n",
       "      <td>OFF-LA-10000081</td>\n",
       "      <td>Office Supplies</td>\n",
       "      <td>Labels</td>\n",
       "      <td>Avery 496</td>\n",
       "      <td>22.500</td>\n",
       "    </tr>\n",
       "    <tr>\n",
       "      <th>8413</th>\n",
       "      <td>8414</td>\n",
       "      <td>CA-2017-147109</td>\n",
       "      <td>17/12/2017</td>\n",
       "      <td>21/12/2017</td>\n",
       "      <td>Standard Class</td>\n",
       "      <td>AH-10075</td>\n",
       "      <td>Adam Hart</td>\n",
       "      <td>Corporate</td>\n",
       "      <td>United States</td>\n",
       "      <td>Arlington</td>\n",
       "      <td>Texas</td>\n",
       "      <td>76017.0</td>\n",
       "      <td>Central</td>\n",
       "      <td>OFF-PA-10001972</td>\n",
       "      <td>Office Supplies</td>\n",
       "      <td>Paper</td>\n",
       "      <td>Xerox 214</td>\n",
       "      <td>51.840</td>\n",
       "    </tr>\n",
       "    <tr>\n",
       "      <th>4854</th>\n",
       "      <td>4855</td>\n",
       "      <td>CA-2015-113320</td>\n",
       "      <td>12/12/2015</td>\n",
       "      <td>15/12/2015</td>\n",
       "      <td>Second Class</td>\n",
       "      <td>LH-17155</td>\n",
       "      <td>Logan Haushalter</td>\n",
       "      <td>Consumer</td>\n",
       "      <td>United States</td>\n",
       "      <td>Oakland</td>\n",
       "      <td>California</td>\n",
       "      <td>94601.0</td>\n",
       "      <td>West</td>\n",
       "      <td>OFF-ST-10000617</td>\n",
       "      <td>Office Supplies</td>\n",
       "      <td>Storage</td>\n",
       "      <td>Woodgrain Magazine Files by Perma</td>\n",
       "      <td>8.940</td>\n",
       "    </tr>\n",
       "    <tr>\n",
       "      <th>1949</th>\n",
       "      <td>1950</td>\n",
       "      <td>CA-2018-157987</td>\n",
       "      <td>02/09/2018</td>\n",
       "      <td>06/09/2018</td>\n",
       "      <td>Standard Class</td>\n",
       "      <td>AC-10615</td>\n",
       "      <td>Ann Chong</td>\n",
       "      <td>Corporate</td>\n",
       "      <td>United States</td>\n",
       "      <td>New York City</td>\n",
       "      <td>New York</td>\n",
       "      <td>10009.0</td>\n",
       "      <td>East</td>\n",
       "      <td>OFF-AP-10000358</td>\n",
       "      <td>Office Supplies</td>\n",
       "      <td>Appliances</td>\n",
       "      <td>Fellowes Basic Home/Office Series Surge Protec...</td>\n",
       "      <td>12.980</td>\n",
       "    </tr>\n",
       "    <tr>\n",
       "      <th>4649</th>\n",
       "      <td>4650</td>\n",
       "      <td>CA-2018-129357</td>\n",
       "      <td>14/05/2018</td>\n",
       "      <td>19/05/2018</td>\n",
       "      <td>Standard Class</td>\n",
       "      <td>KB-16585</td>\n",
       "      <td>Ken Black</td>\n",
       "      <td>Corporate</td>\n",
       "      <td>United States</td>\n",
       "      <td>Seattle</td>\n",
       "      <td>Washington</td>\n",
       "      <td>98103.0</td>\n",
       "      <td>West</td>\n",
       "      <td>OFF-SU-10004498</td>\n",
       "      <td>Office Supplies</td>\n",
       "      <td>Supplies</td>\n",
       "      <td>Martin-Yale Premier Letter Opener</td>\n",
       "      <td>64.400</td>\n",
       "    </tr>\n",
       "    <tr>\n",
       "      <th>7504</th>\n",
       "      <td>7505</td>\n",
       "      <td>CA-2017-158043</td>\n",
       "      <td>31/01/2017</td>\n",
       "      <td>04/02/2017</td>\n",
       "      <td>Second Class</td>\n",
       "      <td>JK-15325</td>\n",
       "      <td>Jason Klamczynski</td>\n",
       "      <td>Corporate</td>\n",
       "      <td>United States</td>\n",
       "      <td>Atlantic City</td>\n",
       "      <td>New Jersey</td>\n",
       "      <td>8401.0</td>\n",
       "      <td>East</td>\n",
       "      <td>OFF-EN-10003134</td>\n",
       "      <td>Office Supplies</td>\n",
       "      <td>Envelopes</td>\n",
       "      <td>Staple envelope</td>\n",
       "      <td>23.360</td>\n",
       "    </tr>\n",
       "    <tr>\n",
       "      <th>2950</th>\n",
       "      <td>2951</td>\n",
       "      <td>CA-2018-134915</td>\n",
       "      <td>12/11/2018</td>\n",
       "      <td>12/11/2018</td>\n",
       "      <td>Same Day</td>\n",
       "      <td>EM-14140</td>\n",
       "      <td>Eugene Moren</td>\n",
       "      <td>Home Office</td>\n",
       "      <td>United States</td>\n",
       "      <td>Glendale</td>\n",
       "      <td>Arizona</td>\n",
       "      <td>85301.0</td>\n",
       "      <td>West</td>\n",
       "      <td>OFF-PA-10002160</td>\n",
       "      <td>Office Supplies</td>\n",
       "      <td>Paper</td>\n",
       "      <td>Xerox 1978</td>\n",
       "      <td>23.120</td>\n",
       "    </tr>\n",
       "  </tbody>\n",
       "</table>\n",
       "</div>"
      ],
      "text/plain": [
       "      Row ID        Order ID  Order Date   Ship Date       Ship Mode  \\\n",
       "4339    4340  CA-2018-133501  27/08/2018  01/09/2018  Standard Class   \n",
       "3812    3813  CA-2018-147753  05/03/2018  05/03/2018        Same Day   \n",
       "4179    4180  US-2018-119039  06/03/2018  10/03/2018  Standard Class   \n",
       "6616    6617  CA-2017-123512  17/06/2017  19/06/2017     First Class   \n",
       "8413    8414  CA-2017-147109  17/12/2017  21/12/2017  Standard Class   \n",
       "4854    4855  CA-2015-113320  12/12/2015  15/12/2015    Second Class   \n",
       "1949    1950  CA-2018-157987  02/09/2018  06/09/2018  Standard Class   \n",
       "4649    4650  CA-2018-129357  14/05/2018  19/05/2018  Standard Class   \n",
       "7504    7505  CA-2017-158043  31/01/2017  04/02/2017    Second Class   \n",
       "2950    2951  CA-2018-134915  12/11/2018  12/11/2018        Same Day   \n",
       "\n",
       "     Customer ID      Customer Name      Segment        Country  \\\n",
       "4339    DK-12895        Dana Kaydos     Consumer  United States   \n",
       "3812    PK-19075          Pete Kriz     Consumer  United States   \n",
       "4179    BF-11170         Ben Ferrer  Home Office  United States   \n",
       "6616    MV-18190     Mike Vittorini     Consumer  United States   \n",
       "8413    AH-10075          Adam Hart    Corporate  United States   \n",
       "4854    LH-17155   Logan Haushalter     Consumer  United States   \n",
       "1949    AC-10615          Ann Chong    Corporate  United States   \n",
       "4649    KB-16585          Ken Black    Corporate  United States   \n",
       "7504    JK-15325  Jason Klamczynski    Corporate  United States   \n",
       "2950    EM-14140       Eugene Moren  Home Office  United States   \n",
       "\n",
       "               City       State  Postal Code   Region       Product ID  \\\n",
       "4339       Franklin   Tennessee      37064.0    South  OFF-PA-10004888   \n",
       "3812      Milwaukee   Wisconsin      53209.0  Central  OFF-LA-10003537   \n",
       "4179  San Francisco  California      94109.0     West  OFF-BI-10004182   \n",
       "6616    Los Angeles  California      90045.0     West  OFF-LA-10000081   \n",
       "8413      Arlington       Texas      76017.0  Central  OFF-PA-10001972   \n",
       "4854        Oakland  California      94601.0     West  OFF-ST-10000617   \n",
       "1949  New York City    New York      10009.0     East  OFF-AP-10000358   \n",
       "4649        Seattle  Washington      98103.0     West  OFF-SU-10004498   \n",
       "7504  Atlantic City  New Jersey       8401.0     East  OFF-EN-10003134   \n",
       "2950       Glendale     Arizona      85301.0     West  OFF-PA-10002160   \n",
       "\n",
       "             Category Sub-Category  \\\n",
       "4339  Office Supplies        Paper   \n",
       "3812  Office Supplies       Labels   \n",
       "4179  Office Supplies      Binders   \n",
       "6616  Office Supplies       Labels   \n",
       "8413  Office Supplies        Paper   \n",
       "4854  Office Supplies      Storage   \n",
       "1949  Office Supplies   Appliances   \n",
       "4649  Office Supplies     Supplies   \n",
       "7504  Office Supplies    Envelopes   \n",
       "2950  Office Supplies        Paper   \n",
       "\n",
       "                                           Product Name   Sales  \n",
       "4339                                          Xerox 217   5.184  \n",
       "3812                                          Avery 515  25.060  \n",
       "4179                                    Economy Binders  14.976  \n",
       "6616                                          Avery 496  22.500  \n",
       "8413                                          Xerox 214  51.840  \n",
       "4854                  Woodgrain Magazine Files by Perma   8.940  \n",
       "1949  Fellowes Basic Home/Office Series Surge Protec...  12.980  \n",
       "4649                  Martin-Yale Premier Letter Opener  64.400  \n",
       "7504                                    Staple envelope  23.360  \n",
       "2950                                         Xerox 1978  23.120  "
      ]
     },
     "execution_count": 4,
     "metadata": {},
     "output_type": "execute_result"
    }
   ],
   "source": [
    "df.sample(10)"
   ]
  },
  {
   "cell_type": "code",
   "execution_count": 5,
   "id": "4610398c",
   "metadata": {
    "execution": {
     "iopub.execute_input": "2024-09-23T22:31:11.715327Z",
     "iopub.status.busy": "2024-09-23T22:31:11.714919Z",
     "iopub.status.idle": "2024-09-23T22:31:11.721891Z",
     "shell.execute_reply": "2024-09-23T22:31:11.720670Z"
    },
    "papermill": {
     "duration": 0.020163,
     "end_time": "2024-09-23T22:31:11.724476",
     "exception": false,
     "start_time": "2024-09-23T22:31:11.704313",
     "status": "completed"
    },
    "tags": []
   },
   "outputs": [
    {
     "data": {
      "text/plain": [
       "(9800, 18)"
      ]
     },
     "execution_count": 5,
     "metadata": {},
     "output_type": "execute_result"
    }
   ],
   "source": [
    "df.shape"
   ]
  },
  {
   "cell_type": "code",
   "execution_count": 6,
   "id": "2787831f",
   "metadata": {
    "execution": {
     "iopub.execute_input": "2024-09-23T22:31:11.744957Z",
     "iopub.status.busy": "2024-09-23T22:31:11.744183Z",
     "iopub.status.idle": "2024-09-23T22:31:11.774202Z",
     "shell.execute_reply": "2024-09-23T22:31:11.772984Z"
    },
    "papermill": {
     "duration": 0.043416,
     "end_time": "2024-09-23T22:31:11.777238",
     "exception": false,
     "start_time": "2024-09-23T22:31:11.733822",
     "status": "completed"
    },
    "tags": []
   },
   "outputs": [
    {
     "name": "stdout",
     "output_type": "stream",
     "text": [
      "<class 'pandas.core.frame.DataFrame'>\n",
      "RangeIndex: 9800 entries, 0 to 9799\n",
      "Data columns (total 18 columns):\n",
      " #   Column         Non-Null Count  Dtype  \n",
      "---  ------         --------------  -----  \n",
      " 0   Row ID         9800 non-null   int64  \n",
      " 1   Order ID       9800 non-null   object \n",
      " 2   Order Date     9800 non-null   object \n",
      " 3   Ship Date      9800 non-null   object \n",
      " 4   Ship Mode      9800 non-null   object \n",
      " 5   Customer ID    9800 non-null   object \n",
      " 6   Customer Name  9800 non-null   object \n",
      " 7   Segment        9800 non-null   object \n",
      " 8   Country        9800 non-null   object \n",
      " 9   City           9800 non-null   object \n",
      " 10  State          9800 non-null   object \n",
      " 11  Postal Code    9789 non-null   float64\n",
      " 12  Region         9800 non-null   object \n",
      " 13  Product ID     9800 non-null   object \n",
      " 14  Category       9800 non-null   object \n",
      " 15  Sub-Category   9800 non-null   object \n",
      " 16  Product Name   9800 non-null   object \n",
      " 17  Sales          9800 non-null   float64\n",
      "dtypes: float64(2), int64(1), object(15)\n",
      "memory usage: 1.3+ MB\n"
     ]
    }
   ],
   "source": [
    "df.info()"
   ]
  },
  {
   "cell_type": "markdown",
   "id": "166d6c33",
   "metadata": {
    "papermill": {
     "duration": 0.010786,
     "end_time": "2024-09-23T22:31:11.797970",
     "exception": false,
     "start_time": "2024-09-23T22:31:11.787184",
     "status": "completed"
    },
    "tags": []
   },
   "source": [
    "----\n",
    "## Data Cleaning"
   ]
  },
  {
   "cell_type": "code",
   "execution_count": 7,
   "id": "b0cbf810",
   "metadata": {
    "execution": {
     "iopub.execute_input": "2024-09-23T22:31:11.819072Z",
     "iopub.status.busy": "2024-09-23T22:31:11.818679Z",
     "iopub.status.idle": "2024-09-23T22:31:11.827704Z",
     "shell.execute_reply": "2024-09-23T22:31:11.826473Z"
    },
    "papermill": {
     "duration": 0.022007,
     "end_time": "2024-09-23T22:31:11.830107",
     "exception": false,
     "start_time": "2024-09-23T22:31:11.808100",
     "status": "completed"
    },
    "tags": []
   },
   "outputs": [],
   "source": [
    "# Remove unnecassary Columns\n",
    "\n",
    "df.drop(['Row ID','Order ID','Customer ID','Customer Name'],axis=1,inplace=True)"
   ]
  },
  {
   "cell_type": "code",
   "execution_count": 8,
   "id": "6b468799",
   "metadata": {
    "execution": {
     "iopub.execute_input": "2024-09-23T22:31:11.850743Z",
     "iopub.status.busy": "2024-09-23T22:31:11.850237Z",
     "iopub.status.idle": "2024-09-23T22:31:11.879660Z",
     "shell.execute_reply": "2024-09-23T22:31:11.878582Z"
    },
    "papermill": {
     "duration": 0.042584,
     "end_time": "2024-09-23T22:31:11.882159",
     "exception": false,
     "start_time": "2024-09-23T22:31:11.839575",
     "status": "completed"
    },
    "tags": []
   },
   "outputs": [
    {
     "data": {
      "text/html": [
       "<div>\n",
       "<style scoped>\n",
       "    .dataframe tbody tr th:only-of-type {\n",
       "        vertical-align: middle;\n",
       "    }\n",
       "\n",
       "    .dataframe tbody tr th {\n",
       "        vertical-align: top;\n",
       "    }\n",
       "\n",
       "    .dataframe thead th {\n",
       "        text-align: right;\n",
       "    }\n",
       "</style>\n",
       "<table border=\"1\" class=\"dataframe\">\n",
       "  <thead>\n",
       "    <tr style=\"text-align: right;\">\n",
       "      <th></th>\n",
       "      <th>Order Date</th>\n",
       "      <th>Ship Date</th>\n",
       "      <th>Ship Mode</th>\n",
       "      <th>Segment</th>\n",
       "      <th>Country</th>\n",
       "      <th>City</th>\n",
       "      <th>State</th>\n",
       "      <th>Postal Code</th>\n",
       "      <th>Region</th>\n",
       "      <th>Product ID</th>\n",
       "      <th>Category</th>\n",
       "      <th>Sub-Category</th>\n",
       "      <th>Product Name</th>\n",
       "      <th>Sales</th>\n",
       "    </tr>\n",
       "  </thead>\n",
       "  <tbody>\n",
       "    <tr>\n",
       "      <th>3406</th>\n",
       "      <td>23/04/2015</td>\n",
       "      <td>27/04/2015</td>\n",
       "      <td>Standard Class</td>\n",
       "      <td>Home Office</td>\n",
       "      <td>United States</td>\n",
       "      <td>Columbus</td>\n",
       "      <td>Ohio</td>\n",
       "      <td>43229.0</td>\n",
       "      <td>East</td>\n",
       "      <td>FUR-CH-10002965</td>\n",
       "      <td>Furniture</td>\n",
       "      <td>Chairs</td>\n",
       "      <td>Global Leather Highback Executive Chair with P...</td>\n",
       "      <td>281.372</td>\n",
       "    </tr>\n",
       "  </tbody>\n",
       "</table>\n",
       "</div>"
      ],
      "text/plain": [
       "      Order Date   Ship Date       Ship Mode      Segment        Country  \\\n",
       "3406  23/04/2015  27/04/2015  Standard Class  Home Office  United States   \n",
       "\n",
       "          City State  Postal Code Region       Product ID   Category  \\\n",
       "3406  Columbus  Ohio      43229.0   East  FUR-CH-10002965  Furniture   \n",
       "\n",
       "     Sub-Category                                       Product Name    Sales  \n",
       "3406       Chairs  Global Leather Highback Executive Chair with P...  281.372  "
      ]
     },
     "execution_count": 8,
     "metadata": {},
     "output_type": "execute_result"
    }
   ],
   "source": [
    "# Display the duplicated rows\n",
    "\n",
    "df[df.duplicated()]"
   ]
  },
  {
   "cell_type": "code",
   "execution_count": 9,
   "id": "827d8b17",
   "metadata": {
    "execution": {
     "iopub.execute_input": "2024-09-23T22:31:11.903371Z",
     "iopub.status.busy": "2024-09-23T22:31:11.902959Z",
     "iopub.status.idle": "2024-09-23T22:31:11.923522Z",
     "shell.execute_reply": "2024-09-23T22:31:11.922457Z"
    },
    "papermill": {
     "duration": 0.034047,
     "end_time": "2024-09-23T22:31:11.926219",
     "exception": false,
     "start_time": "2024-09-23T22:31:11.892172",
     "status": "completed"
    },
    "tags": []
   },
   "outputs": [],
   "source": [
    "# Remove Duplicates\n",
    "\n",
    "df.drop_duplicates(inplace=True)"
   ]
  },
  {
   "cell_type": "code",
   "execution_count": 10,
   "id": "29d4b096",
   "metadata": {
    "execution": {
     "iopub.execute_input": "2024-09-23T22:31:11.947813Z",
     "iopub.status.busy": "2024-09-23T22:31:11.947322Z",
     "iopub.status.idle": "2024-09-23T22:31:11.961562Z",
     "shell.execute_reply": "2024-09-23T22:31:11.960425Z"
    },
    "papermill": {
     "duration": 0.027769,
     "end_time": "2024-09-23T22:31:11.964002",
     "exception": false,
     "start_time": "2024-09-23T22:31:11.936233",
     "status": "completed"
    },
    "tags": []
   },
   "outputs": [
    {
     "data": {
      "text/plain": [
       "Order Date       0\n",
       "Ship Date        0\n",
       "Ship Mode        0\n",
       "Segment          0\n",
       "Country          0\n",
       "City             0\n",
       "State            0\n",
       "Postal Code     11\n",
       "Region           0\n",
       "Product ID       0\n",
       "Category         0\n",
       "Sub-Category     0\n",
       "Product Name     0\n",
       "Sales            0\n",
       "dtype: int64"
      ]
     },
     "execution_count": 10,
     "metadata": {},
     "output_type": "execute_result"
    }
   ],
   "source": [
    "# get the number of nulls in each column\n",
    "\n",
    "df.isna().sum()"
   ]
  },
  {
   "cell_type": "markdown",
   "id": "23daf15f",
   "metadata": {
    "papermill": {
     "duration": 0.010492,
     "end_time": "2024-09-23T22:31:11.985453",
     "exception": false,
     "start_time": "2024-09-23T22:31:11.974961",
     "status": "completed"
    },
    "tags": []
   },
   "source": [
    "<p style=\"color:red;\n",
    "          font-size:20px;\"> --> There are 11 Nulls in Postal Code Column </p>"
   ]
  },
  {
   "cell_type": "code",
   "execution_count": 11,
   "id": "8848105b",
   "metadata": {
    "execution": {
     "iopub.execute_input": "2024-09-23T22:31:12.007373Z",
     "iopub.status.busy": "2024-09-23T22:31:12.006950Z",
     "iopub.status.idle": "2024-09-23T22:31:12.032626Z",
     "shell.execute_reply": "2024-09-23T22:31:12.031515Z"
    },
    "papermill": {
     "duration": 0.039633,
     "end_time": "2024-09-23T22:31:12.034980",
     "exception": false,
     "start_time": "2024-09-23T22:31:11.995347",
     "status": "completed"
    },
    "tags": []
   },
   "outputs": [
    {
     "data": {
      "text/html": [
       "<div>\n",
       "<style scoped>\n",
       "    .dataframe tbody tr th:only-of-type {\n",
       "        vertical-align: middle;\n",
       "    }\n",
       "\n",
       "    .dataframe tbody tr th {\n",
       "        vertical-align: top;\n",
       "    }\n",
       "\n",
       "    .dataframe thead th {\n",
       "        text-align: right;\n",
       "    }\n",
       "</style>\n",
       "<table border=\"1\" class=\"dataframe\">\n",
       "  <thead>\n",
       "    <tr style=\"text-align: right;\">\n",
       "      <th></th>\n",
       "      <th>Order Date</th>\n",
       "      <th>Ship Date</th>\n",
       "      <th>Ship Mode</th>\n",
       "      <th>Segment</th>\n",
       "      <th>Country</th>\n",
       "      <th>City</th>\n",
       "      <th>State</th>\n",
       "      <th>Postal Code</th>\n",
       "      <th>Region</th>\n",
       "      <th>Product ID</th>\n",
       "      <th>Category</th>\n",
       "      <th>Sub-Category</th>\n",
       "      <th>Product Name</th>\n",
       "      <th>Sales</th>\n",
       "    </tr>\n",
       "  </thead>\n",
       "  <tbody>\n",
       "    <tr>\n",
       "      <th>2234</th>\n",
       "      <td>05/12/2018</td>\n",
       "      <td>10/12/2018</td>\n",
       "      <td>Standard Class</td>\n",
       "      <td>Corporate</td>\n",
       "      <td>United States</td>\n",
       "      <td>Burlington</td>\n",
       "      <td>Vermont</td>\n",
       "      <td>NaN</td>\n",
       "      <td>East</td>\n",
       "      <td>TEC-AC-10001013</td>\n",
       "      <td>Technology</td>\n",
       "      <td>Accessories</td>\n",
       "      <td>Logitech ClearChat Comfort/USB Headset H390</td>\n",
       "      <td>205.03</td>\n",
       "    </tr>\n",
       "    <tr>\n",
       "      <th>5274</th>\n",
       "      <td>07/11/2016</td>\n",
       "      <td>09/11/2016</td>\n",
       "      <td>Second Class</td>\n",
       "      <td>Consumer</td>\n",
       "      <td>United States</td>\n",
       "      <td>Burlington</td>\n",
       "      <td>Vermont</td>\n",
       "      <td>NaN</td>\n",
       "      <td>East</td>\n",
       "      <td>FUR-CH-10000595</td>\n",
       "      <td>Furniture</td>\n",
       "      <td>Chairs</td>\n",
       "      <td>Safco Contoured Stacking Chairs</td>\n",
       "      <td>715.20</td>\n",
       "    </tr>\n",
       "    <tr>\n",
       "      <th>8798</th>\n",
       "      <td>06/04/2017</td>\n",
       "      <td>10/04/2017</td>\n",
       "      <td>Standard Class</td>\n",
       "      <td>Home Office</td>\n",
       "      <td>United States</td>\n",
       "      <td>Burlington</td>\n",
       "      <td>Vermont</td>\n",
       "      <td>NaN</td>\n",
       "      <td>East</td>\n",
       "      <td>TEC-PH-10002555</td>\n",
       "      <td>Technology</td>\n",
       "      <td>Phones</td>\n",
       "      <td>Nortel Meridian M5316 Digital phone</td>\n",
       "      <td>1294.75</td>\n",
       "    </tr>\n",
       "    <tr>\n",
       "      <th>9146</th>\n",
       "      <td>23/01/2017</td>\n",
       "      <td>27/01/2017</td>\n",
       "      <td>Standard Class</td>\n",
       "      <td>Corporate</td>\n",
       "      <td>United States</td>\n",
       "      <td>Burlington</td>\n",
       "      <td>Vermont</td>\n",
       "      <td>NaN</td>\n",
       "      <td>East</td>\n",
       "      <td>TEC-AC-10002926</td>\n",
       "      <td>Technology</td>\n",
       "      <td>Accessories</td>\n",
       "      <td>Logitech Wireless Marathon Mouse M705</td>\n",
       "      <td>99.98</td>\n",
       "    </tr>\n",
       "    <tr>\n",
       "      <th>9147</th>\n",
       "      <td>23/01/2017</td>\n",
       "      <td>27/01/2017</td>\n",
       "      <td>Standard Class</td>\n",
       "      <td>Corporate</td>\n",
       "      <td>United States</td>\n",
       "      <td>Burlington</td>\n",
       "      <td>Vermont</td>\n",
       "      <td>NaN</td>\n",
       "      <td>East</td>\n",
       "      <td>OFF-AR-10003477</td>\n",
       "      <td>Office Supplies</td>\n",
       "      <td>Art</td>\n",
       "      <td>4009 Highlighters</td>\n",
       "      <td>8.04</td>\n",
       "    </tr>\n",
       "    <tr>\n",
       "      <th>9148</th>\n",
       "      <td>23/01/2017</td>\n",
       "      <td>27/01/2017</td>\n",
       "      <td>Standard Class</td>\n",
       "      <td>Corporate</td>\n",
       "      <td>United States</td>\n",
       "      <td>Burlington</td>\n",
       "      <td>Vermont</td>\n",
       "      <td>NaN</td>\n",
       "      <td>East</td>\n",
       "      <td>OFF-ST-10001526</td>\n",
       "      <td>Office Supplies</td>\n",
       "      <td>Storage</td>\n",
       "      <td>Iceberg Mobile Mega Data/Printer Cart</td>\n",
       "      <td>1564.29</td>\n",
       "    </tr>\n",
       "    <tr>\n",
       "      <th>9386</th>\n",
       "      <td>19/01/2018</td>\n",
       "      <td>23/01/2018</td>\n",
       "      <td>Standard Class</td>\n",
       "      <td>Consumer</td>\n",
       "      <td>United States</td>\n",
       "      <td>Burlington</td>\n",
       "      <td>Vermont</td>\n",
       "      <td>NaN</td>\n",
       "      <td>East</td>\n",
       "      <td>OFF-PA-10000157</td>\n",
       "      <td>Office Supplies</td>\n",
       "      <td>Paper</td>\n",
       "      <td>Xerox 191</td>\n",
       "      <td>79.92</td>\n",
       "    </tr>\n",
       "    <tr>\n",
       "      <th>9387</th>\n",
       "      <td>19/01/2018</td>\n",
       "      <td>23/01/2018</td>\n",
       "      <td>Standard Class</td>\n",
       "      <td>Consumer</td>\n",
       "      <td>United States</td>\n",
       "      <td>Burlington</td>\n",
       "      <td>Vermont</td>\n",
       "      <td>NaN</td>\n",
       "      <td>East</td>\n",
       "      <td>OFF-PA-10001970</td>\n",
       "      <td>Office Supplies</td>\n",
       "      <td>Paper</td>\n",
       "      <td>Xerox 1881</td>\n",
       "      <td>12.28</td>\n",
       "    </tr>\n",
       "    <tr>\n",
       "      <th>9388</th>\n",
       "      <td>19/01/2018</td>\n",
       "      <td>23/01/2018</td>\n",
       "      <td>Standard Class</td>\n",
       "      <td>Consumer</td>\n",
       "      <td>United States</td>\n",
       "      <td>Burlington</td>\n",
       "      <td>Vermont</td>\n",
       "      <td>NaN</td>\n",
       "      <td>East</td>\n",
       "      <td>OFF-AP-10000828</td>\n",
       "      <td>Office Supplies</td>\n",
       "      <td>Appliances</td>\n",
       "      <td>Avanti 4.4 Cu. Ft. Refrigerator</td>\n",
       "      <td>542.94</td>\n",
       "    </tr>\n",
       "    <tr>\n",
       "      <th>9389</th>\n",
       "      <td>19/01/2018</td>\n",
       "      <td>23/01/2018</td>\n",
       "      <td>Standard Class</td>\n",
       "      <td>Consumer</td>\n",
       "      <td>United States</td>\n",
       "      <td>Burlington</td>\n",
       "      <td>Vermont</td>\n",
       "      <td>NaN</td>\n",
       "      <td>East</td>\n",
       "      <td>OFF-EN-10001509</td>\n",
       "      <td>Office Supplies</td>\n",
       "      <td>Envelopes</td>\n",
       "      <td>Poly String Tie Envelopes</td>\n",
       "      <td>2.04</td>\n",
       "    </tr>\n",
       "    <tr>\n",
       "      <th>9741</th>\n",
       "      <td>08/11/2016</td>\n",
       "      <td>12/11/2016</td>\n",
       "      <td>Standard Class</td>\n",
       "      <td>Corporate</td>\n",
       "      <td>United States</td>\n",
       "      <td>Burlington</td>\n",
       "      <td>Vermont</td>\n",
       "      <td>NaN</td>\n",
       "      <td>East</td>\n",
       "      <td>FUR-BO-10004834</td>\n",
       "      <td>Furniture</td>\n",
       "      <td>Bookcases</td>\n",
       "      <td>Riverside Palais Royal Lawyers Bookcase, Royal...</td>\n",
       "      <td>4404.90</td>\n",
       "    </tr>\n",
       "  </tbody>\n",
       "</table>\n",
       "</div>"
      ],
      "text/plain": [
       "      Order Date   Ship Date       Ship Mode      Segment        Country  \\\n",
       "2234  05/12/2018  10/12/2018  Standard Class    Corporate  United States   \n",
       "5274  07/11/2016  09/11/2016    Second Class     Consumer  United States   \n",
       "8798  06/04/2017  10/04/2017  Standard Class  Home Office  United States   \n",
       "9146  23/01/2017  27/01/2017  Standard Class    Corporate  United States   \n",
       "9147  23/01/2017  27/01/2017  Standard Class    Corporate  United States   \n",
       "9148  23/01/2017  27/01/2017  Standard Class    Corporate  United States   \n",
       "9386  19/01/2018  23/01/2018  Standard Class     Consumer  United States   \n",
       "9387  19/01/2018  23/01/2018  Standard Class     Consumer  United States   \n",
       "9388  19/01/2018  23/01/2018  Standard Class     Consumer  United States   \n",
       "9389  19/01/2018  23/01/2018  Standard Class     Consumer  United States   \n",
       "9741  08/11/2016  12/11/2016  Standard Class    Corporate  United States   \n",
       "\n",
       "            City    State  Postal Code Region       Product ID  \\\n",
       "2234  Burlington  Vermont          NaN   East  TEC-AC-10001013   \n",
       "5274  Burlington  Vermont          NaN   East  FUR-CH-10000595   \n",
       "8798  Burlington  Vermont          NaN   East  TEC-PH-10002555   \n",
       "9146  Burlington  Vermont          NaN   East  TEC-AC-10002926   \n",
       "9147  Burlington  Vermont          NaN   East  OFF-AR-10003477   \n",
       "9148  Burlington  Vermont          NaN   East  OFF-ST-10001526   \n",
       "9386  Burlington  Vermont          NaN   East  OFF-PA-10000157   \n",
       "9387  Burlington  Vermont          NaN   East  OFF-PA-10001970   \n",
       "9388  Burlington  Vermont          NaN   East  OFF-AP-10000828   \n",
       "9389  Burlington  Vermont          NaN   East  OFF-EN-10001509   \n",
       "9741  Burlington  Vermont          NaN   East  FUR-BO-10004834   \n",
       "\n",
       "             Category Sub-Category  \\\n",
       "2234       Technology  Accessories   \n",
       "5274        Furniture       Chairs   \n",
       "8798       Technology       Phones   \n",
       "9146       Technology  Accessories   \n",
       "9147  Office Supplies          Art   \n",
       "9148  Office Supplies      Storage   \n",
       "9386  Office Supplies        Paper   \n",
       "9387  Office Supplies        Paper   \n",
       "9388  Office Supplies   Appliances   \n",
       "9389  Office Supplies    Envelopes   \n",
       "9741        Furniture    Bookcases   \n",
       "\n",
       "                                           Product Name    Sales  \n",
       "2234        Logitech ClearChat Comfort/USB Headset H390   205.03  \n",
       "5274                    Safco Contoured Stacking Chairs   715.20  \n",
       "8798                Nortel Meridian M5316 Digital phone  1294.75  \n",
       "9146              Logitech Wireless Marathon Mouse M705    99.98  \n",
       "9147                                  4009 Highlighters     8.04  \n",
       "9148              Iceberg Mobile Mega Data/Printer Cart  1564.29  \n",
       "9386                                          Xerox 191    79.92  \n",
       "9387                                         Xerox 1881    12.28  \n",
       "9388                    Avanti 4.4 Cu. Ft. Refrigerator   542.94  \n",
       "9389                          Poly String Tie Envelopes     2.04  \n",
       "9741  Riverside Palais Royal Lawyers Bookcase, Royal...  4404.90  "
      ]
     },
     "execution_count": 11,
     "metadata": {},
     "output_type": "execute_result"
    }
   ],
   "source": [
    "# display the rows which have nulls\n",
    "\n",
    "df[df.isnull().any(axis=1)]"
   ]
  },
  {
   "cell_type": "code",
   "execution_count": 12,
   "id": "f8594af2",
   "metadata": {
    "execution": {
     "iopub.execute_input": "2024-09-23T22:31:12.058156Z",
     "iopub.status.busy": "2024-09-23T22:31:12.057186Z",
     "iopub.status.idle": "2024-09-23T22:31:12.063527Z",
     "shell.execute_reply": "2024-09-23T22:31:12.062311Z"
    },
    "papermill": {
     "duration": 0.020617,
     "end_time": "2024-09-23T22:31:12.065847",
     "exception": false,
     "start_time": "2024-09-23T22:31:12.045230",
     "status": "completed"
    },
    "tags": []
   },
   "outputs": [],
   "source": [
    "# Get the postal code of Vermont state from google -----> 05401 , and fill the nulls by it\n",
    "\n",
    "df['Postal Code'].fillna(5401,inplace=True)"
   ]
  },
  {
   "cell_type": "code",
   "execution_count": 13,
   "id": "1ba5c99f",
   "metadata": {
    "execution": {
     "iopub.execute_input": "2024-09-23T22:31:12.088903Z",
     "iopub.status.busy": "2024-09-23T22:31:12.087948Z",
     "iopub.status.idle": "2024-09-23T22:31:12.101877Z",
     "shell.execute_reply": "2024-09-23T22:31:12.100740Z"
    },
    "papermill": {
     "duration": 0.027729,
     "end_time": "2024-09-23T22:31:12.104185",
     "exception": false,
     "start_time": "2024-09-23T22:31:12.076456",
     "status": "completed"
    },
    "tags": []
   },
   "outputs": [
    {
     "data": {
      "text/plain": [
       "0"
      ]
     },
     "execution_count": 13,
     "metadata": {},
     "output_type": "execute_result"
    }
   ],
   "source": [
    "# Now there is no nulls\n",
    "\n",
    "df.isna().sum().sum()"
   ]
  },
  {
   "cell_type": "code",
   "execution_count": 14,
   "id": "c822fab4",
   "metadata": {
    "execution": {
     "iopub.execute_input": "2024-09-23T22:31:12.127083Z",
     "iopub.status.busy": "2024-09-23T22:31:12.126642Z",
     "iopub.status.idle": "2024-09-23T22:31:12.150679Z",
     "shell.execute_reply": "2024-09-23T22:31:12.149028Z"
    },
    "papermill": {
     "duration": 0.038792,
     "end_time": "2024-09-23T22:31:12.153707",
     "exception": false,
     "start_time": "2024-09-23T22:31:12.114915",
     "status": "completed"
    },
    "tags": []
   },
   "outputs": [],
   "source": [
    "# Change the type of Order Date and Ship Date columns from object to date\n",
    "# Change the type of Postal Code column from float to integer\n",
    "\n",
    "df['Order Date']=pd.to_datetime(df['Order Date'],format=\"%d/%m/%Y\")\n",
    "df['Ship Date']=pd.to_datetime(df['Ship Date'],format=\"%d/%m/%Y\")\n",
    "df['Postal Code']=df['Postal Code'].astype('int')"
   ]
  },
  {
   "cell_type": "markdown",
   "id": "29f6d49f",
   "metadata": {
    "papermill": {
     "duration": 0.010376,
     "end_time": "2024-09-23T22:31:12.174649",
     "exception": false,
     "start_time": "2024-09-23T22:31:12.164273",
     "status": "completed"
    },
    "tags": []
   },
   "source": [
    "## Data Visualization & Getting Analysis"
   ]
  },
  {
   "cell_type": "code",
   "execution_count": 15,
   "id": "ffdc06b3",
   "metadata": {
    "execution": {
     "iopub.execute_input": "2024-09-23T22:31:12.199128Z",
     "iopub.status.busy": "2024-09-23T22:31:12.198098Z",
     "iopub.status.idle": "2024-09-23T22:31:12.463469Z",
     "shell.execute_reply": "2024-09-23T22:31:12.462174Z"
    },
    "papermill": {
     "duration": 0.28069,
     "end_time": "2024-09-23T22:31:12.466000",
     "exception": false,
     "start_time": "2024-09-23T22:31:12.185310",
     "status": "completed"
    },
    "tags": []
   },
   "outputs": [
    {
     "data": {
      "image/png": "[encoded data removed]",
      "text/plain": [
       "<Figure size 1000x800 with 1 Axes>"
      ]
     },
     "metadata": {},
     "output_type": "display_data"
    }
   ],
   "source": [
    "# Ship Mode vs Count\n",
    "\n",
    "plt.figure(figsize=(10,8))\n",
    "sns.countplot(x=df['Ship Mode'])\n",
    "plt.xlabel('Ship Mode',fontsize=12)\n",
    "plt.ylabel('Count',fontsize=12)\n",
    "plt.title('Ship Mode vs Count',fontsize=14)\n",
    "plt.show()"
   ]
  },
  {
   "cell_type": "markdown",
   "id": "f5688ddf",
   "metadata": {
    "papermill": {
     "duration": 0.010834,
     "end_time": "2024-09-23T22:31:12.488051",
     "exception": false,
     "start_time": "2024-09-23T22:31:12.477217",
     "status": "completed"
    },
    "tags": []
   },
   "source": [
    "### <font color='red'> Result </font>: Ship Mode of most of the Orders is Standard Class\n"
   ]
  },
  {
   "cell_type": "code",
   "execution_count": 16,
   "id": "38269ba7",
   "metadata": {
    "execution": {
     "iopub.execute_input": "2024-09-23T22:31:12.512622Z",
     "iopub.status.busy": "2024-09-23T22:31:12.512181Z",
     "iopub.status.idle": "2024-09-23T22:31:14.485273Z",
     "shell.execute_reply": "2024-09-23T22:31:14.483914Z"
    },
    "papermill": {
     "duration": 1.990452,
     "end_time": "2024-09-23T22:31:14.490077",
     "exception": false,
     "start_time": "2024-09-23T22:31:12.499625",
     "status": "completed"
    },
    "tags": []
   },
   "outputs": [
    {
     "data": {
      "text/html": [
       "        <script type=\"text/javascript\">\n",
       "        window.PlotlyConfig = {MathJaxConfig: 'local'};\n",
       "        if (window.MathJax && window.MathJax.Hub && window.MathJax.Hub.Config) {window.MathJax.Hub.Config({SVG: {font: \"STIX-Web\"}});}\n",
       "        if (typeof require !== 'undefined') {\n",
       "        require.undef(\"plotly\");\n",
       "        requirejs.config({\n",
       "            paths: {\n",
       "                'plotly': ['https://cdn.plot.ly/plotly-2.32.0.min']\n",
       "            }\n",
       "        });\n",
       "        require(['plotly'], function(Plotly) {\n",
       "            window._Plotly = Plotly;\n",
       "        });\n",
       "        }\n",
       "        </script>\n",
       "        "
      ]
     },
     "metadata": {},
     "output_type": "display_data"
    },
    {
     "data": {
      "text/html": [
       "<div>                            <div id=\"6bb12389-a8b6-450d-9966-154d1bb9e889\" class=\"plotly-graph-div\" style=\"height:525px; width:100%;\"></div>            <script type=\"text/javascript\">                require([\"plotly\"], function(Plotly) {                    window.PLOTLYENV=window.PLOTLYENV || {};                                    if (document.getElementById(\"6bb12389-a8b6-450d-9966-154d1bb9e889\")) {                    Plotly.newPlot(                        \"6bb12389-a8b6-450d-9966-154d1bb9e889\",                        [{\"domain\":{\"x\":[0.0,1.0],\"y\":[0.0,1.0]},\"hovertemplate\":\"Segment=%{label}\\u003cbr\\u003evalue=%{value}\\u003cextra\\u003e\\u003c\\u002fextra\\u003e\",\"labels\":[\"Consumer\",\"Consumer\",\"Corporate\",\"Consumer\",\"Consumer\",\"Consumer\",\"Consumer\",\"Consumer\",\"Consumer\",\"Consumer\",\"Consumer\",\"Consumer\",\"Consumer\",\"Consumer\",\"Home Office\",\"Home Office\",\"Consumer\",\"Consumer\",\"Consumer\",\"Consumer\",\"Consumer\",\"Corporate\",\"Corporate\",\"Consumer\",\"Consumer\",\"Consumer\",\"Consumer\",\"Consumer\",\"Consumer\",\"Consumer\",\"Consumer\",\"Consumer\",\"Consumer\",\"Consumer\",\"Home Office\",\"Corporate\",\"Corporate\",\"Home Office\",\"Home Office\",\"Home Office\",\"Home Office\",\"Corporate\",\"Corporate\",\"Corporate\",\"Corporate\",\"Corporate\",\"Consumer\",\"Consumer\",\"Consumer\",\"Consumer\",\"Consumer\",\"Consumer\",\"Consumer\",\"Corporate\",\"Corporate\",\"Consumer\",\"Consumer\",\"Consumer\",\"Consumer\",\"Consumer\",\"Consumer\",\"Consumer\",\"Consumer\",\"Consumer\",\"Consumer\",\"Consumer\",\"Home Office\",\"Corporate\",\"Corporate\",\"Consumer\",\"Consumer\",\"Consumer\",\"Consumer\",\"Consumer\",\"Consumer\",\"Corporate\",\"Corporate\",\"Corporate\",\"Consumer\",\"Corporate\",\"Corporate\",\"Consumer\",\"Consumer\",\"Corporate\",\"Home Office\",\"Consumer\",\"Consumer\",\"Consumer\",\"Home Office\",\"Corporate\",\"Corporate\",\"Corporate\",\"Consumer\",\"Consumer\",\"Consumer\",\"Home Office\",\"Home Office\",\"Consumer\",\"Corporate\",\"Home Office\",\"Home Office\",\"Home Office\",\"Consumer\",\"Consumer\",\"Consumer\",\"Consumer\",\"Consumer\",\"Consumer\",\"Consumer\",\"Home Office\",\"Corporate\",\"Consumer\",\"Consumer\",\"Consumer\",\"Consumer\",\"Consumer\",\"Consumer\",\"Consumer\",\"Corporate\",\"Consumer\",\"Consumer\",\"Consumer\",\"Consumer\",\"Consumer\",\"Home Office\",\"Consumer\",\"Consumer\",\"Consumer\",\"Home Office\",\"Home Office\",\"Corporate\",\"Corporate\",\"Corporate\",\"Consumer\",\"Consumer\",\"Consumer\",\"Consumer\",\"Consumer\",\"Consumer\",\"Consumer\",\"Corporate\",\"Corporate\",\"Corporate\",\"Corporate\",\"Consumer\",\"Consumer\",\"Home Office\",\"Corporate\",\"Corporate\",\"Corporate\",\"Corporate\",\"Home Office\",\"Home Office\",\"Corporate\",\"Corporate\",\"Corporate\",\"Home Office\",\"Consumer\",\"Consumer\",\"Consumer\",\"Consumer\",\"Consumer\",\"Consumer\",\"Consumer\",\"Consumer\",\"Consumer\",\"Consumer\",\"Consumer\",\"Consumer\",\"Consumer\",\"Consumer\",\"Consumer\",\"Consumer\",\"Consumer\",\"Corporate\",\"Corporate\",\"Consumer\",\"Consumer\",\"Consumer\",\"Home Office\",\"Corporate\",\"Corporate\",\"Home Office\",\"Home Office\",\"Home Office\",\"Consumer\",\"Home Office\",\"Corporate\",\"Corporate\",\"Home Office\",\"Home Office\",\"Home Office\",\"Home Office\",\"Home Office\",\"Corporate\",\"Consumer\",\"Consumer\",\"Home Office\",\"Corporate\",\"Corporate\",\"Consumer\",\"Consumer\",\"Consumer\",\"Consumer\",\"Corporate\",\"Consumer\",\"Consumer\",\"Consumer\",\"Consumer\",\"Consumer\",\"Consumer\",\"Corporate\",\"Corporate\",\"Corporate\",\"Corporate\",\"Corporate\",\"Corporate\",\"Consumer\",\"Consumer\",\"Consumer\",\"Consumer\",\"Consumer\",\"Consumer\",\"Consumer\",\"Consumer\",\"Corporate\",\"Corporate\",\"Corporate\",\"Consumer\",\"Consumer\",\"Corporate\",\"Home Office\",\"Home Office\",\"Home Office\",\"Home Office\",\"Home Office\",\"Corporate\",\"Consumer\",\"Consumer\",\"Consumer\",\"Consumer\",\"Consumer\",\"Consumer\",\"Consumer\",\"Home Office\",\"Home Office\",\"Home Office\",\"Home Office\",\"Home Office\",\"Consumer\",\"Consumer\",\"Consumer\",\"Consumer\",\"Consumer\",\"Corporate\",\"Corporate\",\"Corporate\",\"Corporate\",\"Consumer\",\"Consumer\",\"Consumer\",\"Corporate\",\"Corporate\",\"Corporate\",\"Consumer\",\"Consumer\",\"Corporate\",\"Consumer\",\"Corporate\",\"Corporate\",\"Corporate\",\"Consumer\",\"Consumer\",\"Consumer\",\"Corporate\",\"Corporate\",\"Corporate\",\"Corporate\",\"Corporate\",\"Corporate\",\"Consumer\",\"Consumer\",\"Consumer\",\"Consumer\",\"Consumer\",\"Consumer\",\"Corporate\",\"Corporate\",\"Corporate\",\"Home Office\",\"Home Office\",\"Home Office\",\"Home Office\",\"Corporate\",\"Corporate\",\"Corporate\",\"Corporate\",\"Corporate\",\"Corporate\",\"Corporate\",\"Corporate\",\"Corporate\",\"Corporate\",\"Consumer\",\"Corporate\",\"Corporate\",\"Home Office\",\"Home Office\",\"Consumer\",\"Corporate\",\"Corporate\",\"Corporate\",\"Corporate\",\"Corporate\",\"Corporate\",\"Corporate\",\"Corporate\",\"Home Office\",\"Home Office\",\"Home Office\",\"Home Office\",\"Home Office\",\"Corporate\",\"Corporate\",\"Corporate\",\"Corporate\",\"Consumer\",\"Consumer\",\"Consumer\",\"Consumer\",\"Consumer\",\"Consumer\",\"Consumer\",\"Consumer\",\"Consumer\",\"Consumer\",\"Consumer\",\"Corporate\",\"Corporate\",\"Consumer\",\"Corporate\",\"Corporate\",\"Corporate\",\"Corporate\",\"Consumer\",\"Consumer\",\"Consumer\",\"Consumer\",\"Consumer\",\"Home Office\",\"Home Office\",\"Home Office\",\"Home Office\",\"Home Office\",\"Consumer\",\"Consumer\",\"Consumer\",\"Consumer\",\"Corporate\",\"Corporate\",\"Corporate\",\"Consumer\",\"Consumer\",\"Consumer\",\"Consumer\",\"Consumer\",\"Corporate\",\"Corporate\",\"Corporate\",\"Corporate\",\"Consumer\",\"Consumer\",\"Consumer\",\"Consumer\",\"Consumer\",\"Consumer\",\"Corporate\",\"Corporate\",\"Consumer\",\"Consumer\",\"Consumer\",\"Corporate\",\"Corporate\",\"Corporate\",\"Consumer\",\"Consumer\",\"Corporate\",\"Corporate\",\"Consumer\",\"Consumer\",\"Consumer\",\"Consumer\",\"Consumer\",\"Corporate\",\"Home Office\",\"Corporate\",\"Corporate\",\"Home Office\",\"Consumer\",\"Consumer\",\"Consumer\",\"Consumer\",\"Consumer\",\"Corporate\",\"Consumer\",\"Consumer\",\"Consumer\",\"Consumer\",\"Consumer\",\"Consumer\",\"Consumer\",\"Consumer\",\"Consumer\",\"Consumer\",\"Corporate\",\"Corporate\",\"Consumer\",\"Consumer\",\"Corporate\",\"Corporate\",\"Corporate\",\"Consumer\",\"Corporate\",\"Corporate\",\"Consumer\",\"Corporate\",\"Corporate\",\"Home Office\",\"Corporate\",\"Home Office\",\"Home Office\",\"Home Office\",\"Home Office\",\"Consumer\",\"Consumer\",\"Consumer\",\"Home Office\",\"Home Office\",\"Corporate\",\"Corporate\",\"Consumer\",\"Consumer\",\"Consumer\",\"Consumer\",\"Consumer\",\"Consumer\",\"Consumer\",\"Consumer\",\"Consumer\",\"Consumer\",\"Consumer\",\"Consumer\",\"Consumer\",\"Corporate\",\"Corporate\",\"Corporate\",\"Consumer\",\"Consumer\",\"Consumer\",\"Consumer\",\"Consumer\",\"Consumer\",\"Home Office\",\"Home Office\",\"Home Office\",\"Home Office\",\"Home Office\",\"Home Office\",\"Corporate\",\"Consumer\",\"Corporate\",\"Consumer\",\"Consumer\",\"Consumer\",\"Consumer\",\"Consumer\",\"Consumer\",\"Corporate\",\"Consumer\",\"Corporate\",\"Corporate\",\"Consumer\",\"Consumer\",\"Consumer\",\"Home Office\",\"Home Office\",\"Home Office\",\"Consumer\",\"Home Office\",\"Home Office\",\"Home Office\",\"Consumer\",\"Consumer\",\"Consumer\",\"Consumer\",\"Consumer\",\"Consumer\",\"Consumer\",\"Consumer\",\"Consumer\",\"Corporate\",\"Corporate\",\"Corporate\",\"Corporate\",\"Corporate\",\"Corporate\",\"Consumer\",\"Consumer\",\"Consumer\",\"Consumer\",\"Consumer\",\"Consumer\",\"Consumer\",\"Consumer\",\"Consumer\",\"Home Office\",\"Home Office\",\"Home Office\",\"Home Office\",\"Consumer\",\"Consumer\",\"Consumer\",\"Corporate\",\"Consumer\",\"Consumer\",\"Consumer\",\"Home Office\",\"Home Office\",\"Consumer\",\"Consumer\",\"Consumer\",\"Corporate\",\"Consumer\",\"Consumer\",\"Consumer\",\"Consumer\",\"Consumer\",\"Home Office\",\"Consumer\",\"Consumer\",\"Consumer\",\"Corporate\",\"Consumer\",\"Consumer\",\"Consumer\",\"Consumer\",\"Home Office\",\"Home Office\",\"Corporate\",\"Corporate\",\"Corporate\",\"Consumer\",\"Consumer\",\"Consumer\",\"Corporate\",\"Consumer\",\"Consumer\",\"Consumer\",\"Consumer\",\"Consumer\",\"Consumer\",\"Consumer\",\"Consumer\",\"Consumer\",\"Consumer\",\"Consumer\",\"Corporate\",\"Corporate\",\"Corporate\",\"Corporate\",\"Consumer\",\"Consumer\",\"Consumer\",\"Consumer\",\"Consumer\",\"Consumer\",\"Consumer\",\"Consumer\",\"Consumer\",\"Consumer\",\"Consumer\",\"Consumer\",\"Consumer\",\"Consumer\",\"Consumer\",\"Consumer\",\"Consumer\",\"Consumer\",\"Consumer\",\"Consumer\",\"Consumer\",\"Consumer\",\"Consumer\",\"Consumer\",\"Consumer\",\"Consumer\",\"Consumer\",\"Consumer\",\"Consumer\",\"Consumer\",\"Consumer\",\"Consumer\",\"Consumer\",\"Consumer\",\"Consumer\",\"Consumer\",\"Consumer\",\"Consumer\",\"Consumer\",\"Consumer\",\"Corporate\",\"Corporate\",\"Corporate\",\"Corporate\",\"Consumer\",\"Consumer\",\"Corporate\",\"Corporate\",\"Corporate\",\"Corporate\",\"Corporate\",\"Consumer\",\"Corporate\",\"Corporate\",\"Corporate\",\"Corporate\",\"Home Office\",\"Consumer\",\"Consumer\",\"Consumer\",\"Consumer\",\"Consumer\",\"Consumer\",\"Consumer\",\"Consumer\",\"Corporate\",\"Consumer\",\"Consumer\",\"Home Office\",\"Home Office\",\"Corporate\",\"Consumer\",\"Consumer\",\"Consumer\",\"Home Office\",\"Home Office\",\"Corporate\",\"Corporate\",\"Corporate\",\"Corporate\",\"Corporate\",\"Home Office\",\"Corporate\",\"Corporate\",\"Consumer\",\"Consumer\",\"Consumer\",\"Home Office\",\"Home Office\",\"Consumer\",\"Consumer\",\"Consumer\",\"Consumer\",\"Corporate\",\"Consumer\",\"Corporate\",\"Corporate\",\"Corporate\",\"Consumer\",\"Home Office\",\"Home Office\",\"Home Office\",\"Consumer\",\"Consumer\",\"Consumer\",\"Consumer\",\"Consumer\",\"Consumer\",\"Consumer\",\"Consumer\",\"Consumer\",\"Consumer\",\"Consumer\",\"Corporate\",\"Corporate\",\"Consumer\",\"Consumer\",\"Consumer\",\"Consumer\",\"Consumer\",\"Consumer\",\"Consumer\",\"Consumer\",\"Consumer\",\"Home Office\",\"Home Office\",\"Home Office\",\"Home Office\",\"Home Office\",\"Home Office\",\"Home Office\",\"Corporate\",\"Corporate\",\"Consumer\",\"Corporate\",\"Corporate\",\"Corporate\",\"Consumer\",\"Consumer\",\"Consumer\",\"Home Office\",\"Consumer\",\"Corporate\",\"Corporate\",\"Corporate\",\"Corporate\",\"Consumer\",\"Consumer\",\"Home Office\",\"Home Office\",\"Home Office\",\"Corporate\",\"Corporate\",\"Home Office\",\"Corporate\",\"Consumer\",\"Consumer\",\"Consumer\",\"Consumer\",\"Consumer\",\"Consumer\",\"Consumer\",\"Home Office\",\"Home Office\",\"Home Office\",\"Home Office\",\"Home Office\",\"Home Office\",\"Consumer\",\"Home Office\",\"Home Office\",\"Home Office\",\"Consumer\",\"Consumer\",\"Consumer\",\"Consumer\",\"Corporate\",\"Corporate\",\"Consumer\",\"Consumer\",\"Consumer\",\"Consumer\",\"Consumer\",\"Corporate\",\"Consumer\",\"Corporate\",\"Consumer\",\"Consumer\",\"Corporate\",\"Corporate\",\"Consumer\",\"Corporate\",\"Consumer\",\"Corporate\",\"Corporate\",\"Corporate\",\"Corporate\",\"Corporate\",\"Corporate\",\"Consumer\",\"Corporate\",\"Corporate\",\"Corporate\",\"Corporate\",\"Corporate\",\"Corporate\",\"Consumer\",\"Home Office\",\"Home Office\",\"Home Office\",\"Home Office\",\"Consumer\",\"Consumer\",\"Consumer\",\"Consumer\",\"Corporate\",\"Consumer\",\"Consumer\",\"Consumer\",\"Consumer\",\"Consumer\",\"Consumer\",\"Consumer\",\"Consumer\",\"Consumer\",\"Consumer\",\"Corporate\",\"Corporate\",\"Corporate\",\"Consumer\",\"Corporate\",\"Corporate\",\"Corporate\",\"Corporate\",\"Consumer\",\"Consumer\",\"Consumer\",\"Consumer\",\"Consumer\",\"Consumer\",\"Consumer\",\"Consumer\",\"Consumer\",\"Consumer\",\"Consumer\",\"Corporate\",\"Consumer\",\"Consumer\",\"Consumer\",\"Consumer\",\"Consumer\",\"Consumer\",\"Consumer\",\"Consumer\",\"Consumer\",\"Consumer\",\"Consumer\",\"Consumer\",\"Consumer\",\"Consumer\",\"Consumer\",\"Consumer\",\"Consumer\",\"Corporate\",\"Corporate\",\"Corporate\",\"Consumer\",\"Home Office\",\"Corporate\",\"Corporate\",\"Corporate\",\"Corporate\",\"Corporate\",\"Corporate\",\"Corporate\",\"Corporate\",\"Consumer\",\"Consumer\",\"Consumer\",\"Corporate\",\"Corporate\",\"Corporate\",\"Consumer\",\"Consumer\",\"Consumer\",\"Consumer\",\"Consumer\",\"Consumer\",\"Home Office\",\"Home Office\",\"Consumer\",\"Consumer\",\"Corporate\",\"Corporate\",\"Corporate\",\"Corporate\",\"Corporate\",\"Corporate\",\"Corporate\",\"Home Office\",\"Home Office\",\"Consumer\",\"Consumer\",\"Consumer\",\"Consumer\",\"Home Office\",\"Home Office\",\"Home Office\",\"Home Office\",\"Home Office\",\"Home Office\",\"Consumer\",\"Consumer\",\"Home Office\",\"Consumer\",\"Corporate\",\"Consumer\",\"Home Office\",\"Corporate\",\"Consumer\",\"Consumer\",\"Home Office\",\"Home Office\",\"Home Office\",\"Corporate\",\"Corporate\",\"Consumer\",\"Consumer\",\"Corporate\",\"Corporate\",\"Consumer\",\"Consumer\",\"Consumer\",\"Consumer\",\"Consumer\",\"Consumer\",\"Consumer\",\"Consumer\",\"Consumer\",\"Home Office\",\"Home Office\",\"Home Office\",\"Home Office\",\"Corporate\",\"Corporate\",\"Corporate\",\"Corporate\",\"Corporate\",\"Corporate\",\"Corporate\",\"Consumer\",\"Consumer\",\"Consumer\",\"Consumer\",\"Corporate\",\"Consumer\",\"Consumer\",\"Home Office\",\"Home Office\",\"Consumer\",\"Consumer\",\"Consumer\",\"Consumer\",\"Home Office\",\"Home Office\",\"Home Office\",\"Home Office\",\"Corporate\",\"Corporate\",\"Corporate\",\"Corporate\",\"Corporate\",\"Corporate\",\"Consumer\",\"Consumer\",\"Consumer\",\"Consumer\",\"Home Office\",\"Home Office\",\"Home Office\",\"Home Office\",\"Home Office\",\"Consumer\",\"Consumer\",\"Consumer\",\"Consumer\",\"Consumer\",\"Consumer\",\"Consumer\",\"Consumer\",\"Corporate\",\"Home Office\",\"Corporate\",\"Consumer\",\"Home Office\",\"Home Office\",\"Home Office\",\"Home Office\",\"Home Office\",\"Home Office\",\"Consumer\",\"Consumer\",\"Consumer\",\"Consumer\",\"Home Office\",\"Home Office\",\"Consumer\",\"Corporate\",\"Consumer\",\"Corporate\",\"Consumer\",\"Consumer\",\"Consumer\",\"Consumer\",\"Home Office\",\"Home Office\",\"Home Office\",\"Consumer\",\"Corporate\",\"Corporate\",\"Home Office\",\"Consumer\",\"Consumer\",\"Consumer\",\"Corporate\",\"Corporate\",\"Consumer\",\"Consumer\",\"Consumer\",\"Consumer\",\"Home Office\",\"Consumer\",\"Consumer\",\"Consumer\",\"Consumer\",\"Consumer\",\"Consumer\",\"Consumer\",\"Consumer\",\"Consumer\",\"Consumer\",\"Consumer\",\"Consumer\",\"Consumer\",\"Consumer\",\"Home Office\",\"Corporate\",\"Corporate\",\"Corporate\",\"Corporate\",\"Consumer\",\"Consumer\",\"Consumer\",\"Consumer\",\"Home Office\",\"Home Office\",\"Home Office\",\"Home Office\",\"Corporate\",\"Corporate\",\"Corporate\",\"Corporate\",\"Corporate\",\"Consumer\",\"Consumer\",\"Consumer\",\"Home Office\",\"Consumer\",\"Consumer\",\"Consumer\",\"Home Office\",\"Consumer\",\"Consumer\",\"Corporate\",\"Corporate\",\"Home Office\",\"Consumer\",\"Consumer\",\"Consumer\",\"Consumer\",\"Corporate\",\"Corporate\",\"Corporate\",\"Home Office\",\"Home Office\",\"Home Office\",\"Home Office\",\"Corporate\",\"Corporate\",\"Home Office\",\"Consumer\",\"Corporate\",\"Corporate\",\"Corporate\",\"Corporate\",\"Corporate\",\"Corporate\",\"Consumer\",\"Consumer\",\"Home Office\",\"Home Office\",\"Home Office\",\"Consumer\",\"Consumer\",\"Consumer\",\"Consumer\",\"Home Office\",\"Consumer\",\"Consumer\",\"Consumer\",\"Corporate\",\"Corporate\",\"Consumer\",\"Consumer\",\"Consumer\",\"Consumer\",\"Consumer\",\"Corporate\",\"Corporate\",\"Corporate\",\"Corporate\",\"Consumer\",\"Consumer\",\"Home Office\",\"Home Office\",\"Home Office\",\"Home Office\",\"Corporate\",\"Home Office\",\"Home Office\",\"Home Office\",\"Home Office\",\"Consumer\",\"Consumer\",\"Consumer\",\"Consumer\",\"Consumer\",\"Consumer\",\"Consumer\",\"Consumer\",\"Consumer\",\"Consumer\",\"Consumer\",\"Consumer\",\"Consumer\",\"Consumer\",\"Corporate\",\"Consumer\",\"Consumer\",\"Consumer\",\"Consumer\",\"Consumer\",\"Consumer\",\"Consumer\",\"Consumer\",\"Consumer\",\"Consumer\",\"Home Office\",\"Home Office\",\"Consumer\",\"Consumer\",\"Consumer\",\"Corporate\",\"Home Office\",\"Home Office\",\"Consumer\",\"Corporate\",\"Corporate\",\"Corporate\",\"Corporate\",\"Corporate\",\"Consumer\",\"Consumer\",\"Consumer\",\"Consumer\",\"Consumer\",\"Consumer\",\"Consumer\",\"Consumer\",\"Consumer\",\"Consumer\",\"Corporate\",\"Corporate\",\"Corporate\",\"Home Office\",\"Home Office\",\"Home Office\",\"Home Office\",\"Corporate\",\"Consumer\",\"Consumer\",\"Consumer\",\"Home Office\",\"Home Office\",\"Home Office\",\"Consumer\",\"Consumer\",\"Consumer\",\"Consumer\",\"Consumer\",\"Consumer\",\"Consumer\",\"Consumer\",\"Consumer\",\"Corporate\",\"Home Office\",\"Home Office\",\"Consumer\",\"Consumer\",\"Home Office\",\"Consumer\",\"Consumer\",\"Consumer\",\"Consumer\",\"Corporate\",\"Corporate\",\"Corporate\",\"Corporate\",\"Home Office\",\"Home Office\",\"Home Office\",\"Home Office\",\"Home Office\",\"Corporate\",\"Corporate\",\"Corporate\",\"Corporate\",\"Consumer\",\"Consumer\",\"Consumer\",\"Corporate\",\"Corporate\",\"Corporate\",\"Corporate\",\"Corporate\",\"Consumer\",\"Corporate\",\"Corporate\",\"Corporate\",\"Corporate\",\"Corporate\",\"Corporate\",\"Corporate\",\"Corporate\",\"Corporate\",\"Corporate\",\"Corporate\",\"Corporate\",\"Corporate\",\"Corporate\",\"Home Office\",\"Home Office\",\"Consumer\",\"Consumer\",\"Consumer\",\"Consumer\",\"Consumer\",\"Consumer\",\"Consumer\",\"Consumer\",\"Consumer\",\"Consumer\",\"Consumer\",\"Corporate\",\"Consumer\",\"Consumer\",\"Consumer\",\"Consumer\",\"Consumer\",\"Consumer\",\"Consumer\",\"Home Office\",\"Consumer\",\"Consumer\",\"Consumer\",\"Consumer\",\"Consumer\",\"Consumer\",\"Consumer\",\"Consumer\",\"Consumer\",\"Consumer\",\"Consumer\",\"Home Office\",\"Home Office\",\"Home Office\",\"Home Office\",\"Home Office\",\"Home Office\",\"Home Office\",\"Consumer\",\"Corporate\",\"Consumer\",\"Consumer\",\"Consumer\",\"Consumer\",\"Corporate\",\"Corporate\",\"Corporate\",\"Consumer\",\"Corporate\",\"Corporate\",\"Corporate\",\"Consumer\",\"Consumer\",\"Consumer\",\"Consumer\",\"Consumer\",\"Corporate\",\"Corporate\",\"Consumer\",\"Consumer\",\"Consumer\",\"Consumer\",\"Consumer\",\"Consumer\",\"Home Office\",\"Corporate\",\"Corporate\",\"Corporate\",\"Home Office\",\"Home Office\",\"Consumer\",\"Consumer\",\"Consumer\",\"Consumer\",\"Corporate\",\"Corporate\",\"Corporate\",\"Consumer\",\"Consumer\",\"Consumer\",\"Home Office\",\"Consumer\",\"Consumer\",\"Consumer\",\"Consumer\",\"Consumer\",\"Consumer\",\"Consumer\",\"Consumer\",\"Consumer\",\"Consumer\",\"Consumer\",\"Corporate\",\"Corporate\",\"Corporate\",\"Consumer\",\"Corporate\",\"Corporate\",\"Consumer\",\"Consumer\",\"Consumer\",\"Consumer\",\"Corporate\",\"Consumer\",\"Home Office\",\"Corporate\",\"Home Office\",\"Consumer\",\"Home Office\",\"Home Office\",\"Consumer\",\"Consumer\",\"Home Office\",\"Consumer\",\"Consumer\",\"Consumer\",\"Consumer\",\"Consumer\",\"Corporate\",\"Corporate\",\"Corporate\",\"Consumer\",\"Consumer\",\"Consumer\",\"Consumer\",\"Consumer\",\"Consumer\",\"Consumer\",\"Consumer\",\"Corporate\",\"Corporate\",\"Corporate\",\"Corporate\",\"Consumer\",\"Consumer\",\"Consumer\",\"Consumer\",\"Consumer\",\"Corporate\",\"Corporate\",\"Corporate\",\"Corporate\",\"Corporate\",\"Corporate\",\"Corporate\",\"Corporate\",\"Home Office\",\"Consumer\",\"Consumer\",\"Home Office\",\"Consumer\",\"Consumer\",\"Consumer\",\"Consumer\",\"Consumer\",\"Consumer\",\"Consumer\",\"Consumer\",\"Consumer\",\"Home Office\",\"Home Office\",\"Home Office\",\"Home Office\",\"Home Office\",\"Home Office\",\"Home Office\",\"Home Office\",\"Home Office\",\"Home Office\",\"Home Office\",\"Home Office\",\"Corporate\",\"Corporate\",\"Corporate\",\"Consumer\",\"Consumer\",\"Consumer\",\"Consumer\",\"Home Office\",\"Home Office\",\"Home Office\",\"Home Office\",\"Home Office\",\"Home Office\",\"Home Office\",\"Consumer\",\"Consumer\",\"Consumer\",\"Home Office\",\"Corporate\",\"Corporate\",\"Consumer\",\"Home Office\",\"Home Office\",\"Corporate\",\"Corporate\",\"Corporate\",\"Corporate\",\"Corporate\",\"Corporate\",\"Corporate\",\"Corporate\",\"Corporate\",\"Corporate\",\"Corporate\",\"Corporate\",\"Corporate\",\"Corporate\",\"Consumer\",\"Consumer\",\"Consumer\",\"Consumer\",\"Consumer\",\"Consumer\",\"Consumer\",\"Consumer\",\"Consumer\",\"Consumer\",\"Consumer\",\"Consumer\",\"Corporate\",\"Corporate\",\"Consumer\",\"Home Office\",\"Home Office\",\"Home Office\",\"Corporate\",\"Corporate\",\"Consumer\",\"Corporate\",\"Corporate\",\"Corporate\",\"Corporate\",\"Home Office\",\"Home Office\",\"Corporate\",\"Corporate\",\"Consumer\",\"Consumer\",\"Consumer\",\"Corporate\",\"Corporate\",\"Corporate\",\"Consumer\",\"Consumer\",\"Home Office\",\"Corporate\",\"Corporate\",\"Corporate\",\"Corporate\",\"Corporate\",\"Consumer\",\"Home Office\",\"Home Office\",\"Home Office\",\"Consumer\",\"Consumer\",\"Consumer\",\"Consumer\",\"Consumer\",\"Consumer\",\"Consumer\",\"Corporate\",\"Consumer\",\"Home Office\",\"Home Office\",\"Home Office\",\"Consumer\",\"Corporate\",\"Corporate\",\"Corporate\",\"Corporate\",\"Consumer\",\"Consumer\",\"Consumer\",\"Consumer\",\"Home Office\",\"Consumer\",\"Consumer\",\"Consumer\",\"Home Office\",\"Home Office\",\"Home Office\",\"Home Office\",\"Consumer\",\"Consumer\",\"Home Office\",\"Consumer\",\"Corporate\",\"Corporate\",\"Consumer\",\"Consumer\",\"Consumer\",\"Consumer\",\"Consumer\",\"Consumer\",\"Consumer\",\"Corporate\",\"Home Office\",\"Consumer\",\"Consumer\",\"Consumer\",\"Consumer\",\"Consumer\",\"Consumer\",\"Consumer\",\"Corporate\",\"Corporate\",\"Corporate\",\"Consumer\",\"Consumer\",\"Corporate\",\"Home Office\",\"Corporate\",\"Corporate\",\"Consumer\",\"Consumer\",\"Consumer\",\"Consumer\",\"Consumer\",\"Consumer\",\"Home Office\",\"Home Office\",\"Corporate\",\"Corporate\",\"Corporate\",\"Corporate\",\"Consumer\",\"Home Office\",\"Consumer\",\"Home Office\",\"Consumer\",\"Corporate\",\"Consumer\",\"Consumer\",\"Consumer\",\"Consumer\",\"Corporate\",\"Home Office\",\"Home Office\",\"Consumer\",\"Consumer\",\"Consumer\",\"Home Office\",\"Consumer\",\"Consumer\",\"Consumer\",\"Corporate\",\"Consumer\",\"Consumer\",\"Consumer\",\"Consumer\",\"Consumer\",\"Consumer\",\"Home Office\",\"Home Office\",\"Consumer\",\"Consumer\",\"Consumer\",\"Consumer\",\"Consumer\",\"Consumer\",\"Consumer\",\"Consumer\",\"Consumer\",\"Consumer\",\"Consumer\",\"Corporate\",\"Corporate\",\"Corporate\",\"Consumer\",\"Consumer\",\"Home Office\",\"Consumer\",\"Corporate\",\"Consumer\",\"Consumer\",\"Consumer\",\"Consumer\",\"Corporate\",\"Consumer\",\"Consumer\",\"Consumer\",\"Consumer\",\"Consumer\",\"Consumer\",\"Consumer\",\"Consumer\",\"Corporate\",\"Corporate\",\"Corporate\",\"Corporate\",\"Home Office\",\"Home Office\",\"Home Office\",\"Home Office\",\"Home Office\",\"Home Office\",\"Consumer\",\"Consumer\",\"Consumer\",\"Consumer\",\"Consumer\",\"Consumer\",\"Home Office\",\"Consumer\",\"Consumer\",\"Consumer\",\"Consumer\",\"Consumer\",\"Consumer\",\"Consumer\",\"Consumer\",\"Consumer\",\"Consumer\",\"Consumer\",\"Consumer\",\"Consumer\",\"Consumer\",\"Consumer\",\"Corporate\",\"Corporate\",\"Corporate\",\"Corporate\",\"Home Office\",\"Home Office\",\"Consumer\",\"Consumer\",\"Corporate\",\"Corporate\",\"Consumer\",\"Consumer\",\"Consumer\",\"Consumer\",\"Consumer\",\"Consumer\",\"Consumer\",\"Consumer\",\"Consumer\",\"Corporate\",\"Corporate\",\"Consumer\",\"Consumer\",\"Consumer\",\"Consumer\",\"Consumer\",\"Consumer\",\"Consumer\",\"Consumer\",\"Corporate\",\"Consumer\",\"Consumer\",\"Corporate\",\"Corporate\",\"Consumer\",\"Consumer\",\"Corporate\",\"Corporate\",\"Corporate\",\"Corporate\",\"Consumer\",\"Corporate\",\"Corporate\",\"Corporate\",\"Corporate\",\"Consumer\",\"Consumer\",\"Consumer\",\"Consumer\",\"Consumer\",\"Consumer\",\"Home Office\",\"Home Office\",\"Home Office\",\"Home Office\",\"Consumer\",\"Consumer\",\"Consumer\",\"Consumer\",\"Consumer\",\"Consumer\",\"Home Office\",\"Consumer\",\"Consumer\",\"Consumer\",\"Consumer\",\"Consumer\",\"Consumer\",\"Consumer\",\"Consumer\",\"Consumer\",\"Consumer\",\"Consumer\",\"Consumer\",\"Consumer\",\"Consumer\",\"Consumer\",\"Consumer\",\"Consumer\",\"Consumer\",\"Consumer\",\"Consumer\",\"Consumer\",\"Consumer\",\"Consumer\",\"Corporate\",\"Consumer\",\"Consumer\",\"Corporate\",\"Corporate\",\"Consumer\",\"Consumer\",\"Consumer\",\"Consumer\",\"Consumer\",\"Corporate\",\"Corporate\",\"Corporate\",\"Home Office\",\"Consumer\",\"Consumer\",\"Consumer\",\"Consumer\",\"Consumer\",\"Consumer\",\"Consumer\",\"Home Office\",\"Home Office\",\"Home Office\",\"Consumer\",\"Corporate\",\"Corporate\",\"Corporate\",\"Home Office\",\"Home Office\",\"Home Office\",\"Consumer\",\"Consumer\",\"Consumer\",\"Consumer\",\"Consumer\",\"Home Office\",\"Home Office\",\"Home Office\",\"Home Office\",\"Consumer\",\"Consumer\",\"Corporate\",\"Corporate\",\"Corporate\",\"Corporate\",\"Corporate\",\"Corporate\",\"Corporate\",\"Corporate\",\"Consumer\",\"Consumer\",\"Consumer\",\"Consumer\",\"Corporate\",\"Corporate\",\"Corporate\",\"Corporate\",\"Corporate\",\"Corporate\",\"Corporate\",\"Corporate\",\"Corporate\",\"Consumer\",\"Consumer\",\"Consumer\",\"Corporate\",\"Home Office\",\"Home Office\",\"Home Office\",\"Home Office\",\"Consumer\",\"Consumer\",\"Consumer\",\"Home Office\",\"Consumer\",\"Consumer\",\"Consumer\",\"Corporate\",\"Corporate\",\"Corporate\",\"Corporate\",\"Corporate\",\"Corporate\",\"Consumer\",\"Consumer\",\"Consumer\",\"Corporate\",\"Consumer\",\"Consumer\",\"Consumer\",\"Consumer\",\"Consumer\",\"Corporate\",\"Corporate\",\"Corporate\",\"Corporate\",\"Consumer\",\"Consumer\",\"Consumer\",\"Home Office\",\"Corporate\",\"Consumer\",\"Home Office\",\"Home Office\",\"Corporate\",\"Corporate\",\"Corporate\",\"Consumer\",\"Corporate\",\"Corporate\",\"Corporate\",\"Corporate\",\"Corporate\",\"Corporate\",\"Corporate\",\"Corporate\",\"Consumer\",\"Home Office\",\"Home Office\",\"Corporate\",\"Corporate\",\"Consumer\",\"Consumer\",\"Consumer\",\"Consumer\",\"Consumer\",\"Consumer\",\"Corporate\",\"Corporate\",\"Corporate\",\"Corporate\",\"Corporate\",\"Consumer\",\"Consumer\",\"Consumer\",\"Corporate\",\"Corporate\",\"Corporate\",\"Corporate\",\"Home Office\",\"Home Office\",\"Consumer\",\"Corporate\",\"Corporate\",\"Corporate\",\"Consumer\",\"Home Office\",\"Consumer\",\"Consumer\",\"Consumer\",\"Consumer\",\"Corporate\",\"Consumer\",\"Consumer\",\"Consumer\",\"Home Office\",\"Consumer\",\"Consumer\",\"Home Office\",\"Home Office\",\"Consumer\",\"Consumer\",\"Corporate\",\"Corporate\",\"Consumer\",\"Consumer\",\"Consumer\",\"Consumer\",\"Consumer\",\"Consumer\",\"Consumer\",\"Consumer\",\"Consumer\",\"Home Office\",\"Corporate\",\"Corporate\",\"Corporate\",\"Corporate\",\"Corporate\",\"Corporate\",\"Corporate\",\"Consumer\",\"Corporate\",\"Corporate\",\"Corporate\",\"Consumer\",\"Home Office\",\"Home Office\",\"Home Office\",\"Consumer\",\"Home Office\",\"Corporate\",\"Corporate\",\"Corporate\",\"Corporate\",\"Corporate\",\"Consumer\",\"Corporate\",\"Consumer\",\"Consumer\",\"Home Office\",\"Home Office\",\"Home Office\",\"Consumer\",\"Consumer\",\"Consumer\",\"Corporate\",\"Corporate\",\"Home Office\",\"Consumer\",\"Consumer\",\"Consumer\",\"Consumer\",\"Corporate\",\"Corporate\",\"Corporate\",\"Corporate\",\"Corporate\",\"Corporate\",\"Corporate\",\"Corporate\",\"Corporate\",\"Corporate\",\"Corporate\",\"Corporate\",\"Corporate\",\"Corporate\",\"Corporate\",\"Corporate\",\"Corporate\",\"Consumer\",\"Consumer\",\"Consumer\",\"Consumer\",\"Consumer\",\"Consumer\",\"Consumer\",\"Consumer\",\"Consumer\",\"Consumer\",\"Consumer\",\"Consumer\",\"Home Office\",\"Home Office\",\"Consumer\",\"Consumer\",\"Consumer\",\"Corporate\",\"Corporate\",\"Corporate\",\"Consumer\",\"Consumer\",\"Consumer\",\"Corporate\",\"Consumer\",\"Corporate\",\"Corporate\",\"Corporate\",\"Consumer\",\"Consumer\",\"Consumer\",\"Consumer\",\"Consumer\",\"Consumer\",\"Home Office\",\"Home Office\",\"Home Office\",\"Consumer\",\"Consumer\",\"Corporate\",\"Corporate\",\"Corporate\",\"Consumer\",\"Consumer\",\"Consumer\",\"Consumer\",\"Home Office\",\"Corporate\",\"Corporate\",\"Consumer\",\"Consumer\",\"Consumer\",\"Consumer\",\"Consumer\",\"Consumer\",\"Consumer\",\"Consumer\",\"Consumer\",\"Consumer\",\"Consumer\",\"Consumer\",\"Consumer\",\"Home Office\",\"Home Office\",\"Home Office\",\"Home Office\",\"Consumer\",\"Consumer\",\"Home Office\",\"Home Office\",\"Corporate\",\"Corporate\",\"Corporate\",\"Corporate\",\"Corporate\",\"Corporate\",\"Consumer\",\"Consumer\",\"Home Office\",\"Home Office\",\"Home Office\",\"Home Office\",\"Home Office\",\"Home Office\",\"Corporate\",\"Corporate\",\"Corporate\",\"Corporate\",\"Corporate\",\"Corporate\",\"Consumer\",\"Consumer\",\"Consumer\",\"Consumer\",\"Consumer\",\"Consumer\",\"Consumer\",\"Consumer\",\"Consumer\",\"Consumer\",\"Consumer\",\"Corporate\",\"Corporate\",\"Corporate\",\"Corporate\",\"Corporate\",\"Corporate\",\"Corporate\",\"Corporate\",\"Corporate\",\"Consumer\",\"Consumer\",\"Corporate\",\"Consumer\",\"Corporate\",\"Home Office\",\"Home Office\",\"Consumer\",\"Consumer\",\"Consumer\",\"Consumer\",\"Consumer\",\"Consumer\",\"Consumer\",\"Consumer\",\"Home Office\",\"Consumer\",\"Consumer\",\"Consumer\",\"Consumer\",\"Consumer\",\"Corporate\",\"Consumer\",\"Consumer\",\"Home Office\",\"Consumer\",\"Consumer\",\"Home Office\",\"Home Office\",\"Home Office\",\"Consumer\",\"Consumer\",\"Consumer\",\"Consumer\",\"Home Office\",\"Corporate\",\"Corporate\",\"Consumer\",\"Corporate\",\"Consumer\",\"Consumer\",\"Consumer\",\"Consumer\",\"Consumer\",\"Consumer\",\"Consumer\",\"Consumer\",\"Consumer\",\"Consumer\",\"Consumer\",\"Corporate\",\"Corporate\",\"Consumer\",\"Corporate\",\"Home Office\",\"Home Office\",\"Home Office\",\"Home Office\",\"Consumer\",\"Home Office\",\"Home Office\",\"Corporate\",\"Corporate\",\"Corporate\",\"Consumer\",\"Consumer\",\"Consumer\",\"Consumer\",\"Consumer\",\"Consumer\",\"Consumer\",\"Corporate\",\"Corporate\",\"Corporate\",\"Corporate\",\"Corporate\",\"Corporate\",\"Corporate\",\"Corporate\",\"Corporate\",\"Consumer\",\"Consumer\",\"Consumer\",\"Consumer\",\"Consumer\",\"Corporate\",\"Home Office\",\"Consumer\",\"Consumer\",\"Consumer\",\"Home Office\",\"Consumer\",\"Consumer\",\"Home Office\",\"Home Office\",\"Consumer\",\"Consumer\",\"Consumer\",\"Consumer\",\"Consumer\",\"Consumer\",\"Consumer\",\"Consumer\",\"Corporate\",\"Consumer\",\"Home Office\",\"Corporate\",\"Home Office\",\"Home Office\",\"Home Office\",\"Home Office\",\"Consumer\",\"Consumer\",\"Consumer\",\"Consumer\",\"Consumer\",\"Consumer\",\"Corporate\",\"Consumer\",\"Consumer\",\"Consumer\",\"Consumer\",\"Consumer\",\"Consumer\",\"Consumer\",\"Consumer\",\"Consumer\",\"Consumer\",\"Consumer\",\"Consumer\",\"Consumer\",\"Consumer\",\"Consumer\",\"Consumer\",\"Home Office\",\"Home Office\",\"Consumer\",\"Home Office\",\"Home Office\",\"Home Office\",\"Home Office\",\"Consumer\",\"Consumer\",\"Corporate\",\"Consumer\",\"Consumer\",\"Consumer\",\"Consumer\",\"Consumer\",\"Corporate\",\"Corporate\",\"Corporate\",\"Corporate\",\"Consumer\",\"Consumer\",\"Consumer\",\"Corporate\",\"Consumer\",\"Corporate\",\"Corporate\",\"Consumer\",\"Consumer\",\"Consumer\",\"Consumer\",\"Consumer\",\"Consumer\",\"Corporate\",\"Consumer\",\"Consumer\",\"Home Office\",\"Home Office\",\"Consumer\",\"Consumer\",\"Consumer\",\"Home Office\",\"Home Office\",\"Home Office\",\"Home Office\",\"Home Office\",\"Consumer\",\"Consumer\",\"Consumer\",\"Consumer\",\"Consumer\",\"Home Office\",\"Corporate\",\"Corporate\",\"Corporate\",\"Corporate\",\"Consumer\",\"Consumer\",\"Home Office\",\"Home Office\",\"Consumer\",\"Consumer\",\"Consumer\",\"Consumer\",\"Consumer\",\"Home Office\",\"Consumer\",\"Corporate\",\"Corporate\",\"Corporate\",\"Consumer\",\"Consumer\",\"Consumer\",\"Corporate\",\"Corporate\",\"Consumer\",\"Consumer\",\"Consumer\",\"Consumer\",\"Consumer\",\"Consumer\",\"Corporate\",\"Consumer\",\"Consumer\",\"Corporate\",\"Consumer\",\"Corporate\",\"Consumer\",\"Corporate\",\"Corporate\",\"Corporate\",\"Corporate\",\"Corporate\",\"Corporate\",\"Consumer\",\"Consumer\",\"Consumer\",\"Consumer\",\"Consumer\",\"Consumer\",\"Consumer\",\"Corporate\",\"Home Office\",\"Home Office\",\"Corporate\",\"Corporate\",\"Consumer\",\"Home Office\",\"Home Office\",\"Home Office\",\"Home Office\",\"Home Office\",\"Corporate\",\"Corporate\",\"Corporate\",\"Corporate\",\"Corporate\",\"Corporate\",\"Consumer\",\"Corporate\",\"Corporate\",\"Corporate\",\"Corporate\",\"Corporate\",\"Corporate\",\"Corporate\",\"Corporate\",\"Home Office\",\"Corporate\",\"Corporate\",\"Corporate\",\"Consumer\",\"Consumer\",\"Consumer\",\"Consumer\",\"Consumer\",\"Consumer\",\"Consumer\",\"Consumer\",\"Consumer\",\"Home Office\",\"Home Office\",\"Consumer\",\"Home Office\",\"Consumer\",\"Consumer\",\"Consumer\",\"Corporate\",\"Corporate\",\"Corporate\",\"Corporate\",\"Corporate\",\"Corporate\",\"Corporate\",\"Corporate\",\"Corporate\",\"Corporate\",\"Corporate\",\"Corporate\",\"Corporate\",\"Corporate\",\"Consumer\",\"Home Office\",\"Home Office\",\"Home Office\",\"Consumer\",\"Consumer\",\"Corporate\",\"Corporate\",\"Corporate\",\"Corporate\",\"Corporate\",\"Corporate\",\"Corporate\",\"Consumer\",\"Consumer\",\"Consumer\",\"Home Office\",\"Home Office\",\"Home Office\",\"Home Office\",\"Consumer\",\"Consumer\",\"Consumer\",\"Consumer\",\"Consumer\",\"Consumer\",\"Consumer\",\"Consumer\",\"Consumer\",\"Consumer\",\"Consumer\",\"Consumer\",\"Corporate\",\"Corporate\",\"Corporate\",\"Consumer\",\"Consumer\",\"Corporate\",\"Corporate\",\"Consumer\",\"Consumer\",\"Corporate\",\"Consumer\",\"Consumer\",\"Consumer\",\"Consumer\",\"Consumer\",\"Home Office\",\"Home Office\",\"Corporate\",\"Consumer\",\"Consumer\",\"Consumer\",\"Home Office\",\"Corporate\",\"Corporate\",\"Corporate\",\"Corporate\",\"Corporate\",\"Home Office\",\"Home Office\",\"Consumer\",\"Consumer\",\"Consumer\",\"Consumer\",\"Corporate\",\"Corporate\",\"Corporate\",\"Home Office\",\"Corporate\",\"Consumer\",\"Consumer\",\"Corporate\",\"Corporate\",\"Consumer\",\"Consumer\",\"Consumer\",\"Consumer\",\"Consumer\",\"Consumer\",\"Consumer\",\"Consumer\",\"Consumer\",\"Consumer\",\"Consumer\",\"Consumer\",\"Consumer\",\"Home Office\",\"Consumer\",\"Consumer\",\"Consumer\",\"Consumer\",\"Consumer\",\"Consumer\",\"Consumer\",\"Consumer\",\"Consumer\",\"Consumer\",\"Consumer\",\"Consumer\",\"Consumer\",\"Consumer\",\"Consumer\",\"Consumer\",\"Consumer\",\"Consumer\",\"Consumer\",\"Consumer\",\"Consumer\",\"Consumer\",\"Consumer\",\"Consumer\",\"Consumer\",\"Consumer\",\"Consumer\",\"Corporate\",\"Consumer\",\"Consumer\",\"Consumer\",\"Consumer\",\"Home Office\",\"Home Office\",\"Home Office\",\"Home Office\",\"Corporate\",\"Corporate\",\"Corporate\",\"Consumer\",\"Consumer\",\"Consumer\",\"Consumer\",\"Consumer\",\"Consumer\",\"Consumer\",\"Home Office\",\"Home Office\",\"Corporate\",\"Consumer\",\"Corporate\",\"Corporate\",\"Corporate\",\"Consumer\",\"Consumer\",\"Consumer\",\"Consumer\",\"Consumer\",\"Corporate\",\"Corporate\",\"Home Office\",\"Consumer\",\"Home Office\",\"Corporate\",\"Corporate\",\"Consumer\",\"Consumer\",\"Corporate\",\"Home Office\",\"Home Office\",\"Home Office\",\"Home Office\",\"Home Office\",\"Home Office\",\"Consumer\",\"Consumer\",\"Consumer\",\"Consumer\",\"Consumer\",\"Home Office\",\"Corporate\",\"Corporate\",\"Corporate\",\"Corporate\",\"Corporate\",\"Corporate\",\"Consumer\",\"Consumer\",\"Consumer\",\"Corporate\",\"Corporate\",\"Corporate\",\"Corporate\",\"Home Office\",\"Home Office\",\"Consumer\",\"Consumer\",\"Consumer\",\"Consumer\",\"Consumer\",\"Consumer\",\"Consumer\",\"Consumer\",\"Home Office\",\"Consumer\",\"Consumer\",\"Corporate\",\"Corporate\",\"Consumer\",\"Consumer\",\"Consumer\",\"Consumer\",\"Consumer\",\"Corporate\",\"Corporate\",\"Consumer\",\"Consumer\",\"Consumer\",\"Corporate\",\"Corporate\",\"Corporate\",\"Home Office\",\"Consumer\",\"Home Office\",\"Corporate\",\"Corporate\",\"Corporate\",\"Corporate\",\"Home Office\",\"Home Office\",\"Home Office\",\"Home Office\",\"Home Office\",\"Home Office\",\"Home Office\",\"Corporate\",\"Consumer\",\"Consumer\",\"Home Office\",\"Home Office\",\"Consumer\",\"Consumer\",\"Corporate\",\"Corporate\",\"Corporate\",\"Corporate\",\"Corporate\",\"Corporate\",\"Corporate\",\"Consumer\",\"Consumer\",\"Consumer\",\"Consumer\",\"Consumer\",\"Consumer\",\"Corporate\",\"Home Office\",\"Corporate\",\"Corporate\",\"Corporate\",\"Corporate\",\"Corporate\",\"Corporate\",\"Corporate\",\"Corporate\",\"Corporate\",\"Consumer\",\"Consumer\",\"Corporate\",\"Corporate\",\"Corporate\",\"Corporate\",\"Corporate\",\"Home Office\",\"Home Office\",\"Home Office\",\"Home Office\",\"Corporate\",\"Corporate\",\"Corporate\",\"Consumer\",\"Consumer\",\"Consumer\",\"Consumer\",\"Corporate\",\"Corporate\",\"Corporate\",\"Consumer\",\"Consumer\",\"Consumer\",\"Consumer\",\"Consumer\",\"Consumer\",\"Home Office\",\"Home Office\",\"Consumer\",\"Consumer\",\"Consumer\",\"Consumer\",\"Consumer\",\"Corporate\",\"Corporate\",\"Corporate\",\"Corporate\",\"Corporate\",\"Corporate\",\"Corporate\",\"Corporate\",\"Consumer\",\"Corporate\",\"Corporate\",\"Corporate\",\"Home Office\",\"Consumer\",\"Consumer\",\"Consumer\",\"Consumer\",\"Consumer\",\"Home Office\",\"Home Office\",\"Corporate\",\"Corporate\",\"Corporate\",\"Corporate\",\"Consumer\",\"Consumer\",\"Consumer\",\"Consumer\",\"Consumer\",\"Home Office\",\"Home Office\",\"Home Office\",\"Home Office\",\"Home Office\",\"Consumer\",\"Consumer\",\"Consumer\",\"Consumer\",\"Corporate\",\"Consumer\",\"Consumer\",\"Consumer\",\"Consumer\",\"Corporate\",\"Consumer\",\"Consumer\",\"Home Office\",\"Home Office\",\"Home Office\",\"Home Office\",\"Home Office\",\"Home Office\",\"Home Office\",\"Consumer\",\"Consumer\",\"Home Office\",\"Home Office\",\"Home Office\",\"Consumer\",\"Consumer\",\"Consumer\",\"Corporate\",\"Consumer\",\"Consumer\",\"Home Office\",\"Corporate\",\"Home Office\",\"Consumer\",\"Consumer\",\"Consumer\",\"Corporate\",\"Corporate\",\"Consumer\",\"Consumer\",\"Consumer\",\"Consumer\",\"Consumer\",\"Consumer\",\"Consumer\",\"Consumer\",\"Consumer\",\"Consumer\",\"Consumer\",\"Consumer\",\"Consumer\",\"Consumer\",\"Consumer\",\"Consumer\",\"Consumer\",\"Corporate\",\"Corporate\",\"Consumer\",\"Consumer\",\"Corporate\",\"Corporate\",\"Consumer\",\"Consumer\",\"Home Office\",\"Consumer\",\"Consumer\",\"Consumer\",\"Consumer\",\"Consumer\",\"Consumer\",\"Consumer\",\"Consumer\",\"Consumer\",\"Consumer\",\"Home Office\",\"Home Office\",\"Home Office\",\"Home Office\",\"Home Office\",\"Home Office\",\"Home Office\",\"Home Office\",\"Consumer\",\"Consumer\",\"Consumer\",\"Consumer\",\"Consumer\",\"Consumer\",\"Consumer\",\"Consumer\",\"Home Office\",\"Consumer\",\"Corporate\",\"Consumer\",\"Corporate\",\"Corporate\",\"Consumer\",\"Consumer\",\"Consumer\",\"Corporate\",\"Corporate\",\"Home Office\",\"Home Office\",\"Corporate\",\"Corporate\",\"Corporate\",\"Corporate\",\"Corporate\",\"Corporate\",\"Corporate\",\"Corporate\",\"Corporate\",\"Corporate\",\"Consumer\",\"Consumer\",\"Consumer\",\"Corporate\",\"Consumer\",\"Consumer\",\"Consumer\",\"Consumer\",\"Consumer\",\"Consumer\",\"Consumer\",\"Consumer\",\"Consumer\",\"Home Office\",\"Home Office\",\"Home Office\",\"Home Office\",\"Home Office\",\"Home Office\",\"Home Office\",\"Home Office\",\"Home Office\",\"Consumer\",\"Consumer\",\"Consumer\",\"Consumer\",\"Consumer\",\"Home Office\",\"Home Office\",\"Home Office\",\"Home Office\",\"Consumer\",\"Consumer\",\"Consumer\",\"Consumer\",\"Consumer\",\"Corporate\",\"Corporate\",\"Consumer\",\"Consumer\",\"Consumer\",\"Consumer\",\"Corporate\",\"Home Office\",\"Consumer\",\"Consumer\",\"Consumer\",\"Corporate\",\"Consumer\",\"Home Office\",\"Corporate\",\"Corporate\",\"Corporate\",\"Corporate\",\"Home Office\",\"Consumer\",\"Consumer\",\"Corporate\",\"Consumer\",\"Corporate\",\"Consumer\",\"Consumer\",\"Consumer\",\"Consumer\",\"Consumer\",\"Consumer\",\"Consumer\",\"Consumer\",\"Consumer\",\"Consumer\",\"Consumer\",\"Consumer\",\"Consumer\",\"Corporate\",\"Corporate\",\"Consumer\",\"Consumer\",\"Consumer\",\"Consumer\",\"Consumer\",\"Home Office\",\"Home Office\",\"Home Office\",\"Home Office\",\"Home Office\",\"Consumer\",\"Consumer\",\"Consumer\",\"Consumer\",\"Consumer\",\"Consumer\",\"Consumer\",\"Corporate\",\"Consumer\",\"Consumer\",\"Corporate\",\"Corporate\",\"Corporate\",\"Corporate\",\"Consumer\",\"Corporate\",\"Consumer\",\"Consumer\",\"Consumer\",\"Home Office\",\"Consumer\",\"Corporate\",\"Corporate\",\"Home Office\",\"Consumer\",\"Consumer\",\"Consumer\",\"Consumer\",\"Consumer\",\"Consumer\",\"Consumer\",\"Consumer\",\"Consumer\",\"Consumer\",\"Consumer\",\"Consumer\",\"Corporate\",\"Corporate\",\"Corporate\",\"Consumer\",\"Home Office\",\"Corporate\",\"Consumer\",\"Consumer\",\"Consumer\",\"Consumer\",\"Home Office\",\"Home Office\",\"Consumer\",\"Consumer\",\"Consumer\",\"Consumer\",\"Consumer\",\"Consumer\",\"Consumer\",\"Consumer\",\"Consumer\",\"Consumer\",\"Corporate\",\"Corporate\",\"Corporate\",\"Consumer\",\"Consumer\",\"Consumer\",\"Home Office\",\"Home Office\",\"Home Office\",\"Home Office\",\"Home Office\",\"Home Office\",\"Home Office\",\"Home Office\",\"Home Office\",\"Corporate\",\"Home Office\",\"Consumer\",\"Consumer\",\"Consumer\",\"Home Office\",\"Home Office\",\"Corporate\",\"Corporate\",\"Corporate\",\"Corporate\",\"Consumer\",\"Consumer\",\"Consumer\",\"Consumer\",\"Consumer\",\"Consumer\",\"Consumer\",\"Consumer\",\"Consumer\",\"Consumer\",\"Corporate\",\"Consumer\",\"Consumer\",\"Consumer\",\"Consumer\",\"Consumer\",\"Consumer\",\"Consumer\",\"Consumer\",\"Home Office\",\"Home Office\",\"Home Office\",\"Corporate\",\"Corporate\",\"Corporate\",\"Corporate\",\"Corporate\",\"Consumer\",\"Consumer\",\"Consumer\",\"Consumer\",\"Consumer\",\"Consumer\",\"Consumer\",\"Consumer\",\"Consumer\",\"Home Office\",\"Home Office\",\"Home Office\",\"Home Office\",\"Consumer\",\"Consumer\",\"Consumer\",\"Corporate\",\"Home Office\",\"Home Office\",\"Home Office\",\"Home Office\",\"Home Office\",\"Home Office\",\"Home Office\",\"Home Office\",\"Home Office\",\"Consumer\",\"Consumer\",\"Consumer\",\"Consumer\",\"Consumer\",\"Consumer\",\"Consumer\",\"Home Office\",\"Corporate\",\"Consumer\",\"Corporate\",\"Corporate\",\"Corporate\",\"Consumer\",\"Home Office\",\"Consumer\",\"Consumer\",\"Consumer\",\"Consumer\",\"Consumer\",\"Corporate\",\"Consumer\",\"Home Office\",\"Home Office\",\"Home Office\",\"Consumer\",\"Home Office\",\"Home Office\",\"Consumer\",\"Home Office\",\"Home Office\",\"Home Office\",\"Home Office\",\"Home Office\",\"Home Office\",\"Home Office\",\"Corporate\",\"Corporate\",\"Corporate\",\"Corporate\",\"Corporate\",\"Corporate\",\"Consumer\",\"Corporate\",\"Corporate\",\"Home Office\",\"Home Office\",\"Home Office\",\"Home Office\",\"Home Office\",\"Home Office\",\"Corporate\",\"Corporate\",\"Corporate\",\"Consumer\",\"Consumer\",\"Home Office\",\"Home Office\",\"Home Office\",\"Home Office\",\"Home Office\",\"Home Office\",\"Home Office\",\"Home Office\",\"Consumer\",\"Consumer\",\"Consumer\",\"Consumer\",\"Consumer\",\"Home Office\",\"Home Office\",\"Consumer\",\"Consumer\",\"Consumer\",\"Consumer\",\"Consumer\",\"Consumer\",\"Consumer\",\"Corporate\",\"Corporate\",\"Consumer\",\"Consumer\",\"Corporate\",\"Corporate\",\"Home Office\",\"Consumer\",\"Corporate\",\"Home Office\",\"Consumer\",\"Consumer\",\"Consumer\",\"Consumer\",\"Consumer\",\"Consumer\",\"Consumer\",\"Consumer\",\"Consumer\",\"Consumer\",\"Consumer\",\"Corporate\",\"Corporate\",\"Corporate\",\"Corporate\",\"Corporate\",\"Corporate\",\"Corporate\",\"Corporate\",\"Consumer\",\"Consumer\",\"Home Office\",\"Home Office\",\"Home Office\",\"Home Office\",\"Corporate\",\"Corporate\",\"Home Office\",\"Home Office\",\"Home Office\",\"Home Office\",\"Home Office\",\"Home Office\",\"Consumer\",\"Corporate\",\"Consumer\",\"Consumer\",\"Corporate\",\"Corporate\",\"Corporate\",\"Corporate\",\"Home Office\",\"Consumer\",\"Consumer\",\"Consumer\",\"Consumer\",\"Consumer\",\"Corporate\",\"Home Office\",\"Corporate\",\"Corporate\",\"Consumer\",\"Consumer\",\"Consumer\",\"Consumer\",\"Consumer\",\"Consumer\",\"Consumer\",\"Consumer\",\"Consumer\",\"Consumer\",\"Corporate\",\"Corporate\",\"Consumer\",\"Consumer\",\"Consumer\",\"Consumer\",\"Consumer\",\"Consumer\",\"Consumer\",\"Consumer\",\"Corporate\",\"Corporate\",\"Corporate\",\"Corporate\",\"Corporate\",\"Corporate\",\"Corporate\",\"Corporate\",\"Corporate\",\"Corporate\",\"Corporate\",\"Corporate\",\"Home Office\",\"Corporate\",\"Corporate\",\"Consumer\",\"Consumer\",\"Home Office\",\"Corporate\",\"Consumer\",\"Consumer\",\"Corporate\",\"Consumer\",\"Consumer\",\"Consumer\",\"Consumer\",\"Consumer\",\"Consumer\",\"Consumer\",\"Consumer\",\"Corporate\",\"Corporate\",\"Corporate\",\"Corporate\",\"Consumer\",\"Corporate\",\"Corporate\",\"Consumer\",\"Consumer\",\"Corporate\",\"Corporate\",\"Corporate\",\"Corporate\",\"Corporate\",\"Corporate\",\"Corporate\",\"Corporate\",\"Corporate\",\"Corporate\",\"Corporate\",\"Corporate\",\"Consumer\",\"Consumer\",\"Consumer\",\"Consumer\",\"Consumer\",\"Consumer\",\"Consumer\",\"Consumer\",\"Consumer\",\"Corporate\",\"Corporate\",\"Corporate\",\"Corporate\",\"Consumer\",\"Consumer\",\"Consumer\",\"Corporate\",\"Corporate\",\"Corporate\",\"Home Office\",\"Home Office\",\"Corporate\",\"Consumer\",\"Home Office\",\"Home Office\",\"Consumer\",\"Consumer\",\"Corporate\",\"Corporate\",\"Corporate\",\"Home Office\",\"Corporate\",\"Corporate\",\"Corporate\",\"Corporate\",\"Corporate\",\"Consumer\",\"Consumer\",\"Consumer\",\"Consumer\",\"Corporate\",\"Corporate\",\"Corporate\",\"Consumer\",\"Home Office\",\"Corporate\",\"Corporate\",\"Corporate\",\"Corporate\",\"Corporate\",\"Corporate\",\"Corporate\",\"Consumer\",\"Consumer\",\"Corporate\",\"Consumer\",\"Home Office\",\"Home Office\",\"Consumer\",\"Consumer\",\"Consumer\",\"Consumer\",\"Consumer\",\"Consumer\",\"Consumer\",\"Consumer\",\"Home Office\",\"Consumer\",\"Consumer\",\"Corporate\",\"Consumer\",\"Consumer\",\"Consumer\",\"Consumer\",\"Consumer\",\"Corporate\",\"Corporate\",\"Corporate\",\"Corporate\",\"Corporate\",\"Corporate\",\"Consumer\",\"Corporate\",\"Consumer\",\"Consumer\",\"Consumer\",\"Consumer\",\"Corporate\",\"Consumer\",\"Consumer\",\"Consumer\",\"Consumer\",\"Consumer\",\"Home Office\",\"Home Office\",\"Consumer\",\"Consumer\",\"Consumer\",\"Consumer\",\"Consumer\",\"Consumer\",\"Consumer\",\"Home Office\",\"Home Office\",\"Home Office\",\"Consumer\",\"Consumer\",\"Consumer\",\"Consumer\",\"Consumer\",\"Consumer\",\"Consumer\",\"Consumer\",\"Consumer\",\"Consumer\",\"Consumer\",\"Consumer\",\"Consumer\",\"Corporate\",\"Corporate\",\"Consumer\",\"Consumer\",\"Corporate\",\"Corporate\",\"Corporate\",\"Corporate\",\"Corporate\",\"Corporate\",\"Home Office\",\"Consumer\",\"Consumer\",\"Home Office\",\"Home Office\",\"Home Office\",\"Home Office\",\"Corporate\",\"Consumer\",\"Corporate\",\"Corporate\",\"Consumer\",\"Consumer\",\"Consumer\",\"Consumer\",\"Consumer\",\"Consumer\",\"Consumer\",\"Consumer\",\"Consumer\",\"Corporate\",\"Home Office\",\"Home Office\",\"Consumer\",\"Corporate\",\"Consumer\",\"Consumer\",\"Consumer\",\"Home Office\",\"Home Office\",\"Home Office\",\"Home Office\",\"Home Office\",\"Consumer\",\"Home Office\",\"Home Office\",\"Consumer\",\"Consumer\",\"Home Office\",\"Home Office\",\"Home Office\",\"Corporate\",\"Corporate\",\"Corporate\",\"Corporate\",\"Corporate\",\"Consumer\",\"Consumer\",\"Home Office\",\"Home Office\",\"Home Office\",\"Consumer\",\"Corporate\",\"Corporate\",\"Corporate\",\"Corporate\",\"Corporate\",\"Consumer\",\"Consumer\",\"Home Office\",\"Home Office\",\"Home Office\",\"Consumer\",\"Consumer\",\"Consumer\",\"Consumer\",\"Consumer\",\"Home Office\",\"Home Office\",\"Home Office\",\"Home Office\",\"Home Office\",\"Consumer\",\"Consumer\",\"Consumer\",\"Consumer\",\"Consumer\",\"Consumer\",\"Consumer\",\"Consumer\",\"Consumer\",\"Consumer\",\"Home Office\",\"Consumer\",\"Corporate\",\"Corporate\",\"Corporate\",\"Consumer\",\"Corporate\",\"Home Office\",\"Consumer\",\"Home Office\",\"Home Office\",\"Home Office\",\"Home Office\",\"Consumer\",\"Consumer\",\"Consumer\",\"Consumer\",\"Consumer\",\"Consumer\",\"Consumer\",\"Consumer\",\"Corporate\",\"Consumer\",\"Home Office\",\"Consumer\",\"Corporate\",\"Corporate\",\"Corporate\",\"Consumer\",\"Consumer\",\"Consumer\",\"Corporate\",\"Corporate\",\"Consumer\",\"Consumer\",\"Corporate\",\"Corporate\",\"Consumer\",\"Corporate\",\"Corporate\",\"Corporate\",\"Consumer\",\"Corporate\",\"Corporate\",\"Corporate\",\"Corporate\",\"Consumer\",\"Home Office\",\"Consumer\",\"Consumer\",\"Consumer\",\"Consumer\",\"Consumer\",\"Corporate\",\"Corporate\",\"Corporate\",\"Home Office\",\"Home Office\",\"Home Office\",\"Consumer\",\"Consumer\",\"Consumer\",\"Consumer\",\"Consumer\",\"Home Office\",\"Consumer\",\"Consumer\",\"Consumer\",\"Consumer\",\"Consumer\",\"Consumer\",\"Consumer\",\"Corporate\",\"Corporate\",\"Corporate\",\"Consumer\",\"Consumer\",\"Consumer\",\"Consumer\",\"Home Office\",\"Corporate\",\"Corporate\",\"Corporate\",\"Corporate\",\"Consumer\",\"Home Office\",\"Home Office\",\"Home Office\",\"Consumer\",\"Consumer\",\"Corporate\",\"Corporate\",\"Consumer\",\"Consumer\",\"Consumer\",\"Consumer\",\"Consumer\",\"Corporate\",\"Corporate\",\"Corporate\",\"Corporate\",\"Consumer\",\"Consumer\",\"Consumer\",\"Consumer\",\"Consumer\",\"Home Office\",\"Home Office\",\"Home Office\",\"Home Office\",\"Home Office\",\"Home Office\",\"Home Office\",\"Corporate\",\"Consumer\",\"Consumer\",\"Consumer\",\"Consumer\",\"Consumer\",\"Consumer\",\"Consumer\",\"Consumer\",\"Consumer\",\"Consumer\",\"Consumer\",\"Consumer\",\"Home Office\",\"Home Office\",\"Home Office\",\"Home Office\",\"Home Office\",\"Home Office\",\"Corporate\",\"Consumer\",\"Consumer\",\"Consumer\",\"Home Office\",\"Home Office\",\"Consumer\",\"Consumer\",\"Consumer\",\"Consumer\",\"Corporate\",\"Corporate\",\"Corporate\",\"Corporate\",\"Corporate\",\"Home Office\",\"Consumer\",\"Home Office\",\"Home Office\",\"Consumer\",\"Consumer\",\"Home Office\",\"Home Office\",\"Corporate\",\"Consumer\",\"Consumer\",\"Consumer\",\"Consumer\",\"Consumer\",\"Consumer\",\"Consumer\",\"Home Office\",\"Home Office\",\"Home Office\",\"Consumer\",\"Consumer\",\"Corporate\",\"Corporate\",\"Corporate\",\"Corporate\",\"Home Office\",\"Home Office\",\"Corporate\",\"Corporate\",\"Consumer\",\"Consumer\",\"Consumer\",\"Consumer\",\"Corporate\",\"Corporate\",\"Consumer\",\"Consumer\",\"Home Office\",\"Home Office\",\"Home Office\",\"Home Office\",\"Consumer\",\"Corporate\",\"Corporate\",\"Corporate\",\"Corporate\",\"Home Office\",\"Home Office\",\"Home Office\",\"Home Office\",\"Home Office\",\"Home Office\",\"Home Office\",\"Home Office\",\"Home Office\",\"Consumer\",\"Consumer\",\"Consumer\",\"Consumer\",\"Home Office\",\"Home Office\",\"Consumer\",\"Consumer\",\"Consumer\",\"Consumer\",\"Consumer\",\"Consumer\",\"Consumer\",\"Corporate\",\"Corporate\",\"Corporate\",\"Corporate\",\"Corporate\",\"Corporate\",\"Home Office\",\"Home Office\",\"Home Office\",\"Consumer\",\"Consumer\",\"Consumer\",\"Consumer\",\"Consumer\",\"Consumer\",\"Consumer\",\"Consumer\",\"Home Office\",\"Home Office\",\"Consumer\",\"Consumer\",\"Corporate\",\"Consumer\",\"Consumer\",\"Consumer\",\"Consumer\",\"Consumer\",\"Consumer\",\"Consumer\",\"Consumer\",\"Consumer\",\"Consumer\",\"Consumer\",\"Consumer\",\"Consumer\",\"Corporate\",\"Corporate\",\"Corporate\",\"Corporate\",\"Corporate\",\"Corporate\",\"Corporate\",\"Home Office\",\"Corporate\",\"Home Office\",\"Corporate\",\"Corporate\",\"Corporate\",\"Corporate\",\"Corporate\",\"Corporate\",\"Consumer\",\"Corporate\",\"Corporate\",\"Corporate\",\"Corporate\",\"Corporate\",\"Consumer\",\"Consumer\",\"Consumer\",\"Consumer\",\"Home Office\",\"Consumer\",\"Consumer\",\"Corporate\",\"Home Office\",\"Home Office\",\"Consumer\",\"Corporate\",\"Consumer\",\"Corporate\",\"Consumer\",\"Consumer\",\"Consumer\",\"Corporate\",\"Corporate\",\"Corporate\",\"Corporate\",\"Corporate\",\"Consumer\",\"Consumer\",\"Consumer\",\"Consumer\",\"Consumer\",\"Consumer\",\"Consumer\",\"Consumer\",\"Consumer\",\"Consumer\",\"Consumer\",\"Consumer\",\"Consumer\",\"Corporate\",\"Corporate\",\"Corporate\",\"Corporate\",\"Corporate\",\"Corporate\",\"Corporate\",\"Corporate\",\"Corporate\",\"Corporate\",\"Consumer\",\"Corporate\",\"Corporate\",\"Corporate\",\"Consumer\",\"Corporate\",\"Corporate\",\"Consumer\",\"Corporate\",\"Corporate\",\"Home Office\",\"Corporate\",\"Corporate\",\"Consumer\",\"Corporate\",\"Consumer\",\"Consumer\",\"Consumer\",\"Consumer\",\"Consumer\",\"Home Office\",\"Home Office\",\"Consumer\",\"Home Office\",\"Consumer\",\"Consumer\",\"Consumer\",\"Home Office\",\"Home Office\",\"Corporate\",\"Consumer\",\"Consumer\",\"Home Office\",\"Home Office\",\"Corporate\",\"Corporate\",\"Consumer\",\"Consumer\",\"Consumer\",\"Consumer\",\"Consumer\",\"Corporate\",\"Corporate\",\"Consumer\",\"Consumer\",\"Consumer\",\"Consumer\",\"Consumer\",\"Consumer\",\"Corporate\",\"Corporate\",\"Corporate\",\"Corporate\",\"Corporate\",\"Corporate\",\"Consumer\",\"Consumer\",\"Consumer\",\"Consumer\",\"Consumer\",\"Consumer\",\"Consumer\",\"Consumer\",\"Consumer\",\"Consumer\",\"Consumer\",\"Consumer\",\"Consumer\",\"Consumer\",\"Corporate\",\"Corporate\",\"Corporate\",\"Corporate\",\"Corporate\",\"Consumer\",\"Consumer\",\"Corporate\",\"Corporate\",\"Corporate\",\"Corporate\",\"Consumer\",\"Consumer\",\"Consumer\",\"Consumer\",\"Corporate\",\"Corporate\",\"Corporate\",\"Corporate\",\"Corporate\",\"Corporate\",\"Home Office\",\"Consumer\",\"Consumer\",\"Corporate\",\"Home Office\",\"Consumer\",\"Home Office\",\"Home Office\",\"Consumer\",\"Consumer\",\"Consumer\",\"Consumer\",\"Home Office\",\"Home Office\",\"Consumer\",\"Consumer\",\"Consumer\",\"Consumer\",\"Consumer\",\"Consumer\",\"Consumer\",\"Consumer\",\"Consumer\",\"Consumer\",\"Consumer\",\"Consumer\",\"Consumer\",\"Consumer\",\"Consumer\",\"Consumer\",\"Consumer\",\"Corporate\",\"Corporate\",\"Consumer\",\"Consumer\",\"Consumer\",\"Consumer\",\"Corporate\",\"Consumer\",\"Consumer\",\"Consumer\",\"Consumer\",\"Consumer\",\"Corporate\",\"Corporate\",\"Corporate\",\"Consumer\",\"Home Office\",\"Home Office\",\"Corporate\",\"Corporate\",\"Consumer\",\"Consumer\",\"Corporate\",\"Home Office\",\"Home Office\",\"Home Office\",\"Home Office\",\"Home Office\",\"Home Office\",\"Home Office\",\"Home Office\",\"Home Office\",\"Home Office\",\"Consumer\",\"Corporate\",\"Corporate\",\"Consumer\",\"Consumer\",\"Consumer\",\"Consumer\",\"Consumer\",\"Corporate\",\"Corporate\",\"Consumer\",\"Consumer\",\"Consumer\",\"Consumer\",\"Consumer\",\"Consumer\",\"Consumer\",\"Consumer\",\"Consumer\",\"Consumer\",\"Corporate\",\"Corporate\",\"Consumer\",\"Consumer\",\"Consumer\",\"Consumer\",\"Consumer\",\"Consumer\",\"Consumer\",\"Consumer\",\"Consumer\",\"Consumer\",\"Consumer\",\"Consumer\",\"Consumer\",\"Consumer\",\"Home Office\",\"Home Office\",\"Home Office\",\"Home Office\",\"Consumer\",\"Corporate\",\"Consumer\",\"Consumer\",\"Consumer\",\"Consumer\",\"Consumer\",\"Consumer\",\"Consumer\",\"Corporate\",\"Corporate\",\"Home Office\",\"Home Office\",\"Consumer\",\"Corporate\",\"Consumer\",\"Home Office\",\"Corporate\",\"Corporate\",\"Consumer\",\"Home Office\",\"Consumer\",\"Consumer\",\"Consumer\",\"Consumer\",\"Consumer\",\"Home Office\",\"Home Office\",\"Corporate\",\"Corporate\",\"Home Office\",\"Consumer\",\"Consumer\",\"Consumer\",\"Consumer\",\"Home Office\",\"Home Office\",\"Corporate\",\"Consumer\",\"Consumer\",\"Corporate\",\"Corporate\",\"Corporate\",\"Consumer\",\"Consumer\",\"Consumer\",\"Consumer\",\"Consumer\",\"Corporate\",\"Home Office\",\"Home Office\",\"Consumer\",\"Consumer\",\"Consumer\",\"Consumer\",\"Consumer\",\"Consumer\",\"Corporate\",\"Consumer\",\"Consumer\",\"Consumer\",\"Home Office\",\"Consumer\",\"Consumer\",\"Consumer\",\"Consumer\",\"Consumer\",\"Consumer\",\"Consumer\",\"Consumer\",\"Consumer\",\"Consumer\",\"Corporate\",\"Corporate\",\"Corporate\",\"Corporate\",\"Corporate\",\"Corporate\",\"Consumer\",\"Consumer\",\"Home Office\",\"Home Office\",\"Home Office\",\"Corporate\",\"Corporate\",\"Consumer\",\"Corporate\",\"Corporate\",\"Corporate\",\"Corporate\",\"Corporate\",\"Corporate\",\"Corporate\",\"Consumer\",\"Corporate\",\"Consumer\",\"Corporate\",\"Corporate\",\"Consumer\",\"Consumer\",\"Corporate\",\"Corporate\",\"Corporate\",\"Corporate\",\"Corporate\",\"Corporate\",\"Consumer\",\"Consumer\",\"Consumer\",\"Consumer\",\"Corporate\",\"Consumer\",\"Consumer\",\"Consumer\",\"Corporate\",\"Corporate\",\"Corporate\",\"Corporate\",\"Consumer\",\"Consumer\",\"Consumer\",\"Home Office\",\"Home Office\",\"Consumer\",\"Consumer\",\"Corporate\",\"Corporate\",\"Corporate\",\"Consumer\",\"Corporate\",\"Corporate\",\"Corporate\",\"Corporate\",\"Home Office\",\"Corporate\",\"Corporate\",\"Corporate\",\"Consumer\",\"Corporate\",\"Corporate\",\"Corporate\",\"Consumer\",\"Consumer\",\"Consumer\",\"Consumer\",\"Consumer\",\"Consumer\",\"Consumer\",\"Consumer\",\"Consumer\",\"Consumer\",\"Consumer\",\"Home Office\",\"Consumer\",\"Consumer\",\"Consumer\",\"Consumer\",\"Consumer\",\"Corporate\",\"Corporate\",\"Corporate\",\"Corporate\",\"Corporate\",\"Corporate\",\"Consumer\",\"Consumer\",\"Consumer\",\"Consumer\",\"Consumer\",\"Consumer\",\"Consumer\",\"Consumer\",\"Consumer\",\"Corporate\",\"Consumer\",\"Consumer\",\"Consumer\",\"Consumer\",\"Consumer\",\"Corporate\",\"Consumer\",\"Consumer\",\"Consumer\",\"Consumer\",\"Home Office\",\"Home Office\",\"Consumer\",\"Corporate\",\"Consumer\",\"Consumer\",\"Consumer\",\"Consumer\",\"Home Office\",\"Home Office\",\"Home Office\",\"Consumer\",\"Consumer\",\"Consumer\",\"Consumer\",\"Consumer\",\"Consumer\",\"Consumer\",\"Consumer\",\"Corporate\",\"Corporate\",\"Consumer\",\"Consumer\",\"Corporate\",\"Consumer\",\"Consumer\",\"Consumer\",\"Consumer\",\"Consumer\",\"Corporate\",\"Corporate\",\"Corporate\",\"Consumer\",\"Consumer\",\"Home Office\",\"Home Office\",\"Consumer\",\"Consumer\",\"Consumer\",\"Consumer\",\"Home Office\",\"Corporate\",\"Corporate\",\"Consumer\",\"Home Office\",\"Consumer\",\"Home Office\",\"Home Office\",\"Home Office\",\"Corporate\",\"Consumer\",\"Corporate\",\"Corporate\",\"Corporate\",\"Corporate\",\"Consumer\",\"Consumer\",\"Corporate\",\"Corporate\",\"Consumer\",\"Consumer\",\"Consumer\",\"Consumer\",\"Consumer\",\"Home Office\",\"Home Office\",\"Home Office\",\"Home Office\",\"Consumer\",\"Consumer\",\"Consumer\",\"Consumer\",\"Consumer\",\"Consumer\",\"Consumer\",\"Consumer\",\"Consumer\",\"Consumer\",\"Consumer\",\"Consumer\",\"Consumer\",\"Corporate\",\"Corporate\",\"Corporate\",\"Consumer\",\"Consumer\",\"Consumer\",\"Consumer\",\"Consumer\",\"Consumer\",\"Corporate\",\"Consumer\",\"Home Office\",\"Corporate\",\"Corporate\",\"Corporate\",\"Corporate\",\"Corporate\",\"Corporate\",\"Home Office\",\"Home Office\",\"Home Office\",\"Corporate\",\"Home Office\",\"Corporate\",\"Home Office\",\"Home Office\",\"Home Office\",\"Home Office\",\"Corporate\",\"Home Office\",\"Home Office\",\"Home Office\",\"Consumer\",\"Consumer\",\"Corporate\",\"Consumer\",\"Consumer\",\"Consumer\",\"Consumer\",\"Consumer\",\"Consumer\",\"Corporate\",\"Corporate\",\"Corporate\",\"Corporate\",\"Consumer\",\"Consumer\",\"Consumer\",\"Consumer\",\"Consumer\",\"Consumer\",\"Consumer\",\"Consumer\",\"Consumer\",\"Corporate\",\"Corporate\",\"Consumer\",\"Consumer\",\"Corporate\",\"Corporate\",\"Home Office\",\"Corporate\",\"Corporate\",\"Corporate\",\"Home Office\",\"Home Office\",\"Consumer\",\"Consumer\",\"Corporate\",\"Corporate\",\"Corporate\",\"Home Office\",\"Corporate\",\"Corporate\",\"Home Office\",\"Home Office\",\"Home Office\",\"Consumer\",\"Corporate\",\"Consumer\",\"Corporate\",\"Consumer\",\"Consumer\",\"Consumer\",\"Consumer\",\"Consumer\",\"Home Office\",\"Consumer\",\"Consumer\",\"Consumer\",\"Corporate\",\"Corporate\",\"Consumer\",\"Consumer\",\"Consumer\",\"Consumer\",\"Consumer\",\"Corporate\",\"Consumer\",\"Consumer\",\"Consumer\",\"Consumer\",\"Consumer\",\"Consumer\",\"Consumer\",\"Consumer\",\"Consumer\",\"Consumer\",\"Consumer\",\"Consumer\",\"Corporate\",\"Corporate\",\"Consumer\",\"Consumer\",\"Consumer\",\"Consumer\",\"Consumer\",\"Consumer\",\"Consumer\",\"Consumer\",\"Consumer\",\"Home Office\",\"Home Office\",\"Consumer\",\"Consumer\",\"Consumer\",\"Consumer\",\"Consumer\",\"Consumer\",\"Consumer\",\"Consumer\",\"Consumer\",\"Consumer\",\"Consumer\",\"Consumer\",\"Consumer\",\"Consumer\",\"Consumer\",\"Corporate\",\"Consumer\",\"Consumer\",\"Consumer\",\"Consumer\",\"Consumer\",\"Corporate\",\"Consumer\",\"Consumer\",\"Consumer\",\"Consumer\",\"Consumer\",\"Consumer\",\"Consumer\",\"Consumer\",\"Home Office\",\"Home Office\",\"Home Office\",\"Consumer\",\"Consumer\",\"Corporate\",\"Home Office\",\"Home Office\",\"Home Office\",\"Home Office\",\"Home Office\",\"Consumer\",\"Consumer\",\"Consumer\",\"Consumer\",\"Consumer\",\"Consumer\",\"Corporate\",\"Corporate\",\"Consumer\",\"Consumer\",\"Consumer\",\"Consumer\",\"Corporate\",\"Corporate\",\"Consumer\",\"Consumer\",\"Corporate\",\"Consumer\",\"Consumer\",\"Consumer\",\"Consumer\",\"Consumer\",\"Consumer\",\"Consumer\",\"Consumer\",\"Consumer\",\"Corporate\",\"Corporate\",\"Corporate\",\"Home Office\",\"Home Office\",\"Consumer\",\"Consumer\",\"Consumer\",\"Corporate\",\"Consumer\",\"Consumer\",\"Consumer\",\"Consumer\",\"Consumer\",\"Consumer\",\"Consumer\",\"Corporate\",\"Corporate\",\"Corporate\",\"Corporate\",\"Corporate\",\"Corporate\",\"Consumer\",\"Consumer\",\"Consumer\",\"Consumer\",\"Consumer\",\"Consumer\",\"Consumer\",\"Consumer\",\"Consumer\",\"Consumer\",\"Consumer\",\"Consumer\",\"Consumer\",\"Consumer\",\"Consumer\",\"Consumer\",\"Home Office\",\"Home Office\",\"Home Office\",\"Home Office\",\"Consumer\",\"Consumer\",\"Consumer\",\"Consumer\",\"Consumer\",\"Consumer\",\"Consumer\",\"Home Office\",\"Home Office\",\"Consumer\",\"Consumer\",\"Home Office\",\"Home Office\",\"Home Office\",\"Home Office\",\"Home Office\",\"Home Office\",\"Corporate\",\"Consumer\",\"Consumer\",\"Consumer\",\"Consumer\",\"Corporate\",\"Home Office\",\"Home Office\",\"Home Office\",\"Home Office\",\"Home Office\",\"Home Office\",\"Consumer\",\"Consumer\",\"Consumer\",\"Consumer\",\"Consumer\",\"Consumer\",\"Consumer\",\"Consumer\",\"Consumer\",\"Consumer\",\"Home Office\",\"Home Office\",\"Home Office\",\"Consumer\",\"Consumer\",\"Consumer\",\"Consumer\",\"Consumer\",\"Consumer\",\"Consumer\",\"Consumer\",\"Corporate\",\"Corporate\",\"Corporate\",\"Corporate\",\"Corporate\",\"Home Office\",\"Home Office\",\"Home Office\",\"Home Office\",\"Home Office\",\"Home Office\",\"Consumer\",\"Corporate\",\"Corporate\",\"Consumer\",\"Consumer\",\"Consumer\",\"Home Office\",\"Consumer\",\"Consumer\",\"Consumer\",\"Corporate\",\"Corporate\",\"Corporate\",\"Corporate\",\"Consumer\",\"Consumer\",\"Home Office\",\"Home Office\",\"Home Office\",\"Corporate\",\"Consumer\",\"Consumer\",\"Consumer\",\"Home Office\",\"Home Office\",\"Corporate\",\"Home Office\",\"Home Office\",\"Home Office\",\"Home Office\",\"Corporate\",\"Corporate\",\"Corporate\",\"Consumer\",\"Consumer\",\"Consumer\",\"Consumer\",\"Consumer\",\"Consumer\",\"Consumer\",\"Consumer\",\"Consumer\",\"Corporate\",\"Consumer\",\"Consumer\",\"Consumer\",\"Consumer\",\"Consumer\",\"Consumer\",\"Corporate\",\"Consumer\",\"Corporate\",\"Corporate\",\"Corporate\",\"Home Office\",\"Corporate\",\"Consumer\",\"Consumer\",\"Consumer\",\"Consumer\",\"Home Office\",\"Home Office\",\"Home Office\",\"Home Office\",\"Home Office\",\"Home Office\",\"Home Office\",\"Home Office\",\"Consumer\",\"Home Office\",\"Corporate\",\"Corporate\",\"Home Office\",\"Consumer\",\"Corporate\",\"Home Office\",\"Home Office\",\"Home Office\",\"Home Office\",\"Home Office\",\"Home Office\",\"Corporate\",\"Corporate\",\"Corporate\",\"Corporate\",\"Corporate\",\"Corporate\",\"Home Office\",\"Home Office\",\"Home Office\",\"Home Office\",\"Home Office\",\"Home Office\",\"Home Office\",\"Home Office\",\"Home Office\",\"Home Office\",\"Consumer\",\"Consumer\",\"Consumer\",\"Consumer\",\"Consumer\",\"Corporate\",\"Consumer\",\"Consumer\",\"Home Office\",\"Home Office\",\"Corporate\",\"Home Office\",\"Home Office\",\"Home Office\",\"Home Office\",\"Corporate\",\"Consumer\",\"Consumer\",\"Consumer\",\"Consumer\",\"Corporate\",\"Corporate\",\"Corporate\",\"Corporate\",\"Consumer\",\"Consumer\",\"Consumer\",\"Corporate\",\"Corporate\",\"Corporate\",\"Consumer\",\"Consumer\",\"Consumer\",\"Consumer\",\"Consumer\",\"Consumer\",\"Consumer\",\"Consumer\",\"Consumer\",\"Home Office\",\"Corporate\",\"Home Office\",\"Corporate\",\"Corporate\",\"Home Office\",\"Home Office\",\"Home Office\",\"Home Office\",\"Consumer\",\"Corporate\",\"Consumer\",\"Consumer\",\"Consumer\",\"Consumer\",\"Consumer\",\"Consumer\",\"Consumer\",\"Consumer\",\"Consumer\",\"Consumer\",\"Corporate\",\"Corporate\",\"Corporate\",\"Corporate\",\"Corporate\",\"Consumer\",\"Consumer\",\"Consumer\",\"Consumer\",\"Consumer\",\"Consumer\",\"Consumer\",\"Consumer\",\"Consumer\",\"Consumer\",\"Consumer\",\"Consumer\",\"Corporate\",\"Corporate\",\"Corporate\",\"Corporate\",\"Consumer\",\"Consumer\",\"Consumer\",\"Consumer\",\"Consumer\",\"Consumer\",\"Consumer\",\"Consumer\",\"Consumer\",\"Consumer\",\"Consumer\",\"Consumer\",\"Home Office\",\"Home Office\",\"Home Office\",\"Home Office\",\"Corporate\",\"Consumer\",\"Consumer\",\"Consumer\",\"Consumer\",\"Consumer\",\"Consumer\",\"Consumer\",\"Consumer\",\"Consumer\",\"Consumer\",\"Consumer\",\"Consumer\",\"Home Office\",\"Consumer\",\"Corporate\",\"Home Office\",\"Home Office\",\"Consumer\",\"Home Office\",\"Consumer\",\"Home Office\",\"Home Office\",\"Home Office\",\"Home Office\",\"Consumer\",\"Consumer\",\"Consumer\",\"Consumer\",\"Consumer\",\"Consumer\",\"Corporate\",\"Home Office\",\"Home Office\",\"Home Office\",\"Consumer\",\"Consumer\",\"Consumer\",\"Consumer\",\"Consumer\",\"Consumer\",\"Consumer\",\"Consumer\",\"Consumer\",\"Corporate\",\"Corporate\",\"Corporate\",\"Corporate\",\"Consumer\",\"Consumer\",\"Consumer\",\"Consumer\",\"Consumer\",\"Consumer\",\"Home Office\",\"Consumer\",\"Consumer\",\"Consumer\",\"Consumer\",\"Consumer\",\"Consumer\",\"Consumer\",\"Home Office\",\"Corporate\",\"Corporate\",\"Consumer\",\"Home Office\",\"Home Office\",\"Consumer\",\"Consumer\",\"Consumer\",\"Consumer\",\"Home Office\",\"Corporate\",\"Corporate\",\"Consumer\",\"Consumer\",\"Consumer\",\"Consumer\",\"Consumer\",\"Consumer\",\"Consumer\",\"Consumer\",\"Consumer\",\"Consumer\",\"Consumer\",\"Consumer\",\"Consumer\",\"Consumer\",\"Consumer\",\"Consumer\",\"Corporate\",\"Consumer\",\"Corporate\",\"Corporate\",\"Corporate\",\"Corporate\",\"Corporate\",\"Corporate\",\"Corporate\",\"Consumer\",\"Consumer\",\"Consumer\",\"Consumer\",\"Consumer\",\"Corporate\",\"Consumer\",\"Consumer\",\"Consumer\",\"Consumer\",\"Consumer\",\"Consumer\",\"Consumer\",\"Consumer\",\"Consumer\",\"Consumer\",\"Consumer\",\"Consumer\",\"Consumer\",\"Home Office\",\"Consumer\",\"Consumer\",\"Consumer\",\"Corporate\",\"Corporate\",\"Corporate\",\"Consumer\",\"Consumer\",\"Consumer\",\"Consumer\",\"Consumer\",\"Home Office\",\"Home Office\",\"Home Office\",\"Consumer\",\"Consumer\",\"Consumer\",\"Home Office\",\"Consumer\",\"Consumer\",\"Consumer\",\"Corporate\",\"Consumer\",\"Corporate\",\"Corporate\",\"Corporate\",\"Consumer\",\"Consumer\",\"Consumer\",\"Consumer\",\"Consumer\",\"Consumer\",\"Consumer\",\"Consumer\",\"Consumer\",\"Consumer\",\"Corporate\",\"Corporate\",\"Home Office\",\"Corporate\",\"Corporate\",\"Consumer\",\"Consumer\",\"Consumer\",\"Consumer\",\"Consumer\",\"Corporate\",\"Corporate\",\"Consumer\",\"Consumer\",\"Consumer\",\"Consumer\",\"Corporate\",\"Home Office\",\"Home Office\",\"Consumer\",\"Corporate\",\"Corporate\",\"Corporate\",\"Corporate\",\"Consumer\",\"Consumer\",\"Corporate\",\"Corporate\",\"Corporate\",\"Corporate\",\"Corporate\",\"Corporate\",\"Corporate\",\"Corporate\",\"Corporate\",\"Corporate\",\"Corporate\",\"Corporate\",\"Consumer\",\"Consumer\",\"Consumer\",\"Corporate\",\"Corporate\",\"Consumer\",\"Consumer\",\"Corporate\",\"Corporate\",\"Corporate\",\"Consumer\",\"Consumer\",\"Consumer\",\"Consumer\",\"Consumer\",\"Consumer\",\"Consumer\",\"Consumer\",\"Consumer\",\"Consumer\",\"Consumer\",\"Corporate\",\"Corporate\",\"Consumer\",\"Home Office\",\"Home Office\",\"Home Office\",\"Home Office\",\"Corporate\",\"Consumer\",\"Home Office\",\"Home Office\",\"Consumer\",\"Consumer\",\"Corporate\",\"Consumer\",\"Consumer\",\"Consumer\",\"Corporate\",\"Home Office\",\"Consumer\",\"Consumer\",\"Consumer\",\"Consumer\",\"Consumer\",\"Consumer\",\"Consumer\",\"Consumer\",\"Consumer\",\"Consumer\",\"Consumer\",\"Consumer\",\"Consumer\",\"Consumer\",\"Consumer\",\"Corporate\",\"Corporate\",\"Corporate\",\"Corporate\",\"Corporate\",\"Consumer\",\"Consumer\",\"Home Office\",\"Home Office\",\"Consumer\",\"Consumer\",\"Consumer\",\"Consumer\",\"Corporate\",\"Home Office\",\"Home Office\",\"Home Office\",\"Home Office\",\"Corporate\",\"Corporate\",\"Corporate\",\"Corporate\",\"Home Office\",\"Corporate\",\"Consumer\",\"Consumer\",\"Consumer\",\"Corporate\",\"Corporate\",\"Corporate\",\"Corporate\",\"Consumer\",\"Corporate\",\"Consumer\",\"Home Office\",\"Home Office\",\"Home Office\",\"Home Office\",\"Home Office\",\"Corporate\",\"Corporate\",\"Corporate\",\"Corporate\",\"Home Office\",\"Corporate\",\"Corporate\",\"Home Office\",\"Home Office\",\"Home Office\",\"Home Office\",\"Home Office\",\"Consumer\",\"Consumer\",\"Corporate\",\"Home Office\",\"Home Office\",\"Corporate\",\"Corporate\",\"Corporate\",\"Corporate\",\"Home Office\",\"Home Office\",\"Home Office\",\"Consumer\",\"Consumer\",\"Consumer\",\"Consumer\",\"Consumer\",\"Corporate\",\"Consumer\",\"Consumer\",\"Consumer\",\"Consumer\",\"Consumer\",\"Consumer\",\"Consumer\",\"Consumer\",\"Consumer\",\"Consumer\",\"Consumer\",\"Corporate\",\"Corporate\",\"Home Office\",\"Corporate\",\"Corporate\",\"Consumer\",\"Corporate\",\"Corporate\",\"Corporate\",\"Consumer\",\"Consumer\",\"Consumer\",\"Consumer\",\"Consumer\",\"Consumer\",\"Consumer\",\"Consumer\",\"Consumer\",\"Home Office\",\"Corporate\",\"Consumer\",\"Consumer\",\"Consumer\",\"Consumer\",\"Consumer\",\"Consumer\",\"Consumer\",\"Consumer\",\"Consumer\",\"Consumer\",\"Consumer\",\"Consumer\",\"Consumer\",\"Consumer\",\"Consumer\",\"Home Office\",\"Home Office\",\"Home Office\",\"Home Office\",\"Home Office\",\"Home Office\",\"Consumer\",\"Consumer\",\"Consumer\",\"Consumer\",\"Consumer\",\"Home Office\",\"Consumer\",\"Consumer\",\"Home Office\",\"Consumer\",\"Consumer\",\"Corporate\",\"Home Office\",\"Corporate\",\"Corporate\",\"Corporate\",\"Corporate\",\"Corporate\",\"Consumer\",\"Corporate\",\"Consumer\",\"Consumer\",\"Consumer\",\"Consumer\",\"Consumer\",\"Consumer\",\"Home Office\",\"Consumer\",\"Consumer\",\"Consumer\",\"Consumer\",\"Consumer\",\"Consumer\",\"Corporate\",\"Home Office\",\"Home Office\",\"Corporate\",\"Corporate\",\"Corporate\",\"Consumer\",\"Consumer\",\"Consumer\",\"Consumer\",\"Consumer\",\"Consumer\",\"Consumer\",\"Consumer\",\"Corporate\",\"Corporate\",\"Corporate\",\"Corporate\",\"Consumer\",\"Consumer\",\"Consumer\",\"Consumer\",\"Consumer\",\"Consumer\",\"Consumer\",\"Corporate\",\"Consumer\",\"Home Office\",\"Home Office\",\"Home Office\",\"Consumer\",\"Corporate\",\"Consumer\",\"Consumer\",\"Consumer\",\"Consumer\",\"Consumer\",\"Consumer\",\"Consumer\",\"Consumer\",\"Consumer\",\"Home Office\",\"Home Office\",\"Consumer\",\"Corporate\",\"Corporate\",\"Consumer\",\"Consumer\",\"Consumer\",\"Consumer\",\"Home Office\",\"Home Office\",\"Home Office\",\"Corporate\",\"Corporate\",\"Corporate\",\"Consumer\",\"Consumer\",\"Consumer\",\"Consumer\",\"Consumer\",\"Consumer\",\"Consumer\",\"Consumer\",\"Corporate\",\"Corporate\",\"Corporate\",\"Corporate\",\"Consumer\",\"Consumer\",\"Consumer\",\"Corporate\",\"Corporate\",\"Corporate\",\"Corporate\",\"Corporate\",\"Corporate\",\"Consumer\",\"Consumer\",\"Consumer\",\"Home Office\",\"Consumer\",\"Consumer\",\"Consumer\",\"Consumer\",\"Consumer\",\"Corporate\",\"Corporate\",\"Corporate\",\"Corporate\",\"Consumer\",\"Consumer\",\"Consumer\",\"Consumer\",\"Consumer\",\"Consumer\",\"Consumer\",\"Consumer\",\"Consumer\",\"Consumer\",\"Consumer\",\"Consumer\",\"Consumer\",\"Consumer\",\"Corporate\",\"Consumer\",\"Consumer\",\"Consumer\",\"Consumer\",\"Consumer\",\"Consumer\",\"Corporate\",\"Corporate\",\"Consumer\",\"Home Office\",\"Home Office\",\"Home Office\",\"Home Office\",\"Consumer\",\"Consumer\",\"Consumer\",\"Consumer\",\"Home Office\",\"Consumer\",\"Consumer\",\"Consumer\",\"Consumer\",\"Corporate\",\"Consumer\",\"Corporate\",\"Consumer\",\"Consumer\",\"Consumer\",\"Consumer\",\"Consumer\",\"Corporate\",\"Corporate\",\"Home Office\",\"Corporate\",\"Corporate\",\"Corporate\",\"Consumer\",\"Consumer\",\"Corporate\",\"Consumer\",\"Consumer\",\"Consumer\",\"Home Office\",\"Corporate\",\"Corporate\",\"Consumer\",\"Consumer\",\"Consumer\",\"Home Office\",\"Home Office\",\"Home Office\",\"Home Office\",\"Home Office\",\"Home Office\",\"Corporate\",\"Corporate\",\"Corporate\",\"Home Office\",\"Consumer\",\"Consumer\",\"Corporate\",\"Corporate\",\"Home Office\",\"Consumer\",\"Corporate\",\"Corporate\",\"Home Office\",\"Consumer\",\"Consumer\",\"Consumer\",\"Corporate\",\"Corporate\",\"Corporate\",\"Corporate\",\"Consumer\",\"Consumer\",\"Consumer\",\"Home Office\",\"Consumer\",\"Consumer\",\"Consumer\",\"Consumer\",\"Consumer\",\"Corporate\",\"Consumer\",\"Consumer\",\"Consumer\",\"Corporate\",\"Corporate\",\"Corporate\",\"Corporate\",\"Corporate\",\"Consumer\",\"Home Office\",\"Corporate\",\"Corporate\",\"Corporate\",\"Consumer\",\"Consumer\",\"Consumer\",\"Home Office\",\"Home Office\",\"Corporate\",\"Corporate\",\"Consumer\",\"Home Office\",\"Home Office\",\"Home Office\",\"Home Office\",\"Home Office\",\"Home Office\",\"Home Office\",\"Consumer\",\"Consumer\",\"Consumer\",\"Corporate\",\"Consumer\",\"Consumer\",\"Consumer\",\"Consumer\",\"Consumer\",\"Consumer\",\"Consumer\",\"Consumer\",\"Consumer\",\"Corporate\",\"Corporate\",\"Consumer\",\"Consumer\",\"Consumer\",\"Consumer\",\"Corporate\",\"Corporate\",\"Consumer\",\"Consumer\",\"Consumer\",\"Consumer\",\"Corporate\",\"Corporate\",\"Consumer\",\"Corporate\",\"Corporate\",\"Corporate\",\"Corporate\",\"Corporate\",\"Consumer\",\"Consumer\",\"Consumer\",\"Consumer\",\"Corporate\",\"Corporate\",\"Consumer\",\"Consumer\",\"Corporate\",\"Consumer\",\"Consumer\",\"Consumer\",\"Consumer\",\"Corporate\",\"Corporate\",\"Corporate\",\"Corporate\",\"Corporate\",\"Corporate\",\"Corporate\",\"Corporate\",\"Corporate\",\"Corporate\",\"Consumer\",\"Consumer\",\"Corporate\",\"Corporate\",\"Corporate\",\"Consumer\",\"Consumer\",\"Consumer\",\"Corporate\",\"Corporate\",\"Corporate\",\"Corporate\",\"Corporate\",\"Corporate\",\"Corporate\",\"Corporate\",\"Corporate\",\"Corporate\",\"Corporate\",\"Corporate\",\"Consumer\",\"Consumer\",\"Consumer\",\"Corporate\",\"Corporate\",\"Consumer\",\"Consumer\",\"Consumer\",\"Corporate\",\"Corporate\",\"Corporate\",\"Corporate\",\"Consumer\",\"Consumer\",\"Consumer\",\"Consumer\",\"Consumer\",\"Consumer\",\"Corporate\",\"Consumer\",\"Consumer\",\"Consumer\",\"Consumer\",\"Consumer\",\"Corporate\",\"Consumer\",\"Consumer\",\"Consumer\",\"Home Office\",\"Home Office\",\"Consumer\",\"Home Office\",\"Home Office\",\"Home Office\",\"Consumer\",\"Home Office\",\"Home Office\",\"Corporate\",\"Corporate\",\"Corporate\",\"Consumer\",\"Consumer\",\"Consumer\",\"Consumer\",\"Consumer\",\"Consumer\",\"Home Office\",\"Corporate\",\"Corporate\",\"Home Office\",\"Home Office\",\"Home Office\",\"Home Office\",\"Home Office\",\"Corporate\",\"Corporate\",\"Corporate\",\"Consumer\",\"Consumer\",\"Consumer\",\"Consumer\",\"Corporate\",\"Consumer\",\"Consumer\",\"Consumer\",\"Consumer\",\"Consumer\",\"Consumer\",\"Consumer\",\"Home Office\",\"Home Office\",\"Consumer\",\"Consumer\",\"Consumer\",\"Consumer\",\"Corporate\",\"Home Office\",\"Home Office\",\"Home Office\",\"Consumer\",\"Corporate\",\"Corporate\",\"Corporate\",\"Corporate\",\"Corporate\",\"Consumer\",\"Consumer\",\"Home Office\",\"Corporate\",\"Corporate\",\"Corporate\",\"Corporate\",\"Consumer\",\"Home Office\",\"Home Office\",\"Home Office\",\"Corporate\",\"Consumer\",\"Consumer\",\"Consumer\",\"Consumer\",\"Consumer\",\"Consumer\",\"Corporate\",\"Corporate\",\"Corporate\",\"Corporate\",\"Consumer\",\"Consumer\",\"Consumer\",\"Consumer\",\"Consumer\",\"Consumer\",\"Consumer\",\"Consumer\",\"Consumer\",\"Consumer\",\"Corporate\",\"Corporate\",\"Corporate\",\"Corporate\",\"Corporate\",\"Corporate\",\"Consumer\",\"Consumer\",\"Home Office\",\"Corporate\",\"Home Office\",\"Home Office\",\"Corporate\",\"Corporate\",\"Consumer\",\"Consumer\",\"Consumer\",\"Consumer\",\"Consumer\",\"Consumer\",\"Consumer\",\"Consumer\",\"Consumer\",\"Consumer\",\"Consumer\",\"Consumer\",\"Corporate\",\"Corporate\",\"Corporate\",\"Home Office\",\"Consumer\",\"Consumer\",\"Consumer\",\"Consumer\",\"Corporate\",\"Corporate\",\"Corporate\",\"Corporate\",\"Corporate\",\"Corporate\",\"Corporate\",\"Corporate\",\"Consumer\",\"Consumer\",\"Consumer\",\"Corporate\",\"Corporate\",\"Corporate\",\"Home Office\",\"Home Office\",\"Home Office\",\"Home Office\",\"Home Office\",\"Home Office\",\"Home Office\",\"Corporate\",\"Corporate\",\"Corporate\",\"Corporate\",\"Corporate\",\"Consumer\",\"Consumer\",\"Consumer\",\"Consumer\",\"Consumer\",\"Home Office\",\"Home Office\",\"Consumer\",\"Home Office\",\"Home Office\",\"Home Office\",\"Consumer\",\"Home Office\",\"Consumer\",\"Consumer\",\"Corporate\",\"Corporate\",\"Consumer\",\"Corporate\",\"Corporate\",\"Consumer\",\"Consumer\",\"Consumer\",\"Consumer\",\"Consumer\",\"Consumer\",\"Corporate\",\"Corporate\",\"Corporate\",\"Corporate\",\"Corporate\",\"Consumer\",\"Consumer\",\"Consumer\",\"Consumer\",\"Corporate\",\"Corporate\",\"Consumer\",\"Corporate\",\"Corporate\",\"Corporate\",\"Corporate\",\"Consumer\",\"Corporate\",\"Corporate\",\"Corporate\",\"Corporate\",\"Corporate\",\"Corporate\",\"Home Office\",\"Home Office\",\"Corporate\",\"Corporate\",\"Home Office\",\"Consumer\",\"Consumer\",\"Consumer\",\"Home Office\",\"Home Office\",\"Home Office\",\"Home Office\",\"Corporate\",\"Consumer\",\"Consumer\",\"Home Office\",\"Home Office\",\"Home Office\",\"Corporate\",\"Home Office\",\"Corporate\",\"Corporate\",\"Consumer\",\"Corporate\",\"Corporate\",\"Corporate\",\"Corporate\",\"Corporate\",\"Corporate\",\"Home Office\",\"Home Office\",\"Home Office\",\"Home Office\",\"Home Office\",\"Home Office\",\"Home Office\",\"Home Office\",\"Home Office\",\"Corporate\",\"Corporate\",\"Corporate\",\"Corporate\",\"Consumer\",\"Consumer\",\"Consumer\",\"Consumer\",\"Consumer\",\"Corporate\",\"Corporate\",\"Consumer\",\"Corporate\",\"Corporate\",\"Consumer\",\"Home Office\",\"Home Office\",\"Consumer\",\"Consumer\",\"Consumer\",\"Consumer\",\"Consumer\",\"Consumer\",\"Consumer\",\"Consumer\",\"Consumer\",\"Home Office\",\"Corporate\",\"Corporate\",\"Corporate\",\"Corporate\",\"Corporate\",\"Consumer\",\"Home Office\",\"Home Office\",\"Consumer\",\"Consumer\",\"Home Office\",\"Home Office\",\"Consumer\",\"Consumer\",\"Consumer\",\"Consumer\",\"Corporate\",\"Consumer\",\"Consumer\",\"Consumer\",\"Consumer\",\"Consumer\",\"Consumer\",\"Home Office\",\"Consumer\",\"Corporate\",\"Corporate\",\"Corporate\",\"Corporate\",\"Consumer\",\"Corporate\",\"Corporate\",\"Corporate\",\"Corporate\",\"Corporate\",\"Corporate\",\"Corporate\",\"Consumer\",\"Consumer\",\"Consumer\",\"Consumer\",\"Consumer\",\"Corporate\",\"Corporate\",\"Corporate\",\"Consumer\",\"Consumer\",\"Consumer\",\"Consumer\",\"Corporate\",\"Corporate\",\"Corporate\",\"Corporate\",\"Corporate\",\"Corporate\",\"Corporate\",\"Consumer\",\"Consumer\",\"Consumer\",\"Consumer\",\"Consumer\",\"Consumer\",\"Consumer\",\"Consumer\",\"Consumer\",\"Consumer\",\"Consumer\",\"Consumer\",\"Consumer\",\"Home Office\",\"Home Office\",\"Consumer\",\"Consumer\",\"Corporate\",\"Consumer\",\"Consumer\",\"Home Office\",\"Corporate\",\"Consumer\",\"Consumer\",\"Corporate\",\"Corporate\",\"Corporate\",\"Consumer\",\"Consumer\",\"Consumer\",\"Consumer\",\"Consumer\",\"Consumer\",\"Consumer\",\"Consumer\",\"Consumer\",\"Consumer\",\"Consumer\",\"Consumer\",\"Consumer\",\"Consumer\",\"Consumer\",\"Corporate\",\"Corporate\",\"Consumer\",\"Consumer\",\"Consumer\",\"Consumer\",\"Consumer\",\"Consumer\",\"Consumer\",\"Consumer\",\"Consumer\",\"Consumer\",\"Consumer\",\"Consumer\",\"Consumer\",\"Home Office\",\"Corporate\",\"Corporate\",\"Consumer\",\"Consumer\",\"Consumer\",\"Corporate\",\"Corporate\",\"Corporate\",\"Corporate\",\"Home Office\",\"Consumer\",\"Consumer\",\"Consumer\",\"Consumer\",\"Consumer\",\"Consumer\",\"Corporate\",\"Corporate\",\"Corporate\",\"Corporate\",\"Consumer\",\"Home Office\",\"Home Office\",\"Home Office\",\"Home Office\",\"Consumer\",\"Consumer\",\"Consumer\",\"Consumer\",\"Consumer\",\"Consumer\",\"Consumer\",\"Consumer\",\"Consumer\",\"Consumer\",\"Home Office\",\"Home Office\",\"Consumer\",\"Consumer\",\"Consumer\",\"Consumer\",\"Consumer\",\"Consumer\",\"Consumer\",\"Home Office\",\"Home Office\",\"Home Office\",\"Home Office\",\"Home Office\",\"Home Office\",\"Corporate\",\"Corporate\",\"Corporate\",\"Corporate\",\"Consumer\",\"Consumer\",\"Home Office\",\"Consumer\",\"Consumer\",\"Consumer\",\"Corporate\",\"Corporate\",\"Corporate\",\"Corporate\",\"Corporate\",\"Home Office\",\"Corporate\",\"Consumer\",\"Home Office\",\"Home Office\",\"Home Office\",\"Home Office\",\"Home Office\",\"Home Office\",\"Home Office\",\"Consumer\",\"Corporate\",\"Corporate\",\"Corporate\",\"Corporate\",\"Corporate\",\"Consumer\",\"Consumer\",\"Corporate\",\"Consumer\",\"Consumer\",\"Consumer\",\"Consumer\",\"Consumer\",\"Consumer\",\"Corporate\",\"Home Office\",\"Home Office\",\"Consumer\",\"Consumer\",\"Corporate\",\"Home Office\",\"Corporate\",\"Home Office\",\"Home Office\",\"Home Office\",\"Home Office\",\"Home Office\",\"Corporate\",\"Corporate\",\"Corporate\",\"Corporate\",\"Home Office\",\"Corporate\",\"Consumer\",\"Consumer\",\"Consumer\",\"Consumer\",\"Consumer\",\"Consumer\",\"Consumer\",\"Consumer\",\"Consumer\",\"Consumer\",\"Corporate\",\"Consumer\",\"Corporate\",\"Corporate\",\"Corporate\",\"Corporate\",\"Consumer\",\"Consumer\",\"Consumer\",\"Consumer\",\"Consumer\",\"Consumer\",\"Home Office\",\"Home Office\",\"Home Office\",\"Consumer\",\"Consumer\",\"Consumer\",\"Consumer\",\"Consumer\",\"Corporate\",\"Corporate\",\"Corporate\",\"Corporate\",\"Home Office\",\"Corporate\",\"Corporate\",\"Corporate\",\"Corporate\",\"Home Office\",\"Corporate\",\"Corporate\",\"Corporate\",\"Corporate\",\"Corporate\",\"Corporate\",\"Corporate\",\"Corporate\",\"Home Office\",\"Home Office\",\"Home Office\",\"Corporate\",\"Corporate\",\"Corporate\",\"Home Office\",\"Consumer\",\"Consumer\",\"Consumer\",\"Consumer\",\"Consumer\",\"Home Office\",\"Consumer\",\"Corporate\",\"Corporate\",\"Consumer\",\"Home Office\",\"Home Office\",\"Home Office\",\"Home Office\",\"Consumer\",\"Consumer\",\"Consumer\",\"Consumer\",\"Consumer\",\"Consumer\",\"Consumer\",\"Consumer\",\"Consumer\",\"Consumer\",\"Consumer\",\"Corporate\",\"Corporate\",\"Corporate\",\"Corporate\",\"Corporate\",\"Corporate\",\"Corporate\",\"Corporate\",\"Corporate\",\"Corporate\",\"Consumer\",\"Consumer\",\"Consumer\",\"Corporate\",\"Corporate\",\"Consumer\",\"Consumer\",\"Consumer\",\"Consumer\",\"Consumer\",\"Home Office\",\"Home Office\",\"Corporate\",\"Corporate\",\"Corporate\",\"Corporate\",\"Consumer\",\"Consumer\",\"Consumer\",\"Consumer\",\"Corporate\",\"Consumer\",\"Consumer\",\"Corporate\",\"Corporate\",\"Consumer\",\"Consumer\",\"Consumer\",\"Corporate\",\"Consumer\",\"Home Office\",\"Consumer\",\"Consumer\",\"Consumer\",\"Consumer\",\"Consumer\",\"Consumer\",\"Corporate\",\"Corporate\",\"Consumer\",\"Corporate\",\"Corporate\",\"Corporate\",\"Home Office\",\"Corporate\",\"Corporate\",\"Consumer\",\"Consumer\",\"Consumer\",\"Home Office\",\"Home Office\",\"Home Office\",\"Consumer\",\"Consumer\",\"Home Office\",\"Home Office\",\"Consumer\",\"Home Office\",\"Home Office\",\"Consumer\",\"Consumer\",\"Consumer\",\"Consumer\",\"Consumer\",\"Home Office\",\"Home Office\",\"Home Office\",\"Corporate\",\"Consumer\",\"Consumer\",\"Consumer\",\"Corporate\",\"Corporate\",\"Consumer\",\"Consumer\",\"Consumer\",\"Consumer\",\"Home Office\",\"Consumer\",\"Consumer\",\"Consumer\",\"Consumer\",\"Consumer\",\"Consumer\",\"Consumer\",\"Corporate\",\"Corporate\",\"Consumer\",\"Consumer\",\"Consumer\",\"Consumer\",\"Consumer\",\"Consumer\",\"Consumer\",\"Consumer\",\"Consumer\",\"Consumer\",\"Consumer\",\"Consumer\",\"Consumer\",\"Consumer\",\"Home Office\",\"Corporate\",\"Consumer\",\"Consumer\",\"Consumer\",\"Consumer\",\"Consumer\",\"Consumer\",\"Consumer\",\"Consumer\",\"Consumer\",\"Corporate\",\"Home Office\",\"Home Office\",\"Corporate\",\"Corporate\",\"Corporate\",\"Corporate\",\"Consumer\",\"Home Office\",\"Corporate\",\"Corporate\",\"Corporate\",\"Consumer\",\"Corporate\",\"Home Office\",\"Home Office\",\"Home Office\",\"Consumer\",\"Corporate\",\"Consumer\",\"Home Office\",\"Home Office\",\"Consumer\",\"Consumer\",\"Consumer\",\"Consumer\",\"Consumer\",\"Consumer\",\"Consumer\",\"Consumer\",\"Consumer\",\"Corporate\",\"Corporate\",\"Consumer\",\"Corporate\",\"Consumer\",\"Home Office\",\"Consumer\",\"Corporate\",\"Corporate\",\"Corporate\",\"Corporate\",\"Consumer\",\"Consumer\",\"Consumer\",\"Corporate\",\"Corporate\",\"Corporate\",\"Corporate\",\"Corporate\",\"Corporate\",\"Corporate\",\"Consumer\",\"Corporate\",\"Consumer\",\"Corporate\",\"Corporate\",\"Home Office\",\"Home Office\",\"Home Office\",\"Consumer\",\"Consumer\",\"Consumer\",\"Consumer\",\"Consumer\",\"Consumer\",\"Consumer\",\"Consumer\",\"Consumer\",\"Home Office\",\"Consumer\",\"Corporate\",\"Corporate\",\"Corporate\",\"Consumer\",\"Consumer\",\"Consumer\",\"Consumer\",\"Consumer\",\"Consumer\",\"Consumer\",\"Consumer\",\"Consumer\",\"Consumer\",\"Consumer\",\"Consumer\",\"Consumer\",\"Consumer\",\"Consumer\",\"Home Office\",\"Consumer\",\"Consumer\",\"Consumer\",\"Corporate\",\"Corporate\",\"Corporate\",\"Corporate\",\"Consumer\",\"Consumer\",\"Consumer\",\"Corporate\",\"Corporate\",\"Consumer\",\"Consumer\",\"Consumer\",\"Consumer\",\"Consumer\",\"Consumer\",\"Consumer\",\"Consumer\",\"Consumer\",\"Consumer\",\"Consumer\",\"Home Office\",\"Home Office\",\"Consumer\",\"Consumer\",\"Consumer\",\"Consumer\",\"Consumer\",\"Consumer\",\"Corporate\",\"Consumer\",\"Consumer\",\"Consumer\",\"Consumer\",\"Corporate\",\"Home Office\",\"Home Office\",\"Home Office\",\"Home Office\",\"Home Office\",\"Consumer\",\"Consumer\",\"Consumer\",\"Consumer\",\"Consumer\",\"Home Office\",\"Home Office\",\"Corporate\",\"Corporate\",\"Home Office\",\"Corporate\",\"Consumer\",\"Consumer\",\"Consumer\",\"Corporate\",\"Corporate\",\"Corporate\",\"Consumer\",\"Consumer\",\"Consumer\",\"Home Office\",\"Home Office\",\"Corporate\",\"Corporate\",\"Corporate\",\"Corporate\",\"Consumer\",\"Consumer\",\"Consumer\",\"Consumer\",\"Consumer\",\"Consumer\",\"Consumer\",\"Consumer\",\"Consumer\",\"Consumer\",\"Corporate\",\"Corporate\",\"Corporate\",\"Home Office\",\"Corporate\",\"Corporate\",\"Home Office\",\"Home Office\",\"Consumer\",\"Consumer\",\"Consumer\",\"Corporate\",\"Corporate\",\"Corporate\",\"Corporate\",\"Corporate\",\"Home Office\",\"Consumer\",\"Consumer\",\"Consumer\",\"Home Office\",\"Consumer\",\"Corporate\",\"Corporate\",\"Corporate\",\"Corporate\",\"Corporate\",\"Corporate\",\"Consumer\",\"Corporate\",\"Corporate\",\"Corporate\",\"Corporate\",\"Corporate\",\"Corporate\",\"Corporate\",\"Corporate\",\"Corporate\",\"Corporate\",\"Home Office\",\"Consumer\",\"Corporate\",\"Corporate\",\"Consumer\",\"Consumer\",\"Consumer\",\"Consumer\",\"Consumer\",\"Consumer\",\"Consumer\",\"Consumer\",\"Consumer\",\"Consumer\",\"Consumer\",\"Consumer\",\"Corporate\",\"Corporate\",\"Corporate\",\"Consumer\",\"Home Office\",\"Home Office\",\"Home Office\",\"Home Office\",\"Home Office\",\"Consumer\",\"Consumer\",\"Consumer\",\"Consumer\",\"Corporate\",\"Consumer\",\"Corporate\",\"Corporate\",\"Consumer\",\"Corporate\",\"Corporate\",\"Corporate\",\"Corporate\",\"Home Office\",\"Consumer\",\"Consumer\",\"Consumer\",\"Consumer\",\"Home Office\",\"Home Office\",\"Home Office\",\"Consumer\",\"Corporate\",\"Home Office\",\"Home Office\",\"Home Office\",\"Home Office\",\"Corporate\",\"Corporate\",\"Home Office\",\"Consumer\",\"Home Office\",\"Home Office\",\"Home Office\",\"Consumer\",\"Consumer\",\"Consumer\",\"Consumer\",\"Consumer\",\"Consumer\",\"Consumer\",\"Consumer\",\"Corporate\",\"Corporate\",\"Consumer\",\"Consumer\",\"Consumer\",\"Consumer\",\"Consumer\",\"Consumer\",\"Home Office\",\"Home Office\",\"Home Office\",\"Home Office\",\"Consumer\",\"Consumer\",\"Consumer\",\"Consumer\",\"Corporate\",\"Corporate\",\"Consumer\",\"Consumer\",\"Consumer\",\"Consumer\",\"Consumer\",\"Home Office\",\"Home Office\",\"Home Office\",\"Corporate\",\"Consumer\",\"Consumer\",\"Corporate\",\"Corporate\",\"Corporate\",\"Corporate\",\"Corporate\",\"Home Office\",\"Consumer\",\"Consumer\",\"Consumer\",\"Consumer\",\"Consumer\",\"Consumer\",\"Consumer\",\"Consumer\",\"Consumer\",\"Corporate\",\"Corporate\",\"Consumer\",\"Consumer\",\"Consumer\",\"Consumer\",\"Consumer\",\"Corporate\",\"Corporate\",\"Corporate\",\"Corporate\",\"Corporate\",\"Consumer\",\"Home Office\",\"Home Office\",\"Home Office\",\"Consumer\",\"Consumer\",\"Consumer\",\"Consumer\",\"Consumer\",\"Consumer\",\"Consumer\",\"Corporate\",\"Corporate\",\"Corporate\",\"Corporate\",\"Corporate\",\"Corporate\",\"Corporate\",\"Corporate\",\"Home Office\",\"Consumer\",\"Consumer\",\"Home Office\",\"Home Office\",\"Home Office\",\"Home Office\",\"Home Office\",\"Home Office\",\"Consumer\",\"Corporate\",\"Consumer\",\"Consumer\",\"Consumer\",\"Consumer\",\"Consumer\",\"Consumer\",\"Consumer\",\"Consumer\",\"Corporate\",\"Corporate\",\"Corporate\",\"Consumer\",\"Consumer\",\"Consumer\",\"Consumer\",\"Corporate\",\"Corporate\",\"Corporate\",\"Corporate\",\"Consumer\",\"Consumer\",\"Consumer\",\"Home Office\",\"Home Office\",\"Home Office\",\"Home Office\",\"Consumer\",\"Consumer\",\"Consumer\",\"Corporate\",\"Corporate\",\"Corporate\",\"Corporate\",\"Corporate\",\"Corporate\",\"Corporate\",\"Home Office\",\"Home Office\",\"Home Office\",\"Home Office\",\"Consumer\",\"Consumer\",\"Consumer\",\"Consumer\",\"Consumer\",\"Consumer\",\"Consumer\",\"Consumer\",\"Home Office\",\"Home Office\",\"Home Office\",\"Home Office\",\"Corporate\",\"Home Office\",\"Home Office\",\"Home Office\",\"Consumer\",\"Consumer\",\"Consumer\",\"Consumer\",\"Consumer\",\"Corporate\",\"Corporate\",\"Corporate\",\"Corporate\",\"Consumer\",\"Consumer\",\"Consumer\",\"Consumer\",\"Consumer\",\"Consumer\",\"Consumer\",\"Home Office\",\"Home Office\",\"Home Office\",\"Consumer\",\"Home Office\",\"Home Office\",\"Home Office\",\"Home Office\",\"Home Office\",\"Home Office\",\"Home Office\",\"Corporate\",\"Corporate\",\"Corporate\",\"Corporate\",\"Consumer\",\"Consumer\",\"Consumer\",\"Consumer\",\"Consumer\",\"Consumer\",\"Consumer\",\"Consumer\",\"Consumer\",\"Consumer\",\"Consumer\",\"Corporate\",\"Corporate\",\"Consumer\",\"Consumer\",\"Consumer\",\"Consumer\",\"Consumer\",\"Consumer\",\"Consumer\",\"Corporate\",\"Consumer\",\"Consumer\",\"Consumer\",\"Consumer\",\"Consumer\",\"Consumer\",\"Consumer\",\"Consumer\",\"Corporate\",\"Corporate\",\"Consumer\",\"Corporate\",\"Corporate\",\"Corporate\",\"Consumer\",\"Consumer\",\"Corporate\",\"Corporate\",\"Corporate\",\"Corporate\",\"Consumer\",\"Consumer\",\"Consumer\",\"Consumer\",\"Consumer\",\"Consumer\",\"Corporate\",\"Corporate\",\"Consumer\",\"Consumer\",\"Consumer\",\"Consumer\",\"Consumer\",\"Consumer\",\"Consumer\",\"Corporate\",\"Corporate\",\"Corporate\",\"Corporate\",\"Corporate\",\"Corporate\",\"Consumer\",\"Consumer\",\"Consumer\",\"Consumer\",\"Consumer\",\"Home Office\",\"Consumer\",\"Consumer\",\"Home Office\",\"Consumer\",\"Consumer\",\"Consumer\",\"Consumer\",\"Consumer\",\"Consumer\",\"Corporate\",\"Consumer\",\"Consumer\",\"Consumer\",\"Consumer\",\"Consumer\",\"Consumer\",\"Home Office\",\"Home Office\",\"Corporate\",\"Corporate\",\"Corporate\",\"Corporate\",\"Corporate\",\"Corporate\",\"Home Office\",\"Home Office\",\"Home Office\",\"Home Office\",\"Home Office\",\"Home Office\",\"Consumer\",\"Consumer\",\"Consumer\",\"Consumer\",\"Consumer\",\"Consumer\",\"Consumer\",\"Consumer\",\"Consumer\",\"Consumer\",\"Home Office\",\"Corporate\",\"Corporate\",\"Home Office\",\"Consumer\",\"Consumer\",\"Consumer\",\"Consumer\",\"Home Office\",\"Consumer\",\"Consumer\",\"Consumer\",\"Home Office\",\"Home Office\",\"Consumer\",\"Consumer\",\"Consumer\",\"Consumer\",\"Corporate\",\"Corporate\",\"Corporate\",\"Corporate\",\"Home Office\",\"Consumer\",\"Home Office\",\"Consumer\",\"Consumer\",\"Consumer\",\"Consumer\",\"Consumer\",\"Consumer\",\"Consumer\",\"Consumer\",\"Consumer\",\"Consumer\",\"Consumer\",\"Corporate\",\"Home Office\",\"Consumer\",\"Consumer\",\"Corporate\",\"Consumer\",\"Consumer\",\"Consumer\",\"Consumer\",\"Consumer\",\"Home Office\",\"Home Office\",\"Home Office\",\"Consumer\",\"Corporate\",\"Corporate\",\"Corporate\",\"Consumer\",\"Consumer\",\"Consumer\",\"Consumer\",\"Corporate\",\"Corporate\",\"Corporate\",\"Corporate\",\"Corporate\",\"Corporate\",\"Corporate\",\"Home Office\",\"Consumer\",\"Consumer\",\"Consumer\",\"Consumer\",\"Consumer\",\"Consumer\",\"Consumer\",\"Consumer\",\"Corporate\",\"Consumer\",\"Consumer\",\"Corporate\",\"Consumer\",\"Consumer\",\"Consumer\",\"Consumer\",\"Consumer\",\"Consumer\",\"Consumer\",\"Consumer\",\"Corporate\",\"Corporate\",\"Corporate\",\"Corporate\",\"Consumer\",\"Consumer\",\"Corporate\",\"Consumer\",\"Consumer\",\"Consumer\",\"Consumer\",\"Consumer\",\"Consumer\",\"Corporate\",\"Home Office\",\"Corporate\",\"Corporate\",\"Home Office\",\"Home Office\",\"Home Office\",\"Consumer\",\"Consumer\",\"Home Office\",\"Consumer\",\"Consumer\",\"Consumer\",\"Consumer\",\"Consumer\",\"Consumer\",\"Consumer\",\"Consumer\",\"Consumer\",\"Consumer\",\"Consumer\",\"Corporate\",\"Consumer\",\"Home Office\",\"Consumer\",\"Corporate\",\"Corporate\",\"Corporate\",\"Consumer\",\"Consumer\",\"Consumer\",\"Corporate\",\"Corporate\",\"Corporate\",\"Corporate\",\"Corporate\",\"Consumer\",\"Corporate\",\"Corporate\",\"Corporate\",\"Corporate\",\"Consumer\",\"Consumer\",\"Consumer\",\"Consumer\",\"Consumer\",\"Consumer\",\"Consumer\",\"Consumer\",\"Consumer\",\"Corporate\",\"Corporate\",\"Corporate\",\"Corporate\",\"Consumer\",\"Corporate\",\"Corporate\",\"Corporate\",\"Corporate\",\"Corporate\",\"Corporate\",\"Corporate\",\"Corporate\",\"Consumer\",\"Consumer\",\"Consumer\",\"Corporate\",\"Corporate\",\"Corporate\",\"Corporate\",\"Corporate\",\"Corporate\",\"Home Office\",\"Corporate\",\"Corporate\",\"Corporate\",\"Corporate\",\"Home Office\",\"Corporate\",\"Consumer\",\"Consumer\",\"Consumer\",\"Corporate\",\"Corporate\",\"Corporate\",\"Corporate\",\"Corporate\",\"Corporate\",\"Corporate\",\"Consumer\",\"Consumer\",\"Consumer\",\"Consumer\",\"Consumer\",\"Consumer\",\"Corporate\",\"Corporate\",\"Corporate\",\"Corporate\",\"Corporate\",\"Corporate\",\"Corporate\",\"Corporate\",\"Corporate\",\"Consumer\",\"Consumer\",\"Consumer\",\"Consumer\",\"Consumer\",\"Consumer\",\"Consumer\",\"Home Office\",\"Home Office\",\"Home Office\",\"Home Office\",\"Home Office\",\"Consumer\",\"Consumer\",\"Consumer\",\"Consumer\",\"Consumer\",\"Corporate\",\"Corporate\",\"Corporate\",\"Corporate\",\"Corporate\",\"Corporate\",\"Corporate\",\"Corporate\",\"Consumer\",\"Consumer\",\"Consumer\",\"Home Office\",\"Corporate\",\"Corporate\",\"Corporate\",\"Corporate\",\"Corporate\",\"Corporate\",\"Consumer\",\"Corporate\",\"Consumer\",\"Consumer\",\"Consumer\",\"Corporate\",\"Consumer\",\"Consumer\",\"Consumer\",\"Consumer\",\"Corporate\",\"Consumer\",\"Corporate\",\"Consumer\",\"Home Office\",\"Consumer\",\"Consumer\",\"Consumer\",\"Consumer\",\"Consumer\",\"Consumer\",\"Consumer\",\"Consumer\",\"Consumer\",\"Consumer\",\"Consumer\",\"Consumer\",\"Consumer\",\"Corporate\",\"Home Office\",\"Consumer\",\"Consumer\",\"Corporate\",\"Corporate\",\"Corporate\",\"Corporate\",\"Consumer\",\"Corporate\",\"Consumer\",\"Home Office\",\"Consumer\",\"Consumer\",\"Home Office\",\"Home Office\",\"Corporate\",\"Consumer\",\"Consumer\",\"Consumer\",\"Corporate\",\"Consumer\",\"Consumer\",\"Home Office\",\"Home Office\",\"Home Office\",\"Home Office\",\"Corporate\",\"Corporate\",\"Corporate\",\"Corporate\",\"Corporate\",\"Corporate\",\"Corporate\",\"Consumer\",\"Consumer\",\"Consumer\",\"Consumer\",\"Consumer\",\"Consumer\",\"Corporate\",\"Corporate\",\"Consumer\",\"Consumer\",\"Consumer\",\"Corporate\",\"Corporate\",\"Consumer\",\"Consumer\",\"Consumer\",\"Consumer\",\"Consumer\",\"Consumer\",\"Corporate\",\"Consumer\",\"Consumer\",\"Consumer\",\"Consumer\",\"Consumer\",\"Consumer\",\"Corporate\",\"Corporate\",\"Corporate\",\"Home Office\",\"Corporate\",\"Corporate\",\"Home Office\",\"Corporate\",\"Corporate\",\"Corporate\",\"Consumer\",\"Corporate\",\"Corporate\",\"Corporate\",\"Corporate\",\"Consumer\",\"Consumer\",\"Consumer\",\"Home Office\",\"Corporate\",\"Corporate\",\"Corporate\",\"Corporate\",\"Consumer\",\"Consumer\",\"Consumer\",\"Consumer\",\"Consumer\",\"Consumer\",\"Consumer\",\"Corporate\",\"Corporate\",\"Consumer\",\"Consumer\",\"Corporate\",\"Corporate\",\"Corporate\",\"Corporate\",\"Corporate\",\"Corporate\",\"Corporate\",\"Consumer\",\"Consumer\",\"Consumer\",\"Consumer\",\"Consumer\",\"Consumer\",\"Consumer\",\"Consumer\",\"Consumer\",\"Corporate\",\"Home Office\",\"Home Office\",\"Consumer\",\"Home Office\",\"Consumer\",\"Consumer\",\"Consumer\",\"Consumer\",\"Consumer\",\"Consumer\",\"Consumer\",\"Consumer\",\"Consumer\",\"Consumer\",\"Consumer\",\"Corporate\",\"Consumer\",\"Home Office\",\"Consumer\",\"Corporate\",\"Home Office\",\"Corporate\",\"Corporate\",\"Consumer\",\"Home Office\",\"Consumer\",\"Consumer\",\"Consumer\",\"Consumer\",\"Consumer\",\"Consumer\",\"Consumer\",\"Consumer\",\"Consumer\",\"Consumer\",\"Consumer\",\"Consumer\",\"Corporate\",\"Corporate\",\"Corporate\",\"Corporate\",\"Consumer\",\"Consumer\",\"Corporate\",\"Consumer\",\"Consumer\",\"Consumer\",\"Consumer\",\"Consumer\",\"Consumer\",\"Consumer\",\"Consumer\",\"Consumer\",\"Consumer\",\"Consumer\",\"Corporate\",\"Consumer\",\"Consumer\",\"Corporate\",\"Corporate\",\"Corporate\",\"Consumer\",\"Consumer\",\"Consumer\",\"Consumer\",\"Consumer\",\"Consumer\",\"Consumer\",\"Corporate\",\"Corporate\",\"Consumer\",\"Consumer\",\"Corporate\",\"Corporate\",\"Corporate\",\"Consumer\",\"Consumer\",\"Corporate\",\"Corporate\",\"Consumer\",\"Consumer\",\"Consumer\",\"Consumer\",\"Consumer\",\"Consumer\",\"Home Office\",\"Home Office\",\"Home Office\",\"Home Office\",\"Home Office\",\"Consumer\",\"Consumer\",\"Consumer\",\"Consumer\",\"Consumer\",\"Consumer\",\"Home Office\",\"Home Office\",\"Home Office\",\"Home Office\",\"Home Office\",\"Consumer\",\"Consumer\",\"Consumer\",\"Home Office\",\"Consumer\",\"Corporate\",\"Consumer\",\"Consumer\",\"Consumer\",\"Consumer\",\"Consumer\",\"Consumer\",\"Home Office\",\"Home Office\",\"Consumer\",\"Consumer\",\"Corporate\",\"Corporate\",\"Consumer\",\"Consumer\",\"Consumer\",\"Consumer\",\"Consumer\",\"Consumer\",\"Consumer\",\"Corporate\",\"Corporate\",\"Corporate\",\"Corporate\",\"Corporate\",\"Corporate\",\"Corporate\",\"Consumer\",\"Corporate\",\"Consumer\",\"Home Office\",\"Consumer\",\"Home Office\",\"Home Office\",\"Home Office\",\"Home Office\",\"Home Office\",\"Home Office\",\"Home Office\",\"Consumer\",\"Consumer\",\"Consumer\",\"Consumer\",\"Home Office\",\"Home Office\",\"Home Office\",\"Home Office\",\"Home Office\",\"Consumer\",\"Consumer\",\"Corporate\",\"Home Office\",\"Consumer\",\"Consumer\",\"Consumer\",\"Corporate\",\"Corporate\",\"Corporate\",\"Corporate\",\"Corporate\",\"Corporate\",\"Consumer\",\"Corporate\",\"Corporate\",\"Consumer\",\"Consumer\",\"Consumer\",\"Consumer\",\"Consumer\",\"Consumer\",\"Consumer\",\"Consumer\",\"Consumer\",\"Consumer\",\"Corporate\",\"Corporate\",\"Consumer\",\"Consumer\",\"Consumer\",\"Consumer\",\"Consumer\",\"Consumer\",\"Consumer\",\"Consumer\",\"Consumer\",\"Corporate\",\"Consumer\",\"Consumer\",\"Consumer\",\"Consumer\",\"Consumer\",\"Consumer\",\"Consumer\",\"Consumer\",\"Corporate\",\"Corporate\",\"Corporate\",\"Consumer\",\"Consumer\",\"Corporate\",\"Corporate\",\"Home Office\",\"Home Office\",\"Home Office\",\"Home Office\",\"Home Office\",\"Home Office\",\"Home Office\",\"Home Office\",\"Corporate\",\"Corporate\",\"Corporate\",\"Consumer\",\"Corporate\",\"Consumer\",\"Consumer\",\"Consumer\",\"Consumer\",\"Corporate\",\"Corporate\",\"Corporate\",\"Corporate\",\"Home Office\",\"Home Office\",\"Home Office\",\"Home Office\",\"Home Office\",\"Corporate\",\"Consumer\",\"Home Office\",\"Consumer\",\"Consumer\",\"Consumer\",\"Consumer\",\"Corporate\",\"Corporate\",\"Corporate\",\"Consumer\",\"Consumer\",\"Consumer\",\"Consumer\",\"Consumer\",\"Consumer\",\"Consumer\",\"Consumer\",\"Corporate\",\"Consumer\",\"Consumer\",\"Consumer\",\"Consumer\",\"Consumer\",\"Consumer\",\"Consumer\",\"Consumer\",\"Consumer\",\"Consumer\",\"Consumer\",\"Corporate\",\"Consumer\",\"Consumer\",\"Consumer\",\"Consumer\",\"Home Office\",\"Consumer\",\"Corporate\",\"Corporate\",\"Corporate\",\"Consumer\",\"Consumer\",\"Corporate\",\"Corporate\",\"Consumer\",\"Consumer\",\"Consumer\",\"Consumer\",\"Home Office\",\"Home Office\",\"Home Office\",\"Corporate\",\"Corporate\",\"Corporate\",\"Consumer\",\"Consumer\",\"Consumer\",\"Consumer\",\"Corporate\",\"Corporate\",\"Corporate\",\"Consumer\",\"Consumer\",\"Consumer\",\"Consumer\",\"Corporate\",\"Corporate\",\"Corporate\",\"Corporate\",\"Consumer\",\"Corporate\",\"Corporate\",\"Consumer\",\"Home Office\",\"Home Office\",\"Home Office\",\"Corporate\",\"Home Office\",\"Home Office\",\"Corporate\",\"Corporate\",\"Consumer\",\"Consumer\",\"Consumer\",\"Corporate\",\"Corporate\",\"Corporate\",\"Corporate\",\"Corporate\",\"Corporate\",\"Consumer\",\"Corporate\",\"Consumer\",\"Consumer\",\"Consumer\",\"Consumer\",\"Corporate\",\"Corporate\",\"Corporate\",\"Consumer\",\"Consumer\",\"Consumer\",\"Consumer\",\"Consumer\",\"Consumer\",\"Consumer\",\"Consumer\",\"Consumer\",\"Consumer\",\"Consumer\",\"Consumer\",\"Consumer\",\"Consumer\",\"Consumer\",\"Consumer\",\"Consumer\",\"Corporate\",\"Corporate\",\"Corporate\",\"Consumer\",\"Consumer\",\"Consumer\",\"Consumer\",\"Consumer\",\"Corporate\",\"Corporate\",\"Corporate\",\"Corporate\",\"Consumer\",\"Corporate\",\"Consumer\",\"Consumer\",\"Home Office\",\"Home Office\",\"Home Office\",\"Corporate\",\"Corporate\",\"Corporate\",\"Corporate\",\"Corporate\",\"Corporate\",\"Corporate\",\"Corporate\",\"Corporate\",\"Consumer\",\"Consumer\",\"Consumer\",\"Consumer\",\"Corporate\",\"Corporate\",\"Corporate\",\"Corporate\",\"Corporate\",\"Consumer\",\"Consumer\",\"Corporate\",\"Corporate\",\"Corporate\",\"Corporate\",\"Corporate\",\"Consumer\",\"Consumer\",\"Corporate\",\"Corporate\",\"Corporate\",\"Home Office\",\"Home Office\",\"Home Office\",\"Home Office\",\"Consumer\",\"Home Office\",\"Home Office\",\"Home Office\",\"Home Office\",\"Consumer\",\"Consumer\",\"Consumer\",\"Consumer\",\"Consumer\",\"Consumer\",\"Consumer\",\"Consumer\",\"Consumer\",\"Consumer\",\"Consumer\",\"Consumer\",\"Consumer\",\"Corporate\",\"Home Office\",\"Consumer\",\"Consumer\",\"Corporate\",\"Corporate\",\"Home Office\",\"Corporate\",\"Home Office\",\"Home Office\",\"Home Office\",\"Home Office\",\"Home Office\",\"Home Office\",\"Home Office\",\"Home Office\",\"Home Office\",\"Corporate\",\"Home Office\",\"Home Office\",\"Home Office\",\"Home Office\",\"Home Office\",\"Consumer\",\"Corporate\",\"Consumer\",\"Consumer\",\"Consumer\",\"Consumer\",\"Consumer\",\"Consumer\",\"Consumer\",\"Consumer\",\"Consumer\",\"Consumer\",\"Consumer\",\"Consumer\",\"Consumer\",\"Corporate\",\"Consumer\",\"Consumer\",\"Consumer\",\"Consumer\",\"Consumer\",\"Consumer\",\"Consumer\",\"Consumer\",\"Consumer\",\"Consumer\",\"Consumer\",\"Consumer\",\"Consumer\",\"Consumer\",\"Consumer\",\"Consumer\",\"Consumer\",\"Consumer\",\"Consumer\",\"Consumer\",\"Consumer\",\"Corporate\",\"Corporate\",\"Corporate\",\"Corporate\",\"Corporate\",\"Consumer\",\"Consumer\",\"Consumer\",\"Consumer\",\"Corporate\",\"Consumer\",\"Consumer\",\"Corporate\",\"Corporate\",\"Corporate\",\"Corporate\",\"Corporate\",\"Corporate\",\"Corporate\",\"Corporate\",\"Corporate\",\"Corporate\",\"Corporate\",\"Corporate\",\"Corporate\",\"Corporate\",\"Corporate\",\"Corporate\",\"Consumer\",\"Consumer\",\"Corporate\",\"Corporate\",\"Consumer\",\"Consumer\",\"Consumer\",\"Consumer\",\"Consumer\",\"Home Office\",\"Consumer\",\"Consumer\",\"Corporate\",\"Corporate\",\"Consumer\",\"Consumer\",\"Consumer\",\"Corporate\",\"Corporate\",\"Corporate\",\"Corporate\",\"Corporate\",\"Corporate\",\"Corporate\",\"Home Office\",\"Consumer\",\"Consumer\",\"Consumer\",\"Corporate\",\"Corporate\",\"Corporate\",\"Corporate\",\"Corporate\",\"Corporate\",\"Consumer\",\"Consumer\",\"Consumer\",\"Consumer\",\"Consumer\",\"Consumer\",\"Consumer\",\"Consumer\",\"Corporate\",\"Consumer\",\"Consumer\",\"Consumer\",\"Consumer\",\"Consumer\",\"Consumer\",\"Corporate\",\"Consumer\",\"Consumer\",\"Consumer\",\"Consumer\",\"Consumer\",\"Consumer\",\"Consumer\",\"Consumer\",\"Consumer\",\"Consumer\",\"Consumer\",\"Corporate\",\"Consumer\",\"Consumer\",\"Corporate\",\"Corporate\",\"Consumer\",\"Consumer\",\"Consumer\",\"Home Office\",\"Home Office\",\"Home Office\",\"Corporate\",\"Corporate\",\"Corporate\",\"Home Office\",\"Home Office\",\"Home Office\",\"Consumer\",\"Consumer\",\"Consumer\",\"Consumer\",\"Consumer\",\"Corporate\",\"Corporate\",\"Corporate\",\"Corporate\",\"Home Office\",\"Home Office\",\"Home Office\",\"Home Office\",\"Corporate\",\"Consumer\",\"Corporate\",\"Corporate\",\"Corporate\",\"Corporate\",\"Consumer\",\"Consumer\",\"Corporate\",\"Consumer\",\"Consumer\",\"Home Office\",\"Home Office\",\"Home Office\",\"Corporate\",\"Consumer\",\"Consumer\",\"Consumer\",\"Consumer\",\"Corporate\",\"Home Office\",\"Home Office\",\"Home Office\",\"Home Office\",\"Home Office\",\"Home Office\",\"Home Office\",\"Home Office\",\"Home Office\",\"Home Office\",\"Consumer\",\"Consumer\",\"Home Office\",\"Home Office\",\"Home Office\",\"Home Office\",\"Home Office\",\"Home Office\",\"Home Office\",\"Consumer\",\"Consumer\",\"Corporate\",\"Corporate\",\"Corporate\",\"Corporate\",\"Corporate\",\"Corporate\",\"Consumer\",\"Consumer\",\"Consumer\",\"Home Office\",\"Home Office\",\"Home Office\",\"Home Office\",\"Home Office\",\"Home Office\",\"Home Office\",\"Consumer\",\"Consumer\",\"Consumer\",\"Consumer\",\"Consumer\",\"Corporate\",\"Consumer\",\"Consumer\",\"Consumer\",\"Consumer\",\"Consumer\",\"Consumer\",\"Consumer\",\"Consumer\",\"Corporate\",\"Corporate\",\"Corporate\",\"Corporate\",\"Corporate\",\"Corporate\",\"Home Office\",\"Corporate\",\"Consumer\",\"Consumer\",\"Consumer\",\"Home Office\",\"Consumer\",\"Home Office\",\"Home Office\",\"Home Office\",\"Consumer\",\"Consumer\",\"Consumer\",\"Corporate\",\"Consumer\",\"Consumer\",\"Consumer\",\"Home Office\",\"Home Office\",\"Consumer\",\"Consumer\",\"Corporate\",\"Corporate\",\"Corporate\",\"Home Office\",\"Home Office\",\"Consumer\",\"Consumer\",\"Consumer\",\"Consumer\",\"Consumer\",\"Corporate\",\"Corporate\",\"Consumer\",\"Consumer\",\"Corporate\",\"Corporate\",\"Corporate\",\"Consumer\",\"Consumer\",\"Home Office\",\"Consumer\",\"Corporate\",\"Corporate\",\"Corporate\",\"Consumer\",\"Consumer\",\"Corporate\",\"Corporate\",\"Consumer\",\"Consumer\",\"Consumer\",\"Consumer\",\"Home Office\",\"Home Office\",\"Home Office\",\"Home Office\",\"Consumer\",\"Consumer\",\"Consumer\",\"Corporate\",\"Corporate\",\"Corporate\",\"Consumer\",\"Consumer\",\"Consumer\",\"Consumer\",\"Consumer\",\"Home Office\",\"Corporate\",\"Corporate\",\"Corporate\",\"Corporate\",\"Consumer\",\"Corporate\",\"Corporate\",\"Corporate\",\"Corporate\",\"Consumer\",\"Consumer\",\"Home Office\",\"Home Office\",\"Home Office\",\"Home Office\",\"Home Office\",\"Consumer\",\"Consumer\",\"Consumer\",\"Consumer\",\"Consumer\",\"Consumer\",\"Consumer\",\"Home Office\",\"Home Office\",\"Home Office\",\"Home Office\",\"Home Office\",\"Consumer\",\"Home Office\",\"Consumer\",\"Home Office\",\"Home Office\",\"Corporate\",\"Corporate\",\"Corporate\",\"Corporate\",\"Corporate\",\"Corporate\",\"Corporate\",\"Corporate\",\"Consumer\",\"Home Office\",\"Consumer\",\"Consumer\",\"Corporate\",\"Corporate\",\"Corporate\",\"Consumer\",\"Consumer\",\"Consumer\",\"Consumer\",\"Consumer\",\"Consumer\",\"Consumer\",\"Consumer\",\"Consumer\",\"Consumer\",\"Consumer\",\"Consumer\",\"Corporate\",\"Corporate\",\"Home Office\",\"Consumer\",\"Consumer\",\"Corporate\",\"Corporate\",\"Corporate\",\"Corporate\",\"Consumer\",\"Consumer\",\"Consumer\",\"Consumer\",\"Consumer\",\"Consumer\",\"Consumer\",\"Home Office\",\"Consumer\",\"Consumer\",\"Corporate\",\"Home Office\",\"Home Office\",\"Home Office\",\"Home Office\",\"Corporate\",\"Corporate\",\"Consumer\",\"Home Office\",\"Corporate\",\"Consumer\",\"Consumer\",\"Consumer\",\"Consumer\",\"Consumer\",\"Consumer\",\"Consumer\",\"Consumer\",\"Consumer\",\"Consumer\",\"Consumer\",\"Consumer\",\"Consumer\",\"Home Office\",\"Home Office\",\"Home Office\",\"Home Office\",\"Consumer\",\"Consumer\",\"Consumer\",\"Consumer\",\"Consumer\",\"Consumer\",\"Consumer\",\"Consumer\",\"Home Office\",\"Home Office\",\"Corporate\",\"Consumer\",\"Consumer\",\"Consumer\",\"Consumer\",\"Consumer\",\"Consumer\",\"Home Office\",\"Home Office\",\"Home Office\",\"Home Office\",\"Home Office\",\"Home Office\",\"Home Office\",\"Consumer\",\"Home Office\",\"Home Office\",\"Consumer\",\"Consumer\",\"Corporate\",\"Corporate\",\"Corporate\",\"Home Office\",\"Corporate\",\"Corporate\",\"Corporate\",\"Corporate\",\"Corporate\",\"Corporate\",\"Corporate\",\"Corporate\",\"Corporate\",\"Corporate\",\"Corporate\",\"Corporate\",\"Consumer\",\"Consumer\",\"Consumer\",\"Consumer\",\"Consumer\",\"Consumer\",\"Consumer\",\"Consumer\",\"Consumer\",\"Consumer\",\"Consumer\",\"Corporate\",\"Corporate\",\"Corporate\",\"Corporate\",\"Corporate\",\"Corporate\",\"Corporate\",\"Corporate\",\"Corporate\",\"Corporate\",\"Corporate\",\"Corporate\",\"Corporate\",\"Corporate\",\"Corporate\",\"Corporate\",\"Corporate\",\"Corporate\",\"Corporate\",\"Corporate\",\"Corporate\",\"Corporate\",\"Corporate\",\"Corporate\",\"Consumer\",\"Consumer\",\"Home Office\",\"Consumer\",\"Consumer\",\"Consumer\",\"Corporate\",\"Corporate\",\"Consumer\",\"Consumer\",\"Home Office\",\"Home Office\",\"Home Office\",\"Home Office\",\"Consumer\",\"Consumer\",\"Consumer\",\"Consumer\",\"Consumer\",\"Home Office\",\"Home Office\",\"Corporate\",\"Corporate\",\"Consumer\",\"Consumer\",\"Consumer\",\"Consumer\",\"Consumer\",\"Consumer\",\"Consumer\",\"Consumer\",\"Consumer\",\"Consumer\",\"Corporate\",\"Consumer\",\"Consumer\",\"Consumer\",\"Consumer\",\"Consumer\",\"Home Office\",\"Home Office\",\"Corporate\",\"Consumer\",\"Consumer\",\"Corporate\",\"Corporate\",\"Corporate\",\"Corporate\",\"Corporate\",\"Corporate\",\"Corporate\",\"Corporate\",\"Consumer\",\"Consumer\",\"Consumer\",\"Consumer\",\"Consumer\",\"Consumer\",\"Consumer\",\"Consumer\",\"Corporate\",\"Consumer\",\"Corporate\",\"Corporate\",\"Corporate\",\"Home Office\",\"Home Office\",\"Consumer\",\"Consumer\",\"Consumer\",\"Consumer\",\"Corporate\",\"Corporate\",\"Corporate\",\"Corporate\",\"Corporate\",\"Corporate\",\"Consumer\",\"Consumer\",\"Consumer\",\"Consumer\",\"Consumer\",\"Consumer\",\"Corporate\",\"Corporate\",\"Consumer\",\"Consumer\",\"Consumer\",\"Consumer\",\"Consumer\",\"Corporate\",\"Corporate\",\"Consumer\",\"Consumer\",\"Consumer\",\"Consumer\",\"Consumer\",\"Consumer\",\"Consumer\",\"Corporate\",\"Corporate\",\"Corporate\",\"Home Office\",\"Corporate\",\"Corporate\",\"Corporate\",\"Corporate\",\"Corporate\",\"Home Office\",\"Consumer\",\"Corporate\",\"Consumer\",\"Corporate\",\"Home Office\",\"Consumer\",\"Home Office\",\"Consumer\",\"Consumer\",\"Consumer\",\"Consumer\",\"Consumer\",\"Consumer\",\"Home Office\",\"Home Office\",\"Consumer\",\"Consumer\",\"Consumer\",\"Consumer\",\"Home Office\",\"Home Office\",\"Home Office\",\"Consumer\",\"Consumer\",\"Consumer\",\"Consumer\",\"Consumer\",\"Consumer\",\"Corporate\",\"Corporate\",\"Corporate\",\"Consumer\",\"Consumer\",\"Consumer\",\"Consumer\",\"Consumer\",\"Consumer\",\"Consumer\",\"Consumer\",\"Consumer\",\"Consumer\",\"Consumer\",\"Consumer\",\"Corporate\",\"Corporate\",\"Corporate\",\"Corporate\",\"Corporate\",\"Consumer\",\"Consumer\",\"Corporate\",\"Home Office\",\"Home Office\",\"Home Office\",\"Home Office\",\"Consumer\",\"Consumer\",\"Consumer\",\"Consumer\",\"Consumer\",\"Consumer\",\"Consumer\",\"Home Office\",\"Corporate\",\"Corporate\",\"Consumer\",\"Consumer\",\"Consumer\",\"Consumer\",\"Consumer\",\"Consumer\",\"Consumer\",\"Corporate\",\"Home Office\",\"Consumer\",\"Consumer\",\"Consumer\",\"Consumer\",\"Consumer\",\"Consumer\",\"Consumer\",\"Corporate\",\"Home Office\",\"Home Office\",\"Home Office\",\"Consumer\",\"Home Office\",\"Home Office\",\"Home Office\",\"Corporate\",\"Home Office\",\"Consumer\",\"Consumer\",\"Consumer\",\"Consumer\",\"Consumer\",\"Corporate\",\"Corporate\",\"Corporate\",\"Consumer\",\"Consumer\",\"Corporate\",\"Consumer\",\"Consumer\",\"Consumer\",\"Consumer\",\"Consumer\",\"Consumer\",\"Consumer\",\"Corporate\",\"Consumer\",\"Consumer\",\"Consumer\",\"Consumer\",\"Consumer\",\"Corporate\",\"Corporate\",\"Corporate\",\"Corporate\",\"Corporate\",\"Consumer\",\"Consumer\",\"Consumer\",\"Consumer\",\"Corporate\",\"Consumer\",\"Consumer\",\"Corporate\",\"Corporate\",\"Corporate\",\"Corporate\",\"Consumer\",\"Consumer\",\"Consumer\",\"Consumer\",\"Consumer\",\"Consumer\",\"Corporate\",\"Corporate\",\"Consumer\",\"Consumer\",\"Home Office\",\"Home Office\",\"Home Office\",\"Consumer\",\"Consumer\",\"Consumer\",\"Consumer\",\"Consumer\",\"Consumer\",\"Consumer\",\"Consumer\",\"Consumer\",\"Consumer\",\"Consumer\",\"Consumer\",\"Consumer\",\"Consumer\",\"Consumer\",\"Corporate\",\"Home Office\",\"Home Office\",\"Home Office\",\"Consumer\",\"Consumer\",\"Consumer\",\"Consumer\",\"Consumer\",\"Consumer\",\"Consumer\",\"Consumer\",\"Consumer\",\"Consumer\",\"Home Office\",\"Home Office\",\"Home Office\",\"Home Office\",\"Consumer\",\"Consumer\",\"Consumer\",\"Consumer\",\"Consumer\",\"Consumer\",\"Consumer\",\"Consumer\",\"Consumer\",\"Corporate\",\"Home Office\",\"Corporate\",\"Home Office\",\"Home Office\",\"Home Office\",\"Home Office\",\"Consumer\",\"Corporate\",\"Corporate\",\"Home Office\",\"Home Office\",\"Home Office\",\"Home Office\",\"Home Office\",\"Home Office\",\"Home Office\",\"Home Office\",\"Home Office\",\"Home Office\",\"Consumer\",\"Corporate\",\"Consumer\",\"Corporate\",\"Corporate\",\"Corporate\",\"Corporate\",\"Consumer\",\"Consumer\",\"Corporate\",\"Corporate\",\"Home Office\",\"Consumer\",\"Home Office\",\"Home Office\",\"Home Office\",\"Home Office\",\"Consumer\",\"Consumer\",\"Consumer\",\"Consumer\",\"Home Office\",\"Home Office\",\"Home Office\",\"Home Office\",\"Consumer\",\"Consumer\",\"Consumer\",\"Consumer\",\"Consumer\",\"Consumer\",\"Consumer\",\"Home Office\",\"Home Office\",\"Corporate\",\"Corporate\",\"Consumer\",\"Consumer\",\"Consumer\",\"Consumer\",\"Consumer\",\"Consumer\",\"Consumer\",\"Home Office\",\"Consumer\",\"Corporate\",\"Corporate\",\"Corporate\",\"Consumer\",\"Consumer\",\"Consumer\",\"Consumer\",\"Consumer\",\"Consumer\",\"Corporate\",\"Corporate\",\"Corporate\",\"Corporate\",\"Corporate\",\"Corporate\",\"Corporate\",\"Corporate\",\"Corporate\",\"Corporate\",\"Consumer\",\"Consumer\",\"Consumer\",\"Consumer\",\"Consumer\",\"Consumer\",\"Consumer\",\"Consumer\",\"Consumer\",\"Home Office\",\"Corporate\",\"Corporate\",\"Corporate\",\"Consumer\",\"Home Office\",\"Consumer\",\"Home Office\",\"Consumer\",\"Home Office\",\"Home Office\",\"Corporate\",\"Corporate\",\"Corporate\",\"Corporate\",\"Consumer\",\"Consumer\",\"Corporate\",\"Home Office\",\"Home Office\",\"Corporate\",\"Consumer\",\"Consumer\",\"Corporate\",\"Home Office\",\"Corporate\",\"Home Office\",\"Consumer\",\"Consumer\",\"Consumer\",\"Consumer\",\"Consumer\",\"Home Office\",\"Home Office\",\"Consumer\",\"Consumer\",\"Consumer\",\"Consumer\",\"Corporate\",\"Corporate\",\"Corporate\",\"Corporate\",\"Corporate\",\"Corporate\",\"Home Office\",\"Corporate\",\"Consumer\",\"Consumer\",\"Corporate\",\"Corporate\",\"Home Office\",\"Home Office\",\"Home Office\",\"Home Office\",\"Home Office\",\"Home Office\",\"Consumer\",\"Consumer\",\"Consumer\",\"Consumer\",\"Corporate\",\"Consumer\",\"Consumer\",\"Corporate\",\"Consumer\",\"Consumer\",\"Corporate\",\"Corporate\",\"Corporate\",\"Corporate\",\"Corporate\",\"Consumer\",\"Consumer\",\"Consumer\",\"Corporate\",\"Home Office\",\"Consumer\",\"Home Office\",\"Home Office\",\"Home Office\",\"Corporate\",\"Corporate\",\"Corporate\",\"Corporate\",\"Corporate\",\"Corporate\",\"Consumer\",\"Corporate\",\"Corporate\",\"Corporate\",\"Corporate\",\"Corporate\",\"Corporate\",\"Consumer\",\"Consumer\",\"Consumer\",\"Consumer\",\"Consumer\",\"Home Office\",\"Consumer\",\"Consumer\",\"Consumer\",\"Corporate\",\"Corporate\",\"Home Office\",\"Home Office\",\"Home Office\",\"Home Office\",\"Consumer\",\"Corporate\",\"Corporate\",\"Home Office\",\"Corporate\",\"Home Office\",\"Consumer\",\"Consumer\",\"Home Office\",\"Corporate\",\"Consumer\",\"Consumer\",\"Home Office\",\"Home Office\",\"Home Office\",\"Consumer\",\"Consumer\",\"Consumer\",\"Consumer\",\"Consumer\",\"Consumer\",\"Consumer\",\"Corporate\",\"Consumer\",\"Consumer\",\"Consumer\",\"Consumer\",\"Consumer\",\"Corporate\",\"Corporate\",\"Home Office\",\"Consumer\",\"Home Office\",\"Home Office\",\"Home Office\",\"Consumer\",\"Consumer\",\"Consumer\",\"Consumer\",\"Corporate\",\"Corporate\",\"Corporate\",\"Corporate\",\"Consumer\",\"Consumer\",\"Consumer\",\"Consumer\",\"Consumer\",\"Home Office\",\"Corporate\",\"Consumer\",\"Consumer\",\"Consumer\",\"Consumer\",\"Consumer\",\"Consumer\",\"Home Office\",\"Consumer\",\"Consumer\",\"Consumer\",\"Consumer\",\"Corporate\",\"Consumer\",\"Home Office\",\"Home Office\",\"Home Office\",\"Consumer\",\"Consumer\",\"Corporate\",\"Corporate\",\"Consumer\",\"Corporate\",\"Corporate\",\"Corporate\",\"Corporate\",\"Corporate\",\"Corporate\",\"Corporate\",\"Corporate\",\"Corporate\",\"Consumer\",\"Consumer\",\"Consumer\",\"Consumer\",\"Corporate\",\"Corporate\",\"Corporate\",\"Corporate\",\"Corporate\",\"Corporate\",\"Home Office\",\"Home Office\",\"Consumer\",\"Consumer\",\"Consumer\",\"Corporate\",\"Corporate\",\"Corporate\",\"Home Office\",\"Consumer\",\"Consumer\",\"Home Office\",\"Consumer\",\"Consumer\",\"Consumer\",\"Consumer\",\"Consumer\",\"Corporate\",\"Corporate\",\"Corporate\",\"Corporate\",\"Corporate\",\"Consumer\",\"Corporate\",\"Corporate\",\"Corporate\",\"Consumer\",\"Corporate\",\"Consumer\",\"Consumer\",\"Home Office\",\"Home Office\",\"Corporate\",\"Corporate\",\"Home Office\",\"Corporate\",\"Corporate\",\"Corporate\",\"Corporate\",\"Home Office\",\"Corporate\",\"Corporate\",\"Corporate\",\"Consumer\",\"Consumer\",\"Consumer\",\"Consumer\",\"Consumer\",\"Consumer\",\"Corporate\",\"Consumer\",\"Consumer\",\"Consumer\",\"Consumer\",\"Consumer\",\"Corporate\",\"Corporate\",\"Consumer\",\"Corporate\",\"Consumer\",\"Consumer\",\"Consumer\",\"Corporate\",\"Corporate\",\"Corporate\",\"Corporate\",\"Corporate\",\"Corporate\",\"Consumer\",\"Consumer\",\"Consumer\",\"Consumer\",\"Consumer\",\"Consumer\",\"Consumer\",\"Home Office\",\"Corporate\",\"Corporate\",\"Consumer\",\"Corporate\",\"Corporate\",\"Corporate\",\"Corporate\",\"Consumer\",\"Corporate\",\"Consumer\",\"Consumer\",\"Consumer\",\"Consumer\",\"Consumer\",\"Consumer\",\"Consumer\",\"Consumer\",\"Consumer\",\"Consumer\",\"Corporate\",\"Corporate\",\"Consumer\",\"Consumer\",\"Consumer\",\"Consumer\",\"Consumer\",\"Home Office\",\"Corporate\",\"Home Office\",\"Home Office\",\"Consumer\",\"Consumer\",\"Consumer\",\"Consumer\",\"Consumer\",\"Consumer\",\"Consumer\",\"Consumer\",\"Consumer\",\"Home Office\",\"Home Office\",\"Corporate\",\"Corporate\",\"Home Office\",\"Consumer\",\"Home Office\",\"Corporate\",\"Corporate\",\"Corporate\",\"Corporate\",\"Corporate\",\"Corporate\",\"Corporate\",\"Corporate\",\"Home Office\",\"Home Office\",\"Home Office\",\"Corporate\",\"Corporate\",\"Corporate\",\"Corporate\",\"Corporate\",\"Corporate\",\"Corporate\",\"Consumer\",\"Consumer\",\"Home Office\",\"Home Office\",\"Home Office\",\"Corporate\",\"Corporate\",\"Corporate\",\"Consumer\",\"Consumer\",\"Corporate\",\"Corporate\",\"Corporate\",\"Home Office\",\"Home Office\",\"Home Office\",\"Home Office\",\"Home Office\",\"Home Office\",\"Home Office\",\"Home Office\",\"Home Office\",\"Consumer\",\"Corporate\",\"Corporate\",\"Corporate\",\"Corporate\",\"Corporate\",\"Corporate\",\"Corporate\",\"Corporate\",\"Corporate\",\"Corporate\",\"Corporate\",\"Corporate\",\"Consumer\",\"Consumer\",\"Consumer\",\"Home Office\",\"Consumer\",\"Consumer\",\"Home Office\",\"Home Office\",\"Corporate\",\"Corporate\",\"Corporate\",\"Consumer\",\"Consumer\",\"Home Office\",\"Home Office\",\"Consumer\",\"Consumer\",\"Consumer\",\"Corporate\",\"Corporate\",\"Corporate\",\"Corporate\",\"Home Office\",\"Home Office\",\"Consumer\",\"Consumer\",\"Corporate\",\"Corporate\",\"Corporate\",\"Corporate\",\"Consumer\",\"Home Office\",\"Home Office\",\"Corporate\",\"Corporate\",\"Home Office\",\"Home Office\",\"Home Office\",\"Corporate\",\"Corporate\",\"Corporate\",\"Consumer\",\"Corporate\",\"Corporate\",\"Corporate\",\"Corporate\",\"Home Office\",\"Corporate\",\"Corporate\",\"Corporate\",\"Consumer\",\"Consumer\",\"Corporate\",\"Consumer\",\"Corporate\",\"Corporate\",\"Corporate\",\"Corporate\",\"Consumer\",\"Consumer\",\"Home Office\",\"Consumer\",\"Corporate\",\"Consumer\",\"Consumer\",\"Corporate\",\"Corporate\",\"Consumer\",\"Corporate\",\"Consumer\",\"Consumer\",\"Consumer\",\"Corporate\",\"Corporate\",\"Corporate\",\"Corporate\",\"Consumer\",\"Consumer\",\"Consumer\",\"Consumer\",\"Consumer\",\"Consumer\",\"Consumer\",\"Consumer\",\"Consumer\",\"Consumer\",\"Consumer\",\"Consumer\",\"Consumer\",\"Consumer\",\"Corporate\",\"Corporate\",\"Corporate\",\"Home Office\",\"Consumer\",\"Home Office\",\"Home Office\",\"Home Office\",\"Home Office\",\"Home Office\",\"Corporate\",\"Corporate\",\"Corporate\",\"Corporate\",\"Corporate\",\"Corporate\",\"Consumer\",\"Consumer\",\"Consumer\",\"Consumer\",\"Corporate\",\"Corporate\",\"Corporate\",\"Corporate\",\"Consumer\",\"Consumer\",\"Consumer\",\"Corporate\",\"Corporate\",\"Corporate\",\"Corporate\",\"Home Office\",\"Home Office\",\"Home Office\",\"Home Office\",\"Home Office\",\"Home Office\",\"Consumer\",\"Consumer\",\"Consumer\",\"Consumer\",\"Corporate\",\"Corporate\",\"Corporate\",\"Consumer\",\"Consumer\",\"Consumer\",\"Consumer\",\"Consumer\",\"Consumer\",\"Consumer\",\"Corporate\",\"Corporate\",\"Home Office\",\"Corporate\",\"Corporate\",\"Corporate\",\"Corporate\",\"Corporate\",\"Corporate\",\"Home Office\",\"Home Office\",\"Home Office\",\"Home Office\",\"Home Office\",\"Consumer\",\"Consumer\",\"Consumer\",\"Consumer\",\"Consumer\",\"Corporate\",\"Corporate\",\"Consumer\",\"Consumer\",\"Consumer\",\"Consumer\",\"Home Office\",\"Home Office\",\"Home Office\",\"Corporate\",\"Corporate\",\"Consumer\",\"Consumer\",\"Consumer\",\"Consumer\",\"Consumer\",\"Corporate\",\"Corporate\",\"Corporate\",\"Corporate\",\"Corporate\",\"Corporate\",\"Corporate\",\"Corporate\",\"Corporate\",\"Consumer\",\"Consumer\",\"Consumer\",\"Consumer\",\"Corporate\",\"Consumer\",\"Consumer\",\"Consumer\",\"Corporate\",\"Corporate\",\"Corporate\",\"Corporate\",\"Corporate\",\"Consumer\",\"Consumer\",\"Consumer\",\"Consumer\",\"Consumer\",\"Consumer\",\"Consumer\",\"Consumer\",\"Home Office\",\"Corporate\",\"Corporate\",\"Corporate\",\"Consumer\",\"Consumer\",\"Consumer\",\"Consumer\",\"Consumer\",\"Consumer\",\"Consumer\",\"Corporate\",\"Consumer\",\"Consumer\",\"Consumer\",\"Consumer\",\"Consumer\",\"Consumer\",\"Consumer\",\"Consumer\",\"Consumer\",\"Consumer\",\"Home Office\",\"Home Office\",\"Consumer\",\"Corporate\",\"Corporate\",\"Consumer\",\"Consumer\",\"Consumer\",\"Corporate\",\"Corporate\",\"Corporate\",\"Corporate\",\"Corporate\",\"Consumer\",\"Consumer\",\"Consumer\",\"Consumer\",\"Consumer\",\"Consumer\",\"Consumer\",\"Consumer\",\"Consumer\",\"Consumer\",\"Corporate\",\"Corporate\",\"Home Office\",\"Corporate\",\"Corporate\",\"Consumer\",\"Consumer\",\"Consumer\",\"Consumer\",\"Consumer\",\"Home Office\",\"Consumer\",\"Corporate\",\"Corporate\",\"Consumer\",\"Consumer\",\"Corporate\",\"Corporate\",\"Corporate\",\"Corporate\",\"Consumer\",\"Corporate\",\"Home Office\",\"Corporate\",\"Corporate\",\"Corporate\",\"Corporate\",\"Corporate\",\"Consumer\",\"Consumer\",\"Consumer\",\"Consumer\",\"Corporate\",\"Home Office\",\"Consumer\",\"Corporate\",\"Corporate\",\"Corporate\",\"Consumer\",\"Consumer\",\"Consumer\",\"Corporate\",\"Corporate\",\"Home Office\",\"Consumer\",\"Consumer\",\"Consumer\",\"Consumer\",\"Consumer\",\"Consumer\",\"Consumer\",\"Corporate\",\"Consumer\",\"Corporate\",\"Corporate\",\"Corporate\",\"Corporate\",\"Corporate\",\"Corporate\",\"Corporate\",\"Home Office\",\"Corporate\",\"Corporate\",\"Corporate\",\"Corporate\",\"Consumer\",\"Consumer\",\"Home Office\",\"Consumer\",\"Consumer\",\"Corporate\",\"Corporate\",\"Corporate\",\"Corporate\",\"Consumer\",\"Consumer\",\"Consumer\",\"Consumer\",\"Consumer\",\"Consumer\",\"Consumer\",\"Corporate\",\"Home Office\",\"Consumer\",\"Consumer\",\"Corporate\",\"Consumer\",\"Consumer\",\"Corporate\",\"Consumer\",\"Consumer\",\"Corporate\",\"Corporate\",\"Consumer\",\"Corporate\",\"Corporate\",\"Consumer\",\"Corporate\",\"Corporate\",\"Corporate\",\"Consumer\",\"Consumer\",\"Corporate\",\"Corporate\",\"Consumer\",\"Consumer\",\"Consumer\",\"Consumer\",\"Consumer\",\"Home Office\",\"Home Office\",\"Home Office\",\"Consumer\",\"Consumer\",\"Consumer\",\"Consumer\",\"Consumer\",\"Consumer\",\"Corporate\",\"Corporate\",\"Corporate\",\"Home Office\",\"Home Office\",\"Home Office\",\"Home Office\",\"Corporate\",\"Consumer\",\"Consumer\",\"Consumer\",\"Consumer\",\"Home Office\",\"Home Office\",\"Corporate\",\"Consumer\",\"Consumer\",\"Home Office\",\"Home Office\",\"Home Office\",\"Consumer\",\"Corporate\",\"Consumer\",\"Consumer\",\"Corporate\",\"Corporate\",\"Home Office\",\"Corporate\",\"Corporate\",\"Corporate\",\"Consumer\",\"Consumer\",\"Consumer\",\"Home Office\",\"Corporate\",\"Consumer\",\"Consumer\",\"Consumer\",\"Consumer\",\"Corporate\",\"Corporate\",\"Corporate\",\"Corporate\",\"Corporate\",\"Consumer\",\"Consumer\",\"Consumer\",\"Consumer\",\"Consumer\",\"Corporate\",\"Corporate\",\"Corporate\",\"Home Office\",\"Home Office\",\"Consumer\",\"Consumer\",\"Consumer\",\"Consumer\",\"Consumer\",\"Consumer\",\"Consumer\",\"Home Office\",\"Home Office\",\"Home Office\",\"Home Office\",\"Home Office\",\"Home Office\",\"Consumer\",\"Consumer\",\"Corporate\",\"Consumer\",\"Consumer\",\"Consumer\",\"Consumer\",\"Consumer\",\"Consumer\",\"Consumer\",\"Consumer\",\"Consumer\",\"Consumer\",\"Home Office\",\"Home Office\",\"Home Office\",\"Home Office\",\"Home Office\",\"Corporate\",\"Corporate\",\"Consumer\",\"Consumer\",\"Consumer\",\"Consumer\",\"Consumer\",\"Consumer\",\"Consumer\",\"Consumer\",\"Corporate\",\"Corporate\",\"Corporate\",\"Consumer\",\"Consumer\",\"Consumer\",\"Corporate\",\"Home Office\",\"Home Office\",\"Consumer\",\"Corporate\",\"Corporate\",\"Corporate\",\"Corporate\",\"Corporate\",\"Home Office\",\"Consumer\",\"Consumer\",\"Consumer\",\"Consumer\",\"Consumer\",\"Home Office\",\"Home Office\",\"Home Office\",\"Home Office\",\"Corporate\",\"Home Office\",\"Consumer\",\"Consumer\",\"Consumer\",\"Consumer\",\"Consumer\",\"Consumer\",\"Consumer\",\"Consumer\",\"Consumer\",\"Consumer\",\"Corporate\",\"Corporate\",\"Corporate\",\"Home Office\",\"Home Office\",\"Home Office\",\"Home Office\",\"Home Office\",\"Home Office\",\"Consumer\",\"Consumer\",\"Corporate\",\"Corporate\",\"Consumer\",\"Consumer\",\"Consumer\",\"Consumer\",\"Consumer\",\"Consumer\",\"Consumer\",\"Consumer\",\"Consumer\",\"Home Office\",\"Consumer\",\"Consumer\",\"Corporate\",\"Corporate\",\"Home Office\",\"Consumer\",\"Consumer\",\"Consumer\",\"Consumer\",\"Corporate\",\"Corporate\",\"Consumer\",\"Corporate\",\"Corporate\",\"Corporate\",\"Consumer\",\"Consumer\",\"Consumer\",\"Home Office\",\"Consumer\",\"Consumer\",\"Consumer\",\"Corporate\",\"Consumer\",\"Home Office\",\"Home Office\",\"Consumer\",\"Home Office\",\"Consumer\",\"Consumer\",\"Corporate\",\"Consumer\",\"Corporate\",\"Corporate\",\"Corporate\",\"Corporate\",\"Corporate\",\"Corporate\",\"Corporate\",\"Corporate\",\"Corporate\",\"Corporate\",\"Corporate\",\"Home Office\",\"Consumer\",\"Consumer\",\"Consumer\",\"Consumer\",\"Corporate\",\"Consumer\",\"Consumer\",\"Corporate\",\"Corporate\",\"Consumer\",\"Consumer\",\"Consumer\",\"Corporate\",\"Corporate\",\"Corporate\",\"Consumer\",\"Consumer\",\"Consumer\",\"Consumer\",\"Consumer\",\"Consumer\",\"Consumer\",\"Consumer\",\"Consumer\",\"Consumer\",\"Corporate\",\"Consumer\",\"Consumer\",\"Consumer\",\"Consumer\",\"Corporate\",\"Corporate\",\"Corporate\",\"Corporate\",\"Corporate\",\"Corporate\",\"Home Office\",\"Home Office\",\"Home Office\",\"Home Office\",\"Home Office\",\"Home Office\",\"Consumer\",\"Consumer\",\"Corporate\",\"Corporate\",\"Consumer\",\"Consumer\",\"Home Office\",\"Home Office\",\"Home Office\",\"Corporate\",\"Corporate\",\"Corporate\",\"Corporate\",\"Home Office\",\"Home Office\",\"Home Office\",\"Home Office\",\"Consumer\",\"Consumer\",\"Consumer\",\"Corporate\",\"Corporate\",\"Corporate\",\"Corporate\",\"Corporate\",\"Consumer\",\"Corporate\",\"Consumer\",\"Consumer\",\"Corporate\",\"Consumer\",\"Consumer\",\"Consumer\",\"Consumer\",\"Consumer\",\"Consumer\",\"Home Office\",\"Consumer\",\"Consumer\",\"Consumer\",\"Consumer\",\"Consumer\",\"Home Office\",\"Corporate\",\"Corporate\",\"Consumer\",\"Consumer\",\"Consumer\",\"Consumer\",\"Consumer\",\"Consumer\",\"Consumer\",\"Consumer\",\"Consumer\",\"Consumer\",\"Consumer\",\"Corporate\",\"Home Office\",\"Home Office\",\"Consumer\",\"Consumer\",\"Consumer\",\"Consumer\",\"Corporate\",\"Consumer\",\"Corporate\",\"Consumer\",\"Consumer\",\"Consumer\",\"Home Office\",\"Home Office\",\"Corporate\",\"Corporate\",\"Corporate\",\"Corporate\",\"Corporate\",\"Corporate\",\"Consumer\",\"Consumer\",\"Corporate\",\"Corporate\",\"Corporate\",\"Corporate\",\"Home Office\",\"Consumer\",\"Consumer\",\"Consumer\",\"Consumer\",\"Consumer\",\"Consumer\",\"Consumer\",\"Corporate\",\"Consumer\",\"Consumer\",\"Home Office\",\"Home Office\",\"Corporate\",\"Consumer\",\"Consumer\",\"Consumer\",\"Home Office\",\"Consumer\",\"Home Office\",\"Corporate\",\"Corporate\",\"Corporate\",\"Corporate\",\"Home Office\",\"Corporate\",\"Corporate\",\"Consumer\",\"Consumer\",\"Home Office\",\"Home Office\",\"Corporate\",\"Consumer\",\"Consumer\",\"Corporate\",\"Consumer\",\"Consumer\",\"Consumer\",\"Consumer\",\"Consumer\",\"Consumer\",\"Consumer\",\"Consumer\",\"Corporate\",\"Corporate\",\"Corporate\",\"Corporate\",\"Consumer\",\"Consumer\",\"Consumer\",\"Consumer\",\"Home Office\",\"Home Office\",\"Corporate\",\"Corporate\",\"Consumer\",\"Corporate\",\"Consumer\",\"Corporate\",\"Consumer\",\"Consumer\",\"Consumer\",\"Corporate\",\"Corporate\",\"Consumer\",\"Consumer\",\"Home Office\",\"Home Office\",\"Home Office\",\"Consumer\",\"Consumer\",\"Consumer\",\"Consumer\",\"Corporate\",\"Corporate\",\"Consumer\",\"Consumer\",\"Consumer\",\"Consumer\",\"Consumer\",\"Corporate\",\"Consumer\",\"Consumer\",\"Home Office\",\"Consumer\",\"Consumer\",\"Consumer\",\"Consumer\",\"Consumer\",\"Corporate\",\"Consumer\",\"Consumer\",\"Consumer\",\"Home Office\",\"Home Office\",\"Home Office\",\"Home Office\",\"Home Office\",\"Corporate\",\"Home Office\",\"Home Office\",\"Consumer\",\"Consumer\",\"Consumer\",\"Consumer\",\"Consumer\",\"Corporate\",\"Consumer\",\"Consumer\",\"Home Office\",\"Corporate\",\"Corporate\",\"Corporate\",\"Corporate\",\"Corporate\",\"Corporate\",\"Corporate\",\"Corporate\",\"Corporate\",\"Home Office\",\"Consumer\",\"Home Office\",\"Corporate\",\"Consumer\",\"Consumer\",\"Home Office\",\"Consumer\",\"Consumer\",\"Consumer\",\"Consumer\",\"Consumer\",\"Consumer\",\"Consumer\",\"Home Office\",\"Consumer\",\"Consumer\",\"Consumer\",\"Corporate\",\"Consumer\",\"Consumer\",\"Consumer\",\"Consumer\",\"Consumer\",\"Consumer\",\"Consumer\",\"Consumer\",\"Consumer\",\"Home Office\",\"Home Office\",\"Home Office\",\"Home Office\",\"Home Office\",\"Consumer\",\"Home Office\",\"Corporate\",\"Consumer\",\"Corporate\",\"Consumer\",\"Home Office\",\"Home Office\",\"Home Office\",\"Home Office\",\"Consumer\",\"Consumer\",\"Corporate\",\"Corporate\",\"Corporate\",\"Home Office\",\"Consumer\",\"Corporate\",\"Consumer\",\"Consumer\",\"Corporate\",\"Consumer\",\"Corporate\",\"Corporate\",\"Consumer\",\"Consumer\",\"Consumer\",\"Consumer\",\"Consumer\",\"Consumer\",\"Corporate\",\"Corporate\",\"Corporate\",\"Corporate\",\"Corporate\",\"Corporate\",\"Corporate\",\"Home Office\",\"Home Office\",\"Home Office\",\"Consumer\",\"Consumer\",\"Consumer\",\"Corporate\",\"Consumer\",\"Consumer\",\"Consumer\",\"Consumer\",\"Consumer\",\"Consumer\",\"Consumer\",\"Consumer\",\"Consumer\",\"Corporate\",\"Corporate\",\"Consumer\",\"Consumer\",\"Corporate\",\"Corporate\",\"Corporate\",\"Corporate\",\"Consumer\",\"Consumer\",\"Consumer\",\"Consumer\",\"Consumer\",\"Consumer\",\"Consumer\",\"Consumer\",\"Consumer\",\"Home Office\",\"Home Office\",\"Consumer\",\"Consumer\",\"Consumer\",\"Consumer\",\"Consumer\",\"Home Office\",\"Home Office\",\"Home Office\",\"Consumer\",\"Corporate\",\"Consumer\",\"Consumer\",\"Consumer\",\"Consumer\",\"Consumer\",\"Corporate\",\"Consumer\",\"Home Office\",\"Home Office\",\"Consumer\",\"Consumer\",\"Corporate\",\"Corporate\",\"Corporate\",\"Corporate\",\"Corporate\",\"Consumer\",\"Consumer\",\"Consumer\",\"Consumer\",\"Corporate\",\"Consumer\",\"Home Office\",\"Consumer\",\"Consumer\",\"Home Office\",\"Consumer\",\"Corporate\",\"Home Office\",\"Home Office\",\"Corporate\",\"Corporate\",\"Home Office\",\"Consumer\",\"Consumer\",\"Consumer\",\"Consumer\",\"Home Office\",\"Home Office\",\"Home Office\",\"Consumer\",\"Consumer\",\"Consumer\",\"Consumer\",\"Consumer\",\"Consumer\",\"Consumer\",\"Consumer\",\"Consumer\",\"Consumer\",\"Consumer\",\"Home Office\",\"Consumer\",\"Consumer\",\"Consumer\",\"Corporate\",\"Consumer\",\"Consumer\",\"Home Office\",\"Consumer\",\"Consumer\",\"Consumer\",\"Consumer\",\"Consumer\",\"Consumer\",\"Consumer\",\"Consumer\",\"Corporate\",\"Corporate\",\"Corporate\",\"Home Office\",\"Home Office\",\"Corporate\",\"Corporate\",\"Corporate\",\"Corporate\",\"Corporate\",\"Consumer\",\"Consumer\",\"Consumer\",\"Consumer\",\"Consumer\",\"Consumer\",\"Consumer\",\"Corporate\",\"Consumer\",\"Consumer\",\"Home Office\",\"Consumer\",\"Consumer\",\"Consumer\",\"Consumer\",\"Consumer\",\"Consumer\",\"Corporate\",\"Home Office\",\"Corporate\",\"Corporate\",\"Corporate\",\"Consumer\",\"Consumer\",\"Consumer\",\"Consumer\",\"Home Office\",\"Home Office\",\"Home Office\",\"Home Office\",\"Corporate\",\"Consumer\",\"Consumer\",\"Consumer\",\"Consumer\",\"Consumer\",\"Consumer\",\"Consumer\",\"Consumer\",\"Consumer\",\"Corporate\",\"Corporate\",\"Corporate\",\"Consumer\",\"Consumer\",\"Consumer\",\"Consumer\",\"Consumer\",\"Consumer\",\"Consumer\",\"Consumer\",\"Consumer\",\"Consumer\",\"Corporate\",\"Corporate\",\"Corporate\",\"Corporate\",\"Corporate\"],\"legendgroup\":\"\",\"name\":\"\",\"showlegend\":true,\"values\":[1.0,1.0,1.0,1.0,1.0,1.0,1.0,1.0,1.0,1.0,1.0,1.0,1.0,1.0,1.0,1.0,1.0,1.0,1.0,1.0,1.0,1.0,1.0,1.0,1.0,1.0,1.0,1.0,1.0,1.0,1.0,1.0,1.0,1.0,1.0,1.0,1.0,1.0,1.0,1.0,1.0,1.0,1.0,1.0,1.0,1.0,1.0,1.0,1.0,1.0,1.0,1.0,1.0,1.0,1.0,1.0,1.0,1.0,1.0,1.0,1.0,1.0,1.0,1.0,1.0,1.0,1.0,1.0,1.0,1.0,1.0,1.0,1.0,1.0,1.0,1.0,1.0,1.0,1.0,1.0,1.0,1.0,1.0,1.0,1.0,1.0,1.0,1.0,1.0,1.0,1.0,1.0,1.0,1.0,1.0,1.0,1.0,1.0,1.0,1.0,1.0,1.0,1.0,1.0,1.0,1.0,1.0,1.0,1.0,1.0,1.0,1.0,1.0,1.0,1.0,1.0,1.0,1.0,1.0,1.0,1.0,1.0,1.0,1.0,1.0,1.0,1.0,1.0,1.0,1.0,1.0,1.0,1.0,1.0,1.0,1.0,1.0,1.0,1.0,1.0,1.0,1.0,1.0,1.0,1.0,1.0,1.0,1.0,1.0,1.0,1.0,1.0,1.0,1.0,1.0,1.0,1.0,1.0,1.0,1.0,1.0,1.0,1.0,1.0,1.0,1.0,1.0,1.0,1.0,1.0,1.0,1.0,1.0,1.0,1.0,1.0,1.0,1.0,1.0,1.0,1.0,1.0,1.0,1.0,1.0,1.0,1.0,1.0,1.0,1.0,1.0,1.0,1.0,1.0,1.0,1.0,1.0,1.0,1.0,1.0,1.0,1.0,1.0,1.0,1.0,1.0,1.0,1.0,1.0,1.0,1.0,1.0,1.0,1.0,1.0,1.0,1.0,1.0,1.0,1.0,1.0,1.0,1.0,1.0,1.0,1.0,1.0,1.0,1.0,1.0,1.0,1.0,1.0,1.0,1.0,1.0,1.0,1.0,1.0,1.0,1.0,1.0,1.0,1.0,1.0,1.0,1.0,1.0,1.0,1.0,1.0,1.0,1.0,1.0,1.0,1.0,1.0,1.0,1.0,1.0,1.0,1.0,1.0,1.0,1.0,1.0,1.0,1.0,1.0,1.0,1.0,1.0,1.0,1.0,1.0,1.0,1.0,1.0,1.0,1.0,1.0,1.0,1.0,1.0,1.0,1.0,1.0,1.0,1.0,1.0,1.0,1.0,1.0,1.0,1.0,1.0,1.0,1.0,1.0,1.0,1.0,1.0,1.0,1.0,1.0,1.0,1.0,1.0,1.0,1.0,1.0,1.0,1.0,1.0,1.0,1.0,1.0,1.0,1.0,1.0,1.0,1.0,1.0,1.0,1.0,1.0,1.0,1.0,1.0,1.0,1.0,1.0,1.0,1.0,1.0,1.0,1.0,1.0,1.0,1.0,1.0,1.0,1.0,1.0,1.0,1.0,1.0,1.0,1.0,1.0,1.0,1.0,1.0,1.0,1.0,1.0,1.0,1.0,1.0,1.0,1.0,1.0,1.0,1.0,1.0,1.0,1.0,1.0,1.0,1.0,1.0,1.0,1.0,1.0,1.0,1.0,1.0,1.0,1.0,1.0,1.0,1.0,1.0,1.0,1.0,1.0,1.0,1.0,1.0,1.0,1.0,1.0,1.0,1.0,1.0,1.0,1.0,1.0,1.0,1.0,1.0,1.0,1.0,1.0,1.0,1.0,1.0,1.0,1.0,1.0,1.0,1.0,1.0,1.0,1.0,1.0,1.0,1.0,1.0,1.0,1.0,1.0,1.0,1.0,1.0,1.0,1.0,1.0,1.0,1.0,1.0,1.0,1.0,1.0,1.0,1.0,1.0,1.0,1.0,1.0,1.0,1.0,1.0,1.0,1.0,1.0,1.0,1.0,1.0,1.0,1.0,1.0,1.0,1.0,1.0,1.0,1.0,1.0,1.0,1.0,1.0,1.0,1.0,1.0,1.0,1.0,1.0,1.0,1.0,1.0,1.0,1.0,1.0,1.0,1.0,1.0,1.0,1.0,1.0,1.0,1.0,1.0,1.0,1.0,1.0,1.0,1.0,1.0,1.0,1.0,1.0,1.0,1.0,1.0,1.0,1.0,1.0,1.0,1.0,1.0,1.0,1.0,1.0,1.0,1.0,1.0,1.0,1.0,1.0,1.0,1.0,1.0,1.0,1.0,1.0,1.0,1.0,1.0,1.0,1.0,1.0,1.0,1.0,1.0,1.0,1.0,1.0,1.0,1.0,1.0,1.0,1.0,1.0,1.0,1.0,1.0,1.0,1.0,1.0,1.0,1.0,1.0,1.0,1.0,1.0,1.0,1.0,1.0,1.0,1.0,1.0,1.0,1.0,1.0,1.0,1.0,1.0,1.0,1.0,1.0,1.0,1.0,1.0,1.0,1.0,1.0,1.0,1.0,1.0,1.0,1.0,1.0,1.0,1.0,1.0,1.0,1.0,1.0,1.0,1.0,1.0,1.0,1.0,1.0,1.0,1.0,1.0,1.0,1.0,1.0,1.0,1.0,1.0,1.0,1.0,1.0,1.0,1.0,1.0,1.0,1.0,1.0,1.0,1.0,1.0,1.0,1.0,1.0,1.0,1.0,1.0,1.0,1.0,1.0,1.0,1.0,1.0,1.0,1.0,1.0,1.0,1.0,1.0,1.0,1.0,1.0,1.0,1.0,1.0,1.0,1.0,1.0,1.0,1.0,1.0,1.0,1.0,1.0,1.0,1.0,1.0,1.0,1.0,1.0,1.0,1.0,1.0,1.0,1.0,1.0,1.0,1.0,1.0,1.0,1.0,1.0,1.0,1.0,1.0,1.0,1.0,1.0,1.0,1.0,1.0,1.0,1.0,1.0,1.0,1.0,1.0,1.0,1.0,1.0,1.0,1.0,1.0,1.0,1.0,1.0,1.0,1.0,1.0,1.0,1.0,1.0,1.0,1.0,1.0,1.0,1.0,1.0,1.0,1.0,1.0,1.0,1.0,1.0,1.0,1.0,1.0,1.0,1.0,1.0,1.0,1.0,1.0,1.0,1.0,1.0,1.0,1.0,1.0,1.0,1.0,1.0,1.0,1.0,1.0,1.0,1.0,1.0,1.0,1.0,1.0,1.0,1.0,1.0,1.0,1.0,1.0,1.0,1.0,1.0,1.0,1.0,1.0,1.0,1.0,1.0,1.0,1.0,1.0,1.0,1.0,1.0,1.0,1.0,1.0,1.0,1.0,1.0,1.0,1.0,1.0,1.0,1.0,1.0,1.0,1.0,1.0,1.0,1.0,1.0,1.0,1.0,1.0,1.0,1.0,1.0,1.0,1.0,1.0,1.0,1.0,1.0,1.0,1.0,1.0,1.0,1.0,1.0,1.0,1.0,1.0,1.0,1.0,1.0,1.0,1.0,1.0,1.0,1.0,1.0,1.0,1.0,1.0,1.0,1.0,1.0,1.0,1.0,1.0,1.0,1.0,1.0,1.0,1.0,1.0,1.0,1.0,1.0,1.0,1.0,1.0,1.0,1.0,1.0,1.0,1.0,1.0,1.0,1.0,1.0,1.0,1.0,1.0,1.0,1.0,1.0,1.0,1.0,1.0,1.0,1.0,1.0,1.0,1.0,1.0,1.0,1.0,1.0,1.0,1.0,1.0,1.0,1.0,1.0,1.0,1.0,1.0,1.0,1.0,1.0,1.0,1.0,1.0,1.0,1.0,1.0,1.0,1.0,1.0,1.0,1.0,1.0,1.0,1.0,1.0,1.0,1.0,1.0,1.0,1.0,1.0,1.0,1.0,1.0,1.0,1.0,1.0,1.0,1.0,1.0,1.0,1.0,1.0,1.0,1.0,1.0,1.0,1.0,1.0,1.0,1.0,1.0,1.0,1.0,1.0,1.0,1.0,1.0,1.0,1.0,1.0,1.0,1.0,1.0,1.0,1.0,1.0,1.0,1.0,1.0,1.0,1.0,1.0,1.0,1.0,1.0,1.0,1.0,1.0,1.0,1.0,1.0,1.0,1.0,1.0,1.0,1.0,1.0,1.0,1.0,1.0,1.0,1.0,1.0,1.0,1.0,1.0,1.0,1.0,1.0,1.0,1.0,1.0,1.0,1.0,1.0,1.0,1.0,1.0,1.0,1.0,1.0,1.0,1.0,1.0,1.0,1.0,1.0,1.0,1.0,1.0,1.0,1.0,1.0,1.0,1.0,1.0,1.0,1.0,1.0,1.0,1.0,1.0,1.0,1.0,1.0,1.0,1.0,1.0,1.0,1.0,1.0,1.0,1.0,1.0,1.0,1.0,1.0,1.0,1.0,1.0,1.0,1.0,1.0,1.0,1.0,1.0,1.0,1.0,1.0,1.0,1.0,1.0,1.0,1.0,1.0,1.0,1.0,1.0,1.0,1.0,1.0,1.0,1.0,1.0,1.0,1.0,1.0,1.0,1.0,1.0,1.0,1.0,1.0,1.0,1.0,1.0,1.0,1.0,1.0,1.0,1.0,1.0,1.0,1.0,1.0,1.0,1.0,1.0,1.0,1.0,1.0,1.0,1.0,1.0,1.0,1.0,1.0,1.0,1.0,1.0,1.0,1.0,1.0,1.0,1.0,1.0,1.0,1.0,1.0,1.0,1.0,1.0,1.0,1.0,1.0,1.0,1.0,1.0,1.0,1.0,1.0,1.0,1.0,1.0,1.0,1.0,1.0,1.0,1.0,1.0,1.0,1.0,1.0,1.0,1.0,1.0,1.0,1.0,1.0,1.0,1.0,1.0,1.0,1.0,1.0,1.0,1.0,1.0,1.0,1.0,1.0,1.0,1.0,1.0,1.0,1.0,1.0,1.0,1.0,1.0,1.0,1.0,1.0,1.0,1.0,1.0,1.0,1.0,1.0,1.0,1.0,1.0,1.0,1.0,1.0,1.0,1.0,1.0,1.0,1.0,1.0,1.0,1.0,1.0,1.0,1.0,1.0,1.0,1.0,1.0,1.0,1.0,1.0,1.0,1.0,1.0,1.0,1.0,1.0,1.0,1.0,1.0,1.0,1.0,1.0,1.0,1.0,1.0,1.0,1.0,1.0,1.0,1.0,1.0,1.0,1.0,1.0,1.0,1.0,1.0,1.0,1.0,1.0,1.0,1.0,1.0,1.0,1.0,1.0,1.0,1.0,1.0,1.0,1.0,1.0,1.0,1.0,1.0,1.0,1.0,1.0,1.0,1.0,1.0,1.0,1.0,1.0,1.0,1.0,1.0,1.0,1.0,1.0,1.0,1.0,1.0,1.0,1.0,1.0,1.0,1.0,1.0,1.0,1.0,1.0,1.0,1.0,1.0,1.0,1.0,1.0,1.0,1.0,1.0,1.0,1.0,1.0,1.0,1.0,1.0,1.0,1.0,1.0,1.0,1.0,1.0,1.0,1.0,1.0,1.0,1.0,1.0,1.0,1.0,1.0,1.0,1.0,1.0,1.0,1.0,1.0,1.0,1.0,1.0,1.0,1.0,1.0,1.0,1.0,1.0,1.0,1.0,1.0,1.0,1.0,1.0,1.0,1.0,1.0,1.0,1.0,1.0,1.0,1.0,1.0,1.0,1.0,1.0,1.0,1.0,1.0,1.0,1.0,1.0,1.0,1.0,1.0,1.0,1.0,1.0,1.0,1.0,1.0,1.0,1.0,1.0,1.0,1.0,1.0,1.0,1.0,1.0,1.0,1.0,1.0,1.0,1.0,1.0,1.0,1.0,1.0,1.0,1.0,1.0,1.0,1.0,1.0,1.0,1.0,1.0,1.0,1.0,1.0,1.0,1.0,1.0,1.0,1.0,1.0,1.0,1.0,1.0,1.0,1.0,1.0,1.0,1.0,1.0,1.0,1.0,1.0,1.0,1.0,1.0,1.0,1.0,1.0,1.0,1.0,1.0,1.0,1.0,1.0,1.0,1.0,1.0,1.0,1.0,1.0,1.0,1.0,1.0,1.0,1.0,1.0,1.0,1.0,1.0,1.0,1.0,1.0,1.0,1.0,1.0,1.0,1.0,1.0,1.0,1.0,1.0,1.0,1.0,1.0,1.0,1.0,1.0,1.0,1.0,1.0,1.0,1.0,1.0,1.0,1.0,1.0,1.0,1.0,1.0,1.0,1.0,1.0,1.0,1.0,1.0,1.0,1.0,1.0,1.0,1.0,1.0,1.0,1.0,1.0,1.0,1.0,1.0,1.0,1.0,1.0,1.0,1.0,1.0,1.0,1.0,1.0,1.0,1.0,1.0,1.0,1.0,1.0,1.0,1.0,1.0,1.0,1.0,1.0,1.0,1.0,1.0,1.0,1.0,1.0,1.0,1.0,1.0,1.0,1.0,1.0,1.0,1.0,1.0,1.0,1.0,1.0,1.0,1.0,1.0,1.0,1.0,1.0,1.0,1.0,1.0,1.0,1.0,1.0,1.0,1.0,1.0,1.0,1.0,1.0,1.0,1.0,1.0,1.0,1.0,1.0,1.0,1.0,1.0,1.0,1.0,1.0,1.0,1.0,1.0,1.0,1.0,1.0,1.0,1.0,1.0,1.0,1.0,1.0,1.0,1.0,1.0,1.0,1.0,1.0,1.0,1.0,1.0,1.0,1.0,1.0,1.0,1.0,1.0,1.0,1.0,1.0,1.0,1.0,1.0,1.0,1.0,1.0,1.0,1.0,1.0,1.0,1.0,1.0,1.0,1.0,1.0,1.0,1.0,1.0,1.0,1.0,1.0,1.0,1.0,1.0,1.0,1.0,1.0,1.0,1.0,1.0,1.0,1.0,1.0,1.0,1.0,1.0,1.0,1.0,1.0,1.0,1.0,1.0,1.0,1.0,1.0,1.0,1.0,1.0,1.0,1.0,1.0,1.0,1.0,1.0,1.0,1.0,1.0,1.0,1.0,1.0,1.0,1.0,1.0,1.0,1.0,1.0,1.0,1.0,1.0,1.0,1.0,1.0,1.0,1.0,1.0,1.0,1.0,1.0,1.0,1.0,1.0,1.0,1.0,1.0,1.0,1.0,1.0,1.0,1.0,1.0,1.0,1.0,1.0,1.0,1.0,1.0,1.0,1.0,1.0,1.0,1.0,1.0,1.0,1.0,1.0,1.0,1.0,1.0,1.0,1.0,1.0,1.0,1.0,1.0,1.0,1.0,1.0,1.0,1.0,1.0,1.0,1.0,1.0,1.0,1.0,1.0,1.0,1.0,1.0,1.0,1.0,1.0,1.0,1.0,1.0,1.0,1.0,1.0,1.0,1.0,1.0,1.0,1.0,1.0,1.0,1.0,1.0,1.0,1.0,1.0,1.0,1.0,1.0,1.0,1.0,1.0,1.0,1.0,1.0,1.0,1.0,1.0,1.0,1.0,1.0,1.0,1.0,1.0,1.0,1.0,1.0,1.0,1.0,1.0,1.0,1.0,1.0,1.0,1.0,1.0,1.0,1.0,1.0,1.0,1.0,1.0,1.0,1.0,1.0,1.0,1.0,1.0,1.0,1.0,1.0,1.0,1.0,1.0,1.0,1.0,1.0,1.0,1.0,1.0,1.0,1.0,1.0,1.0,1.0,1.0,1.0,1.0,1.0,1.0,1.0,1.0,1.0,1.0,1.0,1.0,1.0,1.0,1.0,1.0,1.0,1.0,1.0,1.0,1.0,1.0,1.0,1.0,1.0,1.0,1.0,1.0,1.0,1.0,1.0,1.0,1.0,1.0,1.0,1.0,1.0,1.0,1.0,1.0,1.0,1.0,1.0,1.0,1.0,1.0,1.0,1.0,1.0,1.0,1.0,1.0,1.0,1.0,1.0,1.0,1.0,1.0,1.0,1.0,1.0,1.0,1.0,1.0,1.0,1.0,1.0,1.0,1.0,1.0,1.0,1.0,1.0,1.0,1.0,1.0,1.0,1.0,1.0,1.0,1.0,1.0,1.0,1.0,1.0,1.0,1.0,1.0,1.0,1.0,1.0,1.0,1.0,1.0,1.0,1.0,1.0,1.0,1.0,1.0,1.0,1.0,1.0,1.0,1.0,1.0,1.0,1.0,1.0,1.0,1.0,1.0,1.0,1.0,1.0,1.0,1.0,1.0,1.0,1.0,1.0,1.0,1.0,1.0,1.0,1.0,1.0,1.0,1.0,1.0,1.0,1.0,1.0,1.0,1.0,1.0,1.0,1.0,1.0,1.0,1.0,1.0,1.0,1.0,1.0,1.0,1.0,1.0,1.0,1.0,1.0,1.0,1.0,1.0,1.0,1.0,1.0,1.0,1.0,1.0,1.0,1.0,1.0,1.0,1.0,1.0,1.0,1.0,1.0,1.0,1.0,1.0,1.0,1.0,1.0,1.0,1.0,1.0,1.0,1.0,1.0,1.0,1.0,1.0,1.0,1.0,1.0,1.0,1.0,1.0,1.0,1.0,1.0,1.0,1.0,1.0,1.0,1.0,1.0,1.0,1.0,1.0,1.0,1.0,1.0,1.0,1.0,1.0,1.0,1.0,1.0,1.0,1.0,1.0,1.0,1.0,1.0,1.0,1.0,1.0,1.0,1.0,1.0,1.0,1.0,1.0,1.0,1.0,1.0,1.0,1.0,1.0,1.0,1.0,1.0,1.0,1.0,1.0,1.0,1.0,1.0,1.0,1.0,1.0,1.0,1.0,1.0,1.0,1.0,1.0,1.0,1.0,1.0,1.0,1.0,1.0,1.0,1.0,1.0,1.0,1.0,1.0,1.0,1.0,1.0,1.0,1.0,1.0,1.0,1.0,1.0,1.0,1.0,1.0,1.0,1.0,1.0,1.0,1.0,1.0,1.0,1.0,1.0,1.0,1.0,1.0,1.0,1.0,1.0,1.0,1.0,1.0,1.0,1.0,1.0,1.0,1.0,1.0,1.0,1.0,1.0,1.0,1.0,1.0,1.0,1.0,1.0,1.0,1.0,1.0,1.0,1.0,1.0,1.0,1.0,1.0,1.0,1.0,1.0,1.0,1.0,1.0,1.0,1.0,1.0,1.0,1.0,1.0,1.0,1.0,1.0,1.0,1.0,1.0,1.0,1.0,1.0,1.0,1.0,1.0,1.0,1.0,1.0,1.0,1.0,1.0,1.0,1.0,1.0,1.0,1.0,1.0,1.0,1.0,1.0,1.0,1.0,1.0,1.0,1.0,1.0,1.0,1.0,1.0,1.0,1.0,1.0,1.0,1.0,1.0,1.0,1.0,1.0,1.0,1.0,1.0,1.0,1.0,1.0,1.0,1.0,1.0,1.0,1.0,1.0,1.0,1.0,1.0,1.0,1.0,1.0,1.0,1.0,1.0,1.0,1.0,1.0,1.0,1.0,1.0,1.0,1.0,1.0,1.0,1.0,1.0,1.0,1.0,1.0,1.0,1.0,1.0,1.0,1.0,1.0,1.0,1.0,1.0,1.0,1.0,1.0,1.0,1.0,1.0,1.0,1.0,1.0,1.0,1.0,1.0,1.0,1.0,1.0,1.0,1.0,1.0,1.0,1.0,1.0,1.0,1.0,1.0,1.0,1.0,1.0,1.0,1.0,1.0,1.0,1.0,1.0,1.0,1.0,1.0,1.0,1.0,1.0,1.0,1.0,1.0,1.0,1.0,1.0,1.0,1.0,1.0,1.0,1.0,1.0,1.0,1.0,1.0,1.0,1.0,1.0,1.0,1.0,1.0,1.0,1.0,1.0,1.0,1.0,1.0,1.0,1.0,1.0,1.0,1.0,1.0,1.0,1.0,1.0,1.0,1.0,1.0,1.0,1.0,1.0,1.0,1.0,1.0,1.0,1.0,1.0,1.0,1.0,1.0,1.0,1.0,1.0,1.0,1.0,1.0,1.0,1.0,1.0,1.0,1.0,1.0,1.0,1.0,1.0,1.0,1.0,1.0,1.0,1.0,1.0,1.0,1.0,1.0,1.0,1.0,1.0,1.0,1.0,1.0,1.0,1.0,1.0,1.0,1.0,1.0,1.0,1.0,1.0,1.0,1.0,1.0,1.0,1.0,1.0,1.0,1.0,1.0,1.0,1.0,1.0,1.0,1.0,1.0,1.0,1.0,1.0,1.0,1.0,1.0,1.0,1.0,1.0,1.0,1.0,1.0,1.0,1.0,1.0,1.0,1.0,1.0,1.0,1.0,1.0,1.0,1.0,1.0,1.0,1.0,1.0,1.0,1.0,1.0,1.0,1.0,1.0,1.0,1.0,1.0,1.0,1.0,1.0,1.0,1.0,1.0,1.0,1.0,1.0,1.0,1.0,1.0,1.0,1.0,1.0,1.0,1.0,1.0,1.0,1.0,1.0,1.0,1.0,1.0,1.0,1.0,1.0,1.0,1.0,1.0,1.0,1.0,1.0,1.0,1.0,1.0,1.0,1.0,1.0,1.0,1.0,1.0,1.0,1.0,1.0,1.0,1.0,1.0,1.0,1.0,1.0,1.0,1.0,1.0,1.0,1.0,1.0,1.0,1.0,1.0,1.0,1.0,1.0,1.0,1.0,1.0,1.0,1.0,1.0,1.0,1.0,1.0,1.0,1.0,1.0,1.0,1.0,1.0,1.0,1.0,1.0,1.0,1.0,1.0,1.0,1.0,1.0,1.0,1.0,1.0,1.0,1.0,1.0,1.0,1.0,1.0,1.0,1.0,1.0,1.0,1.0,1.0,1.0,1.0,1.0,1.0,1.0,1.0,1.0,1.0,1.0,1.0,1.0,1.0,1.0,1.0,1.0,1.0,1.0,1.0,1.0,1.0,1.0,1.0,1.0,1.0,1.0,1.0,1.0,1.0,1.0,1.0,1.0,1.0,1.0,1.0,1.0,1.0,1.0,1.0,1.0,1.0,1.0,1.0,1.0,1.0,1.0,1.0,1.0,1.0,1.0,1.0,1.0,1.0,1.0,1.0,1.0,1.0,1.0,1.0,1.0,1.0,1.0,1.0,1.0,1.0,1.0,1.0,1.0,1.0,1.0,1.0,1.0,1.0,1.0,1.0,1.0,1.0,1.0,1.0,1.0,1.0,1.0,1.0,1.0,1.0,1.0,1.0,1.0,1.0,1.0,1.0,1.0,1.0,1.0,1.0,1.0,1.0,1.0,1.0,1.0,1.0,1.0,1.0,1.0,1.0,1.0,1.0,1.0,1.0,1.0,1.0,1.0,1.0,1.0,1.0,1.0,1.0,1.0,1.0,1.0,1.0,1.0,1.0,1.0,1.0,1.0,1.0,1.0,1.0,1.0,1.0,1.0,1.0,1.0,1.0,1.0,1.0,1.0,1.0,1.0,1.0,1.0,1.0,1.0,1.0,1.0,1.0,1.0,1.0,1.0,1.0,1.0,1.0,1.0,1.0,1.0,1.0,1.0,1.0,1.0,1.0,1.0,1.0,1.0,1.0,1.0,1.0,1.0,1.0,1.0,1.0,1.0,1.0,1.0,1.0,1.0,1.0,1.0,1.0,1.0,1.0,1.0,1.0,1.0,1.0,1.0,1.0,1.0,1.0,1.0,1.0,1.0,1.0,1.0,1.0,1.0,1.0,1.0,1.0,1.0,1.0,1.0,1.0,1.0,1.0,1.0,1.0,1.0,1.0,1.0,1.0,1.0,1.0,1.0,1.0,1.0,1.0,1.0,1.0,1.0,1.0,1.0,1.0,1.0,1.0,1.0,1.0,1.0,1.0,1.0,1.0,1.0,1.0,1.0,1.0,1.0,1.0,1.0,1.0,1.0,1.0,1.0,1.0,1.0,1.0,1.0,1.0,1.0,1.0,1.0,1.0,1.0,1.0,1.0,1.0,1.0,1.0,1.0,1.0,1.0,1.0,1.0,1.0,1.0,1.0,1.0,1.0,1.0,1.0,1.0,1.0,1.0,1.0,1.0,1.0,1.0,1.0,1.0,1.0,1.0,1.0,1.0,1.0,1.0,1.0,1.0,1.0,1.0,1.0,1.0,1.0,1.0,1.0,1.0,1.0,1.0,1.0,1.0,1.0,1.0,1.0,1.0,1.0,1.0,1.0,1.0,1.0,1.0,1.0,1.0,1.0,1.0,1.0,1.0,1.0,1.0,1.0,1.0,1.0,1.0,1.0,1.0,1.0,1.0,1.0,1.0,1.0,1.0,1.0,1.0,1.0,1.0,1.0,1.0,1.0,1.0,1.0,1.0,1.0,1.0,1.0,1.0,1.0,1.0,1.0,1.0,1.0,1.0,1.0,1.0,1.0,1.0,1.0,1.0,1.0,1.0,1.0,1.0,1.0,1.0,1.0,1.0,1.0,1.0,1.0,1.0,1.0,1.0,1.0,1.0,1.0,1.0,1.0,1.0,1.0,1.0,1.0,1.0,1.0,1.0,1.0,1.0,1.0,1.0,1.0,1.0,1.0,1.0,1.0,1.0,1.0,1.0,1.0,1.0,1.0,1.0,1.0,1.0,1.0,1.0,1.0,1.0,1.0,1.0,1.0,1.0,1.0,1.0,1.0,1.0,1.0,1.0,1.0,1.0,1.0,1.0,1.0,1.0,1.0,1.0,1.0,1.0,1.0,1.0,1.0,1.0,1.0,1.0,1.0,1.0,1.0,1.0,1.0,1.0,1.0,1.0,1.0,1.0,1.0,1.0,1.0,1.0,1.0,1.0,1.0,1.0,1.0,1.0,1.0,1.0,1.0,1.0,1.0,1.0,1.0,1.0,1.0,1.0,1.0,1.0,1.0,1.0,1.0,1.0,1.0,1.0,1.0,1.0,1.0,1.0,1.0,1.0,1.0,1.0,1.0,1.0,1.0,1.0,1.0,1.0,1.0,1.0,1.0,1.0,1.0,1.0,1.0,1.0,1.0,1.0,1.0,1.0,1.0,1.0,1.0,1.0,1.0,1.0,1.0,1.0,1.0,1.0,1.0,1.0,1.0,1.0,1.0,1.0,1.0,1.0,1.0,1.0,1.0,1.0,1.0,1.0,1.0,1.0,1.0,1.0,1.0,1.0,1.0,1.0,1.0,1.0,1.0,1.0,1.0,1.0,1.0,1.0,1.0,1.0,1.0,1.0,1.0,1.0,1.0,1.0,1.0,1.0,1.0,1.0,1.0,1.0,1.0,1.0,1.0,1.0,1.0,1.0,1.0,1.0,1.0,1.0,1.0,1.0,1.0,1.0,1.0,1.0,1.0,1.0,1.0,1.0,1.0,1.0,1.0,1.0,1.0,1.0,1.0,1.0,1.0,1.0,1.0,1.0,1.0,1.0,1.0,1.0,1.0,1.0,1.0,1.0,1.0,1.0,1.0,1.0,1.0,1.0,1.0,1.0,1.0,1.0,1.0,1.0,1.0,1.0,1.0,1.0,1.0,1.0,1.0,1.0,1.0,1.0,1.0,1.0,1.0,1.0,1.0,1.0,1.0,1.0,1.0,1.0,1.0,1.0,1.0,1.0,1.0,1.0,1.0,1.0,1.0,1.0,1.0,1.0,1.0,1.0,1.0,1.0,1.0,1.0,1.0,1.0,1.0,1.0,1.0,1.0,1.0,1.0,1.0,1.0,1.0,1.0,1.0,1.0,1.0,1.0,1.0,1.0,1.0,1.0,1.0,1.0,1.0,1.0,1.0,1.0,1.0,1.0,1.0,1.0,1.0,1.0,1.0,1.0,1.0,1.0,1.0,1.0,1.0,1.0,1.0,1.0,1.0,1.0,1.0,1.0,1.0,1.0,1.0,1.0,1.0,1.0,1.0,1.0,1.0,1.0,1.0,1.0,1.0,1.0,1.0,1.0,1.0,1.0,1.0,1.0,1.0,1.0,1.0,1.0,1.0,1.0,1.0,1.0,1.0,1.0,1.0,1.0,1.0,1.0,1.0,1.0,1.0,1.0,1.0,1.0,1.0,1.0,1.0,1.0,1.0,1.0,1.0,1.0,1.0,1.0,1.0,1.0,1.0,1.0,1.0,1.0,1.0,1.0,1.0,1.0,1.0,1.0,1.0,1.0,1.0,1.0,1.0,1.0,1.0,1.0,1.0,1.0,1.0,1.0,1.0,1.0,1.0,1.0,1.0,1.0,1.0,1.0,1.0,1.0,1.0,1.0,1.0,1.0,1.0,1.0,1.0,1.0,1.0,1.0,1.0,1.0,1.0,1.0,1.0,1.0,1.0,1.0,1.0,1.0,1.0,1.0,1.0,1.0,1.0,1.0,1.0,1.0,1.0,1.0,1.0,1.0,1.0,1.0,1.0,1.0,1.0,1.0,1.0,1.0,1.0,1.0,1.0,1.0,1.0,1.0,1.0,1.0,1.0,1.0,1.0,1.0,1.0,1.0,1.0,1.0,1.0,1.0,1.0,1.0,1.0,1.0,1.0,1.0,1.0,1.0,1.0,1.0,1.0,1.0,1.0,1.0,1.0,1.0,1.0,1.0,1.0,1.0,1.0,1.0,1.0,1.0,1.0,1.0,1.0,1.0,1.0,1.0,1.0,1.0,1.0,1.0,1.0,1.0,1.0,1.0,1.0,1.0,1.0,1.0,1.0,1.0,1.0,1.0,1.0,1.0,1.0,1.0,1.0,1.0,1.0,1.0,1.0,1.0,1.0,1.0,1.0,1.0,1.0,1.0,1.0,1.0,1.0,1.0,1.0,1.0,1.0,1.0,1.0,1.0,1.0,1.0,1.0,1.0,1.0,1.0,1.0,1.0,1.0,1.0,1.0,1.0,1.0,1.0,1.0,1.0,1.0,1.0,1.0,1.0,1.0,1.0,1.0,1.0,1.0,1.0,1.0,1.0,1.0,1.0,1.0,1.0,1.0,1.0,1.0,1.0,1.0,1.0,1.0,1.0,1.0,1.0,1.0,1.0,1.0,1.0,1.0,1.0,1.0,1.0,1.0,1.0,1.0,1.0,1.0,1.0,1.0,1.0,1.0,1.0,1.0,1.0,1.0,1.0,1.0,1.0,1.0,1.0,1.0,1.0,1.0,1.0,1.0,1.0,1.0,1.0,1.0,1.0,1.0,1.0,1.0,1.0,1.0,1.0,1.0,1.0,1.0,1.0,1.0,1.0,1.0,1.0,1.0,1.0,1.0,1.0,1.0,1.0,1.0,1.0,1.0,1.0,1.0,1.0,1.0,1.0,1.0,1.0,1.0,1.0,1.0,1.0,1.0,1.0,1.0,1.0,1.0,1.0,1.0,1.0,1.0,1.0,1.0,1.0,1.0,1.0,1.0,1.0,1.0,1.0,1.0,1.0,1.0,1.0,1.0,1.0,1.0,1.0,1.0,1.0,1.0,1.0,1.0,1.0,1.0,1.0,1.0,1.0,1.0,1.0,1.0,1.0,1.0,1.0,1.0,1.0,1.0,1.0,1.0,1.0,1.0,1.0,1.0,1.0,1.0,1.0,1.0,1.0,1.0,1.0,1.0,1.0,1.0,1.0,1.0,1.0,1.0,1.0,1.0,1.0,1.0,1.0,1.0,1.0,1.0,1.0,1.0,1.0,1.0,1.0,1.0,1.0,1.0,1.0,1.0,1.0,1.0,1.0,1.0,1.0,1.0,1.0,1.0,1.0,1.0,1.0,1.0,1.0,1.0,1.0,1.0,1.0,1.0,1.0,1.0,1.0,1.0,1.0,1.0,1.0,1.0,1.0,1.0,1.0,1.0,1.0,1.0,1.0,1.0,1.0,1.0,1.0,1.0,1.0,1.0,1.0,1.0,1.0,1.0,1.0,1.0,1.0,1.0,1.0,1.0,1.0,1.0,1.0,1.0,1.0,1.0,1.0,1.0,1.0,1.0,1.0,1.0,1.0,1.0,1.0,1.0,1.0,1.0,1.0,1.0,1.0,1.0,1.0,1.0,1.0,1.0,1.0,1.0,1.0,1.0,1.0,1.0,1.0,1.0,1.0,1.0,1.0,1.0,1.0,1.0,1.0,1.0,1.0,1.0,1.0,1.0,1.0,1.0,1.0,1.0,1.0,1.0,1.0,1.0,1.0,1.0,1.0,1.0,1.0,1.0,1.0,1.0,1.0,1.0,1.0,1.0,1.0,1.0,1.0,1.0,1.0,1.0,1.0,1.0,1.0,1.0,1.0,1.0,1.0,1.0,1.0,1.0,1.0,1.0,1.0,1.0,1.0,1.0,1.0,1.0,1.0,1.0,1.0,1.0,1.0,1.0,1.0,1.0,1.0,1.0,1.0,1.0,1.0,1.0,1.0,1.0,1.0,1.0,1.0,1.0,1.0,1.0,1.0,1.0,1.0,1.0,1.0,1.0,1.0,1.0,1.0,1.0,1.0,1.0,1.0,1.0,1.0,1.0,1.0,1.0,1.0,1.0,1.0,1.0,1.0,1.0,1.0,1.0,1.0,1.0,1.0,1.0,1.0,1.0,1.0,1.0,1.0,1.0,1.0,1.0,1.0,1.0,1.0,1.0,1.0,1.0,1.0,1.0,1.0,1.0,1.0,1.0,1.0,1.0,1.0,1.0,1.0,1.0,1.0,1.0,1.0,1.0,1.0,1.0,1.0,1.0,1.0,1.0,1.0,1.0,1.0,1.0,1.0,1.0,1.0,1.0,1.0,1.0,1.0,1.0,1.0,1.0,1.0,1.0,1.0,1.0,1.0,1.0,1.0,1.0,1.0,1.0,1.0,1.0,1.0,1.0,1.0,1.0,1.0,1.0,1.0,1.0,1.0,1.0,1.0,1.0,1.0,1.0,1.0,1.0,1.0,1.0,1.0,1.0,1.0,1.0,1.0,1.0,1.0,1.0,1.0,1.0,1.0,1.0,1.0,1.0,1.0,1.0,1.0,1.0,1.0,1.0,1.0,1.0,1.0,1.0,1.0,1.0,1.0,1.0,1.0,1.0,1.0,1.0,1.0,1.0,1.0,1.0,1.0,1.0,1.0,1.0,1.0,1.0,1.0,1.0,1.0,1.0,1.0,1.0,1.0,1.0,1.0,1.0,1.0,1.0,1.0,1.0,1.0,1.0,1.0,1.0,1.0,1.0,1.0,1.0,1.0,1.0,1.0,1.0,1.0,1.0,1.0,1.0,1.0,1.0,1.0,1.0,1.0,1.0,1.0,1.0,1.0,1.0,1.0,1.0,1.0,1.0,1.0,1.0,1.0,1.0,1.0,1.0,1.0,1.0,1.0,1.0,1.0,1.0,1.0,1.0,1.0,1.0,1.0,1.0,1.0,1.0,1.0,1.0,1.0,1.0,1.0,1.0,1.0,1.0,1.0,1.0,1.0,1.0,1.0,1.0,1.0,1.0,1.0,1.0,1.0,1.0,1.0,1.0,1.0,1.0,1.0,1.0,1.0,1.0,1.0,1.0,1.0,1.0,1.0,1.0,1.0,1.0,1.0,1.0,1.0,1.0,1.0,1.0,1.0,1.0,1.0,1.0,1.0,1.0,1.0,1.0,1.0,1.0,1.0,1.0,1.0,1.0,1.0,1.0,1.0,1.0,1.0,1.0,1.0,1.0,1.0,1.0,1.0,1.0,1.0,1.0,1.0,1.0,1.0,1.0,1.0,1.0,1.0,1.0,1.0,1.0,1.0,1.0,1.0,1.0,1.0,1.0,1.0,1.0,1.0,1.0,1.0,1.0,1.0,1.0,1.0,1.0,1.0,1.0,1.0,1.0,1.0,1.0,1.0,1.0,1.0,1.0,1.0,1.0,1.0,1.0,1.0,1.0,1.0,1.0,1.0,1.0,1.0,1.0,1.0,1.0,1.0,1.0,1.0,1.0,1.0,1.0,1.0,1.0,1.0,1.0,1.0,1.0,1.0,1.0,1.0,1.0,1.0,1.0,1.0,1.0,1.0,1.0,1.0,1.0,1.0,1.0,1.0,1.0,1.0,1.0,1.0,1.0,1.0,1.0,1.0,1.0,1.0,1.0,1.0,1.0,1.0,1.0,1.0,1.0,1.0,1.0,1.0,1.0,1.0,1.0,1.0,1.0,1.0,1.0,1.0,1.0,1.0,1.0,1.0,1.0,1.0,1.0,1.0,1.0,1.0,1.0,1.0,1.0,1.0,1.0,1.0,1.0,1.0,1.0,1.0,1.0,1.0,1.0,1.0,1.0,1.0,1.0,1.0,1.0,1.0,1.0,1.0,1.0,1.0,1.0,1.0,1.0,1.0,1.0,1.0,1.0,1.0,1.0,1.0,1.0,1.0,1.0,1.0,1.0,1.0,1.0,1.0,1.0,1.0,1.0,1.0,1.0,1.0,1.0,1.0,1.0,1.0,1.0,1.0,1.0,1.0,1.0,1.0,1.0,1.0,1.0,1.0,1.0,1.0,1.0,1.0,1.0,1.0,1.0,1.0,1.0,1.0,1.0,1.0,1.0,1.0,1.0,1.0,1.0,1.0,1.0,1.0,1.0,1.0,1.0,1.0,1.0,1.0,1.0,1.0,1.0,1.0,1.0,1.0,1.0,1.0,1.0,1.0,1.0,1.0,1.0,1.0,1.0,1.0,1.0,1.0,1.0,1.0,1.0,1.0,1.0,1.0,1.0,1.0,1.0,1.0,1.0,1.0,1.0,1.0,1.0,1.0,1.0,1.0,1.0,1.0,1.0,1.0,1.0,1.0,1.0,1.0,1.0,1.0,1.0,1.0,1.0,1.0,1.0,1.0,1.0,1.0,1.0,1.0,1.0,1.0,1.0,1.0,1.0,1.0,1.0,1.0,1.0,1.0,1.0,1.0,1.0,1.0,1.0,1.0,1.0,1.0,1.0,1.0,1.0,1.0,1.0,1.0,1.0,1.0,1.0,1.0,1.0,1.0,1.0,1.0,1.0,1.0,1.0,1.0,1.0,1.0,1.0,1.0,1.0,1.0,1.0,1.0,1.0,1.0,1.0,1.0,1.0,1.0,1.0,1.0,1.0,1.0,1.0,1.0,1.0,1.0,1.0,1.0,1.0,1.0,1.0,1.0,1.0,1.0,1.0,1.0,1.0,1.0,1.0,1.0,1.0,1.0,1.0,1.0,1.0,1.0,1.0,1.0,1.0,1.0,1.0,1.0,1.0,1.0,1.0,1.0,1.0,1.0,1.0,1.0,1.0,1.0,1.0,1.0,1.0,1.0,1.0,1.0,1.0,1.0,1.0,1.0,1.0,1.0,1.0,1.0,1.0,1.0,1.0,1.0,1.0,1.0,1.0,1.0,1.0,1.0,1.0,1.0,1.0,1.0,1.0,1.0,1.0,1.0,1.0,1.0,1.0,1.0,1.0,1.0,1.0,1.0,1.0,1.0,1.0,1.0,1.0,1.0,1.0,1.0,1.0,1.0,1.0,1.0,1.0,1.0,1.0,1.0,1.0,1.0,1.0,1.0,1.0,1.0,1.0,1.0,1.0,1.0,1.0,1.0,1.0,1.0,1.0,1.0,1.0,1.0,1.0,1.0,1.0,1.0,1.0,1.0,1.0,1.0,1.0,1.0,1.0,1.0,1.0,1.0,1.0,1.0,1.0,1.0,1.0,1.0,1.0,1.0,1.0,1.0,1.0,1.0,1.0,1.0,1.0,1.0,1.0,1.0,1.0,1.0,1.0,1.0,1.0,1.0,1.0,1.0,1.0,1.0,1.0,1.0,1.0,1.0,1.0,1.0,1.0,1.0,1.0,1.0,1.0,1.0,1.0,1.0,1.0,1.0,1.0,1.0,1.0,1.0,1.0,1.0,1.0,1.0,1.0,1.0,1.0,1.0,1.0,1.0,1.0,1.0,1.0,1.0,1.0,1.0,1.0,1.0,1.0,1.0,1.0,1.0,1.0,1.0,1.0,1.0,1.0,1.0,1.0,1.0,1.0,1.0,1.0,1.0,1.0,1.0,1.0,1.0,1.0,1.0,1.0,1.0,1.0,1.0,1.0,1.0,1.0,1.0,1.0,1.0,1.0,1.0,1.0,1.0,1.0,1.0,1.0,1.0,1.0,1.0,1.0,1.0,1.0,1.0,1.0,1.0,1.0,1.0,1.0,1.0,1.0,1.0,1.0,1.0,1.0,1.0,1.0,1.0,1.0,1.0,1.0,1.0,1.0,1.0,1.0,1.0,1.0,1.0,1.0,1.0,1.0,1.0,1.0,1.0,1.0,1.0,1.0,1.0,1.0,1.0,1.0,1.0,1.0,1.0,1.0,1.0,1.0,1.0,1.0,1.0,1.0,1.0,1.0,1.0,1.0,1.0,1.0,1.0,1.0,1.0,1.0,1.0,1.0,1.0,1.0,1.0,1.0,1.0,1.0,1.0,1.0,1.0,1.0,1.0,1.0,1.0,1.0,1.0,1.0,1.0,1.0,1.0,1.0,1.0,1.0,1.0,1.0,1.0,1.0,1.0,1.0,1.0,1.0,1.0,1.0,1.0,1.0,1.0,1.0,1.0,1.0,1.0,1.0,1.0,1.0,1.0,1.0,1.0,1.0,1.0,1.0,1.0,1.0,1.0,1.0,1.0,1.0,1.0,1.0,1.0,1.0,1.0,1.0,1.0,1.0,1.0,1.0,1.0,1.0,1.0,1.0,1.0,1.0,1.0,1.0,1.0,1.0,1.0,1.0,1.0,1.0,1.0,1.0,1.0,1.0,1.0,1.0,1.0,1.0,1.0,1.0,1.0,1.0,1.0,1.0,1.0,1.0,1.0,1.0,1.0,1.0,1.0,1.0,1.0,1.0,1.0,1.0,1.0,1.0,1.0,1.0,1.0,1.0,1.0,1.0,1.0,1.0,1.0,1.0,1.0,1.0,1.0,1.0,1.0,1.0,1.0,1.0,1.0,1.0,1.0,1.0,1.0,1.0,1.0,1.0,1.0,1.0,1.0,1.0,1.0,1.0,1.0,1.0,1.0,1.0,1.0,1.0,1.0,1.0,1.0,1.0,1.0,1.0,1.0,1.0,1.0,1.0,1.0,1.0,1.0,1.0,1.0,1.0,1.0,1.0,1.0,1.0,1.0,1.0,1.0,1.0,1.0,1.0,1.0,1.0,1.0,1.0,1.0,1.0,1.0,1.0,1.0,1.0,1.0,1.0,1.0,1.0,1.0,1.0,1.0,1.0,1.0,1.0,1.0,1.0,1.0,1.0,1.0,1.0,1.0,1.0,1.0,1.0,1.0,1.0,1.0,1.0,1.0,1.0,1.0,1.0,1.0,1.0,1.0,1.0,1.0,1.0,1.0,1.0,1.0,1.0,1.0,1.0,1.0,1.0,1.0,1.0,1.0,1.0,1.0,1.0,1.0,1.0,1.0,1.0,1.0,1.0,1.0,1.0,1.0,1.0,1.0,1.0,1.0,1.0,1.0,1.0,1.0,1.0,1.0,1.0,1.0,1.0,1.0,1.0,1.0,1.0,1.0,1.0,1.0,1.0,1.0,1.0,1.0,1.0,1.0,1.0,1.0,1.0,1.0,1.0,1.0,1.0,1.0,1.0,1.0,1.0,1.0,1.0,1.0,1.0,1.0,1.0,1.0,1.0,1.0,1.0,1.0,1.0,1.0,1.0,1.0,1.0,1.0,1.0,1.0,1.0,1.0,1.0,1.0,1.0,1.0,1.0,1.0,1.0,1.0,1.0,1.0,1.0,1.0,1.0,1.0,1.0,1.0,1.0,1.0,1.0,1.0,1.0,1.0,1.0,1.0,1.0,1.0,1.0,1.0,1.0,1.0,1.0,1.0,1.0,1.0,1.0,1.0,1.0,1.0,1.0,1.0,1.0,1.0,1.0,1.0,1.0,1.0,1.0,1.0,1.0,1.0,1.0,1.0,1.0,1.0,1.0,1.0,1.0,1.0,1.0,1.0,1.0,1.0,1.0,1.0,1.0,1.0,1.0,1.0,1.0,1.0,1.0,1.0,1.0,1.0,1.0,1.0,1.0,1.0,1.0,1.0,1.0,1.0,1.0,1.0,1.0,1.0,1.0,1.0,1.0,1.0,1.0,1.0,1.0,1.0,1.0,1.0,1.0,1.0,1.0,1.0,1.0,1.0,1.0,1.0,1.0,1.0,1.0,1.0,1.0,1.0,1.0,1.0,1.0,1.0,1.0,1.0,1.0,1.0,1.0,1.0,1.0,1.0,1.0,1.0,1.0,1.0,1.0,1.0,1.0,1.0,1.0,1.0,1.0,1.0,1.0,1.0,1.0,1.0,1.0,1.0,1.0,1.0,1.0,1.0,1.0,1.0,1.0,1.0,1.0,1.0,1.0,1.0,1.0,1.0,1.0,1.0,1.0,1.0,1.0,1.0,1.0,1.0,1.0,1.0,1.0,1.0,1.0,1.0,1.0,1.0,1.0,1.0,1.0,1.0,1.0,1.0,1.0,1.0,1.0,1.0,1.0,1.0,1.0,1.0,1.0,1.0,1.0,1.0,1.0,1.0,1.0,1.0,1.0,1.0,1.0,1.0,1.0,1.0,1.0,1.0,1.0,1.0,1.0,1.0,1.0,1.0,1.0,1.0,1.0,1.0,1.0,1.0,1.0,1.0,1.0,1.0,1.0,1.0,1.0,1.0,1.0,1.0,1.0,1.0,1.0,1.0,1.0,1.0,1.0,1.0,1.0,1.0,1.0,1.0,1.0,1.0,1.0,1.0,1.0,1.0,1.0,1.0,1.0,1.0,1.0,1.0,1.0,1.0,1.0,1.0,1.0,1.0,1.0,1.0,1.0,1.0,1.0,1.0,1.0,1.0,1.0,1.0,1.0,1.0,1.0,1.0,1.0,1.0,1.0,1.0,1.0,1.0,1.0,1.0,1.0,1.0,1.0,1.0,1.0,1.0,1.0,1.0,1.0,1.0,1.0,1.0,1.0,1.0,1.0,1.0,1.0,1.0,1.0,1.0,1.0,1.0,1.0,1.0,1.0,1.0,1.0,1.0,1.0,1.0,1.0,1.0,1.0,1.0,1.0,1.0,1.0,1.0,1.0,1.0,1.0,1.0,1.0,1.0,1.0,1.0,1.0,1.0,1.0,1.0,1.0,1.0,1.0,1.0,1.0,1.0,1.0,1.0,1.0,1.0,1.0,1.0,1.0,1.0,1.0,1.0,1.0,1.0,1.0,1.0,1.0,1.0,1.0,1.0,1.0,1.0,1.0,1.0,1.0,1.0,1.0,1.0,1.0,1.0,1.0,1.0,1.0,1.0,1.0,1.0,1.0,1.0,1.0,1.0,1.0,1.0,1.0,1.0,1.0,1.0,1.0,1.0,1.0,1.0,1.0,1.0,1.0,1.0,1.0,1.0,1.0,1.0,1.0,1.0,1.0,1.0,1.0,1.0,1.0,1.0,1.0,1.0,1.0,1.0,1.0,1.0,1.0,1.0,1.0,1.0,1.0,1.0,1.0,1.0,1.0,1.0,1.0,1.0,1.0,1.0,1.0,1.0,1.0,1.0,1.0,1.0,1.0,1.0,1.0,1.0,1.0,1.0,1.0,1.0,1.0,1.0,1.0,1.0,1.0,1.0,1.0,1.0,1.0,1.0,1.0,1.0,1.0,1.0,1.0,1.0,1.0,1.0,1.0,1.0,1.0,1.0,1.0,1.0,1.0,1.0,1.0,1.0,1.0,1.0,1.0,1.0,1.0,1.0,1.0,1.0,1.0,1.0,1.0,1.0,1.0,1.0,1.0,1.0,1.0,1.0,1.0,1.0,1.0,1.0,1.0,1.0,1.0,1.0,1.0,1.0,1.0,1.0,1.0,1.0,1.0,1.0,1.0,1.0,1.0,1.0,1.0,1.0,1.0,1.0,1.0,1.0,1.0,1.0,1.0,1.0,1.0,1.0,1.0,1.0,1.0,1.0,1.0,1.0,1.0,1.0,1.0,1.0,1.0,1.0,1.0,1.0,1.0,1.0,1.0,1.0,1.0,1.0,1.0,1.0,1.0,1.0,1.0,1.0,1.0,1.0,1.0,1.0,1.0,1.0,1.0,1.0,1.0,1.0,1.0,1.0,1.0,1.0,1.0,1.0,1.0,1.0,1.0,1.0,1.0,1.0,1.0,1.0,1.0,1.0,1.0,1.0,1.0,1.0,1.0,1.0,1.0,1.0,1.0,1.0,1.0,1.0,1.0,1.0,1.0,1.0,1.0,1.0,1.0,1.0,1.0,1.0,1.0,1.0,1.0,1.0,1.0,1.0,1.0,1.0,1.0,1.0,1.0,1.0,1.0,1.0,1.0,1.0,1.0,1.0,1.0,1.0,1.0,1.0,1.0,1.0,1.0,1.0,1.0,1.0,1.0,1.0,1.0,1.0,1.0,1.0,1.0,1.0,1.0,1.0,1.0,1.0,1.0,1.0,1.0,1.0,1.0,1.0,1.0,1.0,1.0,1.0,1.0,1.0,1.0,1.0,1.0,1.0,1.0,1.0,1.0,1.0,1.0,1.0,1.0,1.0,1.0,1.0,1.0,1.0,1.0,1.0,1.0,1.0,1.0,1.0,1.0,1.0,1.0,1.0,1.0,1.0,1.0,1.0,1.0,1.0,1.0,1.0,1.0,1.0,1.0,1.0,1.0,1.0,1.0,1.0,1.0,1.0,1.0,1.0,1.0,1.0,1.0,1.0,1.0,1.0,1.0,1.0,1.0,1.0,1.0,1.0,1.0,1.0,1.0,1.0,1.0,1.0,1.0,1.0,1.0,1.0,1.0,1.0,1.0,1.0,1.0,1.0,1.0,1.0,1.0,1.0,1.0,1.0,1.0,1.0,1.0,1.0,1.0,1.0,1.0,1.0,1.0,1.0,1.0,1.0,1.0,1.0,1.0,1.0,1.0,1.0,1.0,1.0,1.0,1.0,1.0,1.0,1.0,1.0,1.0,1.0,1.0,1.0,1.0,1.0,1.0,1.0,1.0,1.0,1.0,1.0,1.0,1.0,1.0,1.0,1.0,1.0,1.0,1.0,1.0,1.0,1.0,1.0,1.0,1.0,1.0,1.0,1.0,1.0,1.0,1.0,1.0,1.0,1.0,1.0,1.0,1.0,1.0,1.0,1.0,1.0,1.0,1.0,1.0,1.0,1.0,1.0,1.0,1.0,1.0,1.0,1.0,1.0,1.0,1.0,1.0,1.0,1.0,1.0,1.0,1.0,1.0,1.0,1.0,1.0,1.0,1.0,1.0,1.0,1.0,1.0,1.0,1.0,1.0,1.0,1.0,1.0,1.0,1.0,1.0,1.0,1.0,1.0,1.0,1.0,1.0,1.0,1.0,1.0,1.0,1.0,1.0,1.0,1.0,1.0,1.0,1.0,1.0,1.0,1.0,1.0,1.0,1.0,1.0,1.0,1.0,1.0,1.0,1.0,1.0,1.0,1.0,1.0,1.0,1.0,1.0,1.0,1.0,1.0,1.0,1.0,1.0,1.0,1.0,1.0,1.0,1.0,1.0,1.0,1.0,1.0,1.0,1.0,1.0,1.0,1.0,1.0,1.0,1.0,1.0,1.0,1.0,1.0,1.0,1.0,1.0,1.0,1.0,1.0,1.0,1.0,1.0,1.0,1.0,1.0,1.0,1.0,1.0,1.0,1.0,1.0,1.0,1.0,1.0,1.0,1.0,1.0,1.0,1.0,1.0,1.0,1.0,1.0,1.0,1.0,1.0,1.0,1.0,1.0,1.0,1.0,1.0,1.0,1.0,1.0,1.0,1.0,1.0,1.0,1.0,1.0,1.0,1.0,1.0,1.0,1.0,1.0,1.0,1.0,1.0,1.0,1.0,1.0,1.0,1.0,1.0,1.0,1.0,1.0,1.0,1.0,1.0,1.0,1.0,1.0,1.0,1.0,1.0,1.0,1.0,1.0,1.0,1.0,1.0,1.0,1.0,1.0,1.0,1.0,1.0,1.0,1.0,1.0,1.0,1.0,1.0,1.0,1.0,1.0,1.0,1.0,1.0,1.0,1.0,1.0,1.0,1.0,1.0,1.0,1.0,1.0,1.0,1.0,1.0,1.0,1.0,1.0,1.0,1.0,1.0,1.0,1.0,1.0,1.0,1.0,1.0,1.0,1.0,1.0,1.0,1.0,1.0,1.0,1.0,1.0,1.0,1.0,1.0,1.0,1.0,1.0,1.0,1.0,1.0,1.0,1.0,1.0,1.0,1.0,1.0,1.0,1.0,1.0,1.0,1.0,1.0,1.0,1.0,1.0,1.0,1.0,1.0,1.0,1.0,1.0,1.0,1.0,1.0,1.0,1.0,1.0,1.0,1.0,1.0,1.0,1.0,1.0,1.0,1.0,1.0,1.0,1.0,1.0,1.0,1.0,1.0,1.0,1.0,1.0,1.0,1.0,1.0,1.0,1.0,1.0,1.0,1.0,1.0,1.0,1.0,1.0,1.0,1.0,1.0,1.0,1.0,1.0,1.0,1.0,1.0,1.0,1.0,1.0,1.0,1.0,1.0,1.0,1.0,1.0,1.0,1.0,1.0,1.0,1.0,1.0,1.0,1.0,1.0,1.0,1.0,1.0,1.0,1.0,1.0,1.0,1.0,1.0,1.0,1.0,1.0,1.0,1.0,1.0,1.0,1.0,1.0,1.0,1.0,1.0,1.0,1.0,1.0,1.0,1.0,1.0,1.0,1.0,1.0,1.0,1.0,1.0,1.0,1.0,1.0,1.0,1.0,1.0,1.0,1.0,1.0,1.0,1.0,1.0,1.0,1.0,1.0,1.0,1.0,1.0,1.0,1.0,1.0,1.0,1.0,1.0,1.0,1.0,1.0,1.0,1.0,1.0,1.0,1.0,1.0,1.0,1.0,1.0,1.0,1.0,1.0,1.0,1.0,1.0,1.0,1.0,1.0,1.0,1.0,1.0,1.0,1.0,1.0,1.0,1.0,1.0,1.0,1.0,1.0,1.0,1.0,1.0,1.0,1.0,1.0,1.0,1.0,1.0,1.0,1.0,1.0,1.0,1.0,1.0,1.0,1.0,1.0,1.0,1.0,1.0,1.0,1.0,1.0,1.0,1.0,1.0,1.0,1.0,1.0,1.0,1.0,1.0,1.0,1.0,1.0,1.0,1.0,1.0,1.0,1.0,1.0,1.0,1.0,1.0,1.0,1.0,1.0,1.0,1.0,1.0,1.0,1.0,1.0,1.0,1.0,1.0,1.0,1.0,1.0,1.0,1.0,1.0,1.0,1.0,1.0,1.0,1.0,1.0,1.0,1.0,1.0,1.0,1.0,1.0,1.0,1.0,1.0,1.0,1.0,1.0,1.0,1.0,1.0,1.0,1.0,1.0,1.0,1.0,1.0,1.0,1.0,1.0,1.0,1.0,1.0,1.0,1.0,1.0,1.0,1.0,1.0,1.0,1.0,1.0,1.0,1.0,1.0,1.0,1.0,1.0,1.0,1.0,1.0,1.0,1.0,1.0,1.0,1.0,1.0,1.0,1.0,1.0,1.0,1.0,1.0,1.0,1.0,1.0,1.0,1.0,1.0,1.0,1.0,1.0,1.0,1.0,1.0,1.0,1.0,1.0,1.0,1.0,1.0,1.0,1.0,1.0,1.0,1.0,1.0,1.0,1.0,1.0,1.0,1.0,1.0,1.0,1.0,1.0,1.0,1.0,1.0,1.0,1.0,1.0,1.0,1.0,1.0,1.0,1.0,1.0,1.0,1.0,1.0,1.0,1.0,1.0,1.0,1.0,1.0,1.0,1.0,1.0,1.0,1.0,1.0,1.0,1.0,1.0,1.0,1.0,1.0,1.0,1.0,1.0,1.0,1.0,1.0,1.0,1.0,1.0,1.0,1.0,1.0,1.0,1.0,1.0,1.0,1.0,1.0,1.0,1.0,1.0,1.0,1.0,1.0,1.0,1.0,1.0,1.0,1.0,1.0,1.0,1.0,1.0,1.0,1.0,1.0,1.0,1.0,1.0,1.0,1.0,1.0,1.0,1.0,1.0,1.0,1.0,1.0,1.0,1.0,1.0,1.0,1.0,1.0,1.0,1.0,1.0,1.0,1.0,1.0,1.0,1.0,1.0,1.0,1.0,1.0,1.0,1.0,1.0,1.0,1.0,1.0,1.0,1.0,1.0,1.0,1.0,1.0,1.0,1.0,1.0,1.0,1.0,1.0,1.0,1.0,1.0,1.0,1.0,1.0,1.0,1.0,1.0,1.0,1.0,1.0,1.0,1.0,1.0,1.0,1.0,1.0,1.0,1.0,1.0,1.0,1.0,1.0,1.0,1.0,1.0,1.0,1.0,1.0,1.0,1.0,1.0,1.0,1.0,1.0,1.0,1.0,1.0,1.0,1.0,1.0,1.0,1.0,1.0,1.0,1.0,1.0,1.0,1.0,1.0,1.0,1.0,1.0,1.0,1.0,1.0,1.0,1.0,1.0,1.0,1.0,1.0,1.0,1.0,1.0,1.0,1.0,1.0,1.0,1.0,1.0,1.0,1.0,1.0,1.0,1.0,1.0,1.0,1.0,1.0,1.0,1.0,1.0,1.0,1.0,1.0,1.0,1.0,1.0,1.0,1.0,1.0,1.0,1.0,1.0,1.0,1.0,1.0,1.0,1.0,1.0,1.0,1.0,1.0,1.0,1.0,1.0,1.0,1.0,1.0,1.0,1.0,1.0,1.0,1.0,1.0,1.0,1.0,1.0,1.0,1.0,1.0,1.0,1.0,1.0,1.0,1.0,1.0,1.0,1.0,1.0,1.0,1.0,1.0,1.0,1.0,1.0,1.0,1.0,1.0,1.0,1.0,1.0,1.0,1.0,1.0,1.0,1.0,1.0,1.0,1.0,1.0,1.0,1.0,1.0,1.0,1.0,1.0,1.0,1.0,1.0,1.0,1.0,1.0,1.0,1.0,1.0,1.0,1.0,1.0,1.0,1.0,1.0,1.0,1.0,1.0,1.0,1.0,1.0,1.0,1.0,1.0,1.0,1.0,1.0,1.0,1.0,1.0,1.0,1.0,1.0,1.0,1.0,1.0,1.0,1.0,1.0,1.0,1.0,1.0,1.0,1.0,1.0,1.0,1.0,1.0,1.0,1.0,1.0,1.0,1.0,1.0,1.0,1.0,1.0,1.0,1.0,1.0,1.0,1.0,1.0,1.0,1.0,1.0,1.0,1.0,1.0,1.0,1.0,1.0,1.0,1.0,1.0,1.0,1.0,1.0,1.0,1.0,1.0,1.0,1.0,1.0,1.0,1.0,1.0,1.0,1.0,1.0,1.0,1.0,1.0,1.0,1.0,1.0,1.0,1.0,1.0,1.0,1.0,1.0,1.0,1.0,1.0,1.0,1.0,1.0,1.0,1.0,1.0,1.0,1.0,1.0,1.0,1.0,1.0,1.0,1.0,1.0,1.0,1.0,1.0,1.0,1.0,1.0,1.0,1.0,1.0,1.0,1.0,1.0,1.0,1.0,1.0,1.0,1.0,1.0,1.0,1.0,1.0,1.0,1.0,1.0,1.0,1.0,1.0,1.0,1.0,1.0,1.0,1.0,1.0,1.0,1.0,1.0,1.0,1.0,1.0,1.0,1.0,1.0,1.0,1.0,1.0,1.0,1.0,1.0,1.0,1.0,1.0,1.0,1.0,1.0,1.0,1.0,1.0,1.0,1.0,1.0,1.0,1.0,1.0,1.0,1.0,1.0,1.0,1.0,1.0,1.0,1.0,1.0,1.0,1.0,1.0,1.0,1.0,1.0,1.0,1.0,1.0,1.0,1.0,1.0,1.0,1.0,1.0,1.0,1.0,1.0,1.0,1.0,1.0,1.0,1.0,1.0,1.0,1.0,1.0,1.0,1.0,1.0,1.0,1.0,1.0,1.0,1.0,1.0,1.0,1.0,1.0,1.0,1.0,1.0,1.0,1.0,1.0,1.0,1.0,1.0,1.0,1.0,1.0,1.0,1.0,1.0,1.0,1.0,1.0,1.0,1.0,1.0,1.0,1.0,1.0,1.0,1.0,1.0,1.0,1.0,1.0,1.0,1.0,1.0,1.0,1.0,1.0,1.0,1.0,1.0,1.0,1.0,1.0,1.0,1.0,1.0,1.0,1.0,1.0,1.0,1.0,1.0,1.0,1.0,1.0,1.0,1.0,1.0,1.0,1.0,1.0,1.0,1.0,1.0,1.0,1.0,1.0,1.0,1.0,1.0,1.0,1.0,1.0,1.0,1.0,1.0,1.0,1.0,1.0,1.0,1.0,1.0,1.0,1.0,1.0,1.0,1.0,1.0,1.0,1.0,1.0,1.0,1.0,1.0,1.0,1.0,1.0,1.0,1.0,1.0,1.0,1.0,1.0,1.0,1.0,1.0,1.0,1.0,1.0,1.0,1.0,1.0,1.0,1.0,1.0,1.0,1.0,1.0,1.0,1.0,1.0,1.0,1.0,1.0,1.0,1.0,1.0,1.0,1.0,1.0,1.0,1.0,1.0,1.0,1.0,1.0,1.0,1.0,1.0,1.0,1.0,1.0,1.0,1.0,1.0,1.0,1.0,1.0,1.0,1.0,1.0,1.0,1.0,1.0,1.0,1.0,1.0,1.0,1.0,1.0,1.0,1.0,1.0,1.0,1.0,1.0,1.0,1.0,1.0,1.0,1.0,1.0,1.0,1.0,1.0,1.0,1.0,1.0,1.0,1.0,1.0,1.0,1.0,1.0,1.0,1.0,1.0,1.0,1.0,1.0,1.0,1.0,1.0,1.0,1.0,1.0,1.0,1.0,1.0,1.0,1.0,1.0,1.0,1.0,1.0,1.0,1.0,1.0,1.0,1.0,1.0,1.0,1.0,1.0,1.0,1.0,1.0,1.0,1.0,1.0,1.0,1.0,1.0,1.0,1.0,1.0,1.0,1.0,1.0,1.0,1.0,1.0,1.0,1.0,1.0,1.0,1.0,1.0,1.0,1.0,1.0,1.0,1.0,1.0,1.0,1.0,1.0,1.0,1.0,1.0,1.0,1.0,1.0,1.0,1.0,1.0,1.0,1.0,1.0,1.0,1.0,1.0,1.0,1.0,1.0,1.0,1.0,1.0,1.0,1.0,1.0,1.0,1.0,1.0,1.0,1.0,1.0,1.0,1.0,1.0,1.0,1.0,1.0,1.0,1.0,1.0,1.0,1.0,1.0,1.0,1.0,1.0,1.0,1.0,1.0,1.0,1.0,1.0,1.0,1.0,1.0,1.0,1.0,1.0,1.0,1.0,1.0,1.0,1.0,1.0,1.0,1.0,1.0,1.0,1.0,1.0,1.0,1.0,1.0,1.0,1.0,1.0,1.0,1.0,1.0,1.0,1.0,1.0,1.0,1.0,1.0,1.0,1.0,1.0,1.0,1.0,1.0,1.0,1.0,1.0,1.0,1.0,1.0,1.0,1.0,1.0,1.0,1.0,1.0,1.0,1.0,1.0,1.0,1.0,1.0,1.0,1.0,1.0,1.0,1.0,1.0,1.0,1.0,1.0,1.0,1.0,1.0,1.0,1.0,1.0,1.0,1.0,1.0,1.0,1.0,1.0,1.0,1.0,1.0,1.0,1.0,1.0,1.0,1.0,1.0,1.0,1.0,1.0,1.0,1.0,1.0,1.0,1.0,1.0,1.0,1.0,1.0,1.0,1.0,1.0,1.0,1.0,1.0,1.0,1.0,1.0,1.0,1.0,1.0,1.0,1.0,1.0,1.0,1.0,1.0,1.0,1.0,1.0,1.0,1.0,1.0,1.0,1.0,1.0,1.0,1.0,1.0,1.0,1.0,1.0,1.0,1.0,1.0,1.0,1.0,1.0,1.0,1.0,1.0,1.0,1.0,1.0,1.0,1.0,1.0,1.0,1.0,1.0,1.0,1.0,1.0,1.0,1.0,1.0,1.0,1.0,1.0,1.0,1.0,1.0,1.0,1.0,1.0,1.0,1.0,1.0,1.0,1.0,1.0,1.0,1.0,1.0,1.0,1.0,1.0,1.0,1.0,1.0,1.0,1.0,1.0,1.0,1.0,1.0,1.0,1.0,1.0,1.0,1.0,1.0,1.0,1.0,1.0,1.0,1.0,1.0,1.0,1.0,1.0,1.0,1.0,1.0,1.0,1.0,1.0,1.0,1.0,1.0,1.0,1.0,1.0,1.0,1.0,1.0,1.0,1.0,1.0,1.0,1.0,1.0,1.0,1.0,1.0,1.0,1.0,1.0,1.0,1.0,1.0,1.0,1.0,1.0,1.0,1.0,1.0,1.0,1.0,1.0,1.0,1.0,1.0,1.0,1.0,1.0,1.0,1.0,1.0,1.0,1.0,1.0,1.0,1.0,1.0,1.0,1.0,1.0,1.0,1.0,1.0,1.0,1.0,1.0,1.0,1.0,1.0,1.0,1.0,1.0,1.0,1.0,1.0,1.0,1.0,1.0,1.0,1.0,1.0,1.0,1.0,1.0,1.0,1.0,1.0,1.0,1.0,1.0,1.0,1.0,1.0,1.0,1.0,1.0,1.0,1.0,1.0,1.0,1.0,1.0,1.0,1.0,1.0,1.0,1.0,1.0,1.0,1.0,1.0,1.0,1.0,1.0,1.0,1.0,1.0,1.0,1.0,1.0,1.0,1.0,1.0,1.0,1.0,1.0,1.0,1.0,1.0,1.0,1.0,1.0,1.0,1.0,1.0,1.0,1.0,1.0,1.0,1.0,1.0,1.0,1.0,1.0,1.0,1.0,1.0,1.0,1.0,1.0,1.0,1.0,1.0,1.0,1.0,1.0,1.0,1.0,1.0,1.0,1.0,1.0,1.0,1.0,1.0,1.0,1.0,1.0,1.0,1.0,1.0,1.0,1.0,1.0,1.0,1.0,1.0,1.0,1.0,1.0,1.0,1.0,1.0,1.0,1.0,1.0,1.0,1.0,1.0,1.0,1.0,1.0,1.0,1.0,1.0,1.0,1.0,1.0,1.0,1.0,1.0,1.0,1.0,1.0,1.0,1.0,1.0,1.0,1.0,1.0,1.0,1.0,1.0,1.0,1.0,1.0,1.0,1.0,1.0,1.0,1.0,1.0,1.0,1.0,1.0,1.0,1.0,1.0,1.0,1.0,1.0,1.0,1.0,1.0,1.0,1.0,1.0,1.0,1.0,1.0,1.0,1.0,1.0,1.0,1.0,1.0,1.0,1.0,1.0,1.0,1.0,1.0,1.0,1.0,1.0,1.0,1.0,1.0,1.0,1.0,1.0,1.0,1.0,1.0,1.0,1.0,1.0,1.0,1.0,1.0,1.0,1.0,1.0,1.0,1.0,1.0,1.0,1.0,1.0,1.0,1.0,1.0,1.0,1.0,1.0,1.0,1.0,1.0,1.0,1.0,1.0,1.0,1.0,1.0,1.0,1.0,1.0,1.0,1.0,1.0,1.0,1.0,1.0,1.0,1.0,1.0,1.0,1.0,1.0,1.0,1.0,1.0,1.0,1.0,1.0,1.0,1.0,1.0,1.0,1.0,1.0,1.0,1.0,1.0,1.0,1.0,1.0,1.0,1.0,1.0,1.0,1.0,1.0,1.0,1.0,1.0,1.0,1.0,1.0,1.0,1.0,1.0,1.0,1.0,1.0,1.0,1.0,1.0,1.0,1.0,1.0,1.0,1.0,1.0,1.0,1.0,1.0,1.0,1.0,1.0,1.0,1.0,1.0,1.0,1.0,1.0,1.0,1.0,1.0,1.0,1.0,1.0,1.0,1.0,1.0,1.0,1.0,1.0,1.0,1.0,1.0,1.0,1.0,1.0,1.0,1.0,1.0,1.0,1.0,1.0,1.0,1.0,1.0,1.0,1.0,1.0,1.0,1.0,1.0,1.0,1.0,1.0,1.0,1.0,1.0,1.0,1.0,1.0,1.0,1.0,1.0,1.0,1.0,1.0,1.0,1.0,1.0,1.0,1.0,1.0,1.0,1.0,1.0,1.0,1.0,1.0,1.0,1.0,1.0,1.0,1.0,1.0,1.0,1.0,1.0,1.0,1.0,1.0,1.0,1.0,1.0,1.0,1.0,1.0,1.0,1.0,1.0,1.0,1.0,1.0,1.0,1.0,1.0,1.0,1.0,1.0,1.0,1.0,1.0,1.0,1.0,1.0,1.0,1.0,1.0,1.0,1.0,1.0,1.0,1.0,1.0,1.0,1.0,1.0,1.0,1.0,1.0,1.0,1.0,1.0,1.0,1.0,1.0,1.0,1.0,1.0,1.0,1.0,1.0,1.0,1.0,1.0,1.0,1.0,1.0,1.0,1.0,1.0,1.0,1.0,1.0,1.0,1.0,1.0,1.0,1.0,1.0,1.0,1.0,1.0,1.0,1.0,1.0,1.0,1.0,1.0,1.0,1.0,1.0,1.0,1.0,1.0,1.0,1.0,1.0,1.0,1.0,1.0,1.0,1.0,1.0,1.0,1.0,1.0,1.0,1.0,1.0,1.0,1.0,1.0,1.0,1.0,1.0,1.0,1.0,1.0,1.0,1.0,1.0,1.0,1.0,1.0,1.0,1.0,1.0,1.0,1.0,1.0,1.0,1.0,1.0,1.0,1.0,1.0,1.0,1.0,1.0,1.0,1.0,1.0,1.0,1.0,1.0,1.0,1.0,1.0,1.0,1.0,1.0,1.0,1.0,1.0,1.0,1.0,1.0,1.0,1.0,1.0,1.0,1.0,1.0,1.0,1.0,1.0,1.0,1.0,1.0,1.0,1.0,1.0,1.0,1.0,1.0,1.0,1.0,1.0,1.0,1.0,1.0,1.0,1.0,1.0,1.0,1.0,1.0,1.0,1.0,1.0,1.0,1.0,1.0,1.0,1.0,1.0,1.0,1.0,1.0,1.0,1.0,1.0,1.0,1.0,1.0,1.0,1.0,1.0,1.0,1.0,1.0,1.0,1.0,1.0,1.0,1.0,1.0,1.0,1.0,1.0,1.0,1.0,1.0,1.0,1.0,1.0,1.0,1.0,1.0,1.0,1.0,1.0,1.0,1.0,1.0,1.0,1.0,1.0,1.0,1.0,1.0,1.0,1.0,1.0,1.0,1.0,1.0,1.0,1.0,1.0,1.0,1.0,1.0,1.0,1.0,1.0,1.0,1.0,1.0,1.0,1.0,1.0,1.0,1.0,1.0,1.0,1.0,1.0,1.0,1.0,1.0,1.0,1.0,1.0,1.0,1.0,1.0,1.0,1.0,1.0,1.0,1.0,1.0,1.0,1.0,1.0,1.0,1.0,1.0,1.0,1.0,1.0,1.0,1.0,1.0,1.0,1.0,1.0,1.0,1.0,1.0,1.0,1.0,1.0,1.0,1.0,1.0,1.0,1.0,1.0,1.0,1.0,1.0,1.0,1.0,1.0,1.0,1.0,1.0,1.0,1.0,1.0,1.0,1.0,1.0,1.0,1.0,1.0,1.0,1.0,1.0,1.0,1.0,1.0,1.0,1.0,1.0,1.0,1.0,1.0,1.0,1.0,1.0,1.0,1.0,1.0,1.0,1.0,1.0,1.0,1.0,1.0,1.0,1.0,1.0,1.0,1.0,1.0,1.0,1.0,1.0,1.0,1.0,1.0,1.0,1.0,1.0,1.0,1.0,1.0,1.0,1.0,1.0,1.0,1.0,1.0,1.0,1.0,1.0,1.0,1.0,1.0,1.0,1.0,1.0,1.0,1.0,1.0,1.0,1.0,1.0,1.0,1.0,1.0,1.0,1.0,1.0,1.0,1.0,1.0,1.0,1.0,1.0,1.0,1.0,1.0,1.0,1.0,1.0,1.0,1.0,1.0,1.0,1.0,1.0,1.0,1.0,1.0,1.0,1.0,1.0,1.0,1.0,1.0,1.0,1.0,1.0,1.0,1.0,1.0,1.0,1.0,1.0,1.0,1.0,1.0,1.0,1.0,1.0,1.0,1.0,1.0,1.0,1.0,1.0,1.0,1.0,1.0,1.0,1.0,1.0,1.0,1.0,1.0,1.0,1.0,1.0,1.0,1.0,1.0,1.0,1.0,1.0,1.0,1.0,1.0,1.0,1.0,1.0,1.0,1.0,1.0,1.0,1.0,1.0,1.0,1.0,1.0,1.0,1.0,1.0,1.0,1.0,1.0,1.0,1.0,1.0,1.0,1.0,1.0,1.0,1.0,1.0,1.0,1.0,1.0,1.0,1.0,1.0,1.0,1.0,1.0,1.0,1.0,1.0,1.0,1.0,1.0,1.0,1.0,1.0,1.0,1.0,1.0,1.0,1.0,1.0,1.0,1.0,1.0,1.0,1.0,1.0,1.0,1.0,1.0,1.0,1.0,1.0,1.0,1.0,1.0,1.0,1.0,1.0,1.0,1.0,1.0,1.0,1.0,1.0,1.0,1.0,1.0,1.0,1.0,1.0,1.0,1.0,1.0,1.0,1.0,1.0,1.0,1.0,1.0,1.0,1.0,1.0,1.0,1.0,1.0,1.0,1.0,1.0,1.0,1.0,1.0,1.0,1.0,1.0,1.0,1.0,1.0,1.0,1.0,1.0,1.0,1.0,1.0,1.0,1.0,1.0,1.0,1.0,1.0,1.0,1.0,1.0,1.0,1.0,1.0,1.0,1.0,1.0,1.0,1.0,1.0,1.0,1.0,1.0,1.0,1.0,1.0,1.0,1.0,1.0,1.0,1.0,1.0,1.0,1.0,1.0,1.0,1.0,1.0,1.0,1.0,1.0,1.0,1.0,1.0,1.0,1.0,1.0,1.0,1.0,1.0,1.0,1.0,1.0,1.0,1.0,1.0,1.0,1.0,1.0,1.0,1.0,1.0,1.0,1.0,1.0,1.0,1.0,1.0,1.0,1.0,1.0,1.0,1.0,1.0,1.0,1.0,1.0,1.0,1.0,1.0,1.0,1.0,1.0,1.0,1.0,1.0,1.0,1.0,1.0,1.0,1.0,1.0,1.0,1.0,1.0,1.0,1.0,1.0,1.0,1.0,1.0,1.0,1.0,1.0,1.0,1.0,1.0,1.0,1.0,1.0,1.0,1.0,1.0,1.0,1.0,1.0,1.0,1.0,1.0,1.0,1.0,1.0,1.0,1.0,1.0,1.0,1.0,1.0,1.0,1.0,1.0,1.0,1.0,1.0,1.0,1.0,1.0,1.0,1.0,1.0,1.0,1.0,1.0,1.0,1.0,1.0,1.0,1.0,1.0,1.0,1.0,1.0,1.0,1.0,1.0,1.0,1.0,1.0,1.0,1.0,1.0,1.0,1.0,1.0,1.0,1.0,1.0,1.0,1.0,1.0,1.0,1.0,1.0,1.0,1.0,1.0,1.0,1.0,1.0,1.0,1.0,1.0,1.0,1.0,1.0,1.0,1.0,1.0,1.0,1.0,1.0,1.0,1.0,1.0,1.0,1.0,1.0,1.0,1.0,1.0,1.0,1.0,1.0,1.0,1.0,1.0,1.0,1.0,1.0,1.0,1.0,1.0,1.0,1.0,1.0,1.0,1.0,1.0,1.0,1.0,1.0,1.0,1.0,1.0,1.0,1.0,1.0,1.0,1.0,1.0,1.0,1.0,1.0,1.0,1.0,1.0,1.0,1.0,1.0,1.0,1.0,1.0,1.0,1.0,1.0,1.0,1.0,1.0,1.0,1.0,1.0,1.0,1.0,1.0,1.0,1.0,1.0,1.0,1.0,1.0,1.0,1.0,1.0,1.0,1.0,1.0,1.0,1.0,1.0,1.0,1.0,1.0,1.0,1.0,1.0,1.0,1.0,1.0,1.0,1.0,1.0,1.0,1.0,1.0,1.0,1.0,1.0,1.0,1.0,1.0,1.0,1.0,1.0,1.0,1.0,1.0,1.0,1.0,1.0,1.0,1.0,1.0,1.0,1.0,1.0,1.0,1.0,1.0,1.0,1.0,1.0,1.0,1.0,1.0,1.0,1.0,1.0,1.0,1.0,1.0,1.0,1.0,1.0,1.0,1.0,1.0,1.0,1.0,1.0,1.0,1.0,1.0,1.0,1.0,1.0,1.0,1.0,1.0,1.0,1.0,1.0,1.0,1.0,1.0,1.0,1.0,1.0,1.0,1.0,1.0,1.0,1.0,1.0,1.0,1.0,1.0,1.0,1.0,1.0,1.0,1.0,1.0,1.0,1.0,1.0,1.0,1.0,1.0,1.0,1.0,1.0,1.0,1.0,1.0,1.0,1.0,1.0,1.0,1.0,1.0,1.0,1.0,1.0,1.0,1.0,1.0,1.0,1.0,1.0,1.0,1.0,1.0,1.0,1.0,1.0,1.0,1.0,1.0,1.0,1.0,1.0,1.0,1.0,1.0,1.0,1.0,1.0,1.0,1.0,1.0,1.0,1.0,1.0,1.0,1.0,1.0,1.0,1.0,1.0,1.0,1.0,1.0,1.0,1.0,1.0,1.0,1.0,1.0,1.0,1.0,1.0,1.0,1.0,1.0,1.0,1.0,1.0,1.0,1.0,1.0,1.0,1.0,1.0,1.0,1.0,1.0,1.0,1.0,1.0,1.0,1.0,1.0,1.0,1.0,1.0,1.0,1.0,1.0,1.0,1.0,1.0,1.0,1.0,1.0,1.0,1.0,1.0,1.0,1.0,1.0,1.0,1.0,1.0,1.0,1.0,1.0,1.0,1.0,1.0,1.0,1.0,1.0,1.0,1.0,1.0,1.0,1.0,1.0,1.0,1.0,1.0,1.0,1.0,1.0,1.0,1.0,1.0,1.0,1.0,1.0,1.0,1.0,1.0,1.0,1.0,1.0,1.0,1.0,1.0,1.0,1.0,1.0,1.0,1.0,1.0,1.0,1.0,1.0,1.0,1.0,1.0,1.0,1.0,1.0,1.0,1.0,1.0,1.0,1.0,1.0,1.0,1.0,1.0,1.0,1.0,1.0,1.0,1.0,1.0,1.0,1.0,1.0,1.0,1.0,1.0,1.0,1.0,1.0,1.0,1.0,1.0,1.0,1.0,1.0,1.0,1.0,1.0,1.0,1.0,1.0,1.0,1.0,1.0,1.0,1.0,1.0,1.0,1.0,1.0,1.0,1.0,1.0,1.0,1.0,1.0,1.0,1.0,1.0,1.0,1.0,1.0,1.0,1.0,1.0,1.0,1.0,1.0,1.0,1.0,1.0,1.0,1.0,1.0,1.0,1.0,1.0,1.0,1.0,1.0,1.0,1.0,1.0,1.0,1.0,1.0,1.0,1.0,1.0,1.0,1.0,1.0,1.0,1.0,1.0,1.0,1.0,1.0,1.0,1.0,1.0,1.0,1.0,1.0,1.0,1.0,1.0,1.0,1.0,1.0,1.0,1.0,1.0,1.0,1.0,1.0,1.0,1.0,1.0,1.0,1.0,1.0,1.0,1.0,1.0,1.0,1.0,1.0,1.0,1.0,1.0,1.0,1.0,1.0,1.0,1.0,1.0,1.0,1.0,1.0,1.0,1.0,1.0,1.0,1.0,1.0,1.0,1.0,1.0,1.0,1.0,1.0,1.0,1.0,1.0,1.0,1.0,1.0,1.0,1.0,1.0,1.0,1.0,1.0,1.0,1.0,1.0,1.0,1.0,1.0,1.0,1.0,1.0,1.0,1.0,1.0,1.0,1.0,1.0,1.0,1.0,1.0,1.0,1.0,1.0,1.0,1.0,1.0,1.0,1.0,1.0,1.0,1.0,1.0,1.0,1.0,1.0,1.0,1.0,1.0,1.0,1.0,1.0,1.0,1.0,1.0,1.0,1.0,1.0,1.0,1.0,1.0,1.0,1.0,1.0,1.0,1.0,1.0,1.0,1.0,1.0,1.0,1.0,1.0,1.0,1.0,1.0,1.0,1.0,1.0,1.0,1.0,1.0,1.0,1.0,1.0,1.0,1.0,1.0,1.0,1.0,1.0,1.0,1.0,1.0,1.0,1.0,1.0,1.0,1.0,1.0,1.0,1.0,1.0,1.0,1.0,1.0,1.0,1.0,1.0,1.0,1.0,1.0,1.0,1.0,1.0,1.0,1.0,1.0,1.0,1.0,1.0,1.0,1.0,1.0,1.0,1.0,1.0,1.0,1.0,1.0,1.0,1.0,1.0,1.0,1.0,1.0,1.0,1.0,1.0,1.0,1.0,1.0,1.0,1.0,1.0,1.0,1.0,1.0,1.0,1.0,1.0,1.0,1.0,1.0,1.0,1.0,1.0,1.0,1.0,1.0,1.0,1.0,1.0,1.0,1.0,1.0,1.0,1.0,1.0,1.0,1.0,1.0,1.0,1.0,1.0,1.0,1.0,1.0,1.0,1.0,1.0,1.0,1.0,1.0,1.0,1.0,1.0,1.0,1.0,1.0,1.0,1.0,1.0,1.0,1.0,1.0,1.0,1.0,1.0,1.0,1.0,1.0,1.0,1.0,1.0,1.0,1.0,1.0,1.0,1.0,1.0,1.0,1.0,1.0,1.0,1.0,1.0,1.0,1.0,1.0,1.0,1.0,1.0,1.0,1.0,1.0,1.0,1.0,1.0,1.0,1.0,1.0,1.0,1.0,1.0,1.0,1.0,1.0,1.0,1.0,1.0,1.0,1.0,1.0,1.0,1.0,1.0,1.0,1.0,1.0,1.0,1.0,1.0,1.0,1.0,1.0,1.0,1.0,1.0,1.0,1.0,1.0,1.0,1.0,1.0,1.0,1.0,1.0,1.0,1.0,1.0,1.0,1.0,1.0,1.0,1.0,1.0,1.0,1.0,1.0,1.0,1.0,1.0,1.0,1.0,1.0,1.0,1.0,1.0,1.0,1.0,1.0,1.0,1.0,1.0,1.0,1.0,1.0,1.0,1.0,1.0,1.0,1.0,1.0,1.0,1.0,1.0,1.0,1.0,1.0,1.0,1.0,1.0,1.0,1.0,1.0,1.0,1.0,1.0,1.0,1.0,1.0,1.0,1.0,1.0,1.0,1.0,1.0,1.0,1.0,1.0,1.0,1.0,1.0,1.0,1.0,1.0,1.0,1.0,1.0,1.0,1.0,1.0,1.0,1.0,1.0,1.0,1.0,1.0,1.0,1.0,1.0,1.0,1.0,1.0,1.0,1.0,1.0,1.0,1.0,1.0,1.0,1.0,1.0,1.0,1.0,1.0,1.0,1.0,1.0,1.0,1.0,1.0,1.0,1.0,1.0,1.0,1.0,1.0,1.0,1.0,1.0,1.0,1.0,1.0,1.0,1.0,1.0,1.0,1.0,1.0,1.0,1.0,1.0,1.0,1.0,1.0,1.0,1.0,1.0,1.0,1.0,1.0,1.0,1.0,1.0,1.0,1.0,1.0,1.0,1.0,1.0,1.0,1.0,1.0,1.0,1.0,1.0,1.0,1.0,1.0,1.0,1.0,1.0,1.0,1.0,1.0,1.0,1.0,1.0,1.0,1.0,1.0,1.0,1.0,1.0,1.0,1.0,1.0,1.0,1.0,1.0,1.0,1.0,1.0,1.0,1.0,1.0,1.0,1.0,1.0,1.0,1.0,1.0,1.0,1.0,1.0,1.0,1.0,1.0,1.0,1.0,1.0,1.0,1.0,1.0,1.0,1.0,1.0,1.0,1.0,1.0,1.0,1.0,1.0,1.0,1.0,1.0,1.0,1.0,1.0,1.0,1.0,1.0,1.0,1.0,1.0,1.0,1.0,1.0,1.0,1.0,1.0,1.0,1.0,1.0,1.0,1.0,1.0,1.0,1.0,1.0,1.0,1.0,1.0,1.0,1.0,1.0,1.0,1.0,1.0,1.0,1.0,1.0,1.0,1.0,1.0,1.0,1.0,1.0,1.0,1.0,1.0,1.0,1.0,1.0,1.0,1.0,1.0,1.0,1.0,1.0,1.0,1.0,1.0,1.0,1.0,1.0,1.0,1.0,1.0,1.0,1.0,1.0,1.0,1.0,1.0,1.0,1.0,1.0,1.0,1.0,1.0,1.0,1.0,1.0,1.0,1.0,1.0,1.0,1.0,1.0,1.0,1.0,1.0,1.0,1.0,1.0,1.0,1.0,1.0,1.0,1.0,1.0,1.0,1.0,1.0,1.0,1.0,1.0,1.0,1.0,1.0,1.0,1.0,1.0,1.0,1.0,1.0,1.0,1.0,1.0,1.0,1.0,1.0,1.0,1.0,1.0,1.0,1.0,1.0,1.0,1.0,1.0,1.0,1.0,1.0,1.0,1.0,1.0,1.0,1.0,1.0,1.0,1.0,1.0,1.0,1.0,1.0,1.0,1.0,1.0,1.0,1.0,1.0,1.0,1.0,1.0,1.0,1.0,1.0,1.0,1.0,1.0,1.0,1.0,1.0,1.0,1.0,1.0,1.0,1.0,1.0,1.0,1.0,1.0,1.0,1.0,1.0,1.0,1.0,1.0,1.0,1.0,1.0,1.0,1.0,1.0,1.0,1.0,1.0,1.0,1.0,1.0,1.0,1.0,1.0,1.0,1.0,1.0,1.0,1.0,1.0,1.0,1.0,1.0,1.0,1.0,1.0,1.0,1.0,1.0,1.0,1.0,1.0,1.0,1.0,1.0,1.0,1.0,1.0,1.0,1.0,1.0,1.0,1.0,1.0,1.0,1.0,1.0,1.0,1.0,1.0,1.0,1.0,1.0,1.0,1.0,1.0,1.0,1.0,1.0,1.0,1.0,1.0,1.0,1.0,1.0,1.0,1.0,1.0,1.0,1.0,1.0,1.0,1.0,1.0,1.0,1.0,1.0,1.0,1.0,1.0,1.0,1.0,1.0,1.0,1.0,1.0,1.0,1.0,1.0,1.0,1.0,1.0,1.0,1.0,1.0,1.0,1.0,1.0,1.0,1.0,1.0,1.0,1.0,1.0,1.0,1.0,1.0,1.0,1.0,1.0,1.0,1.0,1.0,1.0,1.0,1.0,1.0,1.0,1.0,1.0,1.0,1.0,1.0,1.0,1.0,1.0,1.0,1.0,1.0,1.0,1.0,1.0,1.0,1.0,1.0,1.0,1.0,1.0,1.0,1.0,1.0,1.0,1.0,1.0,1.0,1.0,1.0,1.0,1.0,1.0,1.0,1.0,1.0,1.0,1.0,1.0,1.0,1.0,1.0,1.0,1.0,1.0,1.0,1.0,1.0,1.0,1.0,1.0,1.0,1.0,1.0,1.0,1.0,1.0,1.0,1.0,1.0,1.0,1.0,1.0,1.0,1.0,1.0,1.0,1.0,1.0,1.0,1.0,1.0,1.0,1.0,1.0,1.0,1.0,1.0,1.0,1.0,1.0,1.0,1.0,1.0,1.0,1.0,1.0,1.0,1.0,1.0,1.0,1.0,1.0,1.0,1.0,1.0,1.0,1.0,1.0,1.0,1.0,1.0,1.0,1.0,1.0,1.0,1.0,1.0,1.0,1.0,1.0,1.0,1.0,1.0,1.0,1.0,1.0,1.0,1.0,1.0,1.0,1.0],\"type\":\"pie\"}],                        {\"template\":{\"data\":{\"histogram2dcontour\":[{\"type\":\"histogram2dcontour\",\"colorbar\":{\"outlinewidth\":0,\"ticks\":\"\"},\"colorscale\":[[0.0,\"#0d0887\"],[0.1111111111111111,\"#46039f\"],[0.2222222222222222,\"#7201a8\"],[0.3333333333333333,\"#9c179e\"],[0.4444444444444444,\"#bd3786\"],[0.5555555555555556,\"#d8576b\"],[0.6666666666666666,\"#ed7953\"],[0.7777777777777778,\"#fb9f3a\"],[0.8888888888888888,\"#fdca26\"],[1.0,\"#f0f921\"]]}],\"choropleth\":[{\"type\":\"choropleth\",\"colorbar\":{\"outlinewidth\":0,\"ticks\":\"\"}}],\"histogram2d\":[{\"type\":\"histogram2d\",\"colorbar\":{\"outlinewidth\":0,\"ticks\":\"\"},\"colorscale\":[[0.0,\"#0d0887\"],[0.1111111111111111,\"#46039f\"],[0.2222222222222222,\"#7201a8\"],[0.3333333333333333,\"#9c179e\"],[0.4444444444444444,\"#bd3786\"],[0.5555555555555556,\"#d8576b\"],[0.6666666666666666,\"#ed7953\"],[0.7777777777777778,\"#fb9f3a\"],[0.8888888888888888,\"#fdca26\"],[1.0,\"#f0f921\"]]}],\"heatmap\":[{\"type\":\"heatmap\",\"colorbar\":{\"outlinewidth\":0,\"ticks\":\"\"},\"colorscale\":[[0.0,\"#0d0887\"],[0.1111111111111111,\"#46039f\"],[0.2222222222222222,\"#7201a8\"],[0.3333333333333333,\"#9c179e\"],[0.4444444444444444,\"#bd3786\"],[0.5555555555555556,\"#d8576b\"],[0.6666666666666666,\"#ed7953\"],[0.7777777777777778,\"#fb9f3a\"],[0.8888888888888888,\"#fdca26\"],[1.0,\"#f0f921\"]]}],\"heatmapgl\":[{\"type\":\"heatmapgl\",\"colorbar\":{\"outlinewidth\":0,\"ticks\":\"\"},\"colorscale\":[[0.0,\"#0d0887\"],[0.1111111111111111,\"#46039f\"],[0.2222222222222222,\"#7201a8\"],[0.3333333333333333,\"#9c179e\"],[0.4444444444444444,\"#bd3786\"],[0.5555555555555556,\"#d8576b\"],[0.6666666666666666,\"#ed7953\"],[0.7777777777777778,\"#fb9f3a\"],[0.8888888888888888,\"#fdca26\"],[1.0,\"#f0f921\"]]}],\"contourcarpet\":[{\"type\":\"contourcarpet\",\"colorbar\":{\"outlinewidth\":0,\"ticks\":\"\"}}],\"contour\":[{\"type\":\"contour\",\"colorbar\":{\"outlinewidth\":0,\"ticks\":\"\"},\"colorscale\":[[0.0,\"#0d0887\"],[0.1111111111111111,\"#46039f\"],[0.2222222222222222,\"#7201a8\"],[0.3333333333333333,\"#9c179e\"],[0.4444444444444444,\"#bd3786\"],[0.5555555555555556,\"#d8576b\"],[0.6666666666666666,\"#ed7953\"],[0.7777777777777778,\"#fb9f3a\"],[0.8888888888888888,\"#fdca26\"],[1.0,\"#f0f921\"]]}],\"surface\":[{\"type\":\"surface\",\"colorbar\":{\"outlinewidth\":0,\"ticks\":\"\"},\"colorscale\":[[0.0,\"#0d0887\"],[0.1111111111111111,\"#46039f\"],[0.2222222222222222,\"#7201a8\"],[0.3333333333333333,\"#9c179e\"],[0.4444444444444444,\"#bd3786\"],[0.5555555555555556,\"#d8576b\"],[0.6666666666666666,\"#ed7953\"],[0.7777777777777778,\"#fb9f3a\"],[0.8888888888888888,\"#fdca26\"],[1.0,\"#f0f921\"]]}],\"mesh3d\":[{\"type\":\"mesh3d\",\"colorbar\":{\"outlinewidth\":0,\"ticks\":\"\"}}],\"scatter\":[{\"fillpattern\":{\"fillmode\":\"overlay\",\"size\":10,\"solidity\":0.2},\"type\":\"scatter\"}],\"parcoords\":[{\"type\":\"parcoords\",\"line\":{\"colorbar\":{\"outlinewidth\":0,\"ticks\":\"\"}}}],\"scatterpolargl\":[{\"type\":\"scatterpolargl\",\"marker\":{\"colorbar\":{\"outlinewidth\":0,\"ticks\":\"\"}}}],\"bar\":[{\"error_x\":{\"color\":\"#2a3f5f\"},\"error_y\":{\"color\":\"#2a3f5f\"},\"marker\":{\"line\":{\"color\":\"#E5ECF6\",\"width\":0.5},\"pattern\":{\"fillmode\":\"overlay\",\"size\":10,\"solidity\":0.2}},\"type\":\"bar\"}],\"scattergeo\":[{\"type\":\"scattergeo\",\"marker\":{\"colorbar\":{\"outlinewidth\":0,\"ticks\":\"\"}}}],\"scatterpolar\":[{\"type\":\"scatterpolar\",\"marker\":{\"colorbar\":{\"outlinewidth\":0,\"ticks\":\"\"}}}],\"histogram\":[{\"marker\":{\"pattern\":{\"fillmode\":\"overlay\",\"size\":10,\"solidity\":0.2}},\"type\":\"histogram\"}],\"scattergl\":[{\"type\":\"scattergl\",\"marker\":{\"colorbar\":{\"outlinewidth\":0,\"ticks\":\"\"}}}],\"scatter3d\":[{\"type\":\"scatter3d\",\"line\":{\"colorbar\":{\"outlinewidth\":0,\"ticks\":\"\"}},\"marker\":{\"colorbar\":{\"outlinewidth\":0,\"ticks\":\"\"}}}],\"scattermapbox\":[{\"type\":\"scattermapbox\",\"marker\":{\"colorbar\":{\"outlinewidth\":0,\"ticks\":\"\"}}}],\"scatterternary\":[{\"type\":\"scatterternary\",\"marker\":{\"colorbar\":{\"outlinewidth\":0,\"ticks\":\"\"}}}],\"scattercarpet\":[{\"type\":\"scattercarpet\",\"marker\":{\"colorbar\":{\"outlinewidth\":0,\"ticks\":\"\"}}}],\"carpet\":[{\"aaxis\":{\"endlinecolor\":\"#2a3f5f\",\"gridcolor\":\"white\",\"linecolor\":\"white\",\"minorgridcolor\":\"white\",\"startlinecolor\":\"#2a3f5f\"},\"baxis\":{\"endlinecolor\":\"#2a3f5f\",\"gridcolor\":\"white\",\"linecolor\":\"white\",\"minorgridcolor\":\"white\",\"startlinecolor\":\"#2a3f5f\"},\"type\":\"carpet\"}],\"table\":[{\"cells\":{\"fill\":{\"color\":\"#EBF0F8\"},\"line\":{\"color\":\"white\"}},\"header\":{\"fill\":{\"color\":\"#C8D4E3\"},\"line\":{\"color\":\"white\"}},\"type\":\"table\"}],\"barpolar\":[{\"marker\":{\"line\":{\"color\":\"#E5ECF6\",\"width\":0.5},\"pattern\":{\"fillmode\":\"overlay\",\"size\":10,\"solidity\":0.2}},\"type\":\"barpolar\"}],\"pie\":[{\"automargin\":true,\"type\":\"pie\"}]},\"layout\":{\"autotypenumbers\":\"strict\",\"colorway\":[\"#636efa\",\"#EF553B\",\"#00cc96\",\"#ab63fa\",\"#FFA15A\",\"#19d3f3\",\"#FF6692\",\"#B6E880\",\"#FF97FF\",\"#FECB52\"],\"font\":{\"color\":\"#2a3f5f\"},\"hovermode\":\"closest\",\"hoverlabel\":{\"align\":\"left\"},\"paper_bgcolor\":\"white\",\"plot_bgcolor\":\"#E5ECF6\",\"polar\":{\"bgcolor\":\"#E5ECF6\",\"angularaxis\":{\"gridcolor\":\"white\",\"linecolor\":\"white\",\"ticks\":\"\"},\"radialaxis\":{\"gridcolor\":\"white\",\"linecolor\":\"white\",\"ticks\":\"\"}},\"ternary\":{\"bgcolor\":\"#E5ECF6\",\"aaxis\":{\"gridcolor\":\"white\",\"linecolor\":\"white\",\"ticks\":\"\"},\"baxis\":{\"gridcolor\":\"white\",\"linecolor\":\"white\",\"ticks\":\"\"},\"caxis\":{\"gridcolor\":\"white\",\"linecolor\":\"white\",\"ticks\":\"\"}},\"coloraxis\":{\"colorbar\":{\"outlinewidth\":0,\"ticks\":\"\"}},\"colorscale\":{\"sequential\":[[0.0,\"#0d0887\"],[0.1111111111111111,\"#46039f\"],[0.2222222222222222,\"#7201a8\"],[0.3333333333333333,\"#9c179e\"],[0.4444444444444444,\"#bd3786\"],[0.5555555555555556,\"#d8576b\"],[0.6666666666666666,\"#ed7953\"],[0.7777777777777778,\"#fb9f3a\"],[0.8888888888888888,\"#fdca26\"],[1.0,\"#f0f921\"]],\"sequentialminus\":[[0.0,\"#0d0887\"],[0.1111111111111111,\"#46039f\"],[0.2222222222222222,\"#7201a8\"],[0.3333333333333333,\"#9c179e\"],[0.4444444444444444,\"#bd3786\"],[0.5555555555555556,\"#d8576b\"],[0.6666666666666666,\"#ed7953\"],[0.7777777777777778,\"#fb9f3a\"],[0.8888888888888888,\"#fdca26\"],[1.0,\"#f0f921\"]],\"diverging\":[[0,\"#8e0152\"],[0.1,\"#c51b7d\"],[0.2,\"#de77ae\"],[0.3,\"#f1b6da\"],[0.4,\"#fde0ef\"],[0.5,\"#f7f7f7\"],[0.6,\"#e6f5d0\"],[0.7,\"#b8e186\"],[0.8,\"#7fbc41\"],[0.9,\"#4d9221\"],[1,\"#276419\"]]},\"xaxis\":{\"gridcolor\":\"white\",\"linecolor\":\"white\",\"ticks\":\"\",\"title\":{\"standoff\":15},\"zerolinecolor\":\"white\",\"automargin\":true,\"zerolinewidth\":2},\"yaxis\":{\"gridcolor\":\"white\",\"linecolor\":\"white\",\"ticks\":\"\",\"title\":{\"standoff\":15},\"zerolinecolor\":\"white\",\"automargin\":true,\"zerolinewidth\":2},\"scene\":{\"xaxis\":{\"backgroundcolor\":\"#E5ECF6\",\"gridcolor\":\"white\",\"linecolor\":\"white\",\"showbackground\":true,\"ticks\":\"\",\"zerolinecolor\":\"white\",\"gridwidth\":2},\"yaxis\":{\"backgroundcolor\":\"#E5ECF6\",\"gridcolor\":\"white\",\"linecolor\":\"white\",\"showbackground\":true,\"ticks\":\"\",\"zerolinecolor\":\"white\",\"gridwidth\":2},\"zaxis\":{\"backgroundcolor\":\"#E5ECF6\",\"gridcolor\":\"white\",\"linecolor\":\"white\",\"showbackground\":true,\"ticks\":\"\",\"zerolinecolor\":\"white\",\"gridwidth\":2}},\"shapedefaults\":{\"line\":{\"color\":\"#2a3f5f\"}},\"annotationdefaults\":{\"arrowcolor\":\"#2a3f5f\",\"arrowhead\":0,\"arrowwidth\":1},\"geo\":{\"bgcolor\":\"white\",\"landcolor\":\"#E5ECF6\",\"subunitcolor\":\"white\",\"showland\":true,\"showlakes\":true,\"lakecolor\":\"white\"},\"title\":{\"x\":0.05},\"mapbox\":{\"style\":\"light\"}}},\"legend\":{\"tracegroupgap\":0},\"title\":{\"text\":\"Segment\"},\"piecolorway\":[\"rgb(103,0,31)\",\"rgb(178,24,43)\",\"rgb(214,96,77)\",\"rgb(244,165,130)\",\"rgb(253,219,199)\",\"rgb(247,247,247)\",\"rgb(209,229,240)\",\"rgb(146,197,222)\",\"rgb(67,147,195)\",\"rgb(33,102,172)\",\"rgb(5,48,97)\"]},                        {\"responsive\": true}                    ).then(function(){\n",
       "                            \n",
       "var gd = document.getElementById('6bb12389-a8b6-450d-9966-154d1bb9e889');\n",
       "var x = new MutationObserver(function (mutations, observer) {{\n",
       "        var display = window.getComputedStyle(gd).display;\n",
       "        if (!display || display === 'none') {{\n",
       "            console.log([gd, 'removed!']);\n",
       "            Plotly.purge(gd);\n",
       "            observer.disconnect();\n",
       "        }}\n",
       "}});\n",
       "\n",
       "// Listen for the removal of the full notebook cells\n",
       "var notebookContainer = gd.closest('#notebook-container');\n",
       "if (notebookContainer) {{\n",
       "    x.observe(notebookContainer, {childList: true});\n",
       "}}\n",
       "\n",
       "// Listen for the clearing of the current output cell\n",
       "var outputEl = gd.closest('.output');\n",
       "if (outputEl) {{\n",
       "    x.observe(outputEl, {childList: true});\n",
       "}}\n",
       "\n",
       "                        })                };                });            </script>        </div>"
      ]
     },
     "metadata": {},
     "output_type": "display_data"
    }
   ],
   "source": [
    "# Segment vs Count\n",
    "\n",
    "fig=px.pie(df,values=np.ones(9799),names='Segment',color_discrete_sequence=px.colors.sequential.RdBu,title='Segment')\n",
    "fig.show()"
   ]
  },
  {
   "cell_type": "markdown",
   "id": "3433a045",
   "metadata": {
    "papermill": {
     "duration": 0.012774,
     "end_time": "2024-09-23T22:31:14.516408",
     "exception": false,
     "start_time": "2024-09-23T22:31:14.503634",
     "status": "completed"
    },
    "tags": []
   },
   "source": [
    "### <font color='red'> Result </font>:  Most of the Orders are from Consumers\n"
   ]
  },
  {
   "cell_type": "code",
   "execution_count": 17,
   "id": "ea9fbeaf",
   "metadata": {
    "execution": {
     "iopub.execute_input": "2024-09-23T22:31:14.544123Z",
     "iopub.status.busy": "2024-09-23T22:31:14.543703Z",
     "iopub.status.idle": "2024-09-23T22:31:14.795647Z",
     "shell.execute_reply": "2024-09-23T22:31:14.794430Z"
    },
    "papermill": {
     "duration": 0.26852,
     "end_time": "2024-09-23T22:31:14.797938",
     "exception": false,
     "start_time": "2024-09-23T22:31:14.529418",
     "status": "completed"
    },
    "tags": []
   },
   "outputs": [
    {
     "data": {
      "image/png": "[encoded data removed]",
      "text/plain": [
       "<Figure size 1000x800 with 1 Axes>"
      ]
     },
     "metadata": {},
     "output_type": "display_data"
    }
   ],
   "source": [
    "# Category vs Count\n",
    "\n",
    "plt.figure(figsize=(10,8))\n",
    "sns.countplot(x=df['Category'])\n",
    "plt.xlabel('Category',fontsize=12)\n",
    "plt.ylabel('Count',fontsize=12)\n",
    "plt.title('Category vs Count',fontsize=14)\n",
    "plt.show()"
   ]
  },
  {
   "cell_type": "markdown",
   "id": "156eaa79",
   "metadata": {
    "papermill": {
     "duration": 0.01347,
     "end_time": "2024-09-23T22:31:14.826651",
     "exception": false,
     "start_time": "2024-09-23T22:31:14.813181",
     "status": "completed"
    },
    "tags": []
   },
   "source": [
    "### <font color='red'> Result </font>: Most of the Orders in Category are Office Supplies\n"
   ]
  },
  {
   "cell_type": "code",
   "execution_count": 18,
   "id": "8adcfe7e",
   "metadata": {
    "execution": {
     "iopub.execute_input": "2024-09-23T22:31:14.855613Z",
     "iopub.status.busy": "2024-09-23T22:31:14.855092Z",
     "iopub.status.idle": "2024-09-23T22:31:15.244568Z",
     "shell.execute_reply": "2024-09-23T22:31:15.243467Z"
    },
    "papermill": {
     "duration": 0.406788,
     "end_time": "2024-09-23T22:31:15.247053",
     "exception": false,
     "start_time": "2024-09-23T22:31:14.840265",
     "status": "completed"
    },
    "tags": []
   },
   "outputs": [
    {
     "data": {
      "image/png": "[encoded data removed]",
      "text/plain": [
       "<Figure size 1200x900 with 1 Axes>"
      ]
     },
     "metadata": {},
     "output_type": "display_data"
    }
   ],
   "source": [
    "# Sub-Category vs Count\n",
    "\n",
    "plt.figure(figsize=(12,9))\n",
    "sns.countplot(x=df['Sub-Category'])\n",
    "plt.xlabel('Sub-Category',fontsize=12)\n",
    "plt.ylabel('Count',fontsize=12)\n",
    "plt.title('Sub-Category vs Count',fontsize=14)\n",
    "plt.xticks(rotation='vertical')\n",
    "plt.show()"
   ]
  },
  {
   "cell_type": "markdown",
   "id": "f67c631a",
   "metadata": {
    "papermill": {
     "duration": 0.014166,
     "end_time": "2024-09-23T22:31:15.275879",
     "exception": false,
     "start_time": "2024-09-23T22:31:15.261713",
     "status": "completed"
    },
    "tags": []
   },
   "source": [
    "### <font color='red'> Result </font>: Most of the Orders in Sub_Category are Binders and Papers\n"
   ]
  },
  {
   "cell_type": "code",
   "execution_count": 19,
   "id": "13ecc247",
   "metadata": {
    "execution": {
     "iopub.execute_input": "2024-09-23T22:31:15.307134Z",
     "iopub.status.busy": "2024-09-23T22:31:15.306255Z",
     "iopub.status.idle": "2024-09-23T22:31:15.987196Z",
     "shell.execute_reply": "2024-09-23T22:31:15.985980Z"
    },
    "papermill": {
     "duration": 0.698723,
     "end_time": "2024-09-23T22:31:15.989450",
     "exception": false,
     "start_time": "2024-09-23T22:31:15.290727",
     "status": "completed"
    },
    "tags": []
   },
   "outputs": [
    {
     "data": {
      "image/png": "[encoded data removed]",
      "text/plain": [
       "<Figure size 1100x800 with 1 Axes>"
      ]
     },
     "metadata": {},
     "output_type": "display_data"
    }
   ],
   "source": [
    "# State vs Count\n",
    "\n",
    "plt.figure(figsize=(11,8))\n",
    "sns.countplot(x=df['State'])\n",
    "plt.xlabel('State',fontsize=12)\n",
    "plt.ylabel('Count',fontsize=12)\n",
    "plt.title('State vs Count',fontsize=14)\n",
    "plt.xticks(rotation='vertical')\n",
    "plt.show()"
   ]
  },
  {
   "cell_type": "markdown",
   "id": "72371060",
   "metadata": {
    "papermill": {
     "duration": 0.015075,
     "end_time": "2024-09-23T22:31:16.020169",
     "exception": false,
     "start_time": "2024-09-23T22:31:16.005094",
     "status": "completed"
    },
    "tags": []
   },
   "source": [
    "### <font color='red'> Result </font>: Most of the Orders are from California and New York States"
   ]
  },
  {
   "cell_type": "code",
   "execution_count": 20,
   "id": "ae8a91e6",
   "metadata": {
    "execution": {
     "iopub.execute_input": "2024-09-23T22:31:16.053610Z",
     "iopub.status.busy": "2024-09-23T22:31:16.052474Z",
     "iopub.status.idle": "2024-09-23T22:31:16.071991Z",
     "shell.execute_reply": "2024-09-23T22:31:16.070802Z"
    },
    "papermill": {
     "duration": 0.038619,
     "end_time": "2024-09-23T22:31:16.074364",
     "exception": false,
     "start_time": "2024-09-23T22:31:16.035745",
     "status": "completed"
    },
    "tags": []
   },
   "outputs": [
    {
     "data": {
      "text/html": [
       "<div>\n",
       "<style scoped>\n",
       "    .dataframe tbody tr th:only-of-type {\n",
       "        vertical-align: middle;\n",
       "    }\n",
       "\n",
       "    .dataframe tbody tr th {\n",
       "        vertical-align: top;\n",
       "    }\n",
       "\n",
       "    .dataframe thead th {\n",
       "        text-align: right;\n",
       "    }\n",
       "</style>\n",
       "<table border=\"1\" class=\"dataframe\">\n",
       "  <thead>\n",
       "    <tr style=\"text-align: right;\">\n",
       "      <th></th>\n",
       "      <th>State</th>\n",
       "      <th>Sales</th>\n",
       "    </tr>\n",
       "  </thead>\n",
       "  <tbody>\n",
       "    <tr>\n",
       "      <th>0</th>\n",
       "      <td>California</td>\n",
       "      <td>446306.46</td>\n",
       "    </tr>\n",
       "    <tr>\n",
       "      <th>1</th>\n",
       "      <td>New York</td>\n",
       "      <td>306361.15</td>\n",
       "    </tr>\n",
       "    <tr>\n",
       "      <th>2</th>\n",
       "      <td>Texas</td>\n",
       "      <td>168572.53</td>\n",
       "    </tr>\n",
       "    <tr>\n",
       "      <th>3</th>\n",
       "      <td>Washington</td>\n",
       "      <td>135206.85</td>\n",
       "    </tr>\n",
       "    <tr>\n",
       "      <th>4</th>\n",
       "      <td>Pennsylvania</td>\n",
       "      <td>116276.65</td>\n",
       "    </tr>\n",
       "    <tr>\n",
       "      <th>5</th>\n",
       "      <td>Florida</td>\n",
       "      <td>88436.53</td>\n",
       "    </tr>\n",
       "    <tr>\n",
       "      <th>6</th>\n",
       "      <td>Illinois</td>\n",
       "      <td>79236.52</td>\n",
       "    </tr>\n",
       "    <tr>\n",
       "      <th>7</th>\n",
       "      <td>Michigan</td>\n",
       "      <td>76136.07</td>\n",
       "    </tr>\n",
       "    <tr>\n",
       "      <th>8</th>\n",
       "      <td>Ohio</td>\n",
       "      <td>74848.98</td>\n",
       "    </tr>\n",
       "    <tr>\n",
       "      <th>9</th>\n",
       "      <td>Virginia</td>\n",
       "      <td>70636.72</td>\n",
       "    </tr>\n",
       "    <tr>\n",
       "      <th>10</th>\n",
       "      <td>North Carolina</td>\n",
       "      <td>55165.96</td>\n",
       "    </tr>\n",
       "    <tr>\n",
       "      <th>11</th>\n",
       "      <td>Indiana</td>\n",
       "      <td>48718.40</td>\n",
       "    </tr>\n",
       "    <tr>\n",
       "      <th>12</th>\n",
       "      <td>Georgia</td>\n",
       "      <td>48219.11</td>\n",
       "    </tr>\n",
       "    <tr>\n",
       "      <th>13</th>\n",
       "      <td>Kentucky</td>\n",
       "      <td>36458.39</td>\n",
       "    </tr>\n",
       "    <tr>\n",
       "      <th>14</th>\n",
       "      <td>Arizona</td>\n",
       "      <td>35272.66</td>\n",
       "    </tr>\n",
       "  </tbody>\n",
       "</table>\n",
       "</div>"
      ],
      "text/plain": [
       "             State      Sales\n",
       "0       California  446306.46\n",
       "1         New York  306361.15\n",
       "2            Texas  168572.53\n",
       "3       Washington  135206.85\n",
       "4     Pennsylvania  116276.65\n",
       "5          Florida   88436.53\n",
       "6         Illinois   79236.52\n",
       "7         Michigan   76136.07\n",
       "8             Ohio   74848.98\n",
       "9         Virginia   70636.72\n",
       "10  North Carolina   55165.96\n",
       "11         Indiana   48718.40\n",
       "12         Georgia   48219.11\n",
       "13        Kentucky   36458.39\n",
       "14         Arizona   35272.66"
      ]
     },
     "execution_count": 20,
     "metadata": {},
     "output_type": "execute_result"
    }
   ],
   "source": [
    "# Sales of the Top 15 States \n",
    "\n",
    "top_states=df.groupby(['State']).sum('Sales').sort_values('Sales',ascending=False).head(15)\n",
    "top_states=top_states[['Sales']].round(2)\n",
    "top_states.reset_index(inplace=True)\n",
    "top_states"
   ]
  },
  {
   "cell_type": "code",
   "execution_count": 21,
   "id": "f8e01347",
   "metadata": {
    "execution": {
     "iopub.execute_input": "2024-09-23T22:31:16.107561Z",
     "iopub.status.busy": "2024-09-23T22:31:16.107140Z",
     "iopub.status.idle": "2024-09-23T22:31:16.205454Z",
     "shell.execute_reply": "2024-09-23T22:31:16.204331Z"
    },
    "papermill": {
     "duration": 0.117958,
     "end_time": "2024-09-23T22:31:16.208138",
     "exception": false,
     "start_time": "2024-09-23T22:31:16.090180",
     "status": "completed"
    },
    "tags": []
   },
   "outputs": [
    {
     "data": {
      "text/html": [
       "<div>                            <div id=\"c42fa675-065b-4c15-b4c5-7e5a21a68884\" class=\"plotly-graph-div\" style=\"height:800px; width:100%;\"></div>            <script type=\"text/javascript\">                require([\"plotly\"], function(Plotly) {                    window.PLOTLYENV=window.PLOTLYENV || {};                                    if (document.getElementById(\"c42fa675-065b-4c15-b4c5-7e5a21a68884\")) {                    Plotly.newPlot(                        \"c42fa675-065b-4c15-b4c5-7e5a21a68884\",                        [{\"alignmentgroup\":\"True\",\"hovertemplate\":\"State=%{x}\\u003cbr\\u003eSales=%{y}\\u003cextra\\u003e\\u003c\\u002fextra\\u003e\",\"legendgroup\":\"\",\"marker\":{\"color\":\"rgb(103,0,31)\",\"pattern\":{\"shape\":\"\"}},\"name\":\"\",\"offsetgroup\":\"\",\"orientation\":\"v\",\"showlegend\":false,\"textposition\":\"auto\",\"x\":[\"California\",\"New York\",\"Texas\",\"Washington\",\"Pennsylvania\",\"Florida\",\"Illinois\",\"Michigan\",\"Ohio\",\"Virginia\",\"North Carolina\",\"Indiana\",\"Georgia\",\"Kentucky\",\"Arizona\"],\"xaxis\":\"x\",\"y\":[446306.46,306361.15,168572.53,135206.85,116276.65,88436.53,79236.52,76136.07,74848.98,70636.72,55165.96,48718.4,48219.11,36458.39,35272.66],\"yaxis\":\"y\",\"type\":\"bar\"}],                        {\"template\":{\"data\":{\"histogram2dcontour\":[{\"type\":\"histogram2dcontour\",\"colorbar\":{\"outlinewidth\":0,\"ticks\":\"\"},\"colorscale\":[[0.0,\"#0d0887\"],[0.1111111111111111,\"#46039f\"],[0.2222222222222222,\"#7201a8\"],[0.3333333333333333,\"#9c179e\"],[0.4444444444444444,\"#bd3786\"],[0.5555555555555556,\"#d8576b\"],[0.6666666666666666,\"#ed7953\"],[0.7777777777777778,\"#fb9f3a\"],[0.8888888888888888,\"#fdca26\"],[1.0,\"#f0f921\"]]}],\"choropleth\":[{\"type\":\"choropleth\",\"colorbar\":{\"outlinewidth\":0,\"ticks\":\"\"}}],\"histogram2d\":[{\"type\":\"histogram2d\",\"colorbar\":{\"outlinewidth\":0,\"ticks\":\"\"},\"colorscale\":[[0.0,\"#0d0887\"],[0.1111111111111111,\"#46039f\"],[0.2222222222222222,\"#7201a8\"],[0.3333333333333333,\"#9c179e\"],[0.4444444444444444,\"#bd3786\"],[0.5555555555555556,\"#d8576b\"],[0.6666666666666666,\"#ed7953\"],[0.7777777777777778,\"#fb9f3a\"],[0.8888888888888888,\"#fdca26\"],[1.0,\"#f0f921\"]]}],\"heatmap\":[{\"type\":\"heatmap\",\"colorbar\":{\"outlinewidth\":0,\"ticks\":\"\"},\"colorscale\":[[0.0,\"#0d0887\"],[0.1111111111111111,\"#46039f\"],[0.2222222222222222,\"#7201a8\"],[0.3333333333333333,\"#9c179e\"],[0.4444444444444444,\"#bd3786\"],[0.5555555555555556,\"#d8576b\"],[0.6666666666666666,\"#ed7953\"],[0.7777777777777778,\"#fb9f3a\"],[0.8888888888888888,\"#fdca26\"],[1.0,\"#f0f921\"]]}],\"heatmapgl\":[{\"type\":\"heatmapgl\",\"colorbar\":{\"outlinewidth\":0,\"ticks\":\"\"},\"colorscale\":[[0.0,\"#0d0887\"],[0.1111111111111111,\"#46039f\"],[0.2222222222222222,\"#7201a8\"],[0.3333333333333333,\"#9c179e\"],[0.4444444444444444,\"#bd3786\"],[0.5555555555555556,\"#d8576b\"],[0.6666666666666666,\"#ed7953\"],[0.7777777777777778,\"#fb9f3a\"],[0.8888888888888888,\"#fdca26\"],[1.0,\"#f0f921\"]]}],\"contourcarpet\":[{\"type\":\"contourcarpet\",\"colorbar\":{\"outlinewidth\":0,\"ticks\":\"\"}}],\"contour\":[{\"type\":\"contour\",\"colorbar\":{\"outlinewidth\":0,\"ticks\":\"\"},\"colorscale\":[[0.0,\"#0d0887\"],[0.1111111111111111,\"#46039f\"],[0.2222222222222222,\"#7201a8\"],[0.3333333333333333,\"#9c179e\"],[0.4444444444444444,\"#bd3786\"],[0.5555555555555556,\"#d8576b\"],[0.6666666666666666,\"#ed7953\"],[0.7777777777777778,\"#fb9f3a\"],[0.8888888888888888,\"#fdca26\"],[1.0,\"#f0f921\"]]}],\"surface\":[{\"type\":\"surface\",\"colorbar\":{\"outlinewidth\":0,\"ticks\":\"\"},\"colorscale\":[[0.0,\"#0d0887\"],[0.1111111111111111,\"#46039f\"],[0.2222222222222222,\"#7201a8\"],[0.3333333333333333,\"#9c179e\"],[0.4444444444444444,\"#bd3786\"],[0.5555555555555556,\"#d8576b\"],[0.6666666666666666,\"#ed7953\"],[0.7777777777777778,\"#fb9f3a\"],[0.8888888888888888,\"#fdca26\"],[1.0,\"#f0f921\"]]}],\"mesh3d\":[{\"type\":\"mesh3d\",\"colorbar\":{\"outlinewidth\":0,\"ticks\":\"\"}}],\"scatter\":[{\"fillpattern\":{\"fillmode\":\"overlay\",\"size\":10,\"solidity\":0.2},\"type\":\"scatter\"}],\"parcoords\":[{\"type\":\"parcoords\",\"line\":{\"colorbar\":{\"outlinewidth\":0,\"ticks\":\"\"}}}],\"scatterpolargl\":[{\"type\":\"scatterpolargl\",\"marker\":{\"colorbar\":{\"outlinewidth\":0,\"ticks\":\"\"}}}],\"bar\":[{\"error_x\":{\"color\":\"#2a3f5f\"},\"error_y\":{\"color\":\"#2a3f5f\"},\"marker\":{\"line\":{\"color\":\"#E5ECF6\",\"width\":0.5},\"pattern\":{\"fillmode\":\"overlay\",\"size\":10,\"solidity\":0.2}},\"type\":\"bar\"}],\"scattergeo\":[{\"type\":\"scattergeo\",\"marker\":{\"colorbar\":{\"outlinewidth\":0,\"ticks\":\"\"}}}],\"scatterpolar\":[{\"type\":\"scatterpolar\",\"marker\":{\"colorbar\":{\"outlinewidth\":0,\"ticks\":\"\"}}}],\"histogram\":[{\"marker\":{\"pattern\":{\"fillmode\":\"overlay\",\"size\":10,\"solidity\":0.2}},\"type\":\"histogram\"}],\"scattergl\":[{\"type\":\"scattergl\",\"marker\":{\"colorbar\":{\"outlinewidth\":0,\"ticks\":\"\"}}}],\"scatter3d\":[{\"type\":\"scatter3d\",\"line\":{\"colorbar\":{\"outlinewidth\":0,\"ticks\":\"\"}},\"marker\":{\"colorbar\":{\"outlinewidth\":0,\"ticks\":\"\"}}}],\"scattermapbox\":[{\"type\":\"scattermapbox\",\"marker\":{\"colorbar\":{\"outlinewidth\":0,\"ticks\":\"\"}}}],\"scatterternary\":[{\"type\":\"scatterternary\",\"marker\":{\"colorbar\":{\"outlinewidth\":0,\"ticks\":\"\"}}}],\"scattercarpet\":[{\"type\":\"scattercarpet\",\"marker\":{\"colorbar\":{\"outlinewidth\":0,\"ticks\":\"\"}}}],\"carpet\":[{\"aaxis\":{\"endlinecolor\":\"#2a3f5f\",\"gridcolor\":\"white\",\"linecolor\":\"white\",\"minorgridcolor\":\"white\",\"startlinecolor\":\"#2a3f5f\"},\"baxis\":{\"endlinecolor\":\"#2a3f5f\",\"gridcolor\":\"white\",\"linecolor\":\"white\",\"minorgridcolor\":\"white\",\"startlinecolor\":\"#2a3f5f\"},\"type\":\"carpet\"}],\"table\":[{\"cells\":{\"fill\":{\"color\":\"#EBF0F8\"},\"line\":{\"color\":\"white\"}},\"header\":{\"fill\":{\"color\":\"#C8D4E3\"},\"line\":{\"color\":\"white\"}},\"type\":\"table\"}],\"barpolar\":[{\"marker\":{\"line\":{\"color\":\"#E5ECF6\",\"width\":0.5},\"pattern\":{\"fillmode\":\"overlay\",\"size\":10,\"solidity\":0.2}},\"type\":\"barpolar\"}],\"pie\":[{\"automargin\":true,\"type\":\"pie\"}]},\"layout\":{\"autotypenumbers\":\"strict\",\"colorway\":[\"#636efa\",\"#EF553B\",\"#00cc96\",\"#ab63fa\",\"#FFA15A\",\"#19d3f3\",\"#FF6692\",\"#B6E880\",\"#FF97FF\",\"#FECB52\"],\"font\":{\"color\":\"#2a3f5f\"},\"hovermode\":\"closest\",\"hoverlabel\":{\"align\":\"left\"},\"paper_bgcolor\":\"white\",\"plot_bgcolor\":\"#E5ECF6\",\"polar\":{\"bgcolor\":\"#E5ECF6\",\"angularaxis\":{\"gridcolor\":\"white\",\"linecolor\":\"white\",\"ticks\":\"\"},\"radialaxis\":{\"gridcolor\":\"white\",\"linecolor\":\"white\",\"ticks\":\"\"}},\"ternary\":{\"bgcolor\":\"#E5ECF6\",\"aaxis\":{\"gridcolor\":\"white\",\"linecolor\":\"white\",\"ticks\":\"\"},\"baxis\":{\"gridcolor\":\"white\",\"linecolor\":\"white\",\"ticks\":\"\"},\"caxis\":{\"gridcolor\":\"white\",\"linecolor\":\"white\",\"ticks\":\"\"}},\"coloraxis\":{\"colorbar\":{\"outlinewidth\":0,\"ticks\":\"\"}},\"colorscale\":{\"sequential\":[[0.0,\"#0d0887\"],[0.1111111111111111,\"#46039f\"],[0.2222222222222222,\"#7201a8\"],[0.3333333333333333,\"#9c179e\"],[0.4444444444444444,\"#bd3786\"],[0.5555555555555556,\"#d8576b\"],[0.6666666666666666,\"#ed7953\"],[0.7777777777777778,\"#fb9f3a\"],[0.8888888888888888,\"#fdca26\"],[1.0,\"#f0f921\"]],\"sequentialminus\":[[0.0,\"#0d0887\"],[0.1111111111111111,\"#46039f\"],[0.2222222222222222,\"#7201a8\"],[0.3333333333333333,\"#9c179e\"],[0.4444444444444444,\"#bd3786\"],[0.5555555555555556,\"#d8576b\"],[0.6666666666666666,\"#ed7953\"],[0.7777777777777778,\"#fb9f3a\"],[0.8888888888888888,\"#fdca26\"],[1.0,\"#f0f921\"]],\"diverging\":[[0,\"#8e0152\"],[0.1,\"#c51b7d\"],[0.2,\"#de77ae\"],[0.3,\"#f1b6da\"],[0.4,\"#fde0ef\"],[0.5,\"#f7f7f7\"],[0.6,\"#e6f5d0\"],[0.7,\"#b8e186\"],[0.8,\"#7fbc41\"],[0.9,\"#4d9221\"],[1,\"#276419\"]]},\"xaxis\":{\"gridcolor\":\"white\",\"linecolor\":\"white\",\"ticks\":\"\",\"title\":{\"standoff\":15},\"zerolinecolor\":\"white\",\"automargin\":true,\"zerolinewidth\":2},\"yaxis\":{\"gridcolor\":\"white\",\"linecolor\":\"white\",\"ticks\":\"\",\"title\":{\"standoff\":15},\"zerolinecolor\":\"white\",\"automargin\":true,\"zerolinewidth\":2},\"scene\":{\"xaxis\":{\"backgroundcolor\":\"#E5ECF6\",\"gridcolor\":\"white\",\"linecolor\":\"white\",\"showbackground\":true,\"ticks\":\"\",\"zerolinecolor\":\"white\",\"gridwidth\":2},\"yaxis\":{\"backgroundcolor\":\"#E5ECF6\",\"gridcolor\":\"white\",\"linecolor\":\"white\",\"showbackground\":true,\"ticks\":\"\",\"zerolinecolor\":\"white\",\"gridwidth\":2},\"zaxis\":{\"backgroundcolor\":\"#E5ECF6\",\"gridcolor\":\"white\",\"linecolor\":\"white\",\"showbackground\":true,\"ticks\":\"\",\"zerolinecolor\":\"white\",\"gridwidth\":2}},\"shapedefaults\":{\"line\":{\"color\":\"#2a3f5f\"}},\"annotationdefaults\":{\"arrowcolor\":\"#2a3f5f\",\"arrowhead\":0,\"arrowwidth\":1},\"geo\":{\"bgcolor\":\"white\",\"landcolor\":\"#E5ECF6\",\"subunitcolor\":\"white\",\"showland\":true,\"showlakes\":true,\"lakecolor\":\"white\"},\"title\":{\"x\":0.05},\"mapbox\":{\"style\":\"light\"}}},\"xaxis\":{\"anchor\":\"y\",\"domain\":[0.0,1.0],\"title\":{\"text\":\"State\"}},\"yaxis\":{\"anchor\":\"x\",\"domain\":[0.0,1.0],\"title\":{\"text\":\"Sales\"}},\"legend\":{\"tracegroupgap\":0},\"title\":{\"text\":\"Top 15 States vs Sales\"},\"barmode\":\"relative\",\"height\":800},                        {\"responsive\": true}                    ).then(function(){\n",
       "                            \n",
       "var gd = document.getElementById('c42fa675-065b-4c15-b4c5-7e5a21a68884');\n",
       "var x = new MutationObserver(function (mutations, observer) {{\n",
       "        var display = window.getComputedStyle(gd).display;\n",
       "        if (!display || display === 'none') {{\n",
       "            console.log([gd, 'removed!']);\n",
       "            Plotly.purge(gd);\n",
       "            observer.disconnect();\n",
       "        }}\n",
       "}});\n",
       "\n",
       "// Listen for the removal of the full notebook cells\n",
       "var notebookContainer = gd.closest('#notebook-container');\n",
       "if (notebookContainer) {{\n",
       "    x.observe(notebookContainer, {childList: true});\n",
       "}}\n",
       "\n",
       "// Listen for the clearing of the current output cell\n",
       "var outputEl = gd.closest('.output');\n",
       "if (outputEl) {{\n",
       "    x.observe(outputEl, {childList: true});\n",
       "}}\n",
       "\n",
       "                        })                };                });            </script>        </div>"
      ]
     },
     "metadata": {},
     "output_type": "display_data"
    }
   ],
   "source": [
    "# Top 15 States vs Sales\n",
    "\n",
    "fig=px.bar(top_states,x='State',y='Sales',title='Top 15 States vs Sales',height=800,color_discrete_sequence=px.colors.sequential.RdBu)\n",
    "fig.show()"
   ]
  },
  {
   "cell_type": "markdown",
   "id": "8b2ae81c",
   "metadata": {
    "papermill": {
     "duration": 0.015706,
     "end_time": "2024-09-23T22:31:16.247160",
     "exception": false,
     "start_time": "2024-09-23T22:31:16.231454",
     "status": "completed"
    },
    "tags": []
   },
   "source": [
    "### <font color='red'> Result </font>: Most of the Sales are from California and New York States"
   ]
  },
  {
   "cell_type": "code",
   "execution_count": 22,
   "id": "2b2a4fcc",
   "metadata": {
    "execution": {
     "iopub.execute_input": "2024-09-23T22:31:16.280939Z",
     "iopub.status.busy": "2024-09-23T22:31:16.280503Z",
     "iopub.status.idle": "2024-09-23T22:31:16.299667Z",
     "shell.execute_reply": "2024-09-23T22:31:16.298226Z"
    },
    "papermill": {
     "duration": 0.039223,
     "end_time": "2024-09-23T22:31:16.302438",
     "exception": false,
     "start_time": "2024-09-23T22:31:16.263215",
     "status": "completed"
    },
    "tags": []
   },
   "outputs": [
    {
     "data": {
      "text/html": [
       "<div>\n",
       "<style scoped>\n",
       "    .dataframe tbody tr th:only-of-type {\n",
       "        vertical-align: middle;\n",
       "    }\n",
       "\n",
       "    .dataframe tbody tr th {\n",
       "        vertical-align: top;\n",
       "    }\n",
       "\n",
       "    .dataframe thead th {\n",
       "        text-align: right;\n",
       "    }\n",
       "</style>\n",
       "<table border=\"1\" class=\"dataframe\">\n",
       "  <thead>\n",
       "    <tr style=\"text-align: right;\">\n",
       "      <th></th>\n",
       "      <th>City</th>\n",
       "      <th>Sales</th>\n",
       "    </tr>\n",
       "  </thead>\n",
       "  <tbody>\n",
       "    <tr>\n",
       "      <th>0</th>\n",
       "      <td>New York City</td>\n",
       "      <td>252462.55</td>\n",
       "    </tr>\n",
       "    <tr>\n",
       "      <th>1</th>\n",
       "      <td>Los Angeles</td>\n",
       "      <td>173420.18</td>\n",
       "    </tr>\n",
       "    <tr>\n",
       "      <th>2</th>\n",
       "      <td>Seattle</td>\n",
       "      <td>116106.32</td>\n",
       "    </tr>\n",
       "    <tr>\n",
       "      <th>3</th>\n",
       "      <td>San Francisco</td>\n",
       "      <td>109041.12</td>\n",
       "    </tr>\n",
       "    <tr>\n",
       "      <th>4</th>\n",
       "      <td>Philadelphia</td>\n",
       "      <td>108841.75</td>\n",
       "    </tr>\n",
       "    <tr>\n",
       "      <th>5</th>\n",
       "      <td>Houston</td>\n",
       "      <td>63956.14</td>\n",
       "    </tr>\n",
       "    <tr>\n",
       "      <th>6</th>\n",
       "      <td>Chicago</td>\n",
       "      <td>47820.13</td>\n",
       "    </tr>\n",
       "    <tr>\n",
       "      <th>7</th>\n",
       "      <td>San Diego</td>\n",
       "      <td>47521.03</td>\n",
       "    </tr>\n",
       "    <tr>\n",
       "      <th>8</th>\n",
       "      <td>Jacksonville</td>\n",
       "      <td>44713.18</td>\n",
       "    </tr>\n",
       "    <tr>\n",
       "      <th>9</th>\n",
       "      <td>Detroit</td>\n",
       "      <td>42446.94</td>\n",
       "    </tr>\n",
       "    <tr>\n",
       "      <th>10</th>\n",
       "      <td>Springfield</td>\n",
       "      <td>41827.81</td>\n",
       "    </tr>\n",
       "    <tr>\n",
       "      <th>11</th>\n",
       "      <td>Columbus</td>\n",
       "      <td>38381.19</td>\n",
       "    </tr>\n",
       "    <tr>\n",
       "      <th>12</th>\n",
       "      <td>Newark</td>\n",
       "      <td>28448.05</td>\n",
       "    </tr>\n",
       "    <tr>\n",
       "      <th>13</th>\n",
       "      <td>Columbia</td>\n",
       "      <td>25283.32</td>\n",
       "    </tr>\n",
       "    <tr>\n",
       "      <th>14</th>\n",
       "      <td>Jackson</td>\n",
       "      <td>24963.86</td>\n",
       "    </tr>\n",
       "  </tbody>\n",
       "</table>\n",
       "</div>"
      ],
      "text/plain": [
       "             City      Sales\n",
       "0   New York City  252462.55\n",
       "1     Los Angeles  173420.18\n",
       "2         Seattle  116106.32\n",
       "3   San Francisco  109041.12\n",
       "4    Philadelphia  108841.75\n",
       "5         Houston   63956.14\n",
       "6         Chicago   47820.13\n",
       "7       San Diego   47521.03\n",
       "8    Jacksonville   44713.18\n",
       "9         Detroit   42446.94\n",
       "10    Springfield   41827.81\n",
       "11       Columbus   38381.19\n",
       "12         Newark   28448.05\n",
       "13       Columbia   25283.32\n",
       "14        Jackson   24963.86"
      ]
     },
     "execution_count": 22,
     "metadata": {},
     "output_type": "execute_result"
    }
   ],
   "source": [
    "# Sales of the Top 15 Cities \n",
    "\n",
    "top_cities=df.groupby(['City']).sum('Sales').sort_values('Sales',ascending=False).head(15)\n",
    "top_cities=top_cities[['Sales']].round(2)\n",
    "top_cities.reset_index(inplace=True)\n",
    "top_cities                               \n",
    "                               "
   ]
  },
  {
   "cell_type": "code",
   "execution_count": 23,
   "id": "0e2309f5",
   "metadata": {
    "execution": {
     "iopub.execute_input": "2024-09-23T22:31:16.338835Z",
     "iopub.status.busy": "2024-09-23T22:31:16.337459Z",
     "iopub.status.idle": "2024-09-23T22:31:16.397675Z",
     "shell.execute_reply": "2024-09-23T22:31:16.396583Z"
    },
    "papermill": {
     "duration": 0.080663,
     "end_time": "2024-09-23T22:31:16.400073",
     "exception": false,
     "start_time": "2024-09-23T22:31:16.319410",
     "status": "completed"
    },
    "tags": []
   },
   "outputs": [
    {
     "data": {
      "text/html": [
       "<div>                            <div id=\"bb258b08-05d1-443a-8044-a97cbf3b1b74\" class=\"plotly-graph-div\" style=\"height:800px; width:100%;\"></div>            <script type=\"text/javascript\">                require([\"plotly\"], function(Plotly) {                    window.PLOTLYENV=window.PLOTLYENV || {};                                    if (document.getElementById(\"bb258b08-05d1-443a-8044-a97cbf3b1b74\")) {                    Plotly.newPlot(                        \"bb258b08-05d1-443a-8044-a97cbf3b1b74\",                        [{\"alignmentgroup\":\"True\",\"hovertemplate\":\"City=%{x}\\u003cbr\\u003eSales=%{y}\\u003cextra\\u003e\\u003c\\u002fextra\\u003e\",\"legendgroup\":\"\",\"marker\":{\"color\":\"rgb(103,0,31)\",\"pattern\":{\"shape\":\"\"}},\"name\":\"\",\"offsetgroup\":\"\",\"orientation\":\"v\",\"showlegend\":false,\"textposition\":\"auto\",\"x\":[\"New York City\",\"Los Angeles\",\"Seattle\",\"San Francisco\",\"Philadelphia\",\"Houston\",\"Chicago\",\"San Diego\",\"Jacksonville\",\"Detroit\",\"Springfield\",\"Columbus\",\"Newark\",\"Columbia\",\"Jackson\"],\"xaxis\":\"x\",\"y\":[252462.55,173420.18,116106.32,109041.12,108841.75,63956.14,47820.13,47521.03,44713.18,42446.94,41827.81,38381.19,28448.05,25283.32,24963.86],\"yaxis\":\"y\",\"type\":\"bar\"}],                        {\"template\":{\"data\":{\"histogram2dcontour\":[{\"type\":\"histogram2dcontour\",\"colorbar\":{\"outlinewidth\":0,\"ticks\":\"\"},\"colorscale\":[[0.0,\"#0d0887\"],[0.1111111111111111,\"#46039f\"],[0.2222222222222222,\"#7201a8\"],[0.3333333333333333,\"#9c179e\"],[0.4444444444444444,\"#bd3786\"],[0.5555555555555556,\"#d8576b\"],[0.6666666666666666,\"#ed7953\"],[0.7777777777777778,\"#fb9f3a\"],[0.8888888888888888,\"#fdca26\"],[1.0,\"#f0f921\"]]}],\"choropleth\":[{\"type\":\"choropleth\",\"colorbar\":{\"outlinewidth\":0,\"ticks\":\"\"}}],\"histogram2d\":[{\"type\":\"histogram2d\",\"colorbar\":{\"outlinewidth\":0,\"ticks\":\"\"},\"colorscale\":[[0.0,\"#0d0887\"],[0.1111111111111111,\"#46039f\"],[0.2222222222222222,\"#7201a8\"],[0.3333333333333333,\"#9c179e\"],[0.4444444444444444,\"#bd3786\"],[0.5555555555555556,\"#d8576b\"],[0.6666666666666666,\"#ed7953\"],[0.7777777777777778,\"#fb9f3a\"],[0.8888888888888888,\"#fdca26\"],[1.0,\"#f0f921\"]]}],\"heatmap\":[{\"type\":\"heatmap\",\"colorbar\":{\"outlinewidth\":0,\"ticks\":\"\"},\"colorscale\":[[0.0,\"#0d0887\"],[0.1111111111111111,\"#46039f\"],[0.2222222222222222,\"#7201a8\"],[0.3333333333333333,\"#9c179e\"],[0.4444444444444444,\"#bd3786\"],[0.5555555555555556,\"#d8576b\"],[0.6666666666666666,\"#ed7953\"],[0.7777777777777778,\"#fb9f3a\"],[0.8888888888888888,\"#fdca26\"],[1.0,\"#f0f921\"]]}],\"heatmapgl\":[{\"type\":\"heatmapgl\",\"colorbar\":{\"outlinewidth\":0,\"ticks\":\"\"},\"colorscale\":[[0.0,\"#0d0887\"],[0.1111111111111111,\"#46039f\"],[0.2222222222222222,\"#7201a8\"],[0.3333333333333333,\"#9c179e\"],[0.4444444444444444,\"#bd3786\"],[0.5555555555555556,\"#d8576b\"],[0.6666666666666666,\"#ed7953\"],[0.7777777777777778,\"#fb9f3a\"],[0.8888888888888888,\"#fdca26\"],[1.0,\"#f0f921\"]]}],\"contourcarpet\":[{\"type\":\"contourcarpet\",\"colorbar\":{\"outlinewidth\":0,\"ticks\":\"\"}}],\"contour\":[{\"type\":\"contour\",\"colorbar\":{\"outlinewidth\":0,\"ticks\":\"\"},\"colorscale\":[[0.0,\"#0d0887\"],[0.1111111111111111,\"#46039f\"],[0.2222222222222222,\"#7201a8\"],[0.3333333333333333,\"#9c179e\"],[0.4444444444444444,\"#bd3786\"],[0.5555555555555556,\"#d8576b\"],[0.6666666666666666,\"#ed7953\"],[0.7777777777777778,\"#fb9f3a\"],[0.8888888888888888,\"#fdca26\"],[1.0,\"#f0f921\"]]}],\"surface\":[{\"type\":\"surface\",\"colorbar\":{\"outlinewidth\":0,\"ticks\":\"\"},\"colorscale\":[[0.0,\"#0d0887\"],[0.1111111111111111,\"#46039f\"],[0.2222222222222222,\"#7201a8\"],[0.3333333333333333,\"#9c179e\"],[0.4444444444444444,\"#bd3786\"],[0.5555555555555556,\"#d8576b\"],[0.6666666666666666,\"#ed7953\"],[0.7777777777777778,\"#fb9f3a\"],[0.8888888888888888,\"#fdca26\"],[1.0,\"#f0f921\"]]}],\"mesh3d\":[{\"type\":\"mesh3d\",\"colorbar\":{\"outlinewidth\":0,\"ticks\":\"\"}}],\"scatter\":[{\"fillpattern\":{\"fillmode\":\"overlay\",\"size\":10,\"solidity\":0.2},\"type\":\"scatter\"}],\"parcoords\":[{\"type\":\"parcoords\",\"line\":{\"colorbar\":{\"outlinewidth\":0,\"ticks\":\"\"}}}],\"scatterpolargl\":[{\"type\":\"scatterpolargl\",\"marker\":{\"colorbar\":{\"outlinewidth\":0,\"ticks\":\"\"}}}],\"bar\":[{\"error_x\":{\"color\":\"#2a3f5f\"},\"error_y\":{\"color\":\"#2a3f5f\"},\"marker\":{\"line\":{\"color\":\"#E5ECF6\",\"width\":0.5},\"pattern\":{\"fillmode\":\"overlay\",\"size\":10,\"solidity\":0.2}},\"type\":\"bar\"}],\"scattergeo\":[{\"type\":\"scattergeo\",\"marker\":{\"colorbar\":{\"outlinewidth\":0,\"ticks\":\"\"}}}],\"scatterpolar\":[{\"type\":\"scatterpolar\",\"marker\":{\"colorbar\":{\"outlinewidth\":0,\"ticks\":\"\"}}}],\"histogram\":[{\"marker\":{\"pattern\":{\"fillmode\":\"overlay\",\"size\":10,\"solidity\":0.2}},\"type\":\"histogram\"}],\"scattergl\":[{\"type\":\"scattergl\",\"marker\":{\"colorbar\":{\"outlinewidth\":0,\"ticks\":\"\"}}}],\"scatter3d\":[{\"type\":\"scatter3d\",\"line\":{\"colorbar\":{\"outlinewidth\":0,\"ticks\":\"\"}},\"marker\":{\"colorbar\":{\"outlinewidth\":0,\"ticks\":\"\"}}}],\"scattermapbox\":[{\"type\":\"scattermapbox\",\"marker\":{\"colorbar\":{\"outlinewidth\":0,\"ticks\":\"\"}}}],\"scatterternary\":[{\"type\":\"scatterternary\",\"marker\":{\"colorbar\":{\"outlinewidth\":0,\"ticks\":\"\"}}}],\"scattercarpet\":[{\"type\":\"scattercarpet\",\"marker\":{\"colorbar\":{\"outlinewidth\":0,\"ticks\":\"\"}}}],\"carpet\":[{\"aaxis\":{\"endlinecolor\":\"#2a3f5f\",\"gridcolor\":\"white\",\"linecolor\":\"white\",\"minorgridcolor\":\"white\",\"startlinecolor\":\"#2a3f5f\"},\"baxis\":{\"endlinecolor\":\"#2a3f5f\",\"gridcolor\":\"white\",\"linecolor\":\"white\",\"minorgridcolor\":\"white\",\"startlinecolor\":\"#2a3f5f\"},\"type\":\"carpet\"}],\"table\":[{\"cells\":{\"fill\":{\"color\":\"#EBF0F8\"},\"line\":{\"color\":\"white\"}},\"header\":{\"fill\":{\"color\":\"#C8D4E3\"},\"line\":{\"color\":\"white\"}},\"type\":\"table\"}],\"barpolar\":[{\"marker\":{\"line\":{\"color\":\"#E5ECF6\",\"width\":0.5},\"pattern\":{\"fillmode\":\"overlay\",\"size\":10,\"solidity\":0.2}},\"type\":\"barpolar\"}],\"pie\":[{\"automargin\":true,\"type\":\"pie\"}]},\"layout\":{\"autotypenumbers\":\"strict\",\"colorway\":[\"#636efa\",\"#EF553B\",\"#00cc96\",\"#ab63fa\",\"#FFA15A\",\"#19d3f3\",\"#FF6692\",\"#B6E880\",\"#FF97FF\",\"#FECB52\"],\"font\":{\"color\":\"#2a3f5f\"},\"hovermode\":\"closest\",\"hoverlabel\":{\"align\":\"left\"},\"paper_bgcolor\":\"white\",\"plot_bgcolor\":\"#E5ECF6\",\"polar\":{\"bgcolor\":\"#E5ECF6\",\"angularaxis\":{\"gridcolor\":\"white\",\"linecolor\":\"white\",\"ticks\":\"\"},\"radialaxis\":{\"gridcolor\":\"white\",\"linecolor\":\"white\",\"ticks\":\"\"}},\"ternary\":{\"bgcolor\":\"#E5ECF6\",\"aaxis\":{\"gridcolor\":\"white\",\"linecolor\":\"white\",\"ticks\":\"\"},\"baxis\":{\"gridcolor\":\"white\",\"linecolor\":\"white\",\"ticks\":\"\"},\"caxis\":{\"gridcolor\":\"white\",\"linecolor\":\"white\",\"ticks\":\"\"}},\"coloraxis\":{\"colorbar\":{\"outlinewidth\":0,\"ticks\":\"\"}},\"colorscale\":{\"sequential\":[[0.0,\"#0d0887\"],[0.1111111111111111,\"#46039f\"],[0.2222222222222222,\"#7201a8\"],[0.3333333333333333,\"#9c179e\"],[0.4444444444444444,\"#bd3786\"],[0.5555555555555556,\"#d8576b\"],[0.6666666666666666,\"#ed7953\"],[0.7777777777777778,\"#fb9f3a\"],[0.8888888888888888,\"#fdca26\"],[1.0,\"#f0f921\"]],\"sequentialminus\":[[0.0,\"#0d0887\"],[0.1111111111111111,\"#46039f\"],[0.2222222222222222,\"#7201a8\"],[0.3333333333333333,\"#9c179e\"],[0.4444444444444444,\"#bd3786\"],[0.5555555555555556,\"#d8576b\"],[0.6666666666666666,\"#ed7953\"],[0.7777777777777778,\"#fb9f3a\"],[0.8888888888888888,\"#fdca26\"],[1.0,\"#f0f921\"]],\"diverging\":[[0,\"#8e0152\"],[0.1,\"#c51b7d\"],[0.2,\"#de77ae\"],[0.3,\"#f1b6da\"],[0.4,\"#fde0ef\"],[0.5,\"#f7f7f7\"],[0.6,\"#e6f5d0\"],[0.7,\"#b8e186\"],[0.8,\"#7fbc41\"],[0.9,\"#4d9221\"],[1,\"#276419\"]]},\"xaxis\":{\"gridcolor\":\"white\",\"linecolor\":\"white\",\"ticks\":\"\",\"title\":{\"standoff\":15},\"zerolinecolor\":\"white\",\"automargin\":true,\"zerolinewidth\":2},\"yaxis\":{\"gridcolor\":\"white\",\"linecolor\":\"white\",\"ticks\":\"\",\"title\":{\"standoff\":15},\"zerolinecolor\":\"white\",\"automargin\":true,\"zerolinewidth\":2},\"scene\":{\"xaxis\":{\"backgroundcolor\":\"#E5ECF6\",\"gridcolor\":\"white\",\"linecolor\":\"white\",\"showbackground\":true,\"ticks\":\"\",\"zerolinecolor\":\"white\",\"gridwidth\":2},\"yaxis\":{\"backgroundcolor\":\"#E5ECF6\",\"gridcolor\":\"white\",\"linecolor\":\"white\",\"showbackground\":true,\"ticks\":\"\",\"zerolinecolor\":\"white\",\"gridwidth\":2},\"zaxis\":{\"backgroundcolor\":\"#E5ECF6\",\"gridcolor\":\"white\",\"linecolor\":\"white\",\"showbackground\":true,\"ticks\":\"\",\"zerolinecolor\":\"white\",\"gridwidth\":2}},\"shapedefaults\":{\"line\":{\"color\":\"#2a3f5f\"}},\"annotationdefaults\":{\"arrowcolor\":\"#2a3f5f\",\"arrowhead\":0,\"arrowwidth\":1},\"geo\":{\"bgcolor\":\"white\",\"landcolor\":\"#E5ECF6\",\"subunitcolor\":\"white\",\"showland\":true,\"showlakes\":true,\"lakecolor\":\"white\"},\"title\":{\"x\":0.05},\"mapbox\":{\"style\":\"light\"}}},\"xaxis\":{\"anchor\":\"y\",\"domain\":[0.0,1.0],\"title\":{\"text\":\"City\"}},\"yaxis\":{\"anchor\":\"x\",\"domain\":[0.0,1.0],\"title\":{\"text\":\"Sales\"}},\"legend\":{\"tracegroupgap\":0},\"title\":{\"text\":\"Top 15 Cities vs Sales\"},\"barmode\":\"relative\",\"height\":800},                        {\"responsive\": true}                    ).then(function(){\n",
       "                            \n",
       "var gd = document.getElementById('bb258b08-05d1-443a-8044-a97cbf3b1b74');\n",
       "var x = new MutationObserver(function (mutations, observer) {{\n",
       "        var display = window.getComputedStyle(gd).display;\n",
       "        if (!display || display === 'none') {{\n",
       "            console.log([gd, 'removed!']);\n",
       "            Plotly.purge(gd);\n",
       "            observer.disconnect();\n",
       "        }}\n",
       "}});\n",
       "\n",
       "// Listen for the removal of the full notebook cells\n",
       "var notebookContainer = gd.closest('#notebook-container');\n",
       "if (notebookContainer) {{\n",
       "    x.observe(notebookContainer, {childList: true});\n",
       "}}\n",
       "\n",
       "// Listen for the clearing of the current output cell\n",
       "var outputEl = gd.closest('.output');\n",
       "if (outputEl) {{\n",
       "    x.observe(outputEl, {childList: true});\n",
       "}}\n",
       "\n",
       "                        })                };                });            </script>        </div>"
      ]
     },
     "metadata": {},
     "output_type": "display_data"
    }
   ],
   "source": [
    "# Top 15 Cities vs Sales\n",
    "\n",
    "fig=px.bar(top_cities,x='City',y='Sales',title='Top 15 Cities vs Sales',height=800,color_discrete_sequence=px.colors.sequential.RdBu)\n",
    "fig.show()"
   ]
  },
  {
   "cell_type": "markdown",
   "id": "c8d1c772",
   "metadata": {
    "papermill": {
     "duration": 0.016074,
     "end_time": "2024-09-23T22:31:16.432866",
     "exception": false,
     "start_time": "2024-09-23T22:31:16.416792",
     "status": "completed"
    },
    "tags": []
   },
   "source": [
    "### <font color='red'> Result </font>: Most of the Sales are from New York City and Los Angeles "
   ]
  },
  {
   "cell_type": "code",
   "execution_count": 24,
   "id": "5688de61",
   "metadata": {
    "execution": {
     "iopub.execute_input": "2024-09-23T22:31:16.467735Z",
     "iopub.status.busy": "2024-09-23T22:31:16.467284Z",
     "iopub.status.idle": "2024-09-23T22:31:16.483013Z",
     "shell.execute_reply": "2024-09-23T22:31:16.481913Z"
    },
    "papermill": {
     "duration": 0.036246,
     "end_time": "2024-09-23T22:31:16.485657",
     "exception": false,
     "start_time": "2024-09-23T22:31:16.449411",
     "status": "completed"
    },
    "tags": []
   },
   "outputs": [
    {
     "data": {
      "text/html": [
       "<div>\n",
       "<style scoped>\n",
       "    .dataframe tbody tr th:only-of-type {\n",
       "        vertical-align: middle;\n",
       "    }\n",
       "\n",
       "    .dataframe tbody tr th {\n",
       "        vertical-align: top;\n",
       "    }\n",
       "\n",
       "    .dataframe thead th {\n",
       "        text-align: right;\n",
       "    }\n",
       "</style>\n",
       "<table border=\"1\" class=\"dataframe\">\n",
       "  <thead>\n",
       "    <tr style=\"text-align: right;\">\n",
       "      <th></th>\n",
       "      <th>Category</th>\n",
       "      <th>Sales</th>\n",
       "    </tr>\n",
       "  </thead>\n",
       "  <tbody>\n",
       "    <tr>\n",
       "      <th>0</th>\n",
       "      <td>Technology</td>\n",
       "      <td>827455.87</td>\n",
       "    </tr>\n",
       "    <tr>\n",
       "      <th>1</th>\n",
       "      <td>Furniture</td>\n",
       "      <td>728377.20</td>\n",
       "    </tr>\n",
       "    <tr>\n",
       "      <th>2</th>\n",
       "      <td>Office Supplies</td>\n",
       "      <td>705422.33</td>\n",
       "    </tr>\n",
       "  </tbody>\n",
       "</table>\n",
       "</div>"
      ],
      "text/plain": [
       "          Category      Sales\n",
       "0       Technology  827455.87\n",
       "1        Furniture  728377.20\n",
       "2  Office Supplies  705422.33"
      ]
     },
     "execution_count": 24,
     "metadata": {},
     "output_type": "execute_result"
    }
   ],
   "source": [
    "# Sales of the Categories\n",
    "\n",
    "Categories=df.groupby('Category').sum('Sales').sort_values('Sales',ascending=False)\n",
    "Categories=Categories[['Sales']].round(2)\n",
    "Categories.reset_index(inplace=True)\n",
    "Categories"
   ]
  },
  {
   "cell_type": "code",
   "execution_count": 25,
   "id": "5fd2a989",
   "metadata": {
    "execution": {
     "iopub.execute_input": "2024-09-23T22:31:16.521113Z",
     "iopub.status.busy": "2024-09-23T22:31:16.520709Z",
     "iopub.status.idle": "2024-09-23T22:31:16.578392Z",
     "shell.execute_reply": "2024-09-23T22:31:16.577183Z"
    },
    "papermill": {
     "duration": 0.078254,
     "end_time": "2024-09-23T22:31:16.580750",
     "exception": false,
     "start_time": "2024-09-23T22:31:16.502496",
     "status": "completed"
    },
    "tags": []
   },
   "outputs": [
    {
     "data": {
      "text/html": [
       "<div>                            <div id=\"d8bb510e-22fd-49d0-9e62-84fcb0782351\" class=\"plotly-graph-div\" style=\"height:525px; width:100%;\"></div>            <script type=\"text/javascript\">                require([\"plotly\"], function(Plotly) {                    window.PLOTLYENV=window.PLOTLYENV || {};                                    if (document.getElementById(\"d8bb510e-22fd-49d0-9e62-84fcb0782351\")) {                    Plotly.newPlot(                        \"d8bb510e-22fd-49d0-9e62-84fcb0782351\",                        [{\"domain\":{\"x\":[0.0,1.0],\"y\":[0.0,1.0]},\"hovertemplate\":\"Category=%{label}\\u003cbr\\u003eSales=%{value}\\u003cextra\\u003e\\u003c\\u002fextra\\u003e\",\"labels\":[\"Technology\",\"Furniture\",\"Office Supplies\"],\"legendgroup\":\"\",\"name\":\"\",\"showlegend\":true,\"values\":[827455.87,728377.2,705422.33],\"type\":\"pie\"}],                        {\"template\":{\"data\":{\"histogram2dcontour\":[{\"type\":\"histogram2dcontour\",\"colorbar\":{\"outlinewidth\":0,\"ticks\":\"\"},\"colorscale\":[[0.0,\"#0d0887\"],[0.1111111111111111,\"#46039f\"],[0.2222222222222222,\"#7201a8\"],[0.3333333333333333,\"#9c179e\"],[0.4444444444444444,\"#bd3786\"],[0.5555555555555556,\"#d8576b\"],[0.6666666666666666,\"#ed7953\"],[0.7777777777777778,\"#fb9f3a\"],[0.8888888888888888,\"#fdca26\"],[1.0,\"#f0f921\"]]}],\"choropleth\":[{\"type\":\"choropleth\",\"colorbar\":{\"outlinewidth\":0,\"ticks\":\"\"}}],\"histogram2d\":[{\"type\":\"histogram2d\",\"colorbar\":{\"outlinewidth\":0,\"ticks\":\"\"},\"colorscale\":[[0.0,\"#0d0887\"],[0.1111111111111111,\"#46039f\"],[0.2222222222222222,\"#7201a8\"],[0.3333333333333333,\"#9c179e\"],[0.4444444444444444,\"#bd3786\"],[0.5555555555555556,\"#d8576b\"],[0.6666666666666666,\"#ed7953\"],[0.7777777777777778,\"#fb9f3a\"],[0.8888888888888888,\"#fdca26\"],[1.0,\"#f0f921\"]]}],\"heatmap\":[{\"type\":\"heatmap\",\"colorbar\":{\"outlinewidth\":0,\"ticks\":\"\"},\"colorscale\":[[0.0,\"#0d0887\"],[0.1111111111111111,\"#46039f\"],[0.2222222222222222,\"#7201a8\"],[0.3333333333333333,\"#9c179e\"],[0.4444444444444444,\"#bd3786\"],[0.5555555555555556,\"#d8576b\"],[0.6666666666666666,\"#ed7953\"],[0.7777777777777778,\"#fb9f3a\"],[0.8888888888888888,\"#fdca26\"],[1.0,\"#f0f921\"]]}],\"heatmapgl\":[{\"type\":\"heatmapgl\",\"colorbar\":{\"outlinewidth\":0,\"ticks\":\"\"},\"colorscale\":[[0.0,\"#0d0887\"],[0.1111111111111111,\"#46039f\"],[0.2222222222222222,\"#7201a8\"],[0.3333333333333333,\"#9c179e\"],[0.4444444444444444,\"#bd3786\"],[0.5555555555555556,\"#d8576b\"],[0.6666666666666666,\"#ed7953\"],[0.7777777777777778,\"#fb9f3a\"],[0.8888888888888888,\"#fdca26\"],[1.0,\"#f0f921\"]]}],\"contourcarpet\":[{\"type\":\"contourcarpet\",\"colorbar\":{\"outlinewidth\":0,\"ticks\":\"\"}}],\"contour\":[{\"type\":\"contour\",\"colorbar\":{\"outlinewidth\":0,\"ticks\":\"\"},\"colorscale\":[[0.0,\"#0d0887\"],[0.1111111111111111,\"#46039f\"],[0.2222222222222222,\"#7201a8\"],[0.3333333333333333,\"#9c179e\"],[0.4444444444444444,\"#bd3786\"],[0.5555555555555556,\"#d8576b\"],[0.6666666666666666,\"#ed7953\"],[0.7777777777777778,\"#fb9f3a\"],[0.8888888888888888,\"#fdca26\"],[1.0,\"#f0f921\"]]}],\"surface\":[{\"type\":\"surface\",\"colorbar\":{\"outlinewidth\":0,\"ticks\":\"\"},\"colorscale\":[[0.0,\"#0d0887\"],[0.1111111111111111,\"#46039f\"],[0.2222222222222222,\"#7201a8\"],[0.3333333333333333,\"#9c179e\"],[0.4444444444444444,\"#bd3786\"],[0.5555555555555556,\"#d8576b\"],[0.6666666666666666,\"#ed7953\"],[0.7777777777777778,\"#fb9f3a\"],[0.8888888888888888,\"#fdca26\"],[1.0,\"#f0f921\"]]}],\"mesh3d\":[{\"type\":\"mesh3d\",\"colorbar\":{\"outlinewidth\":0,\"ticks\":\"\"}}],\"scatter\":[{\"fillpattern\":{\"fillmode\":\"overlay\",\"size\":10,\"solidity\":0.2},\"type\":\"scatter\"}],\"parcoords\":[{\"type\":\"parcoords\",\"line\":{\"colorbar\":{\"outlinewidth\":0,\"ticks\":\"\"}}}],\"scatterpolargl\":[{\"type\":\"scatterpolargl\",\"marker\":{\"colorbar\":{\"outlinewidth\":0,\"ticks\":\"\"}}}],\"bar\":[{\"error_x\":{\"color\":\"#2a3f5f\"},\"error_y\":{\"color\":\"#2a3f5f\"},\"marker\":{\"line\":{\"color\":\"#E5ECF6\",\"width\":0.5},\"pattern\":{\"fillmode\":\"overlay\",\"size\":10,\"solidity\":0.2}},\"type\":\"bar\"}],\"scattergeo\":[{\"type\":\"scattergeo\",\"marker\":{\"colorbar\":{\"outlinewidth\":0,\"ticks\":\"\"}}}],\"scatterpolar\":[{\"type\":\"scatterpolar\",\"marker\":{\"colorbar\":{\"outlinewidth\":0,\"ticks\":\"\"}}}],\"histogram\":[{\"marker\":{\"pattern\":{\"fillmode\":\"overlay\",\"size\":10,\"solidity\":0.2}},\"type\":\"histogram\"}],\"scattergl\":[{\"type\":\"scattergl\",\"marker\":{\"colorbar\":{\"outlinewidth\":0,\"ticks\":\"\"}}}],\"scatter3d\":[{\"type\":\"scatter3d\",\"line\":{\"colorbar\":{\"outlinewidth\":0,\"ticks\":\"\"}},\"marker\":{\"colorbar\":{\"outlinewidth\":0,\"ticks\":\"\"}}}],\"scattermapbox\":[{\"type\":\"scattermapbox\",\"marker\":{\"colorbar\":{\"outlinewidth\":0,\"ticks\":\"\"}}}],\"scatterternary\":[{\"type\":\"scatterternary\",\"marker\":{\"colorbar\":{\"outlinewidth\":0,\"ticks\":\"\"}}}],\"scattercarpet\":[{\"type\":\"scattercarpet\",\"marker\":{\"colorbar\":{\"outlinewidth\":0,\"ticks\":\"\"}}}],\"carpet\":[{\"aaxis\":{\"endlinecolor\":\"#2a3f5f\",\"gridcolor\":\"white\",\"linecolor\":\"white\",\"minorgridcolor\":\"white\",\"startlinecolor\":\"#2a3f5f\"},\"baxis\":{\"endlinecolor\":\"#2a3f5f\",\"gridcolor\":\"white\",\"linecolor\":\"white\",\"minorgridcolor\":\"white\",\"startlinecolor\":\"#2a3f5f\"},\"type\":\"carpet\"}],\"table\":[{\"cells\":{\"fill\":{\"color\":\"#EBF0F8\"},\"line\":{\"color\":\"white\"}},\"header\":{\"fill\":{\"color\":\"#C8D4E3\"},\"line\":{\"color\":\"white\"}},\"type\":\"table\"}],\"barpolar\":[{\"marker\":{\"line\":{\"color\":\"#E5ECF6\",\"width\":0.5},\"pattern\":{\"fillmode\":\"overlay\",\"size\":10,\"solidity\":0.2}},\"type\":\"barpolar\"}],\"pie\":[{\"automargin\":true,\"type\":\"pie\"}]},\"layout\":{\"autotypenumbers\":\"strict\",\"colorway\":[\"#636efa\",\"#EF553B\",\"#00cc96\",\"#ab63fa\",\"#FFA15A\",\"#19d3f3\",\"#FF6692\",\"#B6E880\",\"#FF97FF\",\"#FECB52\"],\"font\":{\"color\":\"#2a3f5f\"},\"hovermode\":\"closest\",\"hoverlabel\":{\"align\":\"left\"},\"paper_bgcolor\":\"white\",\"plot_bgcolor\":\"#E5ECF6\",\"polar\":{\"bgcolor\":\"#E5ECF6\",\"angularaxis\":{\"gridcolor\":\"white\",\"linecolor\":\"white\",\"ticks\":\"\"},\"radialaxis\":{\"gridcolor\":\"white\",\"linecolor\":\"white\",\"ticks\":\"\"}},\"ternary\":{\"bgcolor\":\"#E5ECF6\",\"aaxis\":{\"gridcolor\":\"white\",\"linecolor\":\"white\",\"ticks\":\"\"},\"baxis\":{\"gridcolor\":\"white\",\"linecolor\":\"white\",\"ticks\":\"\"},\"caxis\":{\"gridcolor\":\"white\",\"linecolor\":\"white\",\"ticks\":\"\"}},\"coloraxis\":{\"colorbar\":{\"outlinewidth\":0,\"ticks\":\"\"}},\"colorscale\":{\"sequential\":[[0.0,\"#0d0887\"],[0.1111111111111111,\"#46039f\"],[0.2222222222222222,\"#7201a8\"],[0.3333333333333333,\"#9c179e\"],[0.4444444444444444,\"#bd3786\"],[0.5555555555555556,\"#d8576b\"],[0.6666666666666666,\"#ed7953\"],[0.7777777777777778,\"#fb9f3a\"],[0.8888888888888888,\"#fdca26\"],[1.0,\"#f0f921\"]],\"sequentialminus\":[[0.0,\"#0d0887\"],[0.1111111111111111,\"#46039f\"],[0.2222222222222222,\"#7201a8\"],[0.3333333333333333,\"#9c179e\"],[0.4444444444444444,\"#bd3786\"],[0.5555555555555556,\"#d8576b\"],[0.6666666666666666,\"#ed7953\"],[0.7777777777777778,\"#fb9f3a\"],[0.8888888888888888,\"#fdca26\"],[1.0,\"#f0f921\"]],\"diverging\":[[0,\"#8e0152\"],[0.1,\"#c51b7d\"],[0.2,\"#de77ae\"],[0.3,\"#f1b6da\"],[0.4,\"#fde0ef\"],[0.5,\"#f7f7f7\"],[0.6,\"#e6f5d0\"],[0.7,\"#b8e186\"],[0.8,\"#7fbc41\"],[0.9,\"#4d9221\"],[1,\"#276419\"]]},\"xaxis\":{\"gridcolor\":\"white\",\"linecolor\":\"white\",\"ticks\":\"\",\"title\":{\"standoff\":15},\"zerolinecolor\":\"white\",\"automargin\":true,\"zerolinewidth\":2},\"yaxis\":{\"gridcolor\":\"white\",\"linecolor\":\"white\",\"ticks\":\"\",\"title\":{\"standoff\":15},\"zerolinecolor\":\"white\",\"automargin\":true,\"zerolinewidth\":2},\"scene\":{\"xaxis\":{\"backgroundcolor\":\"#E5ECF6\",\"gridcolor\":\"white\",\"linecolor\":\"white\",\"showbackground\":true,\"ticks\":\"\",\"zerolinecolor\":\"white\",\"gridwidth\":2},\"yaxis\":{\"backgroundcolor\":\"#E5ECF6\",\"gridcolor\":\"white\",\"linecolor\":\"white\",\"showbackground\":true,\"ticks\":\"\",\"zerolinecolor\":\"white\",\"gridwidth\":2},\"zaxis\":{\"backgroundcolor\":\"#E5ECF6\",\"gridcolor\":\"white\",\"linecolor\":\"white\",\"showbackground\":true,\"ticks\":\"\",\"zerolinecolor\":\"white\",\"gridwidth\":2}},\"shapedefaults\":{\"line\":{\"color\":\"#2a3f5f\"}},\"annotationdefaults\":{\"arrowcolor\":\"#2a3f5f\",\"arrowhead\":0,\"arrowwidth\":1},\"geo\":{\"bgcolor\":\"white\",\"landcolor\":\"#E5ECF6\",\"subunitcolor\":\"white\",\"showland\":true,\"showlakes\":true,\"lakecolor\":\"white\"},\"title\":{\"x\":0.05},\"mapbox\":{\"style\":\"light\"}}},\"legend\":{\"tracegroupgap\":0},\"title\":{\"text\":\"Category vs Sales\"},\"piecolorway\":[\"rgb(103,0,31)\",\"rgb(178,24,43)\",\"rgb(214,96,77)\",\"rgb(244,165,130)\",\"rgb(253,219,199)\",\"rgb(247,247,247)\",\"rgb(209,229,240)\",\"rgb(146,197,222)\",\"rgb(67,147,195)\",\"rgb(33,102,172)\",\"rgb(5,48,97)\"]},                        {\"responsive\": true}                    ).then(function(){\n",
       "                            \n",
       "var gd = document.getElementById('d8bb510e-22fd-49d0-9e62-84fcb0782351');\n",
       "var x = new MutationObserver(function (mutations, observer) {{\n",
       "        var display = window.getComputedStyle(gd).display;\n",
       "        if (!display || display === 'none') {{\n",
       "            console.log([gd, 'removed!']);\n",
       "            Plotly.purge(gd);\n",
       "            observer.disconnect();\n",
       "        }}\n",
       "}});\n",
       "\n",
       "// Listen for the removal of the full notebook cells\n",
       "var notebookContainer = gd.closest('#notebook-container');\n",
       "if (notebookContainer) {{\n",
       "    x.observe(notebookContainer, {childList: true});\n",
       "}}\n",
       "\n",
       "// Listen for the clearing of the current output cell\n",
       "var outputEl = gd.closest('.output');\n",
       "if (outputEl) {{\n",
       "    x.observe(outputEl, {childList: true});\n",
       "}}\n",
       "\n",
       "                        })                };                });            </script>        </div>"
      ]
     },
     "metadata": {},
     "output_type": "display_data"
    }
   ],
   "source": [
    "# Category vs Sales\n",
    "\n",
    "fig=px.pie(Categories,names='Category',values='Sales',title='Category vs Sales',color_discrete_sequence=px.colors.sequential.RdBu)\n",
    "fig.show()"
   ]
  },
  {
   "cell_type": "markdown",
   "id": "12e46af0",
   "metadata": {
    "papermill": {
     "duration": 0.019198,
     "end_time": "2024-09-23T22:31:16.617558",
     "exception": false,
     "start_time": "2024-09-23T22:31:16.598360",
     "status": "completed"
    },
    "tags": []
   },
   "source": [
    "### <font color='red'> Result </font>: Most of the Sales are from Technology Products "
   ]
  },
  {
   "cell_type": "code",
   "execution_count": 26,
   "id": "bca57480",
   "metadata": {
    "execution": {
     "iopub.execute_input": "2024-09-23T22:31:16.654351Z",
     "iopub.status.busy": "2024-09-23T22:31:16.653896Z",
     "iopub.status.idle": "2024-09-23T22:31:16.671073Z",
     "shell.execute_reply": "2024-09-23T22:31:16.670011Z"
    },
    "papermill": {
     "duration": 0.038481,
     "end_time": "2024-09-23T22:31:16.673567",
     "exception": false,
     "start_time": "2024-09-23T22:31:16.635086",
     "status": "completed"
    },
    "tags": []
   },
   "outputs": [
    {
     "data": {
      "text/html": [
       "<div>\n",
       "<style scoped>\n",
       "    .dataframe tbody tr th:only-of-type {\n",
       "        vertical-align: middle;\n",
       "    }\n",
       "\n",
       "    .dataframe tbody tr th {\n",
       "        vertical-align: top;\n",
       "    }\n",
       "\n",
       "    .dataframe thead th {\n",
       "        text-align: right;\n",
       "    }\n",
       "</style>\n",
       "<table border=\"1\" class=\"dataframe\">\n",
       "  <thead>\n",
       "    <tr style=\"text-align: right;\">\n",
       "      <th></th>\n",
       "      <th>Segment</th>\n",
       "      <th>Sales</th>\n",
       "    </tr>\n",
       "  </thead>\n",
       "  <tbody>\n",
       "    <tr>\n",
       "      <th>0</th>\n",
       "      <td>Consumer</td>\n",
       "      <td>1148060.53</td>\n",
       "    </tr>\n",
       "    <tr>\n",
       "      <th>1</th>\n",
       "      <td>Corporate</td>\n",
       "      <td>688494.07</td>\n",
       "    </tr>\n",
       "    <tr>\n",
       "      <th>2</th>\n",
       "      <td>Home Office</td>\n",
       "      <td>424700.80</td>\n",
       "    </tr>\n",
       "  </tbody>\n",
       "</table>\n",
       "</div>"
      ],
      "text/plain": [
       "       Segment       Sales\n",
       "0     Consumer  1148060.53\n",
       "1    Corporate   688494.07\n",
       "2  Home Office   424700.80"
      ]
     },
     "execution_count": 26,
     "metadata": {},
     "output_type": "execute_result"
    }
   ],
   "source": [
    "# Sales of the Segments\n",
    "\n",
    "Segments= df.groupby(\"Segment\").sum('Sales').sort_values(\"Sales\",ascending=False)\n",
    "Segments= Segments[['Sales']].round(2)\n",
    "Segments.reset_index(inplace=True)\n",
    "Segments"
   ]
  },
  {
   "cell_type": "code",
   "execution_count": 27,
   "id": "0eca84bd",
   "metadata": {
    "execution": {
     "iopub.execute_input": "2024-09-23T22:31:16.711310Z",
     "iopub.status.busy": "2024-09-23T22:31:16.710264Z",
     "iopub.status.idle": "2024-09-23T22:31:16.759337Z",
     "shell.execute_reply": "2024-09-23T22:31:16.758251Z"
    },
    "papermill": {
     "duration": 0.070463,
     "end_time": "2024-09-23T22:31:16.761875",
     "exception": false,
     "start_time": "2024-09-23T22:31:16.691412",
     "status": "completed"
    },
    "tags": []
   },
   "outputs": [
    {
     "data": {
      "text/html": [
       "<div>                            <div id=\"c1f67619-30f1-40be-949d-daba78300a24\" class=\"plotly-graph-div\" style=\"height:525px; width:100%;\"></div>            <script type=\"text/javascript\">                require([\"plotly\"], function(Plotly) {                    window.PLOTLYENV=window.PLOTLYENV || {};                                    if (document.getElementById(\"c1f67619-30f1-40be-949d-daba78300a24\")) {                    Plotly.newPlot(                        \"c1f67619-30f1-40be-949d-daba78300a24\",                        [{\"domain\":{\"x\":[0.0,1.0],\"y\":[0.0,1.0]},\"hovertemplate\":\"Segment=%{label}\\u003cbr\\u003eSales=%{value}\\u003cextra\\u003e\\u003c\\u002fextra\\u003e\",\"labels\":[\"Consumer\",\"Corporate\",\"Home Office\"],\"legendgroup\":\"\",\"name\":\"\",\"showlegend\":true,\"values\":[1148060.53,688494.07,424700.8],\"type\":\"pie\"}],                        {\"template\":{\"data\":{\"histogram2dcontour\":[{\"type\":\"histogram2dcontour\",\"colorbar\":{\"outlinewidth\":0,\"ticks\":\"\"},\"colorscale\":[[0.0,\"#0d0887\"],[0.1111111111111111,\"#46039f\"],[0.2222222222222222,\"#7201a8\"],[0.3333333333333333,\"#9c179e\"],[0.4444444444444444,\"#bd3786\"],[0.5555555555555556,\"#d8576b\"],[0.6666666666666666,\"#ed7953\"],[0.7777777777777778,\"#fb9f3a\"],[0.8888888888888888,\"#fdca26\"],[1.0,\"#f0f921\"]]}],\"choropleth\":[{\"type\":\"choropleth\",\"colorbar\":{\"outlinewidth\":0,\"ticks\":\"\"}}],\"histogram2d\":[{\"type\":\"histogram2d\",\"colorbar\":{\"outlinewidth\":0,\"ticks\":\"\"},\"colorscale\":[[0.0,\"#0d0887\"],[0.1111111111111111,\"#46039f\"],[0.2222222222222222,\"#7201a8\"],[0.3333333333333333,\"#9c179e\"],[0.4444444444444444,\"#bd3786\"],[0.5555555555555556,\"#d8576b\"],[0.6666666666666666,\"#ed7953\"],[0.7777777777777778,\"#fb9f3a\"],[0.8888888888888888,\"#fdca26\"],[1.0,\"#f0f921\"]]}],\"heatmap\":[{\"type\":\"heatmap\",\"colorbar\":{\"outlinewidth\":0,\"ticks\":\"\"},\"colorscale\":[[0.0,\"#0d0887\"],[0.1111111111111111,\"#46039f\"],[0.2222222222222222,\"#7201a8\"],[0.3333333333333333,\"#9c179e\"],[0.4444444444444444,\"#bd3786\"],[0.5555555555555556,\"#d8576b\"],[0.6666666666666666,\"#ed7953\"],[0.7777777777777778,\"#fb9f3a\"],[0.8888888888888888,\"#fdca26\"],[1.0,\"#f0f921\"]]}],\"heatmapgl\":[{\"type\":\"heatmapgl\",\"colorbar\":{\"outlinewidth\":0,\"ticks\":\"\"},\"colorscale\":[[0.0,\"#0d0887\"],[0.1111111111111111,\"#46039f\"],[0.2222222222222222,\"#7201a8\"],[0.3333333333333333,\"#9c179e\"],[0.4444444444444444,\"#bd3786\"],[0.5555555555555556,\"#d8576b\"],[0.6666666666666666,\"#ed7953\"],[0.7777777777777778,\"#fb9f3a\"],[0.8888888888888888,\"#fdca26\"],[1.0,\"#f0f921\"]]}],\"contourcarpet\":[{\"type\":\"contourcarpet\",\"colorbar\":{\"outlinewidth\":0,\"ticks\":\"\"}}],\"contour\":[{\"type\":\"contour\",\"colorbar\":{\"outlinewidth\":0,\"ticks\":\"\"},\"colorscale\":[[0.0,\"#0d0887\"],[0.1111111111111111,\"#46039f\"],[0.2222222222222222,\"#7201a8\"],[0.3333333333333333,\"#9c179e\"],[0.4444444444444444,\"#bd3786\"],[0.5555555555555556,\"#d8576b\"],[0.6666666666666666,\"#ed7953\"],[0.7777777777777778,\"#fb9f3a\"],[0.8888888888888888,\"#fdca26\"],[1.0,\"#f0f921\"]]}],\"surface\":[{\"type\":\"surface\",\"colorbar\":{\"outlinewidth\":0,\"ticks\":\"\"},\"colorscale\":[[0.0,\"#0d0887\"],[0.1111111111111111,\"#46039f\"],[0.2222222222222222,\"#7201a8\"],[0.3333333333333333,\"#9c179e\"],[0.4444444444444444,\"#bd3786\"],[0.5555555555555556,\"#d8576b\"],[0.6666666666666666,\"#ed7953\"],[0.7777777777777778,\"#fb9f3a\"],[0.8888888888888888,\"#fdca26\"],[1.0,\"#f0f921\"]]}],\"mesh3d\":[{\"type\":\"mesh3d\",\"colorbar\":{\"outlinewidth\":0,\"ticks\":\"\"}}],\"scatter\":[{\"fillpattern\":{\"fillmode\":\"overlay\",\"size\":10,\"solidity\":0.2},\"type\":\"scatter\"}],\"parcoords\":[{\"type\":\"parcoords\",\"line\":{\"colorbar\":{\"outlinewidth\":0,\"ticks\":\"\"}}}],\"scatterpolargl\":[{\"type\":\"scatterpolargl\",\"marker\":{\"colorbar\":{\"outlinewidth\":0,\"ticks\":\"\"}}}],\"bar\":[{\"error_x\":{\"color\":\"#2a3f5f\"},\"error_y\":{\"color\":\"#2a3f5f\"},\"marker\":{\"line\":{\"color\":\"#E5ECF6\",\"width\":0.5},\"pattern\":{\"fillmode\":\"overlay\",\"size\":10,\"solidity\":0.2}},\"type\":\"bar\"}],\"scattergeo\":[{\"type\":\"scattergeo\",\"marker\":{\"colorbar\":{\"outlinewidth\":0,\"ticks\":\"\"}}}],\"scatterpolar\":[{\"type\":\"scatterpolar\",\"marker\":{\"colorbar\":{\"outlinewidth\":0,\"ticks\":\"\"}}}],\"histogram\":[{\"marker\":{\"pattern\":{\"fillmode\":\"overlay\",\"size\":10,\"solidity\":0.2}},\"type\":\"histogram\"}],\"scattergl\":[{\"type\":\"scattergl\",\"marker\":{\"colorbar\":{\"outlinewidth\":0,\"ticks\":\"\"}}}],\"scatter3d\":[{\"type\":\"scatter3d\",\"line\":{\"colorbar\":{\"outlinewidth\":0,\"ticks\":\"\"}},\"marker\":{\"colorbar\":{\"outlinewidth\":0,\"ticks\":\"\"}}}],\"scattermapbox\":[{\"type\":\"scattermapbox\",\"marker\":{\"colorbar\":{\"outlinewidth\":0,\"ticks\":\"\"}}}],\"scatterternary\":[{\"type\":\"scatterternary\",\"marker\":{\"colorbar\":{\"outlinewidth\":0,\"ticks\":\"\"}}}],\"scattercarpet\":[{\"type\":\"scattercarpet\",\"marker\":{\"colorbar\":{\"outlinewidth\":0,\"ticks\":\"\"}}}],\"carpet\":[{\"aaxis\":{\"endlinecolor\":\"#2a3f5f\",\"gridcolor\":\"white\",\"linecolor\":\"white\",\"minorgridcolor\":\"white\",\"startlinecolor\":\"#2a3f5f\"},\"baxis\":{\"endlinecolor\":\"#2a3f5f\",\"gridcolor\":\"white\",\"linecolor\":\"white\",\"minorgridcolor\":\"white\",\"startlinecolor\":\"#2a3f5f\"},\"type\":\"carpet\"}],\"table\":[{\"cells\":{\"fill\":{\"color\":\"#EBF0F8\"},\"line\":{\"color\":\"white\"}},\"header\":{\"fill\":{\"color\":\"#C8D4E3\"},\"line\":{\"color\":\"white\"}},\"type\":\"table\"}],\"barpolar\":[{\"marker\":{\"line\":{\"color\":\"#E5ECF6\",\"width\":0.5},\"pattern\":{\"fillmode\":\"overlay\",\"size\":10,\"solidity\":0.2}},\"type\":\"barpolar\"}],\"pie\":[{\"automargin\":true,\"type\":\"pie\"}]},\"layout\":{\"autotypenumbers\":\"strict\",\"colorway\":[\"#636efa\",\"#EF553B\",\"#00cc96\",\"#ab63fa\",\"#FFA15A\",\"#19d3f3\",\"#FF6692\",\"#B6E880\",\"#FF97FF\",\"#FECB52\"],\"font\":{\"color\":\"#2a3f5f\"},\"hovermode\":\"closest\",\"hoverlabel\":{\"align\":\"left\"},\"paper_bgcolor\":\"white\",\"plot_bgcolor\":\"#E5ECF6\",\"polar\":{\"bgcolor\":\"#E5ECF6\",\"angularaxis\":{\"gridcolor\":\"white\",\"linecolor\":\"white\",\"ticks\":\"\"},\"radialaxis\":{\"gridcolor\":\"white\",\"linecolor\":\"white\",\"ticks\":\"\"}},\"ternary\":{\"bgcolor\":\"#E5ECF6\",\"aaxis\":{\"gridcolor\":\"white\",\"linecolor\":\"white\",\"ticks\":\"\"},\"baxis\":{\"gridcolor\":\"white\",\"linecolor\":\"white\",\"ticks\":\"\"},\"caxis\":{\"gridcolor\":\"white\",\"linecolor\":\"white\",\"ticks\":\"\"}},\"coloraxis\":{\"colorbar\":{\"outlinewidth\":0,\"ticks\":\"\"}},\"colorscale\":{\"sequential\":[[0.0,\"#0d0887\"],[0.1111111111111111,\"#46039f\"],[0.2222222222222222,\"#7201a8\"],[0.3333333333333333,\"#9c179e\"],[0.4444444444444444,\"#bd3786\"],[0.5555555555555556,\"#d8576b\"],[0.6666666666666666,\"#ed7953\"],[0.7777777777777778,\"#fb9f3a\"],[0.8888888888888888,\"#fdca26\"],[1.0,\"#f0f921\"]],\"sequentialminus\":[[0.0,\"#0d0887\"],[0.1111111111111111,\"#46039f\"],[0.2222222222222222,\"#7201a8\"],[0.3333333333333333,\"#9c179e\"],[0.4444444444444444,\"#bd3786\"],[0.5555555555555556,\"#d8576b\"],[0.6666666666666666,\"#ed7953\"],[0.7777777777777778,\"#fb9f3a\"],[0.8888888888888888,\"#fdca26\"],[1.0,\"#f0f921\"]],\"diverging\":[[0,\"#8e0152\"],[0.1,\"#c51b7d\"],[0.2,\"#de77ae\"],[0.3,\"#f1b6da\"],[0.4,\"#fde0ef\"],[0.5,\"#f7f7f7\"],[0.6,\"#e6f5d0\"],[0.7,\"#b8e186\"],[0.8,\"#7fbc41\"],[0.9,\"#4d9221\"],[1,\"#276419\"]]},\"xaxis\":{\"gridcolor\":\"white\",\"linecolor\":\"white\",\"ticks\":\"\",\"title\":{\"standoff\":15},\"zerolinecolor\":\"white\",\"automargin\":true,\"zerolinewidth\":2},\"yaxis\":{\"gridcolor\":\"white\",\"linecolor\":\"white\",\"ticks\":\"\",\"title\":{\"standoff\":15},\"zerolinecolor\":\"white\",\"automargin\":true,\"zerolinewidth\":2},\"scene\":{\"xaxis\":{\"backgroundcolor\":\"#E5ECF6\",\"gridcolor\":\"white\",\"linecolor\":\"white\",\"showbackground\":true,\"ticks\":\"\",\"zerolinecolor\":\"white\",\"gridwidth\":2},\"yaxis\":{\"backgroundcolor\":\"#E5ECF6\",\"gridcolor\":\"white\",\"linecolor\":\"white\",\"showbackground\":true,\"ticks\":\"\",\"zerolinecolor\":\"white\",\"gridwidth\":2},\"zaxis\":{\"backgroundcolor\":\"#E5ECF6\",\"gridcolor\":\"white\",\"linecolor\":\"white\",\"showbackground\":true,\"ticks\":\"\",\"zerolinecolor\":\"white\",\"gridwidth\":2}},\"shapedefaults\":{\"line\":{\"color\":\"#2a3f5f\"}},\"annotationdefaults\":{\"arrowcolor\":\"#2a3f5f\",\"arrowhead\":0,\"arrowwidth\":1},\"geo\":{\"bgcolor\":\"white\",\"landcolor\":\"#E5ECF6\",\"subunitcolor\":\"white\",\"showland\":true,\"showlakes\":true,\"lakecolor\":\"white\"},\"title\":{\"x\":0.05},\"mapbox\":{\"style\":\"light\"}}},\"legend\":{\"tracegroupgap\":0},\"title\":{\"text\":\"Segment vs Sales\"},\"piecolorway\":[\"rgb(103,0,31)\",\"rgb(178,24,43)\",\"rgb(214,96,77)\",\"rgb(244,165,130)\",\"rgb(253,219,199)\",\"rgb(247,247,247)\",\"rgb(209,229,240)\",\"rgb(146,197,222)\",\"rgb(67,147,195)\",\"rgb(33,102,172)\",\"rgb(5,48,97)\"]},                        {\"responsive\": true}                    ).then(function(){\n",
       "                            \n",
       "var gd = document.getElementById('c1f67619-30f1-40be-949d-daba78300a24');\n",
       "var x = new MutationObserver(function (mutations, observer) {{\n",
       "        var display = window.getComputedStyle(gd).display;\n",
       "        if (!display || display === 'none') {{\n",
       "            console.log([gd, 'removed!']);\n",
       "            Plotly.purge(gd);\n",
       "            observer.disconnect();\n",
       "        }}\n",
       "}});\n",
       "\n",
       "// Listen for the removal of the full notebook cells\n",
       "var notebookContainer = gd.closest('#notebook-container');\n",
       "if (notebookContainer) {{\n",
       "    x.observe(notebookContainer, {childList: true});\n",
       "}}\n",
       "\n",
       "// Listen for the clearing of the current output cell\n",
       "var outputEl = gd.closest('.output');\n",
       "if (outputEl) {{\n",
       "    x.observe(outputEl, {childList: true});\n",
       "}}\n",
       "\n",
       "                        })                };                });            </script>        </div>"
      ]
     },
     "metadata": {},
     "output_type": "display_data"
    }
   ],
   "source": [
    "# Segment vs Sales\n",
    "\n",
    "fig=px.pie(Segments,names='Segment',values='Sales',title='Segment vs Sales',color_discrete_sequence=px.colors.sequential.RdBu)\n",
    "fig.show()"
   ]
  },
  {
   "cell_type": "markdown",
   "id": "26841a14",
   "metadata": {
    "papermill": {
     "duration": 0.018169,
     "end_time": "2024-09-23T22:31:16.798019",
     "exception": false,
     "start_time": "2024-09-23T22:31:16.779850",
     "status": "completed"
    },
    "tags": []
   },
   "source": [
    "### <font color='red'> Result </font>: Most of the Sales are from Consumers"
   ]
  },
  {
   "cell_type": "code",
   "execution_count": 28,
   "id": "71caadb5",
   "metadata": {
    "execution": {
     "iopub.execute_input": "2024-09-23T22:31:16.837502Z",
     "iopub.status.busy": "2024-09-23T22:31:16.837027Z",
     "iopub.status.idle": "2024-09-23T22:31:16.852791Z",
     "shell.execute_reply": "2024-09-23T22:31:16.851679Z"
    },
    "papermill": {
     "duration": 0.038529,
     "end_time": "2024-09-23T22:31:16.855028",
     "exception": false,
     "start_time": "2024-09-23T22:31:16.816499",
     "status": "completed"
    },
    "tags": []
   },
   "outputs": [
    {
     "data": {
      "text/html": [
       "<div>\n",
       "<style scoped>\n",
       "    .dataframe tbody tr th:only-of-type {\n",
       "        vertical-align: middle;\n",
       "    }\n",
       "\n",
       "    .dataframe tbody tr th {\n",
       "        vertical-align: top;\n",
       "    }\n",
       "\n",
       "    .dataframe thead th {\n",
       "        text-align: right;\n",
       "    }\n",
       "</style>\n",
       "<table border=\"1\" class=\"dataframe\">\n",
       "  <thead>\n",
       "    <tr style=\"text-align: right;\">\n",
       "      <th></th>\n",
       "      <th>Region</th>\n",
       "      <th>Sales</th>\n",
       "    </tr>\n",
       "  </thead>\n",
       "  <tbody>\n",
       "    <tr>\n",
       "      <th>0</th>\n",
       "      <td>West</td>\n",
       "      <td>710219.68</td>\n",
       "    </tr>\n",
       "    <tr>\n",
       "      <th>1</th>\n",
       "      <td>East</td>\n",
       "      <td>669237.35</td>\n",
       "    </tr>\n",
       "    <tr>\n",
       "      <th>2</th>\n",
       "      <td>Central</td>\n",
       "      <td>492646.91</td>\n",
       "    </tr>\n",
       "    <tr>\n",
       "      <th>3</th>\n",
       "      <td>South</td>\n",
       "      <td>389151.46</td>\n",
       "    </tr>\n",
       "  </tbody>\n",
       "</table>\n",
       "</div>"
      ],
      "text/plain": [
       "    Region      Sales\n",
       "0     West  710219.68\n",
       "1     East  669237.35\n",
       "2  Central  492646.91\n",
       "3    South  389151.46"
      ]
     },
     "execution_count": 28,
     "metadata": {},
     "output_type": "execute_result"
    }
   ],
   "source": [
    "# Sales of the Regions\n",
    "\n",
    "Regions=df.groupby('Region').sum('Sales').sort_values('Sales',ascending=False)\n",
    "Regions=Regions[['Sales']].round(2)\n",
    "Regions.reset_index(inplace=True)\n",
    "Regions"
   ]
  },
  {
   "cell_type": "code",
   "execution_count": 29,
   "id": "84146138",
   "metadata": {
    "execution": {
     "iopub.execute_input": "2024-09-23T22:31:16.892668Z",
     "iopub.status.busy": "2024-09-23T22:31:16.892181Z",
     "iopub.status.idle": "2024-09-23T22:31:16.941921Z",
     "shell.execute_reply": "2024-09-23T22:31:16.940615Z"
    },
    "papermill": {
     "duration": 0.071464,
     "end_time": "2024-09-23T22:31:16.944459",
     "exception": false,
     "start_time": "2024-09-23T22:31:16.872995",
     "status": "completed"
    },
    "tags": []
   },
   "outputs": [
    {
     "data": {
      "text/html": [
       "<div>                            <div id=\"9bc63439-5d84-442f-b9f8-3665f6a1fb70\" class=\"plotly-graph-div\" style=\"height:525px; width:100%;\"></div>            <script type=\"text/javascript\">                require([\"plotly\"], function(Plotly) {                    window.PLOTLYENV=window.PLOTLYENV || {};                                    if (document.getElementById(\"9bc63439-5d84-442f-b9f8-3665f6a1fb70\")) {                    Plotly.newPlot(                        \"9bc63439-5d84-442f-b9f8-3665f6a1fb70\",                        [{\"domain\":{\"x\":[0.0,1.0],\"y\":[0.0,1.0]},\"hovertemplate\":\"Region=%{label}\\u003cbr\\u003eSales=%{value}\\u003cextra\\u003e\\u003c\\u002fextra\\u003e\",\"labels\":[\"West\",\"East\",\"Central\",\"South\"],\"legendgroup\":\"\",\"name\":\"\",\"showlegend\":true,\"values\":[710219.68,669237.35,492646.91,389151.46],\"type\":\"pie\"}],                        {\"template\":{\"data\":{\"histogram2dcontour\":[{\"type\":\"histogram2dcontour\",\"colorbar\":{\"outlinewidth\":0,\"ticks\":\"\"},\"colorscale\":[[0.0,\"#0d0887\"],[0.1111111111111111,\"#46039f\"],[0.2222222222222222,\"#7201a8\"],[0.3333333333333333,\"#9c179e\"],[0.4444444444444444,\"#bd3786\"],[0.5555555555555556,\"#d8576b\"],[0.6666666666666666,\"#ed7953\"],[0.7777777777777778,\"#fb9f3a\"],[0.8888888888888888,\"#fdca26\"],[1.0,\"#f0f921\"]]}],\"choropleth\":[{\"type\":\"choropleth\",\"colorbar\":{\"outlinewidth\":0,\"ticks\":\"\"}}],\"histogram2d\":[{\"type\":\"histogram2d\",\"colorbar\":{\"outlinewidth\":0,\"ticks\":\"\"},\"colorscale\":[[0.0,\"#0d0887\"],[0.1111111111111111,\"#46039f\"],[0.2222222222222222,\"#7201a8\"],[0.3333333333333333,\"#9c179e\"],[0.4444444444444444,\"#bd3786\"],[0.5555555555555556,\"#d8576b\"],[0.6666666666666666,\"#ed7953\"],[0.7777777777777778,\"#fb9f3a\"],[0.8888888888888888,\"#fdca26\"],[1.0,\"#f0f921\"]]}],\"heatmap\":[{\"type\":\"heatmap\",\"colorbar\":{\"outlinewidth\":0,\"ticks\":\"\"},\"colorscale\":[[0.0,\"#0d0887\"],[0.1111111111111111,\"#46039f\"],[0.2222222222222222,\"#7201a8\"],[0.3333333333333333,\"#9c179e\"],[0.4444444444444444,\"#bd3786\"],[0.5555555555555556,\"#d8576b\"],[0.6666666666666666,\"#ed7953\"],[0.7777777777777778,\"#fb9f3a\"],[0.8888888888888888,\"#fdca26\"],[1.0,\"#f0f921\"]]}],\"heatmapgl\":[{\"type\":\"heatmapgl\",\"colorbar\":{\"outlinewidth\":0,\"ticks\":\"\"},\"colorscale\":[[0.0,\"#0d0887\"],[0.1111111111111111,\"#46039f\"],[0.2222222222222222,\"#7201a8\"],[0.3333333333333333,\"#9c179e\"],[0.4444444444444444,\"#bd3786\"],[0.5555555555555556,\"#d8576b\"],[0.6666666666666666,\"#ed7953\"],[0.7777777777777778,\"#fb9f3a\"],[0.8888888888888888,\"#fdca26\"],[1.0,\"#f0f921\"]]}],\"contourcarpet\":[{\"type\":\"contourcarpet\",\"colorbar\":{\"outlinewidth\":0,\"ticks\":\"\"}}],\"contour\":[{\"type\":\"contour\",\"colorbar\":{\"outlinewidth\":0,\"ticks\":\"\"},\"colorscale\":[[0.0,\"#0d0887\"],[0.1111111111111111,\"#46039f\"],[0.2222222222222222,\"#7201a8\"],[0.3333333333333333,\"#9c179e\"],[0.4444444444444444,\"#bd3786\"],[0.5555555555555556,\"#d8576b\"],[0.6666666666666666,\"#ed7953\"],[0.7777777777777778,\"#fb9f3a\"],[0.8888888888888888,\"#fdca26\"],[1.0,\"#f0f921\"]]}],\"surface\":[{\"type\":\"surface\",\"colorbar\":{\"outlinewidth\":0,\"ticks\":\"\"},\"colorscale\":[[0.0,\"#0d0887\"],[0.1111111111111111,\"#46039f\"],[0.2222222222222222,\"#7201a8\"],[0.3333333333333333,\"#9c179e\"],[0.4444444444444444,\"#bd3786\"],[0.5555555555555556,\"#d8576b\"],[0.6666666666666666,\"#ed7953\"],[0.7777777777777778,\"#fb9f3a\"],[0.8888888888888888,\"#fdca26\"],[1.0,\"#f0f921\"]]}],\"mesh3d\":[{\"type\":\"mesh3d\",\"colorbar\":{\"outlinewidth\":0,\"ticks\":\"\"}}],\"scatter\":[{\"fillpattern\":{\"fillmode\":\"overlay\",\"size\":10,\"solidity\":0.2},\"type\":\"scatter\"}],\"parcoords\":[{\"type\":\"parcoords\",\"line\":{\"colorbar\":{\"outlinewidth\":0,\"ticks\":\"\"}}}],\"scatterpolargl\":[{\"type\":\"scatterpolargl\",\"marker\":{\"colorbar\":{\"outlinewidth\":0,\"ticks\":\"\"}}}],\"bar\":[{\"error_x\":{\"color\":\"#2a3f5f\"},\"error_y\":{\"color\":\"#2a3f5f\"},\"marker\":{\"line\":{\"color\":\"#E5ECF6\",\"width\":0.5},\"pattern\":{\"fillmode\":\"overlay\",\"size\":10,\"solidity\":0.2}},\"type\":\"bar\"}],\"scattergeo\":[{\"type\":\"scattergeo\",\"marker\":{\"colorbar\":{\"outlinewidth\":0,\"ticks\":\"\"}}}],\"scatterpolar\":[{\"type\":\"scatterpolar\",\"marker\":{\"colorbar\":{\"outlinewidth\":0,\"ticks\":\"\"}}}],\"histogram\":[{\"marker\":{\"pattern\":{\"fillmode\":\"overlay\",\"size\":10,\"solidity\":0.2}},\"type\":\"histogram\"}],\"scattergl\":[{\"type\":\"scattergl\",\"marker\":{\"colorbar\":{\"outlinewidth\":0,\"ticks\":\"\"}}}],\"scatter3d\":[{\"type\":\"scatter3d\",\"line\":{\"colorbar\":{\"outlinewidth\":0,\"ticks\":\"\"}},\"marker\":{\"colorbar\":{\"outlinewidth\":0,\"ticks\":\"\"}}}],\"scattermapbox\":[{\"type\":\"scattermapbox\",\"marker\":{\"colorbar\":{\"outlinewidth\":0,\"ticks\":\"\"}}}],\"scatterternary\":[{\"type\":\"scatterternary\",\"marker\":{\"colorbar\":{\"outlinewidth\":0,\"ticks\":\"\"}}}],\"scattercarpet\":[{\"type\":\"scattercarpet\",\"marker\":{\"colorbar\":{\"outlinewidth\":0,\"ticks\":\"\"}}}],\"carpet\":[{\"aaxis\":{\"endlinecolor\":\"#2a3f5f\",\"gridcolor\":\"white\",\"linecolor\":\"white\",\"minorgridcolor\":\"white\",\"startlinecolor\":\"#2a3f5f\"},\"baxis\":{\"endlinecolor\":\"#2a3f5f\",\"gridcolor\":\"white\",\"linecolor\":\"white\",\"minorgridcolor\":\"white\",\"startlinecolor\":\"#2a3f5f\"},\"type\":\"carpet\"}],\"table\":[{\"cells\":{\"fill\":{\"color\":\"#EBF0F8\"},\"line\":{\"color\":\"white\"}},\"header\":{\"fill\":{\"color\":\"#C8D4E3\"},\"line\":{\"color\":\"white\"}},\"type\":\"table\"}],\"barpolar\":[{\"marker\":{\"line\":{\"color\":\"#E5ECF6\",\"width\":0.5},\"pattern\":{\"fillmode\":\"overlay\",\"size\":10,\"solidity\":0.2}},\"type\":\"barpolar\"}],\"pie\":[{\"automargin\":true,\"type\":\"pie\"}]},\"layout\":{\"autotypenumbers\":\"strict\",\"colorway\":[\"#636efa\",\"#EF553B\",\"#00cc96\",\"#ab63fa\",\"#FFA15A\",\"#19d3f3\",\"#FF6692\",\"#B6E880\",\"#FF97FF\",\"#FECB52\"],\"font\":{\"color\":\"#2a3f5f\"},\"hovermode\":\"closest\",\"hoverlabel\":{\"align\":\"left\"},\"paper_bgcolor\":\"white\",\"plot_bgcolor\":\"#E5ECF6\",\"polar\":{\"bgcolor\":\"#E5ECF6\",\"angularaxis\":{\"gridcolor\":\"white\",\"linecolor\":\"white\",\"ticks\":\"\"},\"radialaxis\":{\"gridcolor\":\"white\",\"linecolor\":\"white\",\"ticks\":\"\"}},\"ternary\":{\"bgcolor\":\"#E5ECF6\",\"aaxis\":{\"gridcolor\":\"white\",\"linecolor\":\"white\",\"ticks\":\"\"},\"baxis\":{\"gridcolor\":\"white\",\"linecolor\":\"white\",\"ticks\":\"\"},\"caxis\":{\"gridcolor\":\"white\",\"linecolor\":\"white\",\"ticks\":\"\"}},\"coloraxis\":{\"colorbar\":{\"outlinewidth\":0,\"ticks\":\"\"}},\"colorscale\":{\"sequential\":[[0.0,\"#0d0887\"],[0.1111111111111111,\"#46039f\"],[0.2222222222222222,\"#7201a8\"],[0.3333333333333333,\"#9c179e\"],[0.4444444444444444,\"#bd3786\"],[0.5555555555555556,\"#d8576b\"],[0.6666666666666666,\"#ed7953\"],[0.7777777777777778,\"#fb9f3a\"],[0.8888888888888888,\"#fdca26\"],[1.0,\"#f0f921\"]],\"sequentialminus\":[[0.0,\"#0d0887\"],[0.1111111111111111,\"#46039f\"],[0.2222222222222222,\"#7201a8\"],[0.3333333333333333,\"#9c179e\"],[0.4444444444444444,\"#bd3786\"],[0.5555555555555556,\"#d8576b\"],[0.6666666666666666,\"#ed7953\"],[0.7777777777777778,\"#fb9f3a\"],[0.8888888888888888,\"#fdca26\"],[1.0,\"#f0f921\"]],\"diverging\":[[0,\"#8e0152\"],[0.1,\"#c51b7d\"],[0.2,\"#de77ae\"],[0.3,\"#f1b6da\"],[0.4,\"#fde0ef\"],[0.5,\"#f7f7f7\"],[0.6,\"#e6f5d0\"],[0.7,\"#b8e186\"],[0.8,\"#7fbc41\"],[0.9,\"#4d9221\"],[1,\"#276419\"]]},\"xaxis\":{\"gridcolor\":\"white\",\"linecolor\":\"white\",\"ticks\":\"\",\"title\":{\"standoff\":15},\"zerolinecolor\":\"white\",\"automargin\":true,\"zerolinewidth\":2},\"yaxis\":{\"gridcolor\":\"white\",\"linecolor\":\"white\",\"ticks\":\"\",\"title\":{\"standoff\":15},\"zerolinecolor\":\"white\",\"automargin\":true,\"zerolinewidth\":2},\"scene\":{\"xaxis\":{\"backgroundcolor\":\"#E5ECF6\",\"gridcolor\":\"white\",\"linecolor\":\"white\",\"showbackground\":true,\"ticks\":\"\",\"zerolinecolor\":\"white\",\"gridwidth\":2},\"yaxis\":{\"backgroundcolor\":\"#E5ECF6\",\"gridcolor\":\"white\",\"linecolor\":\"white\",\"showbackground\":true,\"ticks\":\"\",\"zerolinecolor\":\"white\",\"gridwidth\":2},\"zaxis\":{\"backgroundcolor\":\"#E5ECF6\",\"gridcolor\":\"white\",\"linecolor\":\"white\",\"showbackground\":true,\"ticks\":\"\",\"zerolinecolor\":\"white\",\"gridwidth\":2}},\"shapedefaults\":{\"line\":{\"color\":\"#2a3f5f\"}},\"annotationdefaults\":{\"arrowcolor\":\"#2a3f5f\",\"arrowhead\":0,\"arrowwidth\":1},\"geo\":{\"bgcolor\":\"white\",\"landcolor\":\"#E5ECF6\",\"subunitcolor\":\"white\",\"showland\":true,\"showlakes\":true,\"lakecolor\":\"white\"},\"title\":{\"x\":0.05},\"mapbox\":{\"style\":\"light\"}}},\"legend\":{\"tracegroupgap\":0},\"title\":{\"text\":\"Region vs Sales\"},\"piecolorway\":[\"rgb(103,0,31)\",\"rgb(178,24,43)\",\"rgb(214,96,77)\",\"rgb(244,165,130)\",\"rgb(253,219,199)\",\"rgb(247,247,247)\",\"rgb(209,229,240)\",\"rgb(146,197,222)\",\"rgb(67,147,195)\",\"rgb(33,102,172)\",\"rgb(5,48,97)\"]},                        {\"responsive\": true}                    ).then(function(){\n",
       "                            \n",
       "var gd = document.getElementById('9bc63439-5d84-442f-b9f8-3665f6a1fb70');\n",
       "var x = new MutationObserver(function (mutations, observer) {{\n",
       "        var display = window.getComputedStyle(gd).display;\n",
       "        if (!display || display === 'none') {{\n",
       "            console.log([gd, 'removed!']);\n",
       "            Plotly.purge(gd);\n",
       "            observer.disconnect();\n",
       "        }}\n",
       "}});\n",
       "\n",
       "// Listen for the removal of the full notebook cells\n",
       "var notebookContainer = gd.closest('#notebook-container');\n",
       "if (notebookContainer) {{\n",
       "    x.observe(notebookContainer, {childList: true});\n",
       "}}\n",
       "\n",
       "// Listen for the clearing of the current output cell\n",
       "var outputEl = gd.closest('.output');\n",
       "if (outputEl) {{\n",
       "    x.observe(outputEl, {childList: true});\n",
       "}}\n",
       "\n",
       "                        })                };                });            </script>        </div>"
      ]
     },
     "metadata": {},
     "output_type": "display_data"
    }
   ],
   "source": [
    "# Region vs Sales\n",
    "\n",
    "fig=px.pie(Regions,names='Region',values='Sales',title='Region vs Sales',color_discrete_sequence=px.colors.sequential.RdBu)\n",
    "fig.show()"
   ]
  },
  {
   "cell_type": "markdown",
   "id": "226ef289",
   "metadata": {
    "papermill": {
     "duration": 0.018278,
     "end_time": "2024-09-23T22:31:16.981028",
     "exception": false,
     "start_time": "2024-09-23T22:31:16.962750",
     "status": "completed"
    },
    "tags": []
   },
   "source": [
    "### <font color='red'> Result </font>: Most of the Sales are from West Region"
   ]
  },
  {
   "cell_type": "code",
   "execution_count": 30,
   "id": "8acd3c36",
   "metadata": {
    "execution": {
     "iopub.execute_input": "2024-09-23T22:31:17.019353Z",
     "iopub.status.busy": "2024-09-23T22:31:17.018934Z",
     "iopub.status.idle": "2024-09-23T22:31:17.036937Z",
     "shell.execute_reply": "2024-09-23T22:31:17.035896Z"
    },
    "papermill": {
     "duration": 0.040005,
     "end_time": "2024-09-23T22:31:17.039221",
     "exception": false,
     "start_time": "2024-09-23T22:31:16.999216",
     "status": "completed"
    },
    "tags": []
   },
   "outputs": [
    {
     "data": {
      "text/html": [
       "<div>\n",
       "<style scoped>\n",
       "    .dataframe tbody tr th:only-of-type {\n",
       "        vertical-align: middle;\n",
       "    }\n",
       "\n",
       "    .dataframe tbody tr th {\n",
       "        vertical-align: top;\n",
       "    }\n",
       "\n",
       "    .dataframe thead th {\n",
       "        text-align: right;\n",
       "    }\n",
       "</style>\n",
       "<table border=\"1\" class=\"dataframe\">\n",
       "  <thead>\n",
       "    <tr style=\"text-align: right;\">\n",
       "      <th></th>\n",
       "      <th>Product Name</th>\n",
       "      <th>Sales</th>\n",
       "    </tr>\n",
       "  </thead>\n",
       "  <tbody>\n",
       "    <tr>\n",
       "      <th>0</th>\n",
       "      <td>Canon imageCLASS 2200 Advanced Copier</td>\n",
       "      <td>61599.82</td>\n",
       "    </tr>\n",
       "    <tr>\n",
       "      <th>1</th>\n",
       "      <td>Fellowes PB500 Electric Punch Plastic Comb Bin...</td>\n",
       "      <td>27453.38</td>\n",
       "    </tr>\n",
       "    <tr>\n",
       "      <th>2</th>\n",
       "      <td>Cisco TelePresence System EX90 Videoconferenci...</td>\n",
       "      <td>22638.48</td>\n",
       "    </tr>\n",
       "    <tr>\n",
       "      <th>3</th>\n",
       "      <td>HON 5400 Series Task Chairs for Big and Tall</td>\n",
       "      <td>21870.58</td>\n",
       "    </tr>\n",
       "    <tr>\n",
       "      <th>4</th>\n",
       "      <td>GBC DocuBind TL300 Electric Binding System</td>\n",
       "      <td>19823.48</td>\n",
       "    </tr>\n",
       "    <tr>\n",
       "      <th>5</th>\n",
       "      <td>GBC Ibimaster 500 Manual ProClick Binding System</td>\n",
       "      <td>19024.50</td>\n",
       "    </tr>\n",
       "    <tr>\n",
       "      <th>6</th>\n",
       "      <td>Hewlett Packard LaserJet 3310 Copier</td>\n",
       "      <td>18839.69</td>\n",
       "    </tr>\n",
       "    <tr>\n",
       "      <th>7</th>\n",
       "      <td>HP Designjet T520 Inkjet Large Format Printer ...</td>\n",
       "      <td>18374.90</td>\n",
       "    </tr>\n",
       "    <tr>\n",
       "      <th>8</th>\n",
       "      <td>GBC DocuBind P400 Electric Binding System</td>\n",
       "      <td>17965.07</td>\n",
       "    </tr>\n",
       "    <tr>\n",
       "      <th>9</th>\n",
       "      <td>High Speed Automatic Electric Letter Opener</td>\n",
       "      <td>17030.31</td>\n",
       "    </tr>\n",
       "  </tbody>\n",
       "</table>\n",
       "</div>"
      ],
      "text/plain": [
       "                                        Product Name     Sales\n",
       "0              Canon imageCLASS 2200 Advanced Copier  61599.82\n",
       "1  Fellowes PB500 Electric Punch Plastic Comb Bin...  27453.38\n",
       "2  Cisco TelePresence System EX90 Videoconferenci...  22638.48\n",
       "3       HON 5400 Series Task Chairs for Big and Tall  21870.58\n",
       "4         GBC DocuBind TL300 Electric Binding System  19823.48\n",
       "5   GBC Ibimaster 500 Manual ProClick Binding System  19024.50\n",
       "6               Hewlett Packard LaserJet 3310 Copier  18839.69\n",
       "7  HP Designjet T520 Inkjet Large Format Printer ...  18374.90\n",
       "8          GBC DocuBind P400 Electric Binding System  17965.07\n",
       "9        High Speed Automatic Electric Letter Opener  17030.31"
      ]
     },
     "execution_count": 30,
     "metadata": {},
     "output_type": "execute_result"
    }
   ],
   "source": [
    "# Sales of Top 10 Products \n",
    "\n",
    "Products=df.groupby('Product Name').sum('Sales').sort_values('Sales',ascending=False).head(10)\n",
    "Products=Products[['Sales']].round(2)\n",
    "Products.reset_index(inplace=True)\n",
    "Products"
   ]
  },
  {
   "cell_type": "markdown",
   "id": "ef24f7b2",
   "metadata": {
    "papermill": {
     "duration": 0.018019,
     "end_time": "2024-09-23T22:31:17.075687",
     "exception": false,
     "start_time": "2024-09-23T22:31:17.057668",
     "status": "completed"
    },
    "tags": []
   },
   "source": [
    "### <font color='red'> Result </font>: The Canon imageCLASS 2200 Advanced Copier Product acheived the most Sales"
   ]
  },
  {
   "cell_type": "markdown",
   "id": "80faad40",
   "metadata": {
    "papermill": {
     "duration": 0.017858,
     "end_time": "2024-09-23T22:31:17.111835",
     "exception": false,
     "start_time": "2024-09-23T22:31:17.093977",
     "status": "completed"
    },
    "tags": []
   },
   "source": [
    "-----\n",
    "## <font color=red> Insights </font>\n",
    "<ul style= \"color:black;\n",
    "            font-size:18px;\">\n",
    "    <li> Ship Mode of most of the Orders is Standard Class</li>\n",
    "    <li> Most of the Orders are from Consumers</li>\n",
    "    <li> Most of the Orders in Category are Office Supplies</li>\n",
    "    <li> Most of the Orders in Sub-Category are Binders and Papers</li>\n",
    "    <li>  Most of the Orders are from California and New York States</li>\n",
    "    <li>   Most of the Sales are from California and New York States</li>\n",
    "    <li> Most of the Sales are from New York City and Los Angeles </li>\n",
    "    <li> Most of the Sales are from Technology Products </li>\n",
    "    <li> Most of the Sales are from Consumers</li>\n",
    "    <li> Most of the Sales are from West Region</li>\n",
    "    <li> The Canon imageCLASS 2200 Advanced Copier Product acheived the most Sales</li>\n",
    "</ul>"
   ]
  }
 ],
 "metadata": {
  "kaggle": {
   "accelerator": "none",
   "dataSources": [
    {
     "datasetId": 835308,
     "sourceId": 1480443,
     "sourceType": "datasetVersion"
    }
   ],
   "dockerImageVersionId": 30761,
   "isGpuEnabled": false,
   "isInternetEnabled": true,
   "language": "python",
   "sourceType": "notebook"
  },
  "kernelspec": {
   "display_name": "Python 3",
   "language": "python",
   "name": "python3"
  },
  "language_info": {
   "codemirror_mode": {
    "name": "ipython",
    "version": 3
   },
   "file_extension": ".py",
   "mimetype": "text/x-python",
   "name": "python",
   "nbconvert_exporter": "python",
   "pygments_lexer": "ipython3",
   "version": "3.10.14"
  },
  "papermill": {
   "default_parameters": {},
   "duration": 11.964921,
   "end_time": "2024-09-23T22:31:17.851270",
   "environment_variables": {},
   "exception": null,
   "input_path": "__notebook__.ipynb",
   "output_path": "__notebook__.ipynb",
   "parameters": {},
   "start_time": "2024-09-23T22:31:05.886349",
   "version": "2.6.0"
  }
 },
 "nbformat": 4,
 "nbformat_minor": 5
}
